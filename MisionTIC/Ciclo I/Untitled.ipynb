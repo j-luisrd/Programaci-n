{
 "cells": [
  {
   "cell_type": "code",
   "execution_count": 2,
   "metadata": {},
   "outputs": [],
   "source": [
    "import json\n",
    "\n",
    "contactos=[(\"Manuel\",\"Bomba\",\"manuel@\"),(\"Lorena\",\"Bombo\",\"lorena@\"),(\"Marta\",\"Bombi\",\"marta@\")]\n",
    "\n",
    "datos={\"contactos\":[]}\n",
    "\n",
    "for a,b,c in contactos:\n",
    "    datos[\"contactos\"].append({\"nombre\":a,\"empleo\":b,\"email\":c})\n",
    "\n",
    "with open(\"contactos.json\",\"w\") as jsonfile:\n",
    "    json.dump(datos,jsonfile)"
   ]
  },
  {
   "cell_type": "code",
   "execution_count": 37,
   "metadata": {},
   "outputs": [
    {
     "name": "stdout",
     "output_type": "stream",
     "text": [
      "Manuel Bomba manuel@\n",
      "Lorena Bombo lorena@\n",
      "Marta Bombi marta@\n"
     ]
    }
   ],
   "source": [
    "with open(\"contactos.json\") as jsonfile:\n",
    "    datos=json.load(jsonfile)\n",
    "    for contacto in datos[\"contactos\"]:\n",
    "        print(contacto[\"nombre\"],contacto[\"empleo\"],contacto[\"email\"])"
   ]
  },
  {
   "cell_type": "code",
   "execution_count": 18,
   "metadata": {},
   "outputs": [
    {
     "data": {
      "text/plain": [
       "4"
      ]
     },
     "execution_count": 18,
     "metadata": {},
     "output_type": "execute_result"
    }
   ],
   "source": [
    "len(datos[\"contactos\"])"
   ]
  },
  {
   "cell_type": "code",
   "execution_count": 47,
   "metadata": {},
   "outputs": [
    {
     "name": "stdout",
     "output_type": "stream",
     "text": [
      "{'nombre': 'Manuel', 'empleo': 'Bomba', 'email': 'manuel@'}\n",
      "{'nombre': 'Lorena', 'empleo': 'Bombo', 'email': 'lorena@'}\n",
      "{'nombre': 'Marta', 'empleo': 'Bombi', 'email': 'marta@'}\n",
      "{'nombre': 'elmo', 'empleo': 'thor', 'email': 'elmo@'}\n"
     ]
    }
   ],
   "source": [
    "with open(\"contactos.json\") as jsonfile:\n",
    "    datos=json.load(jsonfile)\n",
    "datos[\"contactos\"].append({\"nombre\":\"elmo\",\"empleo\":\"thor\",\"email\":\"elmo@\"})\n",
    "with open(\"contactos.json\",\"w\") as jsonfile:\n",
    "    json.dump(datos,jsonfile)\n",
    "for i in range(len(datos[\"contactos\"])):\n",
    "    print(datos[\"contactos\"][i])"
   ]
  },
  {
   "cell_type": "code",
   "execution_count": 4,
   "metadata": {},
   "outputs": [],
   "source": [
    "try: \n",
    "    with open(\"contactos.json\") as jsonfile:\n",
    "        datos=json.load(jsonfile)\n",
    "    datos[\"contactos\"].append({\"nombre\":1,\"empleo\":\"2\",\"email\":\"3\"})\n",
    "    with open(\"contactos.json\",\"w\") as jsonfile:\n",
    "        json.dump(datos,jsonfile)\n",
    "except:\n",
    "    datos={\"contactos\":[]}\n",
    "    datos[\"contactos\"].append({\"nombre\":\"1\",\"empleo\":2,\"email\":\"3\"})\n",
    "    with open(\"contactos.json\",\"w\") as jsonfile:\n",
    "        json.dump(datos,jsonfile)"
   ]
  },
  {
   "cell_type": "code",
   "execution_count": 64,
   "metadata": {},
   "outputs": [
    {
     "name": "stdout",
     "output_type": "stream",
     "text": [
      "1 2 3\n",
      "1 2 3\n"
     ]
    }
   ],
   "source": [
    "with open(\"contactos.json\") as jsonfile:\n",
    "    datos=json.load(jsonfile)\n",
    "    for contacto in datos[\"contactos\"]:\n",
    "        print(contacto[\"nombre\"],contacto[\"empleo\"],contacto[\"email\"])"
   ]
  },
  {
   "cell_type": "code",
   "execution_count": 5,
   "metadata": {},
   "outputs": [
    {
     "name": "stdout",
     "output_type": "stream",
     "text": [
      "{'nombre': 1, 'empleo': '2', 'email': '3'}\n"
     ]
    }
   ],
   "source": [
    "import json\n",
    "\n",
    "contacto=1\n",
    "\n",
    "try: \n",
    "    with open(\"contactos.json\") as jsonfile:\n",
    "        datos=json.load(jsonfile)\n",
    "    for i in range(len(datos[\"contactos\"])):\n",
    "        if contacto==datos[\"contactos\"][i].get(\"nombre\"):\n",
    "            print(datos[\"contactos\"][i])\n",
    "except:\n",
    "        print(\"No existe una lista de contactos! Si gusta, puede crear una agregando un contacto.\")"
   ]
  },
  {
   "cell_type": "code",
   "execution_count": null,
   "metadata": {},
   "outputs": [],
   "source": []
  }
 ],
 "metadata": {
  "kernelspec": {
   "display_name": "Python 3",
   "language": "python",
   "name": "python3"
  },
  "language_info": {
   "codemirror_mode": {
    "name": "ipython",
    "version": 3
   },
   "file_extension": ".py",
   "mimetype": "text/x-python",
   "name": "python",
   "nbconvert_exporter": "python",
   "pygments_lexer": "ipython3",
   "version": "3.8.3"
  }
 },
 "nbformat": 4,
 "nbformat_minor": 4
}
