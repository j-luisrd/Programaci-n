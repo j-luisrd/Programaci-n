{
 "cells": [
  {
   "cell_type": "code",
   "execution_count": 12,
   "metadata": {},
   "outputs": [
    {
     "name": "stdout",
     "output_type": "stream",
     "text": [
      "La lista es [1, 2, 3, 4, 5]\n",
      "La suma de la lista es 15\n"
     ]
    }
   ],
   "source": [
    "lista=[1,2,3,4,5]\n",
    "print(\"La lista es\",lista)\n",
    "print(\"La suma de la lista es\",sum(lista))"
   ]
  },
  {
   "cell_type": "code",
   "execution_count": 14,
   "metadata": {},
   "outputs": [
    {
     "name": "stdout",
     "output_type": "stream",
     "text": [
      "El primer mes del año es Enero\n",
      "El último mes del año es Abril\n"
     ]
    }
   ],
   "source": [
    "lista=[\"Enero\",\"Febrero\",\"Marzo\",\"Abril\"]\n",
    "\n",
    "print(\"El primer mes del año es\",lista[0])\n",
    "print(\"El último mes del año es\",lista[-1])"
   ]
  },
  {
   "cell_type": "code",
   "execution_count": 19,
   "metadata": {},
   "outputs": [
    {
     "name": "stdout",
     "output_type": "stream",
     "text": [
      "El estudiante Jorge tiene un promedio de 4.5\n"
     ]
    }
   ],
   "source": [
    "lista=[\"Jorge\",5,4]\n",
    "\n",
    "print(\"El estudiante\",lista[0],\"tiene un promedio de\",sum(lista[1:3])/len(lista[1:3]))"
   ]
  },
  {
   "cell_type": "code",
   "execution_count": 1,
   "metadata": {},
   "outputs": [
    {
     "name": "stdout",
     "output_type": "stream",
     "text": [
      "La lista [1, 2, 3, 4, 5] suma 15\n",
      "La lista [7, 8, 9, 10, 11, 12, 13] suma 70\n",
      "La lista [5, 19, 20] suma 44\n"
     ]
    }
   ],
   "source": [
    "lista=[[1,2,3,4,5],[7,8,9,10,11,12,13],[5,19,20]]\n",
    "\n",
    "for x in range(len(lista)):\n",
    "    print(\"La lista\",lista[x],\"suma\",sum(lista[x]))"
   ]
  },
  {
   "cell_type": "code",
   "execution_count": 2,
   "metadata": {},
   "outputs": [
    {
     "name": "stdout",
     "output_type": "stream",
     "text": [
      "[5, 19, 20] es el último elemento de la lista principal y 20 es el último elemento de la última lista\n"
     ]
    }
   ],
   "source": [
    "print(lista[-1],\"es el último elemento de la lista principal y\",lista[-1][-1],\"es el último elemento de la última lista\")"
   ]
  },
  {
   "cell_type": "code",
   "execution_count": 1,
   "metadata": {},
   "outputs": [
    {
     "name": "stdin",
     "output_type": "stream",
     "text": [
      "Ingrese el número de empleados 4\n",
      "Ingrese un sueldo 4\n",
      "Ingrese un sueldo 3\n",
      "Ingrese un sueldo 2\n",
      "Ingrese un sueldo 1\n"
     ]
    },
    {
     "name": "stdout",
     "output_type": "stream",
     "text": [
      "['4', '3', '2', '1']\n",
      "['1', '2', '3', '4']\n"
     ]
    }
   ],
   "source": [
    "e=int(input(\"Ingrese el número de empleados\"))\n",
    "\n",
    "sueldos=[]\n",
    "\n",
    "for i in range(e):\n",
    "    sueldos.append(input(\"Ingrese un sueldo\"))\n",
    "lista=sueldos\n",
    "for x in lista:\n",
    "    for i in range(len(lista)-1):\n",
    "        if lista[i]>lista[i+1]:\n",
    "            temp=lista[i+1]\n",
    "            lista[i+1]=lista[i]\n",
    "            lista[i]=temp\n",
    "print(lista)"
   ]
  },
  {
   "cell_type": "code",
   "execution_count": 3,
   "metadata": {},
   "outputs": [
    {
     "name": "stdout",
     "output_type": "stream",
     "text": [
      "[1, 2, 3, 4, 5]\n",
      "[5, 4, 3, 2, 1]\n"
     ]
    }
   ],
   "source": [
    "lista=[5,4,3,2,1]\n",
    "lista2=lista\n",
    "for x in lista:\n",
    "    for i in range(len(lista)-1):\n",
    "        if lista[i]>lista[i+1]:\n",
    "            temp=lista[i+1]\n",
    "            lista[i+1]=lista[i]\n",
    "            lista[i]=temp\n",
    "print(lista)\n",
    "lista=lista2\n",
    "for x in lista:\n",
    "    for i in range(len(lista)-1):\n",
    "        if lista[i]<lista[i+1]:\n",
    "            temp=lista[i+1]\n",
    "            lista[i+1]=lista[i]\n",
    "            lista[i]=temp\n",
    "print(lista)"
   ]
  },
  {
   "cell_type": "code",
   "execution_count": 9,
   "metadata": {},
   "outputs": [
    {
     "name": "stdout",
     "output_type": "stream",
     "text": [
      "11\n",
      "15\n",
      "17\n"
     ]
    },
    {
     "data": {
      "text/plain": [
       "False"
      ]
     },
     "execution_count": 9,
     "metadata": {},
     "output_type": "execute_result"
    }
   ],
   "source": [
    "def Busqueda(lista,valor):\n",
    "    primero=0\n",
    "    ultimo=len(lista)-1\n",
    "    encontrado=False\n",
    "    \n",
    "    while primero<=ultimo and not encontrado:\n",
    "        punto=(primero+ultimo)//2\n",
    "        if lista[punto]==valor:\n",
    "            encontrado=True\n",
    "        else:\n",
    "            if valor<lista[punto]:\n",
    "                ultimo=punto-1\n",
    "            else:\n",
    "                primero=punto+1\n",
    "        print(lista[punto])\n",
    "    return encontrado\n",
    "Busqueda([3,5,6,8,11,12,14,15,17,18],16)"
   ]
  },
  {
   "cell_type": "code",
   "execution_count": 11,
   "metadata": {},
   "outputs": [
    {
     "data": {
      "text/plain": [
       "2"
      ]
     },
     "execution_count": 11,
     "metadata": {},
     "output_type": "execute_result"
    }
   ],
   "source": [
    "5//2"
   ]
  },
  {
   "cell_type": "code",
   "execution_count": null,
   "metadata": {},
   "outputs": [],
   "source": [
    "import random\n",
    "\n",
    "def cargar():\n",
    "    lista=[]\n",
    "    for x in range(10):\n",
    "        lista.append(random.randint(0,1000))\n",
    "    return lista\n",
    "def imprimir(lista):\n",
    "    print(lista)\n",
    "def mezclar(lista):\n",
    "    random.shuffle(lista)\n",
    "def ordenarLista(lista):\n",
    "    for x in lista:\n",
    "        for i in range(len(lista)-1):\n",
    "            if lista[i]>lista[i+1]:\n",
    "                temp=lista[i+1]\n",
    "                lista[i+1]=lista[i]\n",
    "                lista[i]=temp\n",
    "lista=cargar()\n",
    "print('Lista aleatoria')\n",
    "imprimir(lista)\n",
    "mezclar(lista)\n",
    "print('Lista mezclada')\n",
    "imprimir(lista)\n",
    "print('Lista ordenada')\n",
    "ordenarLista(lista)\n",
    "imprimir(lista)"
   ]
  },
  {
   "cell_type": "code",
   "execution_count": 11,
   "metadata": {},
   "outputs": [
    {
     "name": "stdout",
     "output_type": "stream",
     "text": [
      "Writing adivina.py\n"
     ]
    }
   ],
   "source": [
    "%%writefile adivina.py\n",
    "\n",
    "import random\n",
    "\n",
    "num=random.randint(1,20)\n",
    "for i in range(3):\n",
    "    numero=int(input('Ingresa un número para adivinar:'))\n",
    "    if num==numero or i==2:\n",
    "        break\n",
    "    if num<numero:\n",
    "        print('Intenta de nuevo. ¡Escoge un número más pequeño!')\n",
    "    else:\n",
    "        print('Intenta de nuevo. ¡Escoge un número más grande!')\n",
    "if num==numero:\n",
    "    print('¡Ganaste! :)')\n",
    "else:\n",
    "    print('¡Perdiste! :(')"
   ]
  },
  {
   "cell_type": "code",
   "execution_count": 3,
   "metadata": {},
   "outputs": [
    {
     "name": "stdout",
     "output_type": "stream",
     "text": [
      "La raiz del numero 4 es: 2.0\n",
      "La potencia del numero 4 elevado a la 2 es: 16\n",
      "--------------------------------------------------\n",
      "La raiz del numero 5 es: 2.24\n",
      "La potencia del numero 5 elevado a la 3 es: 125\n",
      "--------------------------------------------------\n",
      "La raiz del numero 17 es: 4.12\n",
      "La potencia del numero 17 elevado a la 4 es: 83521\n",
      "--------------------------------------------------\n"
     ]
    }
   ],
   "source": [
    "%%writefile adivina.py\n",
    "import os\n",
    "import time\n",
    "\n",
    "from math import sqrt as raiz, pow as potencia\n",
    "from random import randint\n",
    "\n",
    "def PotenciaDeUnNumero(x, y):\n",
    "    return int(potencia(x, y))\n",
    "\n",
    "def RaizDeUnNumero(x):\n",
    "    return round(raiz(x), 2)\n",
    "\n",
    "def imprimir(n, r, p, x):\n",
    "    print(\"La raiz del numero {} es: {}\".format(n, r))\n",
    "    print(\"La potencia del numero {} elevado a la {} es: {}\".format(n, x, p))\n",
    "    print(\"-\"*50)\n",
    "\n",
    "def principal():\n",
    "    for x in range(2, 5):\n",
    "        valorRecibido = randint(1, 20)\n",
    "        raiz = RaizDeUnNumero(valorRecibido)\n",
    "        potencia = PotenciaDeUnNumero(valorRecibido, x)\n",
    "        imprimir(valorRecibido, raiz, potencia, x)\n",
    "        time.sleep(3)\n",
    "        os.system(\"clear\")\n",
    "\n",
    "if __name__ == \"__main__\":\n",
    "    principal()"
   ]
  },
  {
   "cell_type": "code",
   "execution_count": 11,
   "metadata": {},
   "outputs": [
    {
     "name": "stdout",
     "output_type": "stream",
     "text": [
      "Writing map.py\n"
     ]
    }
   ],
   "source": [
    "%%writefile map.py\n",
    "from math import sqrt as raiz, pow as potencia\n",
    "from random import randint\n",
    "\n",
    "def imprimir(n,r,p,x):\n",
    "    for i in range(len(n)):\n",
    "        print('La raiz del numero {} es: {}'.format(n[i],r[i]))\n",
    "        print('La potencia del numero {} elevado a la {} es: {}'.format(n[i],x[i],p[i]))\n",
    "        print('-'*50)\n",
    "    \n",
    "def principal():\n",
    "    listaPotencias=list(range(2,5))\n",
    "    listaValores=list(map(lambda x: randint(1,20),listaPotencias))\n",
    "    valPotencias=list(map(pow,listaValores,listaPotencias))\n",
    "    valRaices=list(map(raiz,listaValores))\n",
    "    imprimir(listaValores,valRaices,valPotencias,listaPotencias)\n",
    "\n",
    "if __name__ == \"__main__\":\n",
    "    principal()"
   ]
  },
  {
   "cell_type": "code",
   "execution_count": 3,
   "metadata": {},
   "outputs": [],
   "source": [
    "import csv\n",
    "\n",
    "def escribirArchivo():\n",
    "    contactos=[\n",
    "        (\"miguel\",\"ingeniero\",\"miguel@\"),\n",
    "        (\"jorge\",\"programador\",\"jorge@\")\n",
    "    ]\n",
    "    with open(\"contactos.csv\",\"w\",newline=\"\\n\",encoding=\"utf8\") as csvfile:\n",
    "        writer=csv.writer(csvfile,delimiter=\",\")\n",
    "        for contacto in contactos:\n",
    "            writer.writerow(contacto)\n",
    "        \n",
    "if __name__==\"__main__\":\n",
    "    escribirArchivo()"
   ]
  },
  {
   "cell_type": "code",
   "execution_count": 4,
   "metadata": {},
   "outputs": [
    {
     "name": "stdout",
     "output_type": "stream",
     "text": [
      "['miguel', 'ingeniero', 'miguel@']\n",
      "['jorge', 'programador', 'jorge@']\n"
     ]
    }
   ],
   "source": [
    "import csv\n",
    "from os import system as s\n",
    "def LeerArchivo():\n",
    "  s(\"cls\")\n",
    "  # reader es un lector y sirve para leer cada fila del archivo csv\n",
    "  with open(\"contactos.csv\", \"r\", newline=\"\\n\", encoding=\"utf8\") as csvfile:\n",
    "      reader = csv.reader(csvfile, delimiter=\",\")\n",
    "      # Imprimir los valores como una lista\n",
    "      for contacto in reader:\n",
    "          print(contacto)\n",
    "      # Imprimir por asignación multiple\n",
    "      #for nombre, empleo, email in reader:\n",
    "      #    print(nombre, empleo, email)\n",
    "\n",
    "if __name__ == \"__main__\":\n",
    "    LeerArchivo()"
   ]
  },
  {
   "cell_type": "markdown",
   "metadata": {},
   "source": [
    "Ejercicio en clase"
   ]
  },
  {
   "cell_type": "code",
   "execution_count": 9,
   "metadata": {},
   "outputs": [
    {
     "name": "stdout",
     "output_type": "stream",
     "text": [
      "Nombre Apellidos email\n",
      "Brayan Barrantes Brayan.Barrantes@email.com\n",
      "Jose Fermin Jose.Fermin@email.com\n",
      "William Toscano William.Toscano@email.com\n",
      "Michel Santos Michel.Santos@email.com\n",
      "Daniel Palencia Daniel.Palencia@email.com\n"
     ]
    }
   ],
   "source": [
    "import csv\n",
    "\n",
    "def escribirArchivo():\n",
    "    contactos=[\n",
    "        (\"Nombre\",\"Apellidos\",\"email\"),\n",
    "        (\"Brayan\", \"Barrantes\",\"Brayan.Barrantes@email.com\"),\n",
    "        (\"Jose\",\"Fermin\",\"Jose.Fermin@email.com\"),\n",
    "        (\"William\",\"Toscano\",\"William.Toscano@email.com\"),\n",
    "        (\"Michel\",\"Santos\",\"Michel.Santos@email.com\"),\n",
    "        (\"Daniel\",\"Palencia\",\"Daniel.Palencia@email.com\")\n",
    "    ]\n",
    "    with open(\"contactos.csv\",\"w\",newline=\"\\n\",encoding=\"utf8\") as csvfile:\n",
    "        writer=csv.writer(csvfile,delimiter=\"|\")\n",
    "        for contacto in contactos:\n",
    "            writer.writerow(contacto)\n",
    "\n",
    "def LeerArchivo():\n",
    "  with open(\"contactos.csv\", \"r\", newline=\"\\n\", encoding=\"utf8\") as csvfile:\n",
    "      reader = csv.reader(csvfile, delimiter=\"|\")\n",
    "      for nombre, empleo, email in reader:\n",
    "            print(nombre,empleo,email)\n",
    "        \n",
    "if __name__==\"__main__\":\n",
    "    escribirArchivo()\n",
    "    LeerArchivo()"
   ]
  },
  {
   "cell_type": "code",
   "execution_count": 3,
   "metadata": {},
   "outputs": [
    {
     "name": "stdout",
     "output_type": "stream",
     "text": [
      "Writing lectura.py\n"
     ]
    }
   ],
   "source": [
    "%%writefile lectura.py\n",
    "import csv\n",
    "\n",
    "def LeerArchivo():\n",
    "    with open(\"videojuegos.csv\", \"r\", newline=\"\\n\", encoding=\"utf8\") as csvfile:\n",
    "        reader = csv.reader(csvfile, delimiter=\",\")\n",
    "        next(reader, None)\n",
    "        i=0\n",
    "        sum_calificacion=0\n",
    "        sum_precio=0\n",
    "        for nombre, calificacion, precio in reader:\n",
    "            i=i+1\n",
    "            sum_calificacion=sum_calificacion+int(calificacion)\n",
    "            sum_precio=sum_precio+int(precio)\n",
    "        prom_calificacion=round(sum_calificacion/i)\n",
    "        prom_precio=round(sum_precio/i)\n",
    "        print(\"El promedio de precios es:\",prom_precio)\n",
    "        print(\"El promedio de calificaciones es:\",prom_calificacion)\n",
    "        \n",
    "if __name__==\"__main__\":\n",
    "    LeerArchivo()"
   ]
  }
 ],
 "metadata": {
  "kernelspec": {
   "display_name": "Python 3",
   "language": "python",
   "name": "python3"
  },
  "language_info": {
   "codemirror_mode": {
    "name": "ipython",
    "version": 3
   },
   "file_extension": ".py",
   "mimetype": "text/x-python",
   "name": "python",
   "nbconvert_exporter": "python",
   "pygments_lexer": "ipython3",
   "version": "3.8.3"
  }
 },
 "nbformat": 4,
 "nbformat_minor": 4
}
