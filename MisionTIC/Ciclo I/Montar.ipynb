{
 "cells": [
  {
   "cell_type": "code",
   "execution_count": 3,
   "metadata": {},
   "outputs": [
    {
     "name": "stdout",
     "output_type": "stream",
     "text": [
      "Writing reto3.py\n"
     ]
    }
   ],
   "source": [
    "%%writefile reto3.py\n",
    "while(True):\n",
    "    \n",
    "    try:\n",
    "        num_fac=int(input(\"Ingrese la cantidad de facturas para calcular los impuestos:\"))\n",
    "    except:\n",
    "        print(\"Ingrese un valor numérico mayor a 0\")\n",
    "    else:\n",
    "        break\n",
    "        \n",
    "print(\"***************************************\")\n",
    "\n",
    "listaFacturas=[]\n",
    "\n",
    "for i in range(num_fac):\n",
    "    while(True):\n",
    "        try: \n",
    "            subtotal=float(input(\"Ingrese el subtotal de la factura {}:\".format(i+1)))\n",
    "            iva=float(input(\"Ingrese el iva de la factura {}:\".format(i+1)))\n",
    "        except:\n",
    "            print(\"\")\n",
    "            print(\"\")\n",
    "            print(\"Ingrese un valor válido\")\n",
    "            print(\"***************************************\")\n",
    "        else:\n",
    "            print(\"***************************************\")\n",
    "            break\n",
    "            \n",
    "    factura=[i+1,round(subtotal*0.035,1),round(subtotal*5/1000,1),round(iva*0.15,1)]\n",
    "    \n",
    "    print(\"Valor retefuente factura {}: $\".format(i+1),factura[1])\n",
    "    print(\"Valor reteica factura {}: $\".format(i+1),factura[2])\n",
    "    print(\"Valor reteiva factura {}: $\".format(i+1),factura[3])\n",
    "    print(\"***************************************\")\n",
    "    print(\"***************************************\")\n",
    "    \n",
    "    listaFacturas.append(factura)\n",
    "\n",
    "print(\"La lista con los datos ingresados es:\")\n",
    "print(listaFacturas)\n",
    "\n",
    "total=[]\n",
    "\n",
    "for j in range(1,4):\n",
    "    valor=0\n",
    "    \n",
    "    for i in range(num_fac):\n",
    "        valor=valor+listaFacturas[i][j]\n",
    "    total.append(valor) \n",
    "    \n",
    "print(\"***************************************\")\n",
    "print(\"***************************************\")\n",
    "print(\"El valor total de la retefuente es: $\",total[0])\n",
    "print(\"El valor total de la reteica es: $\",total[1])\n",
    "print(\"El valor total de la reteiva es: $\",total[2])\n",
    "print(\"***************************************\")\n",
    "print(\"***************************************\")"
   ]
  }
 ],
 "metadata": {
  "kernelspec": {
   "display_name": "Python 3",
   "language": "python",
   "name": "python3"
  },
  "language_info": {
   "codemirror_mode": {
    "name": "ipython",
    "version": 3
   },
   "file_extension": ".py",
   "mimetype": "text/x-python",
   "name": "python",
   "nbconvert_exporter": "python",
   "pygments_lexer": "ipython3",
   "version": "3.8.3"
  }
 },
 "nbformat": 4,
 "nbformat_minor": 4
}
