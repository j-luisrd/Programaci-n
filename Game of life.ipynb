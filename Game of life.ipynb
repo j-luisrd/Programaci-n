{
 "cells": [
  {
   "cell_type": "code",
   "execution_count": 7,
   "metadata": {},
   "outputs": [
    {
     "name": "stdout",
     "output_type": "stream",
     "text": [
      "['/home/jorgerd/Escritorio/Figura/Matriz0.jpg', '/home/jorgerd/Escritorio/Figura/Matriz1.jpg', '/home/jorgerd/Escritorio/Figura/Matriz10.jpg', '/home/jorgerd/Escritorio/Figura/Matriz11.jpg', '/home/jorgerd/Escritorio/Figura/Matriz12.jpg', '/home/jorgerd/Escritorio/Figura/Matriz13.jpg', '/home/jorgerd/Escritorio/Figura/Matriz14.jpg', '/home/jorgerd/Escritorio/Figura/Matriz15.jpg', '/home/jorgerd/Escritorio/Figura/Matriz16.jpg', '/home/jorgerd/Escritorio/Figura/Matriz17.jpg', '/home/jorgerd/Escritorio/Figura/Matriz18.jpg', '/home/jorgerd/Escritorio/Figura/Matriz19.jpg', '/home/jorgerd/Escritorio/Figura/Matriz2.jpg', '/home/jorgerd/Escritorio/Figura/Matriz20.jpg', '/home/jorgerd/Escritorio/Figura/Matriz21.jpg', '/home/jorgerd/Escritorio/Figura/Matriz22.jpg', '/home/jorgerd/Escritorio/Figura/Matriz23.jpg', '/home/jorgerd/Escritorio/Figura/Matriz24.jpg', '/home/jorgerd/Escritorio/Figura/Matriz25.jpg', '/home/jorgerd/Escritorio/Figura/Matriz26.jpg', '/home/jorgerd/Escritorio/Figura/Matriz27.jpg', '/home/jorgerd/Escritorio/Figura/Matriz28.jpg', '/home/jorgerd/Escritorio/Figura/Matriz29.jpg', '/home/jorgerd/Escritorio/Figura/Matriz3.jpg', '/home/jorgerd/Escritorio/Figura/Matriz30.jpg', '/home/jorgerd/Escritorio/Figura/Matriz31.jpg', '/home/jorgerd/Escritorio/Figura/Matriz32.jpg', '/home/jorgerd/Escritorio/Figura/Matriz33.jpg', '/home/jorgerd/Escritorio/Figura/Matriz34.jpg', '/home/jorgerd/Escritorio/Figura/Matriz35.jpg', '/home/jorgerd/Escritorio/Figura/Matriz36.jpg', '/home/jorgerd/Escritorio/Figura/Matriz37.jpg', '/home/jorgerd/Escritorio/Figura/Matriz38.jpg', '/home/jorgerd/Escritorio/Figura/Matriz39.jpg', '/home/jorgerd/Escritorio/Figura/Matriz4.jpg', '/home/jorgerd/Escritorio/Figura/Matriz40.jpg', '/home/jorgerd/Escritorio/Figura/Matriz41.jpg', '/home/jorgerd/Escritorio/Figura/Matriz42.jpg', '/home/jorgerd/Escritorio/Figura/Matriz43.jpg', '/home/jorgerd/Escritorio/Figura/Matriz44.jpg', '/home/jorgerd/Escritorio/Figura/Matriz45.jpg', '/home/jorgerd/Escritorio/Figura/Matriz46.jpg', '/home/jorgerd/Escritorio/Figura/Matriz47.jpg', '/home/jorgerd/Escritorio/Figura/Matriz48.jpg', '/home/jorgerd/Escritorio/Figura/Matriz49.jpg', '/home/jorgerd/Escritorio/Figura/Matriz5.jpg', '/home/jorgerd/Escritorio/Figura/Matriz50.jpg', '/home/jorgerd/Escritorio/Figura/Matriz6.jpg', '/home/jorgerd/Escritorio/Figura/Matriz7.jpg', '/home/jorgerd/Escritorio/Figura/Matriz8.jpg', '/home/jorgerd/Escritorio/Figura/Matriz9.jpg']\n"
     ]
    },
    {
     "data": {
      "text/plain": [
       "<matplotlib.figure.Figure at 0x7f4114a6f128>"
      ]
     },
     "metadata": {},
     "output_type": "display_data"
    }
   ],
   "source": [
    "import numpy as np #Importamos numpy\n",
    "import matplotlib.pyplot as plt #Importamos matplotlib\n",
    "import imageio\n",
    "import glob \n",
    "#PRELIMINARES\n",
    "MATRIZ=np.random.randint(0,2,(12,12)) #Creamos una matriz inicial 12x12 llena de números aleatorios del 0 al 1\n",
    "MATRIZ[::11,::1]=0 #Llena la primera y última columna de la matriz inicial con 0s\n",
    "MATRIZ[::1,::11]=0 #Llena la primera y última fila de la matriz incial con 0s\n",
    "Matriz=MATRIZ[1:11,1:11] #Esta es la matriz \"primitiva\" 10x10 sobre la cual vamos a trabajar\n",
    "VECINOS=np.zeros((12,12)) #Inicializamos con 0s la matriz que contará el número de vecinos\n",
    "\n",
    "#ITERACIONES\n",
    "for k in range(51): #Con este ciclo hacemos las iteraciones\n",
    "    #CALCULO DEL NÚMERO DE VECINOS\n",
    "    #La idea es determinar todas las submatrices de la matriz inicial con centro en cada entrada de la matriz\n",
    "    #primitiva para así hallar la suma de los elementos de cada submatriz, lo que determina los vecinos\n",
    "    for i in range (1,11): #Con estos ciclos recorremos la matriz primitiva contenida en la inicial\n",
    "        for j in range (1,11): #Con estos ciclos recorremos la matriz primitiva contenida en la inicial\n",
    "            matriz=MATRIZ[i-1:i+2,j-1:j+2] #Determinamos las submatrices 3x3 dentro de la matriz inicial\n",
    "            M=np.copy(matriz) #Hacemos una copia para no dañar la matriz original\n",
    "            M[1,1]=0 #Hacemos nulo el elemento analizado para no afectar la suma\n",
    "            columnas=np.sum(M,axis=0) #Determinamos la suma de cada columna de la submatriz\n",
    "            vecinos=np.sum(columnas) #Determinamos la suma de los elementos de la submatriz\n",
    "            VECINOS[i,j]=vecinos #Guardamos en la matriz inicializada antes el número de vecinos de cada entrada\n",
    "            Vecinos=VECINOS[1:11,1:11] #Obtenemos una matriz que nos indica en cada entrada el número de vecinos\n",
    "                                       #de una entrada en la matriz primitiva\n",
    "    #REGLAS DE JUEGO        \n",
    "    for i in range(10): #Con estos ciclos recorremos la matriz primitiva y la matriz de vecinos\n",
    "        for j in range (10): #Con estos ciclos recorremos la matriz primitiva y la matriz de vecinos\n",
    "            if Vecinos[i,j]<2: #R1\n",
    "                Matriz[i,j]=0\n",
    "            if Vecinos[i,j]>3: #R2\n",
    "                Matriz[i,j]=0\n",
    "            if Matriz[i,j]==1 and 2<=Vecinos[i,j]<=3: #R3\n",
    "                Matriz[i,j]=1\n",
    "            if Matriz[i,j]==0 and Vecinos[i,j]==3: #R4\n",
    "                Matriz[i,j]=1\n",
    "    plt.imshow(Matriz)\n",
    "    plt.xticks([])\n",
    "    plt.yticks([])\n",
    "    plt.savefig(\"/home/jorgerd/Escritorio/Figura/Matriz\"+str(k)+\".jpg\")\n",
    "    plt.clf()\n",
    "    imagenes=[]\n",
    "    Filenames=sorted(glob.glob(\"/home/jorgerd/Escritorio/Figura/*\"))\n",
    "    print(Filenames)\n",
    "    break\n",
    "    for Imagen in Filenames:\n",
    "        imagenes.append(imageio.imread(Imagen))\n",
    "    imageio.mimsave('/home/jorgerd/Escritorio/GIF.gif',imagenes)"
   ]
  },
  {
   "cell_type": "code",
   "execution_count": null,
   "metadata": {},
   "outputs": [],
   "source": []
  }
 ],
 "metadata": {
  "kernelspec": {
   "display_name": "Python 3",
   "language": "python",
   "name": "python3"
  },
  "language_info": {
   "codemirror_mode": {
    "name": "ipython",
    "version": 3
   },
   "file_extension": ".py",
   "mimetype": "text/x-python",
   "name": "python",
   "nbconvert_exporter": "python",
   "pygments_lexer": "ipython3",
   "version": "3.6.4"
  }
 },
 "nbformat": 4,
 "nbformat_minor": 2
}
