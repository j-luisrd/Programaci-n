{
 "cells": [
  {
   "cell_type": "markdown",
   "metadata": {},
   "source": [
    "**Considere la siguiente transformación de coordenadas _cardióidicas_**\n",
    "\n",
    "$$x=\\frac{u^2-v^2}{2(u^2+v^2)^2} \\qquad y=\\frac{uv}{2(u^2+v^2)^2} \\qquad z=w$$\n",
    "\n",
    "**Considere además un campo tensorial y un vector en coordenadas cartesianas:**\n",
    "\n",
    "$$R^i_j(x,y,z)=\\begin{pmatrix} \\frac{x}{2} & 1 & \\frac{zx}{2}\\\\ 1 & y & 3y\\\\ \\frac{zx}{2} & 3y & \\frac{9z}{2}\\end{pmatrix}, \\qquad t^i=\\begin{pmatrix} \\frac{1}{3}\\\\ \\frac{2}{3}\\\\ 1\\end{pmatrix}$$\n",
    "\n",
    "Importamos los paquetes necesarios"
   ]
  },
  {
   "cell_type": "code",
   "execution_count": 2,
   "metadata": {},
   "outputs": [],
   "source": [
    "from sympy import * \n",
    "from sympy.vector import CoordSys3D, Del\n",
    "init_printing(pretty_print=True)"
   ]
  },
  {
   "cell_type": "markdown",
   "metadata": {},
   "source": [
    "Declaramos primero las variables a usar"
   ]
  },
  {
   "cell_type": "code",
   "execution_count": 3,
   "metadata": {},
   "outputs": [],
   "source": [
    "N=CoordSys3D('N')\n",
    "u,v,w=symbols('u v w')\n",
    "x=(u**2-v**2)/(2*(u**2+v**2)**2)\n",
    "y=(u*v)/(2*(u**2+v**2)**2)\n",
    "z=w\n",
    "Tensor=Matrix([[x/2,1,z*x/2],[1,y,3*y],[z*x/2,3*y,9*z/2]])\n",
    "T=(1/3)*N.i+(2/3)*N.j+N.k"
   ]
  },
  {
   "cell_type": "markdown",
   "metadata": {},
   "source": [
    "**1. Encuentre los vectores base para esta ley de transformación y compruebe si son ortogonales o no.**\n",
    "\n",
    "Hallamos el vector posición para el nuevo sistema de coordenadas"
   ]
  },
  {
   "cell_type": "code",
   "execution_count": 10,
   "metadata": {},
   "outputs": [
    {
     "data": {
      "image/png": "[encoded data removed]",
      "text/latex": [
       "$$(\\frac{u^{2} - v^{2}}{2 \\left(u^{2} + v^{2}\\right)^{2}})\\mathbf{\\hat{i}_{N}} + (\\frac{u v}{2 \\left(u^{2} + v^{2}\\right)^{2}})\\mathbf{\\hat{j}_{N}} + (w)\\mathbf{\\hat{k}_{N}}$$"
      ],
      "text/plain": [
       "⎛   2    2   ⎞ N_i + ⎛    u⋅v     ⎞ N_j + (w) N_k\n",
       "⎜  u  - v    ⎟       ⎜────────────⎟              \n",
       "⎜────────────⎟       ⎜           2⎟              \n",
       "⎜           2⎟       ⎜  ⎛ 2    2⎞ N_j ⎟          \n",
       "⎜  ⎛ 2    2⎞ N_i ⎟   ⎝2⋅⎝u  + v ⎠ ⎠              \n",
       "⎝2⋅⎝u  + v ⎠ ⎠                                   "
      ]
     },
     "execution_count": 10,
     "metadata": {},
     "output_type": "execute_result"
    }
   ],
   "source": [
    "r=x*N.i+y*N.j+z*N.k\n",
    "r"
   ]
  },
  {
   "cell_type": "markdown",
   "metadata": {},
   "source": [
    "Determinamos los vectores base"
   ]
  },
  {
   "cell_type": "code",
   "execution_count": 10,
   "metadata": {},
   "outputs": [
    {
     "data": {
      "image/png": "[encoded data removed]",
      "text/latex": [
       "$$(\\frac{2 u \\left(- u^{2} + 3 v^{2}\\right)}{\\sqrt{\\frac{1}{\\left(u^{2} + v^{2}\\right)^{6}} \\left(4 u^{2} \\left(u^{2} - 3 v^{2}\\right)^{2} + v^{2} \\left(3 u^{2} - v^{2}\\right)^{2}\\right)} \\left(u^{2} + v^{2}\\right)^{3}})\\mathbf{\\hat{i}_{N}} + (\\frac{v \\left(- 3 u^{2} + v^{2}\\right)}{\\sqrt{\\frac{1}{\\left(u^{2} + v^{2}\\right)^{6}} \\left(4 u^{2} \\left(u^{2} - 3 v^{2}\\right)^{2} + v^{2} \\left(3 u^{2} - v^{2}\\right)^{2}\\right)} \\left(u^{2} + v^{2}\\right)^{3}})\\mathbf{\\hat{j}_{N}}$$"
      ],
      "text/plain": [
       "⎛                       ⎛   2      2⎞ N_i                    ⎞ N_i + ⎛        \n",
       "⎜                   2⋅u⋅⎝- u  + 3⋅v ⎠                    ⎟           ⎜        \n",
       "⎜────────────────────────────────────────────────────────⎟           ⎜────────\n",
       "⎜        _____________________________________           ⎟           ⎜        \n",
       "⎜       ╱                 2                 2            ⎟           ⎜       ╱\n",
       "⎜      ╱     2 ⎛ 2      2⎞ N_i     2 ⎛   2    2⎞ N_i            3⎟   ⎜      ╱ \n",
       "⎜     ╱   4⋅u ⋅⎝u  - 3⋅v ⎠  + v ⋅⎝3⋅u  - v ⎠   ⎛ 2    2⎞ N_i ⎟       ⎜     ╱  \n",
       "⎜    ╱    ─────────────────────────────────── ⋅⎝u  + v ⎠ ⎟           ⎜    ╱   \n",
       "⎜   ╱                           6                        ⎟           ⎜   ╱    \n",
       "⎜  ╱                   ⎛ 2    2⎞ N_i                         ⎟       ⎜  ╱     \n",
       "⎝╲╱                    ⎝u  + v ⎠                         ⎠           ⎝╲╱      \n",
       "\n",
       "              ⎛     2    2⎞ N_j                     ⎞ N_j\n",
       "            v⋅⎝- 3⋅u  + v ⎠                     ⎟        \n",
       "────────────────────────────────────────────────⎟        \n",
       "_____________________________________           ⎟        \n",
       "                 2                 2            ⎟        \n",
       "    2 ⎛ 2      2⎞ N_j     2 ⎛   2    2⎞ N_j            3⎟\n",
       " 4⋅u ⋅⎝u  - 3⋅v ⎠  + v ⋅⎝3⋅u  - v ⎠   ⎛ 2    2⎞ N_j ⎟    \n",
       " ─────────────────────────────────── ⋅⎝u  + v ⎠ ⎟        \n",
       "                       6                        ⎟        \n",
       "              ⎛ 2    2⎞ N_j                         ⎟    \n",
       "              ⎝u  + v ⎠                         ⎠        "
      ]
     },
     "execution_count": 10,
     "metadata": {},
     "output_type": "execute_result"
    }
   ],
   "source": [
    "dr_du=diff(r,u)\n",
    "e_u=simplify(dr_du.normalize())\n",
    "e_u"
   ]
  },
  {
   "cell_type": "code",
   "execution_count": 11,
   "metadata": {},
   "outputs": [
    {
     "data": {
      "image/png": "[encoded data removed]",
      "text/latex": [
       "$$(\\frac{2 v \\left(- 3 u^{2} + v^{2}\\right)}{\\sqrt{\\frac{1}{\\left(u^{2} + v^{2}\\right)^{6}} \\left(u^{2} \\left(- u^{2} + 3 v^{2}\\right)^{2} + 4 v^{2} \\left(3 u^{2} - v^{2}\\right)^{2}\\right)} \\left(u^{2} + v^{2}\\right)^{3}})\\mathbf{\\hat{i}_{N}} + (\\frac{u \\left(u^{2} - 3 v^{2}\\right)}{\\sqrt{\\frac{1}{\\left(u^{2} + v^{2}\\right)^{6}} \\left(u^{2} \\left(- u^{2} + 3 v^{2}\\right)^{2} + 4 v^{2} \\left(3 u^{2} - v^{2}\\right)^{2}\\right)} \\left(u^{2} + v^{2}\\right)^{3}})\\mathbf{\\hat{j}_{N}}$$"
      ],
      "text/plain": [
       "⎛                        ⎛     2    2⎞ N_i                     ⎞ N_i + ⎛      \n",
       "⎜                    2⋅v⋅⎝- 3⋅u  + v ⎠                     ⎟           ⎜      \n",
       "⎜──────────────────────────────────────────────────────────⎟           ⎜──────\n",
       "⎜        _______________________________________           ⎟           ⎜      \n",
       "⎜       ╱                 2                   2            ⎟           ⎜      \n",
       "⎜      ╱   2 ⎛   2      2⎞ N_i       2 ⎛   2    2⎞ N_i            3⎟   ⎜      \n",
       "⎜     ╱   u ⋅⎝- u  + 3⋅v ⎠  + 4⋅v ⋅⎝3⋅u  - v ⎠   ⎛ 2    2⎞ N_i ⎟       ⎜     ╱\n",
       "⎜    ╱    ───────────────────────────────────── ⋅⎝u  + v ⎠ ⎟           ⎜    ╱ \n",
       "⎜   ╱                            6                         ⎟           ⎜   ╱  \n",
       "⎜  ╱                    ⎛ 2    2⎞ N_i                          ⎟       ⎜  ╱   \n",
       "⎝╲╱                     ⎝u  + v ⎠                          ⎠           ⎝╲╱    \n",
       "\n",
       "                  ⎛ 2      2⎞ N_j                       ⎞ N_j\n",
       "                u⋅⎝u  - 3⋅v ⎠                       ⎟        \n",
       "────────────────────────────────────────────────────⎟        \n",
       "  _______________________________________           ⎟        \n",
       " ╱                 2                   2            ⎟        \n",
       "╱   2 ⎛   2      2⎞ N_j       2 ⎛   2    2⎞ N_j            3⎟\n",
       "   u ⋅⎝- u  + 3⋅v ⎠  + 4⋅v ⋅⎝3⋅u  - v ⎠   ⎛ 2    2⎞ N_j ⎟    \n",
       "   ───────────────────────────────────── ⋅⎝u  + v ⎠ ⎟        \n",
       "                          6                         ⎟        \n",
       "                 ⎛ 2    2⎞ N_j                          ⎟    \n",
       "                 ⎝u  + v ⎠                          ⎠        "
      ]
     },
     "execution_count": 11,
     "metadata": {},
     "output_type": "execute_result"
    }
   ],
   "source": [
    "dr_dv=diff(r,v)\n",
    "e_v=simplify(dr_dv.normalize())\n",
    "e_v"
   ]
  },
  {
   "cell_type": "code",
   "execution_count": 12,
   "metadata": {},
   "outputs": [
    {
     "data": {
      "image/png": "[encoded data removed]",
      "text/latex": [
       "$$\\mathbf{\\hat{k}_{N}}$$"
      ],
      "text/plain": [
       "N_k"
      ]
     },
     "execution_count": 12,
     "metadata": {},
     "output_type": "execute_result"
    }
   ],
   "source": [
    "dr_dw=diff(r,w)\n",
    "e_w=simplify(dr_dw.normalize())\n",
    "e_w"
   ]
  },
  {
   "cell_type": "markdown",
   "metadata": {},
   "source": [
    "Analizamos su ortogonalidad"
   ]
  },
  {
   "cell_type": "code",
   "execution_count": 29,
   "metadata": {},
   "outputs": [
    {
     "data": {
      "image/png": "[encoded data removed]",
      "text/latex": [
       "$$\\frac{3 u v \\left(u^{2} - 3 v^{2}\\right) \\left(3 u^{2} - v^{2}\\right)}{\\sqrt{\\frac{1}{\\left(u^{2} + v^{2}\\right)^{6}} \\left(u^{2} \\left(u^{2} - 3 v^{2}\\right)^{2} + 4 v^{2} \\left(3 u^{2} - v^{2}\\right)^{2}\\right)} \\sqrt{\\frac{1}{\\left(u^{2} + v^{2}\\right)^{6}} \\left(4 u^{2} \\left(u^{2} - 3 v^{2}\\right)^{2} + v^{2} \\left(3 u^{2} - v^{2}\\right)^{2}\\right)} \\left(u^{2} + v^{2}\\right)^{6}}$$"
      ],
      "text/plain": [
       "                                          ⎛ 2      2⎞ ⎛   2    2⎞             \n",
       "                                    3⋅u⋅v⋅⎝u  - 3⋅v ⎠⋅⎝3⋅u  - v ⎠             \n",
       "──────────────────────────────────────────────────────────────────────────────\n",
       "        _____________________________________         ________________________\n",
       "       ╱               2                   2         ╱                 2      \n",
       "      ╱   2 ⎛ 2      2⎞       2 ⎛   2    2⎞         ╱     2 ⎛ 2      2⎞     2 \n",
       "     ╱   u ⋅⎝u  - 3⋅v ⎠  + 4⋅v ⋅⎝3⋅u  - v ⎠        ╱   4⋅u ⋅⎝u  - 3⋅v ⎠  + v ⋅\n",
       "    ╱    ─────────────────────────────────── ⋅    ╱    ───────────────────────\n",
       "   ╱                           6                 ╱                           6\n",
       "  ╱                   ⎛ 2    2⎞                 ╱                   ⎛ 2    2⎞ \n",
       "╲╱                    ⎝u  + v ⎠               ╲╱                    ⎝u  + v ⎠ \n",
       "\n",
       "                        \n",
       "                        \n",
       "────────────────────────\n",
       "_____________           \n",
       "           2            \n",
       "⎛   2    2⎞            6\n",
       "⎝3⋅u  - v ⎠   ⎛ 2    2⎞ \n",
       "──────────── ⋅⎝u  + v ⎠ \n",
       "                        \n",
       "                        \n",
       "                        "
      ]
     },
     "execution_count": 29,
     "metadata": {},
     "output_type": "execute_result"
    }
   ],
   "source": [
    "simplify(e_u.dot(e_v))"
   ]
  },
  {
   "cell_type": "code",
   "execution_count": 25,
   "metadata": {},
   "outputs": [
    {
     "data": {
      "image/png": "[encoded data removed]",
      "text/latex": [
       "$$0$$"
      ],
      "text/plain": [
       "0"
      ]
     },
     "execution_count": 25,
     "metadata": {},
     "output_type": "execute_result"
    }
   ],
   "source": [
    "e_u.dot(e_w)"
   ]
  },
  {
   "cell_type": "code",
   "execution_count": 26,
   "metadata": {},
   "outputs": [
    {
     "data": {
      "image/png": "[encoded data removed]",
      "text/latex": [
       "$$0$$"
      ],
      "text/plain": [
       "0"
      ]
     },
     "execution_count": 26,
     "metadata": {},
     "output_type": "execute_result"
    }
   ],
   "source": [
    "e_v.dot(e_w)"
   ]
  },
  {
   "cell_type": "markdown",
   "metadata": {},
   "source": [
    "No son ortogonales puesto que $e_u\\cdot e_v=e_v\\cdot e_u\\neq 0$.\n",
    "\n",
    "**2. Encuentre la expresión del campo tensorial en las coordenadas cardióidicas.**\n",
    "\n",
    "Encontramos primero la matriz de cambio de coordenadas "
   ]
  },
  {
   "cell_type": "code",
   "execution_count": 4,
   "metadata": {},
   "outputs": [
    {
     "data": {
      "text/latex": [
       "$$\\left[\\begin{matrix}\\frac{u \\left(- u^{2} + 3 v^{2}\\right)}{\\left(u^{2} + v^{2}\\right)^{3}} & \\frac{v \\left(- 3 u^{2} + v^{2}\\right)}{\\left(u^{2} + v^{2}\\right)^{3}} & 0\\\\\\frac{v \\left(- 3 u^{2} + v^{2}\\right)}{2 \\left(u^{2} + v^{2}\\right)^{3}} & \\frac{u \\left(u^{2} - 3 v^{2}\\right)}{2 \\left(u^{2} + v^{2}\\right)^{3}} & 0\\\\0 & 0 & 1\\end{matrix}\\right]$$"
      ],
      "text/plain": [
       "⎡  ⎛   2      2⎞    ⎛     2    2⎞   ⎤\n",
       "⎢u⋅⎝- u  + 3⋅v ⎠  v⋅⎝- 3⋅u  + v ⎠   ⎥\n",
       "⎢───────────────  ───────────────  0⎥\n",
       "⎢            3                3     ⎥\n",
       "⎢   ⎛ 2    2⎞        ⎛ 2    2⎞      ⎥\n",
       "⎢   ⎝u  + v ⎠        ⎝u  + v ⎠      ⎥\n",
       "⎢                                   ⎥\n",
       "⎢  ⎛     2    2⎞     ⎛ 2      2⎞    ⎥\n",
       "⎢v⋅⎝- 3⋅u  + v ⎠   u⋅⎝u  - 3⋅v ⎠    ⎥\n",
       "⎢───────────────   ─────────────   0⎥\n",
       "⎢             3                3    ⎥\n",
       "⎢    ⎛ 2    2⎞        ⎛ 2    2⎞     ⎥\n",
       "⎢  2⋅⎝u  + v ⎠      2⋅⎝u  + v ⎠     ⎥\n",
       "⎢                                   ⎥\n",
       "⎣       0                0         1⎦"
      ]
     },
     "execution_count": 4,
     "metadata": {},
     "output_type": "execute_result"
    }
   ],
   "source": [
    "partial_x=[diff(x,u),diff(x,v),diff(x,w)]\n",
    "partial_y=[diff(y,u),diff(y,v),diff(y,w)]\n",
    "partial_z=[diff(z,u),diff(z,v),diff(z,w)]\n",
    "Matriz=simplify(Matrix([partial_x,partial_y,partial_z]))\n",
    "Matriz"
   ]
  },
  {
   "cell_type": "markdown",
   "metadata": {},
   "source": [
    "Encontramos la matriz inversa a la matriz de cambio"
   ]
  },
  {
   "cell_type": "code",
   "execution_count": 36,
   "metadata": {},
   "outputs": [
    {
     "data": {
      "text/latex": [
       "$$\\left[\\begin{matrix}u \\left(- u^{2} + 3 v^{2}\\right) & 2 v \\left(- 3 u^{2} + v^{2}\\right) & 0\\\\v \\left(- 3 u^{2} + v^{2}\\right) & 2 u \\left(u^{2} - 3 v^{2}\\right) & 0\\\\0 & 0 & 1\\end{matrix}\\right]$$"
      ],
      "text/plain": [
       "⎡  ⎛   2      2⎞      ⎛     2    2⎞   ⎤\n",
       "⎢u⋅⎝- u  + 3⋅v ⎠  2⋅v⋅⎝- 3⋅u  + v ⎠  0⎥\n",
       "⎢                                     ⎥\n",
       "⎢  ⎛     2    2⎞       ⎛ 2      2⎞    ⎥\n",
       "⎢v⋅⎝- 3⋅u  + v ⎠   2⋅u⋅⎝u  - 3⋅v ⎠   0⎥\n",
       "⎢                                     ⎥\n",
       "⎣       0                 0          1⎦"
      ]
     },
     "execution_count": 36,
     "metadata": {},
     "output_type": "execute_result"
    }
   ],
   "source": [
    "Inv_Matriz=simplify(Matriz**-1)\n",
    "Inv_Matriz"
   ]
  },
  {
   "cell_type": "markdown",
   "metadata": {},
   "source": [
    "Realizamos la operación matricial respectiva para encontrar la expresión buscada"
   ]
  },
  {
   "cell_type": "code",
   "execution_count": 24,
   "metadata": {},
   "outputs": [
    {
     "data": {
      "text/latex": [
       "$$\\left[\\begin{matrix}\\frac{u}{4 \\left(u^{2} + v^{2}\\right)^{5}} \\left(2 v \\left(3 u^{2} - v^{2}\\right) \\left(v^{2} \\left(3 u^{2} - v^{2}\\right) + \\left(u^{2} - 3 v^{2}\\right) \\left(u^{2} + v^{2}\\right)^{2}\\right) + \\left(u^{2} - 3 v^{2}\\right) \\left(u \\left(u^{2} - 3 v^{2}\\right) \\left(u^{2} - v^{2}\\right) + 8 v \\left(u^{2} + v^{2}\\right)^{2} \\left(3 u^{2} - v^{2}\\right)\\right)\\right) & \\frac{1}{4 \\left(u^{2} + v^{2}\\right)^{5}} \\left(- 2 u^{2} \\left(u^{2} - 3 v^{2}\\right) \\left(v^{2} \\left(3 u^{2} - v^{2}\\right) + \\left(u^{2} - 3 v^{2}\\right) \\left(u^{2} + v^{2}\\right)^{2}\\right) + v \\left(3 u^{2} - v^{2}\\right) \\left(u \\left(u^{2} - 3 v^{2}\\right) \\left(u^{2} - v^{2}\\right) + 8 v \\left(u^{2} + v^{2}\\right)^{2} \\left(3 u^{2} - v^{2}\\right)\\right)\\right) & \\frac{u}{4 \\left(u^{2} + v^{2}\\right)^{2}} \\left(v^{2} \\left(- 36 u^{2} + 12 v^{2}\\right) - w \\left(u^{2} - 3 v^{2}\\right) \\left(u^{2} - v^{2}\\right)\\right)\\\\- \\frac{1}{4 \\left(u^{2} + v^{2}\\right)^{5}} \\left(u \\left(u^{2} - 3 v^{2}\\right) \\left(8 u \\left(u^{2} - 3 v^{2}\\right) \\left(u^{2} + v^{2}\\right)^{2} - v \\left(u^{2} - v^{2}\\right) \\left(3 u^{2} - v^{2}\\right)\\right) + 2 v^{2} \\left(3 u^{2} - v^{2}\\right) \\left(u^{2} \\left(u^{2} - 3 v^{2}\\right) - \\left(u^{2} + v^{2}\\right)^{2} \\left(3 u^{2} - v^{2}\\right)\\right)\\right) & \\frac{v}{4 \\left(u^{2} + v^{2}\\right)^{5}} \\left(2 u \\left(u^{2} - 3 v^{2}\\right) \\left(u^{2} \\left(u^{2} - 3 v^{2}\\right) - \\left(u^{2} + v^{2}\\right)^{2} \\left(3 u^{2} - v^{2}\\right)\\right) - \\left(3 u^{2} - v^{2}\\right) \\left(8 u \\left(u^{2} - 3 v^{2}\\right) \\left(u^{2} + v^{2}\\right)^{2} - v \\left(u^{2} - v^{2}\\right) \\left(3 u^{2} - v^{2}\\right)\\right)\\right) & \\frac{v}{4 \\left(u^{2} + v^{2}\\right)^{2}} \\left(12 u^{2} \\left(u^{2} - 3 v^{2}\\right) - w \\left(u^{2} - v^{2}\\right) \\left(3 u^{2} - v^{2}\\right)\\right)\\\\\\frac{u}{4 \\left(u^{2} + v^{2}\\right)^{5}} \\left(v^{2} \\left(- 9 u^{2} + 3 v^{2}\\right) - w \\left(u^{2} - 3 v^{2}\\right) \\left(u^{2} - v^{2}\\right)\\right) & \\frac{v}{4 \\left(u^{2} + v^{2}\\right)^{5}} \\left(3 u^{2} \\left(u^{2} - 3 v^{2}\\right) - w \\left(u^{2} - v^{2}\\right) \\left(3 u^{2} - v^{2}\\right)\\right) & \\frac{9 w}{2}\\end{matrix}\\right]$$"
      ],
      "text/plain": [
       "⎡   ⎛                ⎛                                      2⎞               ⎛\n",
       "⎢   ⎜    ⎛   2    2⎞ ⎜ 2 ⎛   2    2⎞   ⎛ 2      2⎞ ⎛ 2    2⎞ ⎟   ⎛ 2      2⎞ ⎜\n",
       "⎢ u⋅⎝2⋅v⋅⎝3⋅u  - v ⎠⋅⎝v ⋅⎝3⋅u  - v ⎠ + ⎝u  - 3⋅v ⎠⋅⎝u  + v ⎠ ⎠ + ⎝u  - 3⋅v ⎠⋅⎝\n",
       "⎢ ────────────────────────────────────────────────────────────────────────────\n",
       "⎢                                                                       5     \n",
       "⎢                                                              ⎛ 2    2⎞      \n",
       "⎢                                                            4⋅⎝u  + v ⎠      \n",
       "⎢                                                                             \n",
       "⎢ ⎛              ⎛                         2                          ⎞       \n",
       "⎢ ⎜  ⎛ 2      2⎞ ⎜    ⎛ 2      2⎞ ⎛ 2    2⎞      ⎛ 2    2⎞ ⎛   2    2⎞⎟      2\n",
       "⎢-⎝u⋅⎝u  - 3⋅v ⎠⋅⎝8⋅u⋅⎝u  - 3⋅v ⎠⋅⎝u  + v ⎠  - v⋅⎝u  - v ⎠⋅⎝3⋅u  - v ⎠⎠ + 2⋅v \n",
       "⎢─────────────────────────────────────────────────────────────────────────────\n",
       "⎢                                                                        5    \n",
       "⎢                                                               ⎛ 2    2⎞     \n",
       "⎢                                                             4⋅⎝u  + v ⎠     \n",
       "⎢                                                                             \n",
       "⎢                                            ⎛ 2 ⎛     2      2⎞     ⎛ 2      \n",
       "⎢                                          u⋅⎝v ⋅⎝- 9⋅u  + 3⋅v ⎠ - w⋅⎝u  - 3⋅v\n",
       "⎢                                          ───────────────────────────────────\n",
       "⎢                                                                       5     \n",
       "⎢                                                              ⎛ 2    2⎞      \n",
       "⎣                                                            4⋅⎝u  + v ⎠      \n",
       "\n",
       "                                       2            ⎞⎞                       ⎛\n",
       "  ⎛ 2      2⎞ ⎛ 2    2⎞       ⎛ 2    2⎞  ⎛   2    2⎞⎟⎟         2 ⎛ 2      2⎞ ⎜\n",
       "u⋅⎝u  - 3⋅v ⎠⋅⎝u  - v ⎠ + 8⋅v⋅⎝u  + v ⎠ ⋅⎝3⋅u  - v ⎠⎠⎠    - 2⋅u ⋅⎝u  - 3⋅v ⎠⋅⎝\n",
       "──────────────────────────────────────────────────────    ────────────────────\n",
       "                                                                              \n",
       "                                                                              \n",
       "                                                                              \n",
       "                                                                              \n",
       "             ⎛                          2            ⎞⎞     ⎛                ⎛\n",
       " ⎛   2    2⎞ ⎜ 2 ⎛ 2      2⎞   ⎛ 2    2⎞  ⎛   2    2⎞⎟⎟     ⎜    ⎛ 2      2⎞ ⎜\n",
       "⋅⎝3⋅u  - v ⎠⋅⎝u ⋅⎝u  - 3⋅v ⎠ - ⎝u  + v ⎠ ⋅⎝3⋅u  - v ⎠⎠⎠   v⋅⎝2⋅u⋅⎝u  - 3⋅v ⎠⋅⎝\n",
       "────────────────────────────────────────────────────────  ────────────────────\n",
       "                                                                              \n",
       "                                                                              \n",
       "                                                                              \n",
       "                                                                              \n",
       "2⎞ ⎛ 2    2⎞⎞                                                                 \n",
       " ⎠⋅⎝u  - v ⎠⎠                                                                 \n",
       "─────────────                                                                 \n",
       "                                                                              \n",
       "                                                                              \n",
       "                                                                              \n",
       "\n",
       "                                      2⎞                 ⎛                    \n",
       " 2 ⎛   2    2⎞   ⎛ 2      2⎞ ⎛ 2    2⎞ ⎟     ⎛   2    2⎞ ⎜  ⎛ 2      2⎞ ⎛ 2   \n",
       "v ⋅⎝3⋅u  - v ⎠ + ⎝u  - 3⋅v ⎠⋅⎝u  + v ⎠ ⎠ + v⋅⎝3⋅u  - v ⎠⋅⎝u⋅⎝u  - 3⋅v ⎠⋅⎝u  - \n",
       "──────────────────────────────────────────────────────────────────────────────\n",
       "                                                   5                          \n",
       "                                          ⎛ 2    2⎞                           \n",
       "                                        4⋅⎝u  + v ⎠                           \n",
       "                                                                              \n",
       "                          2            ⎞               ⎛                      \n",
       " 2 ⎛ 2      2⎞   ⎛ 2    2⎞  ⎛   2    2⎞⎟   ⎛   2    2⎞ ⎜    ⎛ 2      2⎞ ⎛ 2   \n",
       "u ⋅⎝u  - 3⋅v ⎠ - ⎝u  + v ⎠ ⋅⎝3⋅u  - v ⎠⎠ - ⎝3⋅u  - v ⎠⋅⎝8⋅u⋅⎝u  - 3⋅v ⎠⋅⎝u  + \n",
       "──────────────────────────────────────────────────────────────────────────────\n",
       "                                                  5                           \n",
       "                                         ⎛ 2    2⎞                            \n",
       "                                       4⋅⎝u  + v ⎠                            \n",
       "                                                                              \n",
       "                        ⎛   2 ⎛ 2      2⎞     ⎛ 2    2⎞ ⎛   2    2⎞⎞          \n",
       "                      v⋅⎝3⋅u ⋅⎝u  - 3⋅v ⎠ - w⋅⎝u  - v ⎠⋅⎝3⋅u  - v ⎠⎠          \n",
       "                      ──────────────────────────────────────────────          \n",
       "                                                  5                           \n",
       "                                         ⎛ 2    2⎞                            \n",
       "                                       4⋅⎝u  + v ⎠                            \n",
       "\n",
       "                   2            ⎞                                             \n",
       " 2⎞       ⎛ 2    2⎞  ⎛   2    2⎞⎟    ⎛ 2 ⎛      2       2⎞     ⎛ 2      2⎞ ⎛ 2\n",
       "v ⎠ + 8⋅v⋅⎝u  + v ⎠ ⋅⎝3⋅u  - v ⎠⎠  u⋅⎝v ⋅⎝- 36⋅u  + 12⋅v ⎠ - w⋅⎝u  - 3⋅v ⎠⋅⎝u \n",
       "─────────────────────────────────  ───────────────────────────────────────────\n",
       "                                                                 2            \n",
       "                                                        ⎛ 2    2⎞             \n",
       "                                                      4⋅⎝u  + v ⎠             \n",
       "                                                                              \n",
       "   2                          ⎞⎞                                              \n",
       " 2⎞      ⎛ 2    2⎞ ⎛   2    2⎞⎟⎟      ⎛    2 ⎛ 2      2⎞     ⎛ 2    2⎞ ⎛   2  \n",
       "v ⎠  - v⋅⎝u  - v ⎠⋅⎝3⋅u  - v ⎠⎠⎠    v⋅⎝12⋅u ⋅⎝u  - 3⋅v ⎠ - w⋅⎝u  - v ⎠⋅⎝3⋅u  -\n",
       "────────────────────────────────    ──────────────────────────────────────────\n",
       "                                                                 2            \n",
       "                                                        ⎛ 2    2⎞             \n",
       "                                                      4⋅⎝u  + v ⎠             \n",
       "                                                                              \n",
       "                                                                              \n",
       "                                                          9⋅w                 \n",
       "                                                          ───                 \n",
       "                                                           2                  \n",
       "                                                                              \n",
       "                                                                              \n",
       "\n",
       "       ⎤\n",
       "    2⎞⎞⎥\n",
       " - v ⎠⎠⎥\n",
       "───────⎥\n",
       "       ⎥\n",
       "       ⎥\n",
       "       ⎥\n",
       "       ⎥\n",
       "       ⎥\n",
       "  2⎞⎞  ⎥\n",
       " v ⎠⎠  ⎥\n",
       "─────  ⎥\n",
       "       ⎥\n",
       "       ⎥\n",
       "       ⎥\n",
       "       ⎥\n",
       "       ⎥\n",
       "       ⎥\n",
       "       ⎥\n",
       "       ⎥\n",
       "       ⎥\n",
       "       ⎦"
      ]
     },
     "execution_count": 24,
     "metadata": {},
     "output_type": "execute_result"
    }
   ],
   "source": [
    "R=simplify(Inv_Matriz*Tensor*Matriz)\n",
    "R"
   ]
  },
  {
   "cell_type": "markdown",
   "metadata": {},
   "source": [
    "**3. Encuentre el tensor métrico para este sistema de coordenadas**.\n",
    "\n",
    "Calculamos cada entrada de la matriz que representa el tensor métrico"
   ]
  },
  {
   "cell_type": "code",
   "execution_count": 33,
   "metadata": {},
   "outputs": [
    {
     "data": {
      "text/latex": [
       "$$\\left[\\begin{matrix}1 & \\frac{3 u v \\left(u^{2} - 3 v^{2}\\right) \\left(3 u^{2} - v^{2}\\right)}{\\sqrt{\\frac{1}{\\left(u^{2} + v^{2}\\right)^{6}} \\left(u^{2} \\left(u^{2} - 3 v^{2}\\right)^{2} + 4 v^{2} \\left(3 u^{2} - v^{2}\\right)^{2}\\right)} \\sqrt{\\frac{1}{\\left(u^{2} + v^{2}\\right)^{6}} \\left(4 u^{2} \\left(u^{2} - 3 v^{2}\\right)^{2} + v^{2} \\left(3 u^{2} - v^{2}\\right)^{2}\\right)} \\left(u^{2} + v^{2}\\right)^{6}} & 0\\\\\\frac{3 u v \\left(u^{2} - 3 v^{2}\\right) \\left(3 u^{2} - v^{2}\\right)}{\\sqrt{\\frac{1}{\\left(u^{2} + v^{2}\\right)^{6}} \\left(u^{2} \\left(u^{2} - 3 v^{2}\\right)^{2} + 4 v^{2} \\left(3 u^{2} - v^{2}\\right)^{2}\\right)} \\sqrt{\\frac{1}{\\left(u^{2} + v^{2}\\right)^{6}} \\left(4 u^{2} \\left(u^{2} - 3 v^{2}\\right)^{2} + v^{2} \\left(3 u^{2} - v^{2}\\right)^{2}\\right)} \\left(u^{2} + v^{2}\\right)^{6}} & 1 & 0\\\\0 & 0 & 1\\end{matrix}\\right]$$"
      ],
      "text/plain": [
       "⎡                                                                             \n",
       "⎢                                                                             \n",
       "⎢                                                  1                          \n",
       "⎢                                                                             \n",
       "⎢                                                                             \n",
       "⎢                                                                             \n",
       "⎢                                                                             \n",
       "⎢                                                                             \n",
       "⎢                                                                             \n",
       "⎢                                                                             \n",
       "⎢                                                                             \n",
       "⎢                                                                             \n",
       "⎢                                          ⎛ 2      2⎞ ⎛   2    2⎞            \n",
       "⎢                                    3⋅u⋅v⋅⎝u  - 3⋅v ⎠⋅⎝3⋅u  - v ⎠            \n",
       "⎢─────────────────────────────────────────────────────────────────────────────\n",
       "⎢        _____________________________________         _______________________\n",
       "⎢       ╱               2                   2         ╱                 2     \n",
       "⎢      ╱   2 ⎛ 2      2⎞       2 ⎛   2    2⎞         ╱     2 ⎛ 2      2⎞     2\n",
       "⎢     ╱   u ⋅⎝u  - 3⋅v ⎠  + 4⋅v ⋅⎝3⋅u  - v ⎠        ╱   4⋅u ⋅⎝u  - 3⋅v ⎠  + v \n",
       "⎢    ╱    ─────────────────────────────────── ⋅    ╱    ──────────────────────\n",
       "⎢   ╱                           6                 ╱                           \n",
       "⎢  ╱                   ⎛ 2    2⎞                 ╱                   ⎛ 2    2⎞\n",
       "⎢╲╱                    ⎝u  + v ⎠               ╲╱                    ⎝u  + v ⎠\n",
       "⎢                                                                             \n",
       "⎣                                                  0                          \n",
       "\n",
       "                                                                     ⎛ 2      \n",
       "                                                               3⋅u⋅v⋅⎝u  - 3⋅v\n",
       "                           ───────────────────────────────────────────────────\n",
       "                                   _____________________________________      \n",
       "                                  ╱               2                   2       \n",
       "                                 ╱   2 ⎛ 2      2⎞       2 ⎛   2    2⎞        \n",
       "                                ╱   u ⋅⎝u  - 3⋅v ⎠  + 4⋅v ⋅⎝3⋅u  - v ⎠        \n",
       "                               ╱    ─────────────────────────────────── ⋅    ╱\n",
       "                              ╱                           6                 ╱ \n",
       "                             ╱                   ⎛ 2    2⎞                 ╱  \n",
       "                           ╲╱                    ⎝u  + v ⎠               ╲╱   \n",
       "                                                                              \n",
       "                                                                              \n",
       "                                                                              \n",
       "─────────────────────────                                                    1\n",
       "______________                                                                \n",
       "            2                                                                 \n",
       " ⎛   2    2⎞            6                                                     \n",
       "⋅⎝3⋅u  - v ⎠   ⎛ 2    2⎞                                                      \n",
       "───────────── ⋅⎝u  + v ⎠                                                      \n",
       "6                                                                             \n",
       "                                                                              \n",
       "                                                                              \n",
       "                                                                              \n",
       "                                                                             0\n",
       "\n",
       "2⎞ ⎛   2    2⎞                                        ⎤\n",
       " ⎠⋅⎝3⋅u  - v ⎠                                        ⎥\n",
       "───────────────────────────────────────────────────  0⎥\n",
       "   _____________________________________              ⎥\n",
       "  ╱                 2                 2               ⎥\n",
       " ╱     2 ⎛ 2      2⎞     2 ⎛   2    2⎞            6   ⎥\n",
       "╱   4⋅u ⋅⎝u  - 3⋅v ⎠  + v ⋅⎝3⋅u  - v ⎠   ⎛ 2    2⎞    ⎥\n",
       "    ─────────────────────────────────── ⋅⎝u  + v ⎠    ⎥\n",
       "                          6                           ⎥\n",
       "                 ⎛ 2    2⎞                            ⎥\n",
       "                 ⎝u  + v ⎠                            ⎥\n",
       "                                                      ⎥\n",
       "                                                      ⎥\n",
       "                                                      ⎥\n",
       "                                                     0⎥\n",
       "                                                      ⎥\n",
       "                                                      ⎥\n",
       "                                                      ⎥\n",
       "                                                      ⎥\n",
       "                                                      ⎥\n",
       "                                                      ⎥\n",
       "                                                      ⎥\n",
       "                                                      ⎥\n",
       "                                                      ⎥\n",
       "                                                     1⎦"
      ]
     },
     "execution_count": 33,
     "metadata": {},
     "output_type": "execute_result"
    }
   ],
   "source": [
    "e_uE=[e_u.dot(e_u),e_u.dot(e_v),e_u.dot(e_w)]\n",
    "e_vE=[e_v.dot(e_u),e_v.dot(e_v),e_v.dot(e_w)]\n",
    "e_wE=[e_w.dot(e_u),e_w.dot(e_v),e_w.dot(e_w)]\n",
    "Metrica=simplify(Matrix([e_uE,e_vE,e_wE]))\n",
    "Metrica"
   ]
  },
  {
   "cell_type": "markdown",
   "metadata": {},
   "source": [
    "**4. Dados los siguientes campos $\\psi(x,y,z)=1-xy$, y $\\vec{B}=-y^2|e_x\\rangle+x^2|e_y\\rangle-z^2|e_z\\rangle$.**  \n",
    "**Calcule:**\n",
    "\n",
    "**a) Gradiente: $\\nabla \\psi$**"
   ]
  },
  {
   "cell_type": "code",
   "execution_count": 24,
   "metadata": {},
   "outputs": [
    {
     "data": {
      "image/png": "[encoded data removed]",
      "text/latex": [
       "$$(- \\mathbf{{y}_{N}})\\mathbf{\\hat{i}_{N}} + (- \\mathbf{{x}_{N}})\\mathbf{\\hat{j}_{N}}$$"
      ],
      "text/plain": [
       "(-N_y) N_i + (-N_x) N_j"
      ]
     },
     "execution_count": 24,
     "metadata": {},
     "output_type": "execute_result"
    }
   ],
   "source": [
    "c_escalar=1-N.x*N.y\n",
    "delop=Del()\n",
    "gradiente=delop(c_escalar)\n",
    "gradiente.doit()"
   ]
  },
  {
   "cell_type": "markdown",
   "metadata": {},
   "source": [
    "**b) Divergencia: $\\nabla \\cdot \\vec{B}$**"
   ]
  },
  {
   "cell_type": "code",
   "execution_count": 26,
   "metadata": {},
   "outputs": [
    {
     "data": {
      "image/png": "[encoded data removed]",
      "text/latex": [
       "$$- 2 \\mathbf{{z}_{N}}$$"
      ],
      "text/plain": [
       "-2⋅N_z"
      ]
     },
     "execution_count": 26,
     "metadata": {},
     "output_type": "execute_result"
    }
   ],
   "source": [
    "c_vectorial=-(N.y**2)*N.i+(N.x**2)*N.j-(N.z**2)*N.k\n",
    "delop.dot(c_vectorial).doit()"
   ]
  },
  {
   "cell_type": "markdown",
   "metadata": {},
   "source": [
    "**c) Rotacional: $\\nabla \\times \\vec{B}$**"
   ]
  },
  {
   "cell_type": "code",
   "execution_count": 17,
   "metadata": {},
   "outputs": [
    {
     "data": {
      "image/png": "[encoded data removed]",
      "text/latex": [
       "$$(2 \\mathbf{{x}_{N}} + 2 \\mathbf{{y}_{N}})\\mathbf{\\hat{k}_{N}}$$"
      ],
      "text/plain": [
       "(2⋅N_x + 2⋅N_y) N_k"
      ]
     },
     "execution_count": 17,
     "metadata": {},
     "output_type": "execute_result"
    }
   ],
   "source": [
    "delop.cross(c_vectorial).doit()"
   ]
  },
  {
   "cell_type": "markdown",
   "metadata": {},
   "source": [
    "**d) Derivadas direccionales: $(\\nabla \\psi)\\cdot \\vec{t}$ y $(\\vec{t}\\cdot \\nabla)\\vec{B}$, donde $\\vec{t}$ es el vector cuyas componentes $t^i$ están expuestas arriba.**\n",
    "\n",
    "Calculemos primero $(\\nabla \\psi)\\cdot \\vec{t}$:"
   ]
  },
  {
   "cell_type": "code",
   "execution_count": 19,
   "metadata": {},
   "outputs": [
    {
     "data": {
      "image/png": "[encoded data removed]",
      "text/latex": [
       "$$- 0.666666666666667 \\mathbf{{x}_{N}} - 0.333333333333333 \\mathbf{{y}_{N}}$$"
      ],
      "text/plain": [
       "-0.666666666666667⋅N_x - 0.333333333333333⋅N_y"
      ]
     },
     "execution_count": 19,
     "metadata": {},
     "output_type": "execute_result"
    }
   ],
   "source": [
    "(T & delop)(c_escalar)"
   ]
  },
  {
   "cell_type": "markdown",
   "metadata": {},
   "source": [
    "Calculemos ahora $(\\vec{t}\\cdot \\nabla)\\vec{B}$:"
   ]
  },
  {
   "cell_type": "code",
   "execution_count": 28,
   "metadata": {},
   "outputs": [
    {
     "data": {
      "image/png": "[encoded data removed]",
      "text/latex": [
       "$$(- 1.33333333333333 \\mathbf{{y}_{N}})\\mathbf{\\hat{i}_{N}} + (0.666666666666667 \\mathbf{{x}_{N}})\\mathbf{\\hat{j}_{N}} + (- 2 \\mathbf{{z}_{N}})\\mathbf{\\hat{k}_{N}}$$"
      ],
      "text/plain": [
       "(-1.33333333333333⋅N_y) N_i + (0.666666666666667⋅N_x) N_j + (-2⋅N_z) N_k"
      ]
     },
     "execution_count": 28,
     "metadata": {},
     "output_type": "execute_result"
    }
   ],
   "source": [
    "(T & delop)(c_vectorial)"
   ]
  },
  {
   "cell_type": "markdown",
   "metadata": {},
   "source": [
    "**5. Calcule ahora las cantidades arriba para el sistema de coordenadas $(u,v,w)$**\n",
    "\n",
    "**a) Gradiente: $\\nabla \\psi$**"
   ]
  },
  {
   "cell_type": "code",
   "execution_count": 19,
   "metadata": {},
   "outputs": [
    {
     "data": {
      "text/latex": [
       "$$\\left[\\begin{matrix}\\frac{v}{2 \\left(u^{2} + v^{2}\\right)^{5}} \\left(u^{2} \\left(u^{2} - 3 v^{2}\\right) + \\left(u^{2} - v^{2}\\right) \\left(3 u^{2} - v^{2}\\right)\\right)\\\\\\frac{u}{4 \\left(u^{2} + v^{2}\\right)^{5}} \\left(v^{2} \\left(3 u^{2} - v^{2}\\right) - \\left(u^{2} - 3 v^{2}\\right) \\left(u^{2} - v^{2}\\right)\\right)\\\\0\\end{matrix}\\right]$$"
      ],
      "text/plain": [
       "⎡  ⎛ 2 ⎛ 2      2⎞   ⎛ 2    2⎞ ⎛   2    2⎞⎞⎤\n",
       "⎢v⋅⎝u ⋅⎝u  - 3⋅v ⎠ + ⎝u  - v ⎠⋅⎝3⋅u  - v ⎠⎠⎥\n",
       "⎢──────────────────────────────────────────⎥\n",
       "⎢                          5               ⎥\n",
       "⎢                 ⎛ 2    2⎞                ⎥\n",
       "⎢               2⋅⎝u  + v ⎠                ⎥\n",
       "⎢                                          ⎥\n",
       "⎢  ⎛ 2 ⎛   2    2⎞   ⎛ 2      2⎞ ⎛ 2    2⎞⎞⎥\n",
       "⎢u⋅⎝v ⋅⎝3⋅u  - v ⎠ - ⎝u  - 3⋅v ⎠⋅⎝u  - v ⎠⎠⎥\n",
       "⎢──────────────────────────────────────────⎥\n",
       "⎢                          5               ⎥\n",
       "⎢                 ⎛ 2    2⎞                ⎥\n",
       "⎢               4⋅⎝u  + v ⎠                ⎥\n",
       "⎢                                          ⎥\n",
       "⎣                    0                     ⎦"
      ]
     },
     "execution_count": 19,
     "metadata": {},
     "output_type": "execute_result"
    }
   ],
   "source": [
    "grad=simplify(Matriz*Matrix([-y,-x,0]))\n",
    "grad"
   ]
  },
  {
   "cell_type": "markdown",
   "metadata": {},
   "source": [
    "**b) Divergencia: $\\nabla \\cdot \\vec{B}$**"
   ]
  },
  {
   "cell_type": "code",
   "execution_count": 12,
   "metadata": {},
   "outputs": [
    {
     "data": {
      "image/png": "[encoded data removed]",
      "text/latex": [
       "$$- 2 w$$"
      ],
      "text/plain": [
       "-2⋅w"
      ]
     },
     "execution_count": 12,
     "metadata": {},
     "output_type": "execute_result"
    }
   ],
   "source": [
    "-2*z"
   ]
  },
  {
   "cell_type": "markdown",
   "metadata": {},
   "source": [
    "**c) Rotacional: $\\nabla \\times \\vec{B}$**"
   ]
  },
  {
   "cell_type": "code",
   "execution_count": 18,
   "metadata": {},
   "outputs": [
    {
     "data": {
      "text/latex": [
       "$$\\left[\\begin{matrix}0\\\\0\\\\\\frac{u^{2} + u v - v^{2}}{\\left(u^{2} + v^{2}\\right)^{2}}\\end{matrix}\\right]$$"
      ],
      "text/plain": [
       "⎡      0      ⎤\n",
       "⎢             ⎥\n",
       "⎢      0      ⎥\n",
       "⎢             ⎥\n",
       "⎢ 2          2⎥\n",
       "⎢u  + u⋅v - v ⎥\n",
       "⎢─────────────⎥\n",
       "⎢           2 ⎥\n",
       "⎢  ⎛ 2    2⎞  ⎥\n",
       "⎣  ⎝u  + v ⎠  ⎦"
      ]
     },
     "execution_count": 18,
     "metadata": {},
     "output_type": "execute_result"
    }
   ],
   "source": [
    "rot=Matrix([0,0,2*(x+y)])\n",
    "simplify(Matriz*rot)"
   ]
  },
  {
   "cell_type": "markdown",
   "metadata": {},
   "source": [
    "**d) Derivadas direccionales: $(\\nabla \\psi)\\cdot \\vec{t}$ y $(\\vec{t}\\cdot \\nabla)\\vec{B}$, donde $\\vec{t}$ es el vector cuyas componentes $t^i$ están expuestas arriba.**\n",
    "\n",
    "Determinemos primero $\\vec{t}$ en el nuevo sistema:"
   ]
  },
  {
   "cell_type": "code",
   "execution_count": 18,
   "metadata": {},
   "outputs": [
    {
     "data": {
      "text/latex": [
       "$$\\left[\\begin{matrix}- \\frac{1}{\\left(u^{2} + v^{2}\\right)^{3}} \\left(0.333333333333333 u \\left(u^{2} - 3 v^{2}\\right) + 0.666666666666667 v \\left(3 u^{2} - v^{2}\\right)\\right)\\\\\\frac{1}{\\left(u^{2} + v^{2}\\right)^{3}} \\left(0.333333333333333 u \\left(u^{2} - 3 v^{2}\\right) - 0.166666666666667 v \\left(3 u^{2} - v^{2}\\right)\\right)\\\\1\\end{matrix}\\right]$$"
      ],
      "text/plain": [
       "⎡ ⎛                    ⎛ 2      2⎞                       ⎛   2    2⎞⎞ ⎤\n",
       "⎢-⎝0.333333333333333⋅u⋅⎝u  - 3⋅v ⎠ + 0.666666666666667⋅v⋅⎝3⋅u  - v ⎠⎠ ⎥\n",
       "⎢─────────────────────────────────────────────────────────────────────⎥\n",
       "⎢                                       3                             ⎥\n",
       "⎢                              ⎛ 2    2⎞                              ⎥\n",
       "⎢                              ⎝u  + v ⎠                              ⎥\n",
       "⎢                                                                     ⎥\n",
       "⎢                      ⎛ 2      2⎞                       ⎛   2    2⎞  ⎥\n",
       "⎢  0.333333333333333⋅u⋅⎝u  - 3⋅v ⎠ - 0.166666666666667⋅v⋅⎝3⋅u  - v ⎠  ⎥\n",
       "⎢  ─────────────────────────────────────────────────────────────────  ⎥\n",
       "⎢                                       3                             ⎥\n",
       "⎢                              ⎛ 2    2⎞                              ⎥\n",
       "⎢                              ⎝u  + v ⎠                              ⎥\n",
       "⎢                                                                     ⎥\n",
       "⎣                                  1                                  ⎦"
      ]
     },
     "execution_count": 18,
     "metadata": {},
     "output_type": "execute_result"
    }
   ],
   "source": [
    "t=simplify(Matriz*T.to_matrix(N))\n",
    "t"
   ]
  },
  {
   "cell_type": "markdown",
   "metadata": {},
   "source": [
    "Calculemos ahora $(\\nabla \\psi)\\cdot \\vec{t}$:"
   ]
  },
  {
   "cell_type": "code",
   "execution_count": 22,
   "metadata": {},
   "outputs": [
    {
     "data": {
      "text/latex": [
       "$$\\left[\\begin{matrix}\\frac{1}{4 \\left(u^{2} + v^{2}\\right)^{8}} \\left(u \\left(0.333333333333333 u \\left(u^{2} - 3 v^{2}\\right) - 0.166666666666667 v \\left(3 u^{2} - v^{2}\\right)\\right) \\left(v^{2} \\left(3 u^{2} - v^{2}\\right) - \\left(u^{2} - 3 v^{2}\\right) \\left(u^{2} - v^{2}\\right)\\right) - 2 v \\left(0.333333333333333 u \\left(u^{2} - 3 v^{2}\\right) + 0.666666666666667 v \\left(3 u^{2} - v^{2}\\right)\\right) \\left(u^{2} \\left(u^{2} - 3 v^{2}\\right) + \\left(u^{2} - v^{2}\\right) \\left(3 u^{2} - v^{2}\\right)\\right)\\right)\\end{matrix}\\right]$$"
      ],
      "text/plain": [
       "⎡  ⎛                    ⎛ 2      2⎞                       ⎛   2    2⎞⎞ ⎛ 2 ⎛  \n",
       "⎢u⋅⎝0.333333333333333⋅u⋅⎝u  - 3⋅v ⎠ - 0.166666666666667⋅v⋅⎝3⋅u  - v ⎠⎠⋅⎝v ⋅⎝3⋅\n",
       "⎢─────────────────────────────────────────────────────────────────────────────\n",
       "⎢                                                                             \n",
       "⎢                                                                             \n",
       "⎣                                                                             \n",
       "\n",
       " 2    2⎞   ⎛ 2      2⎞ ⎛ 2    2⎞⎞       ⎛                    ⎛ 2      2⎞      \n",
       "u  - v ⎠ - ⎝u  - 3⋅v ⎠⋅⎝u  - v ⎠⎠ - 2⋅v⋅⎝0.333333333333333⋅u⋅⎝u  - 3⋅v ⎠ + 0.6\n",
       "──────────────────────────────────────────────────────────────────────────────\n",
       "                                         8                                    \n",
       "                                ⎛ 2    2⎞                                     \n",
       "                              4⋅⎝u  + v ⎠                                     \n",
       "\n",
       "                 ⎛   2    2⎞⎞ ⎛ 2 ⎛ 2      2⎞   ⎛ 2    2⎞ ⎛   2    2⎞⎞⎤\n",
       "66666666666667⋅v⋅⎝3⋅u  - v ⎠⎠⋅⎝u ⋅⎝u  - 3⋅v ⎠ + ⎝u  - v ⎠⋅⎝3⋅u  - v ⎠⎠⎥\n",
       "──────────────────────────────────────────────────────────────────────⎥\n",
       "                                                                      ⎥\n",
       "                                                                      ⎥\n",
       "                                                                      ⎦"
      ]
     },
     "execution_count": 22,
     "metadata": {},
     "output_type": "execute_result"
    }
   ],
   "source": [
    "simplify(grad.T*t)"
   ]
  },
  {
   "cell_type": "markdown",
   "metadata": {},
   "source": [
    "Calculemos ahora $(\\vec{t}\\cdot \\nabla)\\vec{B}$:"
   ]
  },
  {
   "cell_type": "code",
   "execution_count": 30,
   "metadata": {},
   "outputs": [
    {
     "data": {
      "text/latex": [
       "$$\\left[\\begin{matrix}- \\frac{0.333333333333333 v}{1.0 u^{6} + 3.0 u^{4} v^{2} + 3.0 u^{2} v^{4} + 1.0 v^{6}}\\\\\\frac{0.166666666666667 u}{1.0 u^{6} + 3.0 u^{4} v^{2} + 3.0 u^{2} v^{4} + 1.0 v^{6}}\\\\- 2 w\\end{matrix}\\right]$$"
      ],
      "text/plain": [
       "⎡         -0.333333333333333⋅v          ⎤\n",
       "⎢───────────────────────────────────────⎥\n",
       "⎢     6        4  2        2  4        6⎥\n",
       "⎢1.0⋅u  + 3.0⋅u ⋅v  + 3.0⋅u ⋅v  + 1.0⋅v ⎥\n",
       "⎢                                       ⎥\n",
       "⎢          0.166666666666667⋅u          ⎥\n",
       "⎢───────────────────────────────────────⎥\n",
       "⎢     6        4  2        2  4        6⎥\n",
       "⎢1.0⋅u  + 3.0⋅u ⋅v  + 3.0⋅u ⋅v  + 1.0⋅v ⎥\n",
       "⎢                                       ⎥\n",
       "⎣                 -2⋅w                  ⎦"
      ]
     },
     "execution_count": 30,
     "metadata": {},
     "output_type": "execute_result"
    }
   ],
   "source": [
    "simplify(Matriz*Matrix([-4/3*y,2/3*x,-2*z]))"
   ]
  },
  {
   "cell_type": "markdown",
   "metadata": {},
   "source": [
    "**6. Las derivadas covariantes para $\\vec{B}$ tanto en el sistema de coordenadas $(x,y,z)$ como en el $(u,v,w)$.**\n",
    "\n",
    "Calculemos primero la derivada covariante para $\\vec{B}$ en el sistema de coordenadas $(x,y,z)$:"
   ]
  },
  {
   "cell_type": "code",
   "execution_count": 41,
   "metadata": {},
   "outputs": [
    {
     "data": {
      "text/latex": [
       "$$\\left[\\begin{matrix}0 & - 2 Y & 0\\\\2 X & 0 & 0\\\\0 & 0 & - 2 Z\\end{matrix}\\right]$$"
      ],
      "text/plain": [
       "⎡ 0   -2⋅Y   0  ⎤\n",
       "⎢               ⎥\n",
       "⎢2⋅X   0     0  ⎥\n",
       "⎢               ⎥\n",
       "⎣ 0    0    -2⋅Z⎦"
      ]
     },
     "execution_count": 41,
     "metadata": {},
     "output_type": "execute_result"
    }
   ],
   "source": [
    "X,Y,Z=symbols('X Y Z')\n",
    "d_cov=Matrix([[0,-2*Y,0],[2*X,0,0],[0,0,-2*Z]])\n",
    "d_cov"
   ]
  },
  {
   "cell_type": "markdown",
   "metadata": {},
   "source": [
    "La derivada covariante para $\\vec{B}$ para el sistema $(u,v,w)$ vendría dada ahora por:"
   ]
  },
  {
   "cell_type": "code",
   "execution_count": 42,
   "metadata": {},
   "outputs": [
    {
     "data": {
      "text/latex": [
       "$$\\left[\\begin{matrix}\\frac{u v}{2 \\left(u^{2} + v^{2}\\right)^{5}} \\left(u^{2} - 3 v^{2}\\right) \\left(3 u^{2} - v^{2}\\right) \\left(4 u^{2} - u v - 4 v^{2}\\right) & \\frac{v}{2 \\left(u^{2} + v^{2}\\right)^{5}} \\left(u^{3} \\left(u^{2} - 3 v^{2}\\right)^{2} + 4 v \\left(u^{2} - v^{2}\\right) \\left(3 u^{2} - v^{2}\\right)^{2}\\right) & 0\\\\\\frac{u}{2 \\left(u^{2} + v^{2}\\right)^{5}} \\left(4 u \\left(- u^{2} + v^{2}\\right) \\left(u^{2} - 3 v^{2}\\right)^{2} - v^{3} \\left(3 u^{2} - v^{2}\\right)^{2}\\right) & \\frac{u v}{2 \\left(u^{2} + v^{2}\\right)^{5}} \\left(u^{2} - 3 v^{2}\\right) \\left(3 u^{2} - v^{2}\\right) \\left(- 4 u^{2} + u v + 4 v^{2}\\right) & 0\\\\0 & 0 & - 2 w\\end{matrix}\\right]$$"
      ],
      "text/plain": [
       "⎡                                                      ⎛              2       \n",
       "⎢     ⎛ 2      2⎞ ⎛   2    2⎞ ⎛   2            2⎞      ⎜ 3 ⎛ 2      2⎞        \n",
       "⎢ u⋅v⋅⎝u  - 3⋅v ⎠⋅⎝3⋅u  - v ⎠⋅⎝4⋅u  - u⋅v - 4⋅v ⎠    v⋅⎝u ⋅⎝u  - 3⋅v ⎠  + 4⋅v⋅\n",
       "⎢ ───────────────────────────────────────────────    ─────────────────────────\n",
       "⎢                              5                                              \n",
       "⎢                     ⎛ 2    2⎞                                          ⎛ 2  \n",
       "⎢                   2⋅⎝u  + v ⎠                                        2⋅⎝u  +\n",
       "⎢                                                                             \n",
       "⎢  ⎛                           2                 2⎞                           \n",
       "⎢  ⎜    ⎛   2    2⎞ ⎛ 2      2⎞     3 ⎛   2    2⎞ ⎟      ⎛ 2      2⎞ ⎛   2    \n",
       "⎢u⋅⎝4⋅u⋅⎝- u  + v ⎠⋅⎝u  - 3⋅v ⎠  - v ⋅⎝3⋅u  - v ⎠ ⎠  u⋅v⋅⎝u  - 3⋅v ⎠⋅⎝3⋅u  - v\n",
       "⎢──────────────────────────────────────────────────  ─────────────────────────\n",
       "⎢                              5                                              \n",
       "⎢                     ⎛ 2    2⎞                                           ⎛ 2 \n",
       "⎢                   2⋅⎝u  + v ⎠                                         2⋅⎝u  \n",
       "⎢                                                                             \n",
       "⎣                        0                                                   0\n",
       "\n",
       "                     2⎞       ⎤\n",
       "⎛ 2    2⎞ ⎛   2    2⎞ ⎟       ⎥\n",
       "⎝u  - v ⎠⋅⎝3⋅u  - v ⎠ ⎠       ⎥\n",
       "───────────────────────    0  ⎥\n",
       "    5                         ⎥\n",
       "  2⎞                          ⎥\n",
       " v ⎠                          ⎥\n",
       "                              ⎥\n",
       "                              ⎥\n",
       "2⎞ ⎛     2            2⎞      ⎥\n",
       " ⎠⋅⎝- 4⋅u  + u⋅v + 4⋅v ⎠      ⎥\n",
       "────────────────────────   0  ⎥\n",
       "     5                        ⎥\n",
       "   2⎞                         ⎥\n",
       "+ v ⎠                         ⎥\n",
       "                              ⎥\n",
       "                          -2⋅w⎦"
      ]
     },
     "execution_count": 42,
     "metadata": {},
     "output_type": "execute_result"
    }
   ],
   "source": [
    "simplify(Inv_Matriz*Matrix([[0,-2*y,0],[2*x,0,0],[0,0,-2*z]])*Matriz)"
   ]
  },
  {
   "cell_type": "markdown",
   "metadata": {},
   "source": [
    "**7. Las derivadas covariantes para $\\tilde{R}_m^k$ tanto en el sistema de coordenadas $(x,y,z)$ como en el $(u,v,w)$.**\n",
    "\n",
    "Calculemos primero la derivada covariante para $\\tilde{R}_m^k$ en el sistema de coordenadas $(x,y,z)$:"
   ]
  },
  {
   "cell_type": "code",
   "execution_count": 43,
   "metadata": {},
   "outputs": [
    {
     "data": {
      "text/latex": [
       "$$\\left[\\begin{matrix}0.5 & 0 & \\frac{Z}{2}\\\\0 & 1 & 0\\\\\\frac{Z}{2} & 3 & 4.5\\end{matrix}\\right]$$"
      ],
      "text/plain": [
       "⎡         Z ⎤\n",
       "⎢0.5  0   ─ ⎥\n",
       "⎢         2 ⎥\n",
       "⎢           ⎥\n",
       "⎢ 0   1   0 ⎥\n",
       "⎢           ⎥\n",
       "⎢ Z         ⎥\n",
       "⎢ ─   3  4.5⎥\n",
       "⎣ 2         ⎦"
      ]
     },
     "execution_count": 43,
     "metadata": {},
     "output_type": "execute_result"
    }
   ],
   "source": [
    "d_cov_R=Matrix([[1/2,0,Z/2],[0,1,0],[Z/2,3,9/2]])\n",
    "d_cov_R"
   ]
  },
  {
   "cell_type": "markdown",
   "metadata": {},
   "source": [
    "La derivada covariante para $\\tilde{R}_m^k$ para el sistema $(u,v,w)$ vendría dada ahora por:"
   ]
  },
  {
   "cell_type": "code",
   "execution_count": 44,
   "metadata": {},
   "outputs": [
    {
     "data": {
      "text/latex": [
       "$$\\left[\\begin{matrix}\\frac{1}{\\left(u^{2} + v^{2}\\right)^{3}} \\left(0.5 u^{2} \\left(u^{2} - 3 v^{2}\\right)^{2} + v^{2} \\left(3 u^{2} - v^{2}\\right)^{2}\\right) & - \\frac{0.5 u v}{\\left(u^{2} + v^{2}\\right)^{3}} \\left(u^{2} - 3 v^{2}\\right) \\left(3 u^{2} - v^{2}\\right) & \\frac{u w}{2} \\left(- u^{2} + 3 v^{2}\\right)\\\\- \\frac{0.5 u v}{\\left(u^{2} + v^{2}\\right)^{3}} \\left(u^{2} - 3 v^{2}\\right) \\left(3 u^{2} - v^{2}\\right) & \\frac{1}{\\left(u^{2} + v^{2}\\right)^{3}} \\left(u^{2} \\left(u^{2} - 3 v^{2}\\right)^{2} + 0.5 v^{2} \\left(3 u^{2} - v^{2}\\right)^{2}\\right) & \\frac{v w}{2} \\left(- 3 u^{2} + v^{2}\\right)\\\\- \\frac{1}{2 \\left(u^{2} + v^{2}\\right)^{3}} \\left(u w \\left(u^{2} - 3 v^{2}\\right) + 3 v \\left(3 u^{2} - v^{2}\\right)\\right) & \\frac{1}{2 \\left(u^{2} + v^{2}\\right)^{3}} \\left(3 u \\left(u^{2} - 3 v^{2}\\right) - v w \\left(3 u^{2} - v^{2}\\right)\\right) & 4.5\\end{matrix}\\right]$$"
      ],
      "text/plain": [
       "⎡                  2                 2                                        \n",
       "⎢     2 ⎛ 2      2⎞     2 ⎛   2    2⎞              ⎛ 2      2⎞ ⎛   2    2⎞    \n",
       "⎢0.5⋅u ⋅⎝u  - 3⋅v ⎠  + v ⋅⎝3⋅u  - v ⎠     -0.5⋅u⋅v⋅⎝u  - 3⋅v ⎠⋅⎝3⋅u  - v ⎠    \n",
       "⎢─────────────────────────────────────    ─────────────────────────────────   \n",
       "⎢                       3                                      3              \n",
       "⎢              ⎛ 2    2⎞                              ⎛ 2    2⎞               \n",
       "⎢              ⎝u  + v ⎠                              ⎝u  + v ⎠               \n",
       "⎢                                                                             \n",
       "⎢                                                     2                     2 \n",
       "⎢           ⎛ 2      2⎞ ⎛   2    2⎞      2 ⎛ 2      2⎞         2 ⎛   2    2⎞  \n",
       "⎢  -0.5⋅u⋅v⋅⎝u  - 3⋅v ⎠⋅⎝3⋅u  - v ⎠     u ⋅⎝u  - 3⋅v ⎠  + 0.5⋅v ⋅⎝3⋅u  - v ⎠  \n",
       "⎢  ─────────────────────────────────    ───────────────────────────────────── \n",
       "⎢                       3                                      3              \n",
       "⎢              ⎛ 2    2⎞                              ⎛ 2    2⎞               \n",
       "⎢              ⎝u  + v ⎠                              ⎝u  + v ⎠               \n",
       "⎢                                                                             \n",
       "⎢ ⎛    ⎛ 2      2⎞       ⎛   2    2⎞⎞         ⎛ 2      2⎞       ⎛   2    2⎞   \n",
       "⎢-⎝u⋅w⋅⎝u  - 3⋅v ⎠ + 3⋅v⋅⎝3⋅u  - v ⎠⎠     3⋅u⋅⎝u  - 3⋅v ⎠ - v⋅w⋅⎝3⋅u  - v ⎠   \n",
       "⎢─────────────────────────────────────    ─────────────────────────────────   \n",
       "⎢                        3                                      3             \n",
       "⎢               ⎛ 2    2⎞                              ⎛ 2    2⎞              \n",
       "⎣             2⋅⎝u  + v ⎠                            2⋅⎝u  + v ⎠              \n",
       "\n",
       "                  ⎤\n",
       "     ⎛   2      2⎞⎥\n",
       " u⋅w⋅⎝- u  + 3⋅v ⎠⎥\n",
       " ─────────────────⎥\n",
       "         2        ⎥\n",
       "                  ⎥\n",
       "                  ⎥\n",
       "                  ⎥\n",
       "                  ⎥\n",
       "     ⎛     2    2⎞⎥\n",
       " v⋅w⋅⎝- 3⋅u  + v ⎠⎥\n",
       " ─────────────────⎥\n",
       "         2        ⎥\n",
       "                  ⎥\n",
       "                  ⎥\n",
       "                  ⎥\n",
       "                  ⎥\n",
       "                  ⎥\n",
       "        4.5       ⎥\n",
       "                  ⎥\n",
       "                  ⎥\n",
       "                  ⎦"
      ]
     },
     "execution_count": 44,
     "metadata": {},
     "output_type": "execute_result"
    }
   ],
   "source": [
    "simplify(Inv_Matriz*Matrix([[1/2,0,z/2],[0,1,0],[z/2,3,9/2]])*Matriz)"
   ]
  },
  {
   "cell_type": "markdown",
   "metadata": {},
   "source": [
    "**8. Calcule la circulación del campo $\\vec{B}$, esto es $\\Gamma_C=\\oint_C d\\vec{r}\\cdot \\vec{B}$ a lo largo de dos trayectorias cerradas en los planos $(x,y)$ y $(u,v)$.**\n",
    "\n",
    "**a) En coordenadas cartesianas $(0,0)\\rightarrow(3,0)$ con $y=cte$, luego $(3,0)\\rightarrow(3,3)$ con $x=cte$, seguidamente de $(3,3)\\rightarrow(0,3)$ con $y=cte$, finalmente $(0,3)\\rightarrow(0,0)$ con $x=cte$.**\n",
    "\n",
    "Determinemos primero una parametrización para la curva $C$, dada por $C=C_1+C_2+C_3+C_4$:\n",
    "\n",
    "$$\\begin{aligned}C_1:& & x(t)&=3t & y(t)&=0 & z(t)&=0, & 0&\\leq t\\leq 1\\\\ C_2:& & x(t)&=3 & y(t)&=3t-3 & z(t)&=0, & 1&\\leq t\\leq 2\\\\ C_3:& & x(t)&=9-3t & y(t)&=3 & z(t)&=0, & 2&\\leq t\\leq 3\\\\ C_4:& & x(t)&=0 & y(t)&=12-3t & z(t)&=0, & 3&\\leq t\\leq 4 \\end{aligned}$$\n",
    "\n",
    "Por tanto, $C$ está dada por: \n",
    "\n",
    "$$\\vec{r}(t)=\\left\\{ \\begin{aligned} &3t\\hat{i}, &0\\leq t\\leq 1\\\\ &3\\hat{i}+(3t-3)\\hat{j}, &1\\leq t\\leq 2\\\\ &(9-3t)\\hat{i}+3\\hat{j}, &2\\leq t\\leq 3\\\\ &(12-3t)\\hat{j}, &3\\leq t\\leq 4 \\end{aligned} \\right.$$\n",
    "\n",
    "Note entonces que:\n",
    "\n",
    "$$\\begin{split}\\Gamma_C&=\\int_0^4\\vec{B}(x(t),y(t),z(t))\\cdot \\frac{d\\vec{r}}{dt}dt\\\\ &=\\int_0^1(9t^2\\hat{j})\\cdot (3\\hat{i})dt+\\int_1^2(-(3t-3)^2\\hat{i}+9\\hat{j})\\cdot (3\\hat{j})dt+\\int_2^3(-9\\hat{i}+(9-3t)^2\\hat{j})\\cdot (-3\\hat{i})dt+\\int_3^4(-(12-3t)^2\\hat{i})\\cdot (-3\\hat{j})dt\\\\ &=\\int_1^227dt+\\int_2^327dt\\\\&=27\\int_1^3dt\\\\ &=54\\end{split}$$\n",
    "\n",
    "**b) En coordenadas cardióidicas $(0,0)\\rightarrow(3,0)$ con $v=cte$, luego $(3,0)\\rightarrow(3,3)$ con $u=cte$, seguidamente de $(3,3)\\rightarrow(0,3)$ con $v=cte$, finalmente $(0,3)\\rightarrow(0,0)$ con $u=cte$.**\n",
    "\n",
    "De manera análoga al inciso anterior determinemos primero una parametrización para la curva $C$, dada por $C=C_1+C_2+C_3+C_4$:\n",
    "\n",
    "$$\\begin{aligned}C_1:& & u(t)&=3t & v(t)&=0 & w(t)&=0, & 0&\\leq t\\leq 1\\\\ C_2:& & u(t)&=3 & v(t)&=3t-3 & w(t)&=0, & 1&\\leq t\\leq 2\\\\ C_3:& & u(t)&=9-3t & v(t)&=3 & w(t)&=0, & 2&\\leq t\\leq 3\\\\ C_4:& & u(t)&=0 & v(t)&=12-3t & w(t)&=0, & 3&\\leq t\\leq 4 \\end{aligned}$$\n",
    "\n",
    "Por tanto, $C$ está dada por: \n",
    "\n",
    "$$\\vec{r}(t)=\\left\\{ \\begin{aligned} &3t\\hat{i}, &0\\leq t\\leq 1\\\\ &3\\hat{i}+(3t-3)\\hat{j}, &1\\leq t\\leq 2\\\\ &(9-3t)\\hat{i}+3\\hat{j}, &2\\leq t\\leq 3\\\\ &(12-3t)\\hat{j}, &3\\leq t\\leq 4 \\end{aligned} \\right.$$\n",
    "\n",
    "Veamos ahora como es $\\vec{B}$ en el nuevo sistema de coordenadas:"
   ]
  },
  {
   "cell_type": "code",
   "execution_count": 5,
   "metadata": {},
   "outputs": [
    {
     "data": {
      "text/latex": [
       "$$\\left[\\begin{matrix}\\frac{v}{4 \\left(u^{2} + v^{2}\\right)^{7}} \\left(u^{3} v \\left(u^{2} - 3 v^{2}\\right) - \\left(u^{2} - v^{2}\\right)^{2} \\left(3 u^{2} - v^{2}\\right)\\right)\\\\\\frac{u}{8 \\left(u^{2} + v^{2}\\right)^{7}} \\left(u v^{3} \\left(3 u^{2} - v^{2}\\right) + \\left(u^{2} - 3 v^{2}\\right) \\left(u^{2} - v^{2}\\right)^{2}\\right)\\\\- w^{2}\\end{matrix}\\right]$$"
      ],
      "text/plain": [
       "⎡  ⎛                            2            ⎞⎤\n",
       "⎢  ⎜ 3   ⎛ 2      2⎞   ⎛ 2    2⎞  ⎛   2    2⎞⎟⎥\n",
       "⎢v⋅⎝u ⋅v⋅⎝u  - 3⋅v ⎠ - ⎝u  - v ⎠ ⋅⎝3⋅u  - v ⎠⎠⎥\n",
       "⎢─────────────────────────────────────────────⎥\n",
       "⎢                            7                ⎥\n",
       "⎢                   ⎛ 2    2⎞                 ⎥\n",
       "⎢                 4⋅⎝u  + v ⎠                 ⎥\n",
       "⎢                                             ⎥\n",
       "⎢  ⎛                                        2⎞⎥\n",
       "⎢  ⎜   3 ⎛   2    2⎞   ⎛ 2      2⎞ ⎛ 2    2⎞ ⎟⎥\n",
       "⎢u⋅⎝u⋅v ⋅⎝3⋅u  - v ⎠ + ⎝u  - 3⋅v ⎠⋅⎝u  - v ⎠ ⎠⎥\n",
       "⎢─────────────────────────────────────────────⎥\n",
       "⎢                            7                ⎥\n",
       "⎢                   ⎛ 2    2⎞                 ⎥\n",
       "⎢                 8⋅⎝u  + v ⎠                 ⎥\n",
       "⎢                                             ⎥\n",
       "⎢                       2                     ⎥\n",
       "⎣                     -w                      ⎦"
      ]
     },
     "execution_count": 5,
     "metadata": {},
     "output_type": "execute_result"
    }
   ],
   "source": [
    "B=simplify(Matriz*Matrix([-y**2,x**2,-z**2]))\n",
    "B"
   ]
  },
  {
   "cell_type": "markdown",
   "metadata": {},
   "source": [
    "$\\vec{B}$ sobre $C_1$ está dado por:"
   ]
  },
  {
   "cell_type": "code",
   "execution_count": 48,
   "metadata": {},
   "outputs": [
    {
     "data": {
      "text/latex": [
       "$$\\left[\\begin{matrix}0\\\\\\frac{1}{17496 t^{7}}\\\\0\\end{matrix}\\right]$$"
      ],
      "text/plain": [
       "⎡   0    ⎤\n",
       "⎢        ⎥\n",
       "⎢   1    ⎥\n",
       "⎢────────⎥\n",
       "⎢       7⎥\n",
       "⎢17496⋅t ⎥\n",
       "⎢        ⎥\n",
       "⎣   0    ⎦"
      ]
     },
     "execution_count": 48,
     "metadata": {},
     "output_type": "execute_result"
    }
   ],
   "source": [
    "t=symbols('t')\n",
    "B.subs([(u,3*t),(v,0),(w,0)])"
   ]
  },
  {
   "cell_type": "markdown",
   "metadata": {},
   "source": [
    "$\\vec{B}$ sobre $C_2$ está dado por:"
   ]
  },
  {
   "cell_type": "code",
   "execution_count": 51,
   "metadata": {},
   "outputs": [
    {
     "data": {
      "text/latex": [
       "$$\\left[\\begin{matrix}\\frac{1}{4 \\left(\\left(3 t - 3\\right)^{2} + 9\\right)^{7}} \\left(3 t - 3\\right) \\left(27 \\left(3 t - 3\\right) \\left(- 3 \\left(3 t - 3\\right)^{2} + 9\\right) - \\left(- \\left(3 t - 3\\right)^{2} + 9\\right)^{2} \\left(- \\left(3 t - 3\\right)^{2} + 27\\right)\\right)\\\\\\frac{3}{8 \\left(\\left(3 t - 3\\right)^{2} + 9\\right)^{7}} \\left(3 \\left(3 t - 3\\right)^{3} \\left(- \\left(3 t - 3\\right)^{2} + 27\\right) + \\left(- 3 \\left(3 t - 3\\right)^{2} + 9\\right) \\left(- \\left(3 t - 3\\right)^{2} + 9\\right)^{2}\\right)\\\\0\\end{matrix}\\right]$$"
      ],
      "text/plain": [
       "⎡          ⎛                                                      2           \n",
       "⎢          ⎜             ⎛             2    ⎞   ⎛           2    ⎞  ⎛         \n",
       "⎢(3⋅t - 3)⋅⎝27⋅(3⋅t - 3)⋅⎝- 3⋅(3⋅t - 3)  + 9⎠ - ⎝- (3⋅t - 3)  + 9⎠ ⋅⎝- (3⋅t - \n",
       "⎢─────────────────────────────────────────────────────────────────────────────\n",
       "⎢                                                    7                        \n",
       "⎢                                    ⎛         2    ⎞                         \n",
       "⎢                                  4⋅⎝(3⋅t - 3)  + 9⎠                         \n",
       "⎢                                                                             \n",
       "⎢      ⎛                                                                      \n",
       "⎢      ⎜           3 ⎛           2     ⎞   ⎛             2    ⎞ ⎛           2 \n",
       "⎢    3⋅⎝3⋅(3⋅t - 3) ⋅⎝- (3⋅t - 3)  + 27⎠ + ⎝- 3⋅(3⋅t - 3)  + 9⎠⋅⎝- (3⋅t - 3)  \n",
       "⎢    ─────────────────────────────────────────────────────────────────────────\n",
       "⎢                                                    7                        \n",
       "⎢                                    ⎛         2    ⎞                         \n",
       "⎢                                  8⋅⎝(3⋅t - 3)  + 9⎠                         \n",
       "⎢                                                                             \n",
       "⎣                                           0                                 \n",
       "\n",
       "         ⎞⎤\n",
       "  2     ⎞⎟⎥\n",
       "3)  + 27⎠⎠⎥\n",
       "──────────⎥\n",
       "          ⎥\n",
       "          ⎥\n",
       "          ⎥\n",
       "          ⎥\n",
       "    2⎞    ⎥\n",
       "   ⎞ ⎟    ⎥\n",
       "+ 9⎠ ⎠    ⎥\n",
       "──────    ⎥\n",
       "          ⎥\n",
       "          ⎥\n",
       "          ⎥\n",
       "          ⎥\n",
       "          ⎦"
      ]
     },
     "execution_count": 51,
     "metadata": {},
     "output_type": "execute_result"
    }
   ],
   "source": [
    "B_j=B.subs([(u,3),(v,3*t-3),(w,0)])\n",
    "B_j"
   ]
  },
  {
   "cell_type": "markdown",
   "metadata": {},
   "source": [
    "$\\vec{B}$ sobre $C_3$ está dado por:"
   ]
  },
  {
   "cell_type": "code",
   "execution_count": 54,
   "metadata": {},
   "outputs": [
    {
     "data": {
      "text/latex": [
       "$$\\left[\\begin{matrix}\\frac{3}{4 \\left(\\left(9 t - 3\\right)^{2} + 9\\right)^{7}} \\left(3 \\left(9 t - 3\\right)^{3} \\left(\\left(9 t - 3\\right)^{2} - 27\\right) - \\left(\\left(9 t - 3\\right)^{2} - 9\\right)^{2} \\left(3 \\left(9 t - 3\\right)^{2} - 9\\right)\\right)\\\\\\frac{1}{8 \\left(\\left(9 t - 3\\right)^{2} + 9\\right)^{7}} \\left(9 t - 3\\right) \\left(27 \\left(9 t - 3\\right) \\left(3 \\left(9 t - 3\\right)^{2} - 9\\right) + \\left(\\left(9 t - 3\\right)^{2} - 27\\right) \\left(\\left(9 t - 3\\right)^{2} - 9\\right)^{2}\\right)\\\\0\\end{matrix}\\right]$$"
      ],
      "text/plain": [
       "⎡      ⎛                                                 2                   ⎞\n",
       "⎢      ⎜           3 ⎛         2     ⎞   ⎛         2    ⎞  ⎛           2    ⎞⎟\n",
       "⎢    3⋅⎝3⋅(9⋅t - 3) ⋅⎝(9⋅t - 3)  - 27⎠ - ⎝(9⋅t - 3)  - 9⎠ ⋅⎝3⋅(9⋅t - 3)  - 9⎠⎠\n",
       "⎢    ─────────────────────────────────────────────────────────────────────────\n",
       "⎢                                                 7                           \n",
       "⎢                                 ⎛         2    ⎞                            \n",
       "⎢                               4⋅⎝(9⋅t - 3)  + 9⎠                            \n",
       "⎢                                                                             \n",
       "⎢          ⎛                                                                  \n",
       "⎢          ⎜             ⎛           2    ⎞   ⎛         2     ⎞ ⎛         2   \n",
       "⎢(9⋅t - 3)⋅⎝27⋅(9⋅t - 3)⋅⎝3⋅(9⋅t - 3)  - 9⎠ + ⎝(9⋅t - 3)  - 27⎠⋅⎝(9⋅t - 3)  - \n",
       "⎢─────────────────────────────────────────────────────────────────────────────\n",
       "⎢                                                 7                           \n",
       "⎢                                 ⎛         2    ⎞                            \n",
       "⎢                               8⋅⎝(9⋅t - 3)  + 9⎠                            \n",
       "⎢                                                                             \n",
       "⎣                                        0                                    \n",
       "\n",
       "    ⎤\n",
       "    ⎥\n",
       "    ⎥\n",
       "    ⎥\n",
       "    ⎥\n",
       "    ⎥\n",
       "    ⎥\n",
       "    ⎥\n",
       "  2⎞⎥\n",
       " ⎞ ⎟⎥\n",
       "9⎠ ⎠⎥\n",
       "────⎥\n",
       "    ⎥\n",
       "    ⎥\n",
       "    ⎥\n",
       "    ⎥\n",
       "    ⎦"
      ]
     },
     "execution_count": 54,
     "metadata": {},
     "output_type": "execute_result"
    }
   ],
   "source": [
    "B_i=B.subs([(u,9*t-3),(v,3),(w,0)])\n",
    "B_i"
   ]
  },
  {
   "cell_type": "markdown",
   "metadata": {},
   "source": [
    "$\\vec{B}$ sobre $C_4$ está dado por:"
   ]
  },
  {
   "cell_type": "code",
   "execution_count": 55,
   "metadata": {},
   "outputs": [
    {
     "data": {
      "text/latex": [
       "$$\\left[\\begin{matrix}\\frac{1}{4 \\left(- 3 t + 12\\right)^{7}}\\\\0\\\\0\\end{matrix}\\right]$$"
      ],
      "text/plain": [
       "⎡      1       ⎤\n",
       "⎢──────────────⎥\n",
       "⎢             7⎥\n",
       "⎢4⋅(-3⋅t + 12) ⎥\n",
       "⎢              ⎥\n",
       "⎢      0       ⎥\n",
       "⎢              ⎥\n",
       "⎣      0       ⎦"
      ]
     },
     "execution_count": 55,
     "metadata": {},
     "output_type": "execute_result"
    }
   ],
   "source": [
    "B.subs([(u,0),(v,12-3*t),(w,0)])"
   ]
  },
  {
   "cell_type": "markdown",
   "metadata": {},
   "source": [
    "También de manera análoga al inciso anterior, podemos determinar $\\Gamma_C$:"
   ]
  },
  {
   "cell_type": "code",
   "execution_count": 58,
   "metadata": {},
   "outputs": [
    {
     "data": {
      "image/png": "[encoded data removed]",
      "text/latex": [
       "$$- \\frac{5}{279936} \\operatorname{atan}{\\left (8 \\right )} + \\frac{3121829497}{2345829174000000} + \\frac{5}{279936} \\operatorname{atan}{\\left (5 \\right )}$$"
      ],
      "text/plain": [
       "  5⋅atan(8)      3121829497      5⋅atan(5)\n",
       "- ───────── + ──────────────── + ─────────\n",
       "    279936    2345829174000000     279936 "
      ]
     },
     "execution_count": 58,
     "metadata": {},
     "output_type": "execute_result"
    }
   ],
   "source": [
    "integrate(3*B_j[1],(t,1,2))-integrate(3*B_i[0],(t,2,3))"
   ]
  },
  {
   "cell_type": "markdown",
   "metadata": {},
   "source": [
    "**c)  Calcule la circulación en ambos casos para el campo tensorial.**"
   ]
  },
  {
   "cell_type": "markdown",
   "metadata": {},
   "source": [
    "**9. Calcule el flujo del campo $\\vec{B}$, esto es $\\int_Sd\\vec{S}\\cdot \\vec{B}$.**\n",
    "\n",
    "**a) A través de una superficie definada por $x^2+y^2+z^2=4$ con $z\\geq 0$.**\n",
    "\n",
    "Dado que la superficie es una semiesfera, podemos representar el elemento de superficie y el vector normal unitario a la superfice como $dS=4\\sin(\\theta)d\\theta d\\varphi$ y $n_S=\\sin(\\theta)\\cos(\\varphi)\\hat{i}+\\sin(\\theta)\\sin(\\varphi)\\hat{j}+\\cos(\\theta)\\hat{k}$. Así, \n",
    "\n",
    "$$\\begin{split}\\vec{B}\\cdot dS&=[(-16\\sin^2(\\theta)\\sin^2(\\varphi)\\hat{i}+16\\sin^2(\\theta)\\cos^2(\\varphi)\\hat{j}-16\\cos^2(\\theta)\\hat{k})\\cdot (\\sin(\\theta)\\cos(\\varphi)\\hat{i}+\\sin(\\theta)\\sin(\\varphi)\\hat{j}+\\cos(\\theta)\\hat{k})]4\\sin(\\theta)d\\theta d\\varphi\\\\ &=[-16\\sin^3(\\theta)\\sin^2(\\varphi)\\cos(\\varphi)+16\\sin^3(\\theta)\\sin(\\varphi)\\cos^2(\\varphi)-16\\cos^3(\\theta)]4\\sin(\\theta)d\\theta d\\varphi\\\\ &=64[-\\sin^4(\\theta)\\sin^2(\\varphi)\\cos(\\varphi)+\\sin^4(\\theta)\\sin(\\varphi)\\cos^2(\\varphi)-\\sin(\\theta)\\cos^3(\\theta)]d\\theta d\\varphi\\end{split}$$\n",
    "\n",
    "Por tanto,\n",
    "\n",
    "$$\\int_Sd\\vec{S}\\cdot \\vec{B}=64\\int_0^{2\\pi}\\int_0^{\\frac{\\pi}{2}}[-\\sin^4(\\theta)\\sin^2(\\varphi)\\cos(\\varphi)+\\sin^4(\\theta)\\sin(\\varphi)\\cos^2(\\varphi)-\\sin(\\theta)\\cos^3(\\theta)]d\\theta d\\varphi=-32\\pi$$\n",
    "\n",
    "**b) A través de una superficie definada por $u^2+v^2+w^2=4$ con $w\\geq 0$.**\n",
    "\n",
    "Análogamente al inciso anterior podemos representar el elemento de superficie y el vector normal unitario a la superfice de la forma antes expuesta, sin embargo, usando las nuevas coordenadas, $\\vec{B}$ sobre la superficie se ve de la siguiente manera:"
   ]
  },
  {
   "cell_type": "code",
   "execution_count": 11,
   "metadata": {},
   "outputs": [
    {
     "data": {
      "text/latex": [
       "$$\\left[\\begin{matrix}\\frac{\\sin{\\left (\\varphi \\right )}}{65536 \\sin^{7}{\\left (\\theta \\right )}} \\left(16 \\sin^{6}{\\left (\\varphi \\right )} - 28 \\sin^{4}{\\left (\\varphi \\right )} - 4 \\sin^{3}{\\left (\\varphi \\right )} \\cos^{3}{\\left (\\varphi \\right )} + 16 \\sin^{2}{\\left (\\varphi \\right )} + \\sin{\\left (\\varphi \\right )} \\cos^{3}{\\left (\\varphi \\right )} - 3\\right)\\\\\\frac{\\cos{\\left (\\varphi \\right )}}{536870912 \\sin^{13}{\\left (\\theta \\right )}} \\left(4096 \\left(- 4 \\sin^{2}{\\left (\\varphi \\right )} + 1\\right) \\left(2 \\sin^{2}{\\left (\\varphi \\right )} - 1\\right)^{2} \\sin^{6}{\\left (\\theta \\right )} + 4096 \\left(- 4 \\sin^{2}{\\left (\\varphi \\right )} + 3\\right) \\sin^{6}{\\left (\\theta \\right )} \\sin^{3}{\\left (\\varphi \\right )} \\cos{\\left (\\varphi \\right )}\\right)\\\\- 16 \\cos^{2}{\\left (\\theta \\right )}\\end{matrix}\\right]$$"
      ],
      "text/plain": [
       "⎡    ⎛      6                 4                3            3                 \n",
       "⎢    ⎝16⋅sin (varphi) - 28⋅sin (varphi) - 4⋅sin (varphi)⋅cos (varphi) + 16⋅sin\n",
       "⎢    ─────────────────────────────────────────────────────────────────────────\n",
       "⎢                                                                     7       \n",
       "⎢                                                            65536⋅sin (θ)    \n",
       "⎢                                                                             \n",
       "⎢⎛                                                2                           \n",
       "⎢⎜     ⎛       2            ⎞ ⎛     2            ⎞     6           ⎛       2  \n",
       "⎢⎝4096⋅⎝- 4⋅sin (varphi) + 1⎠⋅⎝2⋅sin (varphi) - 1⎠ ⋅sin (θ) + 4096⋅⎝- 4⋅sin (v\n",
       "⎢─────────────────────────────────────────────────────────────────────────────\n",
       "⎢                                                                       13    \n",
       "⎢                                                          536870912⋅sin  (θ) \n",
       "⎢                                                                             \n",
       "⎢                                                                    2        \n",
       "⎣                                                             -16⋅cos (θ)     \n",
       "\n",
       "2                          3            ⎞                ⎤\n",
       " (varphi) + sin(varphi)⋅cos (varphi) - 3⎠⋅sin(varphi)    ⎥\n",
       "─────────────────────────────────────────────────────    ⎥\n",
       "                                                         ⎥\n",
       "                                                         ⎥\n",
       "                                                         ⎥\n",
       "                                            ⎞            ⎥\n",
       "          ⎞    6       3                    ⎟            ⎥\n",
       "arphi) + 3⎠⋅sin (θ)⋅sin (varphi)⋅cos(varphi)⎠⋅cos(varphi)⎥\n",
       "─────────────────────────────────────────────────────────⎥\n",
       "                                                         ⎥\n",
       "                                                         ⎥\n",
       "                                                         ⎥\n",
       "                                                         ⎥\n",
       "                                                         ⎦"
      ]
     },
     "execution_count": 11,
     "metadata": {},
     "output_type": "execute_result"
    }
   ],
   "source": [
    "theta,phi=symbols('theta varphi')\n",
    "B_t=trigsimp(B.subs([(u,4*sin(theta)*cos(phi)),(v,4*sin(theta)*sin(phi)),(w,4*cos(theta))]))\n",
    "B_t"
   ]
  },
  {
   "cell_type": "markdown",
   "metadata": {},
   "source": [
    "Por tanto, $\\int_Sd\\vec{S}\\cdot \\vec{B}$, será:"
   ]
  },
  {
   "cell_type": "code",
   "execution_count": 16,
   "metadata": {},
   "outputs": [
    {
     "ename": "KeyboardInterrupt",
     "evalue": "",
     "output_type": "error",
     "traceback": [
      "\u001b[0;31m---------------------------------------------------------------------------\u001b[0m",
      "\u001b[0;31mKeyboardInterrupt\u001b[0m                         Traceback (most recent call last)",
      "\u001b[0;32m<ipython-input-16-0f4a96469dd9>\u001b[0m in \u001b[0;36m<module>\u001b[0;34m()\u001b[0m\n\u001b[1;32m      1\u001b[0m \u001b[0minte\u001b[0m\u001b[0;34m=\u001b[0m\u001b[0mtrigsimp\u001b[0m\u001b[0;34m(\u001b[0m\u001b[0mB_t\u001b[0m\u001b[0;34m.\u001b[0m\u001b[0mT\u001b[0m\u001b[0;34m*\u001b[0m\u001b[0mMatrix\u001b[0m\u001b[0;34m(\u001b[0m\u001b[0;34m[\u001b[0m\u001b[0msin\u001b[0m\u001b[0;34m(\u001b[0m\u001b[0mtheta\u001b[0m\u001b[0;34m)\u001b[0m\u001b[0;34m*\u001b[0m\u001b[0mcos\u001b[0m\u001b[0;34m(\u001b[0m\u001b[0mphi\u001b[0m\u001b[0;34m)\u001b[0m\u001b[0;34m,\u001b[0m\u001b[0msin\u001b[0m\u001b[0;34m(\u001b[0m\u001b[0mtheta\u001b[0m\u001b[0;34m)\u001b[0m\u001b[0;34m*\u001b[0m\u001b[0msin\u001b[0m\u001b[0;34m(\u001b[0m\u001b[0mphi\u001b[0m\u001b[0;34m)\u001b[0m\u001b[0;34m,\u001b[0m\u001b[0mcos\u001b[0m\u001b[0;34m(\u001b[0m\u001b[0mtheta\u001b[0m\u001b[0;34m)\u001b[0m\u001b[0;34m]\u001b[0m\u001b[0;34m)\u001b[0m\u001b[0;34m)\u001b[0m\u001b[0;34m\u001b[0m\u001b[0m\n\u001b[0;32m----> 2\u001b[0;31m \u001b[0mintegrate\u001b[0m\u001b[0;34m(\u001b[0m\u001b[0;36m4\u001b[0m\u001b[0;34m*\u001b[0m\u001b[0msin\u001b[0m\u001b[0;34m(\u001b[0m\u001b[0mtheta\u001b[0m\u001b[0;34m)\u001b[0m\u001b[0;34m*\u001b[0m\u001b[0minte\u001b[0m\u001b[0;34m[\u001b[0m\u001b[0;36m0\u001b[0m\u001b[0;34m]\u001b[0m\u001b[0;34m,\u001b[0m\u001b[0;34m(\u001b[0m\u001b[0mtheta\u001b[0m\u001b[0;34m,\u001b[0m\u001b[0;36m0\u001b[0m\u001b[0;34m,\u001b[0m\u001b[0mpi\u001b[0m\u001b[0;34m/\u001b[0m\u001b[0;36m2\u001b[0m\u001b[0;34m)\u001b[0m\u001b[0;34m,\u001b[0m\u001b[0;34m(\u001b[0m\u001b[0mphi\u001b[0m\u001b[0;34m,\u001b[0m\u001b[0;36m0\u001b[0m\u001b[0;34m,\u001b[0m\u001b[0;36m2\u001b[0m\u001b[0;34m*\u001b[0m\u001b[0mpi\u001b[0m\u001b[0;34m)\u001b[0m\u001b[0;34m)\u001b[0m\u001b[0;34m\u001b[0m\u001b[0m\n\u001b[0m",
      "\u001b[0;32m~/anaconda3/lib/python3.6/site-packages/sympy/integrals/integrals.py\u001b[0m in \u001b[0;36mintegrate\u001b[0;34m(*args, **kwargs)\u001b[0m\n\u001b[1;32m   1293\u001b[0m     \u001b[0;32mif\u001b[0m \u001b[0misinstance\u001b[0m\u001b[0;34m(\u001b[0m\u001b[0mintegral\u001b[0m\u001b[0;34m,\u001b[0m \u001b[0mIntegral\u001b[0m\u001b[0;34m)\u001b[0m\u001b[0;34m:\u001b[0m\u001b[0;34m\u001b[0m\u001b[0m\n\u001b[1;32m   1294\u001b[0m         return integral.doit(deep=False, meijerg=meijerg, conds=conds,\n\u001b[0;32m-> 1295\u001b[0;31m                              risch=risch, manual=manual)\n\u001b[0m\u001b[1;32m   1296\u001b[0m     \u001b[0;32melse\u001b[0m\u001b[0;34m:\u001b[0m\u001b[0;34m\u001b[0m\u001b[0m\n\u001b[1;32m   1297\u001b[0m         \u001b[0;32mreturn\u001b[0m \u001b[0mintegral\u001b[0m\u001b[0;34m\u001b[0m\u001b[0m\n",
      "\u001b[0;32m~/anaconda3/lib/python3.6/site-packages/sympy/integrals/integrals.py\u001b[0m in \u001b[0;36mdoit\u001b[0;34m(self, **hints)\u001b[0m\n\u001b[1;32m    484\u001b[0m                     \u001b[0mfunction\u001b[0m\u001b[0;34m,\u001b[0m \u001b[0mxab\u001b[0m\u001b[0;34m[\u001b[0m\u001b[0;36m0\u001b[0m\u001b[0;34m]\u001b[0m\u001b[0;34m,\u001b[0m\u001b[0;34m\u001b[0m\u001b[0m\n\u001b[1;32m    485\u001b[0m                     \u001b[0mmeijerg\u001b[0m\u001b[0;34m=\u001b[0m\u001b[0mmeijerg1\u001b[0m\u001b[0;34m,\u001b[0m \u001b[0mrisch\u001b[0m\u001b[0;34m=\u001b[0m\u001b[0mrisch\u001b[0m\u001b[0;34m,\u001b[0m \u001b[0mmanual\u001b[0m\u001b[0;34m=\u001b[0m\u001b[0mmanual\u001b[0m\u001b[0;34m,\u001b[0m\u001b[0;34m\u001b[0m\u001b[0m\n\u001b[0;32m--> 486\u001b[0;31m                     conds=conds)\n\u001b[0m\u001b[1;32m    487\u001b[0m                 \u001b[0;32mif\u001b[0m \u001b[0mantideriv\u001b[0m \u001b[0;32mis\u001b[0m \u001b[0;32mNone\u001b[0m \u001b[0;32mand\u001b[0m \u001b[0mmeijerg1\u001b[0m \u001b[0;32mis\u001b[0m \u001b[0;32mTrue\u001b[0m\u001b[0;34m:\u001b[0m\u001b[0;34m\u001b[0m\u001b[0m\n\u001b[1;32m    488\u001b[0m                     \u001b[0mret\u001b[0m \u001b[0;34m=\u001b[0m \u001b[0mtry_meijerg\u001b[0m\u001b[0;34m(\u001b[0m\u001b[0mfunction\u001b[0m\u001b[0;34m,\u001b[0m \u001b[0mxab\u001b[0m\u001b[0;34m)\u001b[0m\u001b[0;34m\u001b[0m\u001b[0m\n",
      "\u001b[0;32m~/anaconda3/lib/python3.6/site-packages/sympy/integrals/integrals.py\u001b[0m in \u001b[0;36m_eval_integral\u001b[0;34m(self, f, x, meijerg, risch, manual, conds)\u001b[0m\n\u001b[1;32m    892\u001b[0m                 \u001b[0;32mtry\u001b[0m\u001b[0;34m:\u001b[0m\u001b[0;34m\u001b[0m\u001b[0m\n\u001b[1;32m    893\u001b[0m                     \u001b[0;32mif\u001b[0m \u001b[0mconds\u001b[0m \u001b[0;34m==\u001b[0m \u001b[0;34m'piecewise'\u001b[0m\u001b[0;34m:\u001b[0m\u001b[0;34m\u001b[0m\u001b[0m\n\u001b[0;32m--> 894\u001b[0;31m                         \u001b[0mh\u001b[0m \u001b[0;34m=\u001b[0m \u001b[0mheurisch_wrapper\u001b[0m\u001b[0;34m(\u001b[0m\u001b[0mg\u001b[0m\u001b[0;34m,\u001b[0m \u001b[0mx\u001b[0m\u001b[0;34m,\u001b[0m \u001b[0mhints\u001b[0m\u001b[0;34m=\u001b[0m\u001b[0;34m[\u001b[0m\u001b[0;34m]\u001b[0m\u001b[0;34m)\u001b[0m\u001b[0;34m\u001b[0m\u001b[0m\n\u001b[0m\u001b[1;32m    895\u001b[0m                     \u001b[0;32melse\u001b[0m\u001b[0;34m:\u001b[0m\u001b[0;34m\u001b[0m\u001b[0m\n\u001b[1;32m    896\u001b[0m                         \u001b[0mh\u001b[0m \u001b[0;34m=\u001b[0m \u001b[0mheurisch\u001b[0m\u001b[0;34m(\u001b[0m\u001b[0mg\u001b[0m\u001b[0;34m,\u001b[0m \u001b[0mx\u001b[0m\u001b[0;34m,\u001b[0m \u001b[0mhints\u001b[0m\u001b[0;34m=\u001b[0m\u001b[0;34m[\u001b[0m\u001b[0;34m]\u001b[0m\u001b[0;34m)\u001b[0m\u001b[0;34m\u001b[0m\u001b[0m\n",
      "\u001b[0;32m~/anaconda3/lib/python3.6/site-packages/sympy/integrals/heurisch.py\u001b[0m in \u001b[0;36mheurisch_wrapper\u001b[0;34m(f, x, rewrite, hints, mappings, retries, degree_offset, unnecessary_permutations)\u001b[0m\n\u001b[1;32m    128\u001b[0m \u001b[0;34m\u001b[0m\u001b[0m\n\u001b[1;32m    129\u001b[0m     res = heurisch(f, x, rewrite, hints, mappings, retries, degree_offset,\n\u001b[0;32m--> 130\u001b[0;31m                    unnecessary_permutations)\n\u001b[0m\u001b[1;32m    131\u001b[0m     \u001b[0;32mif\u001b[0m \u001b[0;32mnot\u001b[0m \u001b[0misinstance\u001b[0m\u001b[0;34m(\u001b[0m\u001b[0mres\u001b[0m\u001b[0;34m,\u001b[0m \u001b[0mBasic\u001b[0m\u001b[0;34m)\u001b[0m\u001b[0;34m:\u001b[0m\u001b[0;34m\u001b[0m\u001b[0m\n\u001b[1;32m    132\u001b[0m         \u001b[0;32mreturn\u001b[0m \u001b[0mres\u001b[0m\u001b[0;34m\u001b[0m\u001b[0m\n",
      "\u001b[0;32m~/anaconda3/lib/python3.6/site-packages/sympy/integrals/heurisch.py\u001b[0m in \u001b[0;36mheurisch\u001b[0;34m(f, x, rewrite, hints, mappings, retries, degree_offset, unnecessary_permutations)\u001b[0m\n\u001b[1;32m    661\u001b[0m             \u001b[0msolution\u001b[0m \u001b[0;34m=\u001b[0m \u001b[0m_integrate\u001b[0m\u001b[0;34m(\u001b[0m\u001b[0;34m)\u001b[0m\u001b[0;34m\u001b[0m\u001b[0m\n\u001b[1;32m    662\u001b[0m     \u001b[0;32melse\u001b[0m\u001b[0;34m:\u001b[0m\u001b[0;34m\u001b[0m\u001b[0m\n\u001b[0;32m--> 663\u001b[0;31m         \u001b[0msolution\u001b[0m \u001b[0;34m=\u001b[0m \u001b[0m_integrate\u001b[0m\u001b[0;34m(\u001b[0m\u001b[0;34m)\u001b[0m\u001b[0;34m\u001b[0m\u001b[0m\n\u001b[0m\u001b[1;32m    664\u001b[0m \u001b[0;34m\u001b[0m\u001b[0m\n\u001b[1;32m    665\u001b[0m     \u001b[0;32mif\u001b[0m \u001b[0msolution\u001b[0m \u001b[0;32mis\u001b[0m \u001b[0;32mnot\u001b[0m \u001b[0;32mNone\u001b[0m\u001b[0;34m:\u001b[0m\u001b[0;34m\u001b[0m\u001b[0m\n",
      "\u001b[0;32m~/anaconda3/lib/python3.6/site-packages/sympy/integrals/heurisch.py\u001b[0m in \u001b[0;36m_integrate\u001b[0;34m(field)\u001b[0m\n\u001b[1;32m    635\u001b[0m \u001b[0;34m\u001b[0m\u001b[0m\n\u001b[1;32m    636\u001b[0m         \u001b[0;32mtry\u001b[0m\u001b[0;34m:\u001b[0m\u001b[0;34m\u001b[0m\u001b[0m\n\u001b[0;32m--> 637\u001b[0;31m             \u001b[0mfind_non_syms\u001b[0m\u001b[0;34m(\u001b[0m\u001b[0mraw_numer\u001b[0m\u001b[0;34m)\u001b[0m\u001b[0;34m\u001b[0m\u001b[0m\n\u001b[0m\u001b[1;32m    638\u001b[0m         \u001b[0;32mexcept\u001b[0m \u001b[0mPolynomialError\u001b[0m\u001b[0;34m:\u001b[0m\u001b[0;34m\u001b[0m\u001b[0m\n\u001b[1;32m    639\u001b[0m             \u001b[0;32mreturn\u001b[0m \u001b[0;32mNone\u001b[0m\u001b[0;34m\u001b[0m\u001b[0m\n",
      "\u001b[0;32m~/anaconda3/lib/python3.6/site-packages/sympy/integrals/heurisch.py\u001b[0m in \u001b[0;36mfind_non_syms\u001b[0;34m(expr)\u001b[0m\n\u001b[1;32m    628\u001b[0m                 \u001b[0mnon_syms\u001b[0m\u001b[0;34m.\u001b[0m\u001b[0madd\u001b[0m\u001b[0;34m(\u001b[0m\u001b[0mexpr\u001b[0m\u001b[0;34m)\u001b[0m\u001b[0;34m\u001b[0m\u001b[0m\n\u001b[1;32m    629\u001b[0m             \u001b[0;32melif\u001b[0m \u001b[0mexpr\u001b[0m\u001b[0;34m.\u001b[0m\u001b[0mis_Add\u001b[0m \u001b[0;32mor\u001b[0m \u001b[0mexpr\u001b[0m\u001b[0;34m.\u001b[0m\u001b[0mis_Mul\u001b[0m \u001b[0;32mor\u001b[0m \u001b[0mexpr\u001b[0m\u001b[0;34m.\u001b[0m\u001b[0mis_Pow\u001b[0m\u001b[0;34m:\u001b[0m\u001b[0;34m\u001b[0m\u001b[0m\n\u001b[0;32m--> 630\u001b[0;31m                 \u001b[0mlist\u001b[0m\u001b[0;34m(\u001b[0m\u001b[0mmap\u001b[0m\u001b[0;34m(\u001b[0m\u001b[0mfind_non_syms\u001b[0m\u001b[0;34m,\u001b[0m \u001b[0mexpr\u001b[0m\u001b[0;34m.\u001b[0m\u001b[0margs\u001b[0m\u001b[0;34m)\u001b[0m\u001b[0;34m)\u001b[0m\u001b[0;34m\u001b[0m\u001b[0m\n\u001b[0m\u001b[1;32m    631\u001b[0m             \u001b[0;32melse\u001b[0m\u001b[0;34m:\u001b[0m\u001b[0;34m\u001b[0m\u001b[0m\n\u001b[1;32m    632\u001b[0m                 \u001b[0;31m# TODO: Non-polynomial expression. This should have been\u001b[0m\u001b[0;34m\u001b[0m\u001b[0;34m\u001b[0m\u001b[0m\n",
      "\u001b[0;32m~/anaconda3/lib/python3.6/site-packages/sympy/integrals/heurisch.py\u001b[0m in \u001b[0;36mfind_non_syms\u001b[0;34m(expr)\u001b[0m\n\u001b[1;32m    628\u001b[0m                 \u001b[0mnon_syms\u001b[0m\u001b[0;34m.\u001b[0m\u001b[0madd\u001b[0m\u001b[0;34m(\u001b[0m\u001b[0mexpr\u001b[0m\u001b[0;34m)\u001b[0m\u001b[0;34m\u001b[0m\u001b[0m\n\u001b[1;32m    629\u001b[0m             \u001b[0;32melif\u001b[0m \u001b[0mexpr\u001b[0m\u001b[0;34m.\u001b[0m\u001b[0mis_Add\u001b[0m \u001b[0;32mor\u001b[0m \u001b[0mexpr\u001b[0m\u001b[0;34m.\u001b[0m\u001b[0mis_Mul\u001b[0m \u001b[0;32mor\u001b[0m \u001b[0mexpr\u001b[0m\u001b[0;34m.\u001b[0m\u001b[0mis_Pow\u001b[0m\u001b[0;34m:\u001b[0m\u001b[0;34m\u001b[0m\u001b[0m\n\u001b[0;32m--> 630\u001b[0;31m                 \u001b[0mlist\u001b[0m\u001b[0;34m(\u001b[0m\u001b[0mmap\u001b[0m\u001b[0;34m(\u001b[0m\u001b[0mfind_non_syms\u001b[0m\u001b[0;34m,\u001b[0m \u001b[0mexpr\u001b[0m\u001b[0;34m.\u001b[0m\u001b[0margs\u001b[0m\u001b[0;34m)\u001b[0m\u001b[0;34m)\u001b[0m\u001b[0;34m\u001b[0m\u001b[0m\n\u001b[0m\u001b[1;32m    631\u001b[0m             \u001b[0;32melse\u001b[0m\u001b[0;34m:\u001b[0m\u001b[0;34m\u001b[0m\u001b[0m\n\u001b[1;32m    632\u001b[0m                 \u001b[0;31m# TODO: Non-polynomial expression. This should have been\u001b[0m\u001b[0;34m\u001b[0m\u001b[0;34m\u001b[0m\u001b[0m\n",
      "\u001b[0;32m~/anaconda3/lib/python3.6/site-packages/sympy/integrals/heurisch.py\u001b[0m in \u001b[0;36mfind_non_syms\u001b[0;34m(expr)\u001b[0m\n\u001b[1;32m    628\u001b[0m                 \u001b[0mnon_syms\u001b[0m\u001b[0;34m.\u001b[0m\u001b[0madd\u001b[0m\u001b[0;34m(\u001b[0m\u001b[0mexpr\u001b[0m\u001b[0;34m)\u001b[0m\u001b[0;34m\u001b[0m\u001b[0m\n\u001b[1;32m    629\u001b[0m             \u001b[0;32melif\u001b[0m \u001b[0mexpr\u001b[0m\u001b[0;34m.\u001b[0m\u001b[0mis_Add\u001b[0m \u001b[0;32mor\u001b[0m \u001b[0mexpr\u001b[0m\u001b[0;34m.\u001b[0m\u001b[0mis_Mul\u001b[0m \u001b[0;32mor\u001b[0m \u001b[0mexpr\u001b[0m\u001b[0;34m.\u001b[0m\u001b[0mis_Pow\u001b[0m\u001b[0;34m:\u001b[0m\u001b[0;34m\u001b[0m\u001b[0m\n\u001b[0;32m--> 630\u001b[0;31m                 \u001b[0mlist\u001b[0m\u001b[0;34m(\u001b[0m\u001b[0mmap\u001b[0m\u001b[0;34m(\u001b[0m\u001b[0mfind_non_syms\u001b[0m\u001b[0;34m,\u001b[0m \u001b[0mexpr\u001b[0m\u001b[0;34m.\u001b[0m\u001b[0margs\u001b[0m\u001b[0;34m)\u001b[0m\u001b[0;34m)\u001b[0m\u001b[0;34m\u001b[0m\u001b[0m\n\u001b[0m\u001b[1;32m    631\u001b[0m             \u001b[0;32melse\u001b[0m\u001b[0;34m:\u001b[0m\u001b[0;34m\u001b[0m\u001b[0m\n\u001b[1;32m    632\u001b[0m                 \u001b[0;31m# TODO: Non-polynomial expression. This should have been\u001b[0m\u001b[0;34m\u001b[0m\u001b[0;34m\u001b[0m\u001b[0m\n",
      "\u001b[0;32m~/anaconda3/lib/python3.6/site-packages/sympy/integrals/heurisch.py\u001b[0m in \u001b[0;36mfind_non_syms\u001b[0;34m(expr)\u001b[0m\n\u001b[1;32m    628\u001b[0m                 \u001b[0mnon_syms\u001b[0m\u001b[0;34m.\u001b[0m\u001b[0madd\u001b[0m\u001b[0;34m(\u001b[0m\u001b[0mexpr\u001b[0m\u001b[0;34m)\u001b[0m\u001b[0;34m\u001b[0m\u001b[0m\n\u001b[1;32m    629\u001b[0m             \u001b[0;32melif\u001b[0m \u001b[0mexpr\u001b[0m\u001b[0;34m.\u001b[0m\u001b[0mis_Add\u001b[0m \u001b[0;32mor\u001b[0m \u001b[0mexpr\u001b[0m\u001b[0;34m.\u001b[0m\u001b[0mis_Mul\u001b[0m \u001b[0;32mor\u001b[0m \u001b[0mexpr\u001b[0m\u001b[0;34m.\u001b[0m\u001b[0mis_Pow\u001b[0m\u001b[0;34m:\u001b[0m\u001b[0;34m\u001b[0m\u001b[0m\n\u001b[0;32m--> 630\u001b[0;31m                 \u001b[0mlist\u001b[0m\u001b[0;34m(\u001b[0m\u001b[0mmap\u001b[0m\u001b[0;34m(\u001b[0m\u001b[0mfind_non_syms\u001b[0m\u001b[0;34m,\u001b[0m \u001b[0mexpr\u001b[0m\u001b[0;34m.\u001b[0m\u001b[0margs\u001b[0m\u001b[0;34m)\u001b[0m\u001b[0;34m)\u001b[0m\u001b[0;34m\u001b[0m\u001b[0m\n\u001b[0m\u001b[1;32m    631\u001b[0m             \u001b[0;32melse\u001b[0m\u001b[0;34m:\u001b[0m\u001b[0;34m\u001b[0m\u001b[0m\n\u001b[1;32m    632\u001b[0m                 \u001b[0;31m# TODO: Non-polynomial expression. This should have been\u001b[0m\u001b[0;34m\u001b[0m\u001b[0;34m\u001b[0m\u001b[0m\n",
      "\u001b[0;32m~/anaconda3/lib/python3.6/site-packages/sympy/integrals/heurisch.py\u001b[0m in \u001b[0;36mfind_non_syms\u001b[0;34m(expr)\u001b[0m\n\u001b[1;32m    628\u001b[0m                 \u001b[0mnon_syms\u001b[0m\u001b[0;34m.\u001b[0m\u001b[0madd\u001b[0m\u001b[0;34m(\u001b[0m\u001b[0mexpr\u001b[0m\u001b[0;34m)\u001b[0m\u001b[0;34m\u001b[0m\u001b[0m\n\u001b[1;32m    629\u001b[0m             \u001b[0;32melif\u001b[0m \u001b[0mexpr\u001b[0m\u001b[0;34m.\u001b[0m\u001b[0mis_Add\u001b[0m \u001b[0;32mor\u001b[0m \u001b[0mexpr\u001b[0m\u001b[0;34m.\u001b[0m\u001b[0mis_Mul\u001b[0m \u001b[0;32mor\u001b[0m \u001b[0mexpr\u001b[0m\u001b[0;34m.\u001b[0m\u001b[0mis_Pow\u001b[0m\u001b[0;34m:\u001b[0m\u001b[0;34m\u001b[0m\u001b[0m\n\u001b[0;32m--> 630\u001b[0;31m                 \u001b[0mlist\u001b[0m\u001b[0;34m(\u001b[0m\u001b[0mmap\u001b[0m\u001b[0;34m(\u001b[0m\u001b[0mfind_non_syms\u001b[0m\u001b[0;34m,\u001b[0m \u001b[0mexpr\u001b[0m\u001b[0;34m.\u001b[0m\u001b[0margs\u001b[0m\u001b[0;34m)\u001b[0m\u001b[0;34m)\u001b[0m\u001b[0;34m\u001b[0m\u001b[0m\n\u001b[0m\u001b[1;32m    631\u001b[0m             \u001b[0;32melse\u001b[0m\u001b[0;34m:\u001b[0m\u001b[0;34m\u001b[0m\u001b[0m\n\u001b[1;32m    632\u001b[0m                 \u001b[0;31m# TODO: Non-polynomial expression. This should have been\u001b[0m\u001b[0;34m\u001b[0m\u001b[0;34m\u001b[0m\u001b[0m\n",
      "\u001b[0;32m~/anaconda3/lib/python3.6/site-packages/sympy/integrals/heurisch.py\u001b[0m in \u001b[0;36mfind_non_syms\u001b[0;34m(expr)\u001b[0m\n\u001b[1;32m    625\u001b[0m             \u001b[0;32melif\u001b[0m \u001b[0mexpr\u001b[0m \u001b[0;32min\u001b[0m \u001b[0msyms\u001b[0m\u001b[0;34m:\u001b[0m\u001b[0;34m\u001b[0m\u001b[0m\n\u001b[1;32m    626\u001b[0m                 \u001b[0;32mpass\u001b[0m \u001b[0;31m# ignore variables\u001b[0m\u001b[0;34m\u001b[0m\u001b[0m\n\u001b[0;32m--> 627\u001b[0;31m             \u001b[0;32melif\u001b[0m \u001b[0;32mnot\u001b[0m \u001b[0mexpr\u001b[0m\u001b[0;34m.\u001b[0m\u001b[0mhas\u001b[0m\u001b[0;34m(\u001b[0m\u001b[0;34m*\u001b[0m\u001b[0msyms\u001b[0m\u001b[0;34m)\u001b[0m\u001b[0;34m:\u001b[0m\u001b[0;34m\u001b[0m\u001b[0m\n\u001b[0m\u001b[1;32m    628\u001b[0m                 \u001b[0mnon_syms\u001b[0m\u001b[0;34m.\u001b[0m\u001b[0madd\u001b[0m\u001b[0;34m(\u001b[0m\u001b[0mexpr\u001b[0m\u001b[0;34m)\u001b[0m\u001b[0;34m\u001b[0m\u001b[0m\n\u001b[1;32m    629\u001b[0m             \u001b[0;32melif\u001b[0m \u001b[0mexpr\u001b[0m\u001b[0;34m.\u001b[0m\u001b[0mis_Add\u001b[0m \u001b[0;32mor\u001b[0m \u001b[0mexpr\u001b[0m\u001b[0;34m.\u001b[0m\u001b[0mis_Mul\u001b[0m \u001b[0;32mor\u001b[0m \u001b[0mexpr\u001b[0m\u001b[0;34m.\u001b[0m\u001b[0mis_Pow\u001b[0m\u001b[0;34m:\u001b[0m\u001b[0;34m\u001b[0m\u001b[0m\n",
      "\u001b[0;32m~/anaconda3/lib/python3.6/site-packages/sympy/core/basic.py\u001b[0m in \u001b[0;36mhas\u001b[0;34m(self, *patterns)\u001b[0m\n\u001b[1;32m   1170\u001b[0m \u001b[0;34m\u001b[0m\u001b[0m\n\u001b[1;32m   1171\u001b[0m         \"\"\"\n\u001b[0;32m-> 1172\u001b[0;31m         \u001b[0;32mreturn\u001b[0m \u001b[0many\u001b[0m\u001b[0;34m(\u001b[0m\u001b[0mself\u001b[0m\u001b[0;34m.\u001b[0m\u001b[0m_has\u001b[0m\u001b[0;34m(\u001b[0m\u001b[0mpattern\u001b[0m\u001b[0;34m)\u001b[0m \u001b[0;32mfor\u001b[0m \u001b[0mpattern\u001b[0m \u001b[0;32min\u001b[0m \u001b[0mpatterns\u001b[0m\u001b[0;34m)\u001b[0m\u001b[0;34m\u001b[0m\u001b[0m\n\u001b[0m\u001b[1;32m   1173\u001b[0m \u001b[0;34m\u001b[0m\u001b[0m\n\u001b[1;32m   1174\u001b[0m     \u001b[0;32mdef\u001b[0m \u001b[0m_has\u001b[0m\u001b[0;34m(\u001b[0m\u001b[0mself\u001b[0m\u001b[0;34m,\u001b[0m \u001b[0mpattern\u001b[0m\u001b[0;34m)\u001b[0m\u001b[0;34m:\u001b[0m\u001b[0;34m\u001b[0m\u001b[0m\n",
      "\u001b[0;32m~/anaconda3/lib/python3.6/site-packages/sympy/core/basic.py\u001b[0m in \u001b[0;36m<genexpr>\u001b[0;34m(.0)\u001b[0m\n\u001b[1;32m   1170\u001b[0m \u001b[0;34m\u001b[0m\u001b[0m\n\u001b[1;32m   1171\u001b[0m         \"\"\"\n\u001b[0;32m-> 1172\u001b[0;31m         \u001b[0;32mreturn\u001b[0m \u001b[0many\u001b[0m\u001b[0;34m(\u001b[0m\u001b[0mself\u001b[0m\u001b[0;34m.\u001b[0m\u001b[0m_has\u001b[0m\u001b[0;34m(\u001b[0m\u001b[0mpattern\u001b[0m\u001b[0;34m)\u001b[0m \u001b[0;32mfor\u001b[0m \u001b[0mpattern\u001b[0m \u001b[0;32min\u001b[0m \u001b[0mpatterns\u001b[0m\u001b[0;34m)\u001b[0m\u001b[0;34m\u001b[0m\u001b[0m\n\u001b[0m\u001b[1;32m   1173\u001b[0m \u001b[0;34m\u001b[0m\u001b[0m\n\u001b[1;32m   1174\u001b[0m     \u001b[0;32mdef\u001b[0m \u001b[0m_has\u001b[0m\u001b[0;34m(\u001b[0m\u001b[0mself\u001b[0m\u001b[0;34m,\u001b[0m \u001b[0mpattern\u001b[0m\u001b[0;34m)\u001b[0m\u001b[0;34m:\u001b[0m\u001b[0;34m\u001b[0m\u001b[0m\n",
      "\u001b[0;32m~/anaconda3/lib/python3.6/site-packages/sympy/core/basic.py\u001b[0m in \u001b[0;36m_has\u001b[0;34m(self, pattern)\u001b[0m\n\u001b[1;32m   1186\u001b[0m         \u001b[0;32mtry\u001b[0m\u001b[0;34m:\u001b[0m\u001b[0;34m\u001b[0m\u001b[0m\n\u001b[1;32m   1187\u001b[0m             \u001b[0mmatch\u001b[0m \u001b[0;34m=\u001b[0m \u001b[0mpattern\u001b[0m\u001b[0;34m.\u001b[0m\u001b[0m_has_matcher\u001b[0m\u001b[0;34m(\u001b[0m\u001b[0;34m)\u001b[0m\u001b[0;34m\u001b[0m\u001b[0m\n\u001b[0;32m-> 1188\u001b[0;31m             \u001b[0;32mreturn\u001b[0m \u001b[0many\u001b[0m\u001b[0;34m(\u001b[0m\u001b[0mmatch\u001b[0m\u001b[0;34m(\u001b[0m\u001b[0marg\u001b[0m\u001b[0;34m)\u001b[0m \u001b[0;32mfor\u001b[0m \u001b[0marg\u001b[0m \u001b[0;32min\u001b[0m \u001b[0mpreorder_traversal\u001b[0m\u001b[0;34m(\u001b[0m\u001b[0mself\u001b[0m\u001b[0;34m)\u001b[0m\u001b[0;34m)\u001b[0m\u001b[0;34m\u001b[0m\u001b[0m\n\u001b[0m\u001b[1;32m   1189\u001b[0m         \u001b[0;32mexcept\u001b[0m \u001b[0mAttributeError\u001b[0m\u001b[0;34m:\u001b[0m\u001b[0;34m\u001b[0m\u001b[0m\n\u001b[1;32m   1190\u001b[0m             \u001b[0;32mreturn\u001b[0m \u001b[0many\u001b[0m\u001b[0;34m(\u001b[0m\u001b[0marg\u001b[0m \u001b[0;34m==\u001b[0m \u001b[0mpattern\u001b[0m \u001b[0;32mfor\u001b[0m \u001b[0marg\u001b[0m \u001b[0;32min\u001b[0m \u001b[0mpreorder_traversal\u001b[0m\u001b[0;34m(\u001b[0m\u001b[0mself\u001b[0m\u001b[0;34m)\u001b[0m\u001b[0;34m)\u001b[0m\u001b[0;34m\u001b[0m\u001b[0m\n",
      "\u001b[0;32m~/anaconda3/lib/python3.6/site-packages/sympy/core/basic.py\u001b[0m in \u001b[0;36m<genexpr>\u001b[0;34m(.0)\u001b[0m\n\u001b[1;32m   1186\u001b[0m         \u001b[0;32mtry\u001b[0m\u001b[0;34m:\u001b[0m\u001b[0;34m\u001b[0m\u001b[0m\n\u001b[1;32m   1187\u001b[0m             \u001b[0mmatch\u001b[0m \u001b[0;34m=\u001b[0m \u001b[0mpattern\u001b[0m\u001b[0;34m.\u001b[0m\u001b[0m_has_matcher\u001b[0m\u001b[0;34m(\u001b[0m\u001b[0;34m)\u001b[0m\u001b[0;34m\u001b[0m\u001b[0m\n\u001b[0;32m-> 1188\u001b[0;31m             \u001b[0;32mreturn\u001b[0m \u001b[0many\u001b[0m\u001b[0;34m(\u001b[0m\u001b[0mmatch\u001b[0m\u001b[0;34m(\u001b[0m\u001b[0marg\u001b[0m\u001b[0;34m)\u001b[0m \u001b[0;32mfor\u001b[0m \u001b[0marg\u001b[0m \u001b[0;32min\u001b[0m \u001b[0mpreorder_traversal\u001b[0m\u001b[0;34m(\u001b[0m\u001b[0mself\u001b[0m\u001b[0;34m)\u001b[0m\u001b[0;34m)\u001b[0m\u001b[0;34m\u001b[0m\u001b[0m\n\u001b[0m\u001b[1;32m   1189\u001b[0m         \u001b[0;32mexcept\u001b[0m \u001b[0mAttributeError\u001b[0m\u001b[0;34m:\u001b[0m\u001b[0;34m\u001b[0m\u001b[0m\n\u001b[1;32m   1190\u001b[0m             \u001b[0;32mreturn\u001b[0m \u001b[0many\u001b[0m\u001b[0;34m(\u001b[0m\u001b[0marg\u001b[0m \u001b[0;34m==\u001b[0m \u001b[0mpattern\u001b[0m \u001b[0;32mfor\u001b[0m \u001b[0marg\u001b[0m \u001b[0;32min\u001b[0m \u001b[0mpreorder_traversal\u001b[0m\u001b[0;34m(\u001b[0m\u001b[0mself\u001b[0m\u001b[0;34m)\u001b[0m\u001b[0;34m)\u001b[0m\u001b[0;34m\u001b[0m\u001b[0m\n",
      "\u001b[0;32m~/anaconda3/lib/python3.6/site-packages/sympy/core/basic.py\u001b[0m in \u001b[0;36m__next__\u001b[0;34m(self)\u001b[0m\n\u001b[1;32m   1899\u001b[0m \u001b[0;34m\u001b[0m\u001b[0m\n\u001b[1;32m   1900\u001b[0m     \u001b[0;32mdef\u001b[0m \u001b[0m__next__\u001b[0m\u001b[0;34m(\u001b[0m\u001b[0mself\u001b[0m\u001b[0;34m)\u001b[0m\u001b[0;34m:\u001b[0m\u001b[0;34m\u001b[0m\u001b[0m\n\u001b[0;32m-> 1901\u001b[0;31m         \u001b[0;32mreturn\u001b[0m \u001b[0mnext\u001b[0m\u001b[0;34m(\u001b[0m\u001b[0mself\u001b[0m\u001b[0;34m.\u001b[0m\u001b[0m_pt\u001b[0m\u001b[0;34m)\u001b[0m\u001b[0;34m\u001b[0m\u001b[0m\n\u001b[0m\u001b[1;32m   1902\u001b[0m \u001b[0;34m\u001b[0m\u001b[0m\n\u001b[1;32m   1903\u001b[0m     \u001b[0;32mdef\u001b[0m \u001b[0m__iter__\u001b[0m\u001b[0;34m(\u001b[0m\u001b[0mself\u001b[0m\u001b[0;34m)\u001b[0m\u001b[0;34m:\u001b[0m\u001b[0;34m\u001b[0m\u001b[0m\n",
      "\u001b[0;32m~/anaconda3/lib/python3.6/site-packages/sympy/core/basic.py\u001b[0m in \u001b[0;36m_preorder_traversal\u001b[0;34m(self, node, keys)\u001b[0m\n\u001b[1;32m   1858\u001b[0m             \u001b[0;32mreturn\u001b[0m\u001b[0;34m\u001b[0m\u001b[0m\n\u001b[1;32m   1859\u001b[0m         \u001b[0;32mif\u001b[0m \u001b[0misinstance\u001b[0m\u001b[0;34m(\u001b[0m\u001b[0mnode\u001b[0m\u001b[0;34m,\u001b[0m \u001b[0mBasic\u001b[0m\u001b[0;34m)\u001b[0m\u001b[0;34m:\u001b[0m\u001b[0;34m\u001b[0m\u001b[0m\n\u001b[0;32m-> 1860\u001b[0;31m             \u001b[0;32mif\u001b[0m \u001b[0;32mnot\u001b[0m \u001b[0mkeys\u001b[0m \u001b[0;32mand\u001b[0m \u001b[0mhasattr\u001b[0m\u001b[0;34m(\u001b[0m\u001b[0mnode\u001b[0m\u001b[0;34m,\u001b[0m \u001b[0;34m'_argset'\u001b[0m\u001b[0;34m)\u001b[0m\u001b[0;34m:\u001b[0m\u001b[0;34m\u001b[0m\u001b[0m\n\u001b[0m\u001b[1;32m   1861\u001b[0m                 \u001b[0;31m# LatticeOp keeps args as a set. We should use this if we\u001b[0m\u001b[0;34m\u001b[0m\u001b[0;34m\u001b[0m\u001b[0m\n\u001b[1;32m   1862\u001b[0m                 \u001b[0;31m# don't care about the order, to prevent unnecessary sorting.\u001b[0m\u001b[0;34m\u001b[0m\u001b[0;34m\u001b[0m\u001b[0m\n",
      "\u001b[0;31mKeyboardInterrupt\u001b[0m: "
     ]
    }
   ],
   "source": [
    "inte=trigsimp(B_t.T*Matrix([sin(theta)*cos(phi),sin(theta)*sin(phi),cos(theta)]))\n",
    "integrate(4*sin(theta)*inte[0],(theta,0,pi/2),(phi,0,2*pi))"
   ]
  },
  {
   "cell_type": "markdown",
   "metadata": {},
   "source": [
    "**c) Calcule el flujo, en ambos casos, del campo tensorial.**"
   ]
  }
 ],
 "metadata": {
  "kernelspec": {
   "display_name": "Python 3",
   "language": "python",
   "name": "python3"
  },
  "language_info": {
   "codemirror_mode": {
    "name": "ipython",
    "version": 3
   },
   "file_extension": ".py",
   "mimetype": "text/x-python",
   "name": "python",
   "nbconvert_exporter": "python",
   "pygments_lexer": "ipython3",
   "version": "3.6.4"
  }
 },
 "nbformat": 4,
 "nbformat_minor": 2
}
