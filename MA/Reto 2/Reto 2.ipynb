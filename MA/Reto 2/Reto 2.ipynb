{
 "cells": [
  {
   "cell_type": "markdown",
   "metadata": {},
   "source": [
    "# Reto #2 (Autovalores y Autovectores)"
   ]
  },
  {
   "cell_type": "code",
   "execution_count": 1,
   "metadata": {},
   "outputs": [],
   "source": [
    "import numpy as np\n",
    "import matplotlib.pyplot as plt\n",
    "import pandas as pd"
   ]
  },
  {
   "cell_type": "markdown",
   "metadata": {},
   "source": [
    "### 1) Consideremos un sistema conformado por $n$ partículas de masas distintas masas dispersas en un volumen, tal y como muestra el archivo de datos:"
   ]
  },
  {
   "cell_type": "code",
   "execution_count": 2,
   "metadata": {},
   "outputs": [
    {
     "data": {
      "text/html": [
       "<div>\n",
       "<style scoped>\n",
       "    .dataframe tbody tr th:only-of-type {\n",
       "        vertical-align: middle;\n",
       "    }\n",
       "\n",
       "    .dataframe tbody tr th {\n",
       "        vertical-align: top;\n",
       "    }\n",
       "\n",
       "    .dataframe thead th {\n",
       "        text-align: right;\n",
       "    }\n",
       "</style>\n",
       "<table border=\"1\" class=\"dataframe\">\n",
       "  <thead>\n",
       "    <tr style=\"text-align: right;\">\n",
       "      <th></th>\n",
       "      <th>particula</th>\n",
       "      <th>masas</th>\n",
       "      <th>x</th>\n",
       "      <th>y</th>\n",
       "      <th>z</th>\n",
       "    </tr>\n",
       "  </thead>\n",
       "  <tbody>\n",
       "    <tr>\n",
       "      <th>0</th>\n",
       "      <td>1</td>\n",
       "      <td>2.0</td>\n",
       "      <td>-53.0</td>\n",
       "      <td>79.0</td>\n",
       "      <td>-91.0</td>\n",
       "    </tr>\n",
       "    <tr>\n",
       "      <th>1</th>\n",
       "      <td>2</td>\n",
       "      <td>2.0</td>\n",
       "      <td>13.0</td>\n",
       "      <td>-142.0</td>\n",
       "      <td>-177.0</td>\n",
       "    </tr>\n",
       "    <tr>\n",
       "      <th>2</th>\n",
       "      <td>3</td>\n",
       "      <td>2.0</td>\n",
       "      <td>-109.0</td>\n",
       "      <td>-103.0</td>\n",
       "      <td>-120.0</td>\n",
       "    </tr>\n",
       "    <tr>\n",
       "      <th>3</th>\n",
       "      <td>4</td>\n",
       "      <td>2.0</td>\n",
       "      <td>4.0</td>\n",
       "      <td>-96.0</td>\n",
       "      <td>110.0</td>\n",
       "    </tr>\n",
       "    <tr>\n",
       "      <th>4</th>\n",
       "      <td>5</td>\n",
       "      <td>4.0</td>\n",
       "      <td>222.0</td>\n",
       "      <td>-22.0</td>\n",
       "      <td>-236.0</td>\n",
       "    </tr>\n",
       "  </tbody>\n",
       "</table>\n",
       "</div>"
      ],
      "text/plain": [
       "   particula  masas      x      y      z\n",
       "0          1    2.0  -53.0   79.0  -91.0\n",
       "1          2    2.0   13.0 -142.0 -177.0\n",
       "2          3    2.0 -109.0 -103.0 -120.0\n",
       "3          4    2.0    4.0  -96.0  110.0\n",
       "4          5    4.0  222.0  -22.0 -236.0"
      ]
     },
     "execution_count": 2,
     "metadata": {},
     "output_type": "execute_result"
    }
   ],
   "source": [
    "datos=pd.read_csv(\"datosmasas.csv\")\n",
    "datos.head()"
   ]
  },
  {
   "cell_type": "markdown",
   "metadata": {},
   "source": [
    "#### a) Primero, consideremos el caso 2D –la distribución se realiza en el plano $xy$– y encuentre los tres primeros momentos para esta distribución de masas.\n",
    "##### **Momento de orden cero**"
   ]
  },
  {
   "cell_type": "code",
   "execution_count": 3,
   "metadata": {},
   "outputs": [
    {
     "data": {
      "text/plain": [
       "4627.0"
      ]
     },
     "execution_count": 3,
     "metadata": {},
     "output_type": "execute_result"
    }
   ],
   "source": [
    "datos_array=datos.values\n",
    "M0=np.sum(datos_array[:,1],axis=0)\n",
    "M0"
   ]
  },
  {
   "cell_type": "markdown",
   "metadata": {},
   "source": [
    "Así, $\\mu_0(v)=\\displaystyle \\sum_{i=1}^N v_i=4627$, donde $N$ es el número total de partículas, corresponde al momento de orden cero.\n",
    "##### **Momento de orden uno**\n",
    "Calculemos primero la media de los datos:"
   ]
  },
  {
   "cell_type": "code",
   "execution_count": 4,
   "metadata": {},
   "outputs": [
    {
     "name": "stdout",
     "output_type": "stream",
     "text": [
      "[821.97390737 775.87018917]\n"
     ]
    }
   ],
   "source": [
    "Media=np.mean(datos_array[:,2:4],axis=0)\n",
    "print(Media)"
   ]
  },
  {
   "cell_type": "markdown",
   "metadata": {},
   "source": [
    "Entonces $(\\bar{x})=\\displaystyle \\frac{1}{N}\\sum_{i=1}^N (x)_i=(821.97,775.87)$."
   ]
  },
  {
   "cell_type": "code",
   "execution_count": 5,
   "metadata": {},
   "outputs": [
    {
     "name": "stdout",
     "output_type": "stream",
     "text": [
      "[17773.73059361  4850.6347032 ]\n"
     ]
    }
   ],
   "source": [
    "M1=np.zeros(2)\n",
    "for i in range(datos_array.shape[0]):\n",
    "    M1=M1+((datos_array[i,1])*((datos_array[i,2:4])-Media))\n",
    "print(M1)"
   ]
  },
  {
   "cell_type": "markdown",
   "metadata": {},
   "source": [
    "Por tanto, $\\mu_1(v)=\\displaystyle\\sum_{i=1}^N v_i[(x)_i-(\\bar{x})]=(17773.73,4850.63)$, corresponde al momento de orden uno.\n",
    "##### **Momento de orden dos**"
   ]
  },
  {
   "cell_type": "code",
   "execution_count": 6,
   "metadata": {},
   "outputs": [
    {
     "name": "stdout",
     "output_type": "stream",
     "text": [
      "[[3.54320110e+09 3.37707826e+09]\n",
      " [3.37707826e+09 3.57033659e+09]]\n"
     ]
    }
   ],
   "source": [
    "M2=np.zeros((2,2))\n",
    "for i in range(0,2):\n",
    "    for j in range(0,2):\n",
    "        for k in range(datos_array.shape[0]):\n",
    "            M2[i,j]=M2[i,j]+((datos_array[k,1]*((datos_array[k,2:4])[i]-Media[i]))*(datos_array[k,1]*((datos_array[k,2:4])[j]-Media[j])))\n",
    "print(M2)"
   ]
  },
  {
   "cell_type": "markdown",
   "metadata": {},
   "source": [
    "De esta forma, $$\\mu_2(v)=\\sum_{i=1}^N v_i[(x)_i-(\\bar{x})]^2=\\begin{pmatrix} 3.54\\times 10^9 & 3.38\\times 10^9\\\\ 3.38\\times 10^9 & 3.57\\times 10^9\\end{pmatrix}\\text{, corresponde al momento de orden dos.}$$\n",
    "##### **¿Los vectores base del sistema cartesiano constituyen una base propia para esta distribución de masa?Esto es: ¿Los vectores cartesianos son autovectores del tensor momento de inercia?**\n",
    "Veamos cuales son los autovectores de la matriz antes calculada:"
   ]
  },
  {
   "cell_type": "code",
   "execution_count": 7,
   "metadata": {},
   "outputs": [
    {
     "data": {
      "text/plain": [
       "(array([1.79663330e+08, 6.93387436e+09]), array([[-0.70852578, -0.70568493],\n",
       "        [ 0.70568493, -0.70852578]]))"
      ]
     },
     "execution_count": 7,
     "metadata": {},
     "output_type": "execute_result"
    }
   ],
   "source": [
    "A=np.linalg.eig(M2)\n",
    "A"
   ]
  },
  {
   "cell_type": "markdown",
   "metadata": {},
   "source": [
    "Note que los autovectores del tensor momento de inercia son:\n",
    "\n",
    "$$v_1=(-0.71, 0.71) \\quad v_2=(-0.71, -0.71)$$\n",
    "\n",
    "Por tanto, los vectores cartesianos no son autovectores del tensor momento de inercia.\n",
    "##### **Encuentre los ejes principales de inercia para esta distribución de masas. Esto es aquellos vectores propios del tensor de inercia, que forma una base ortogonal respecto a la cual la distribución de las masas se organiza de forma mas simple.**\n",
    "Los ejes principales de inercia para esta distribución de masas son:\n",
    "\n",
    "$$v_1=(-0.71, 0.71) \\quad v_2=(-0.71, -0.71)$$\n",
    "\n",
    "Que son los vectores propios del tensor de inercia.\n",
    "##### **Encuentre la matriz de transformación de la base cartesiana a la base de autovectores conformada por los ejes principales.**\n",
    "La matriz de transformación de la base cartesiana a la base de autovectores, notada con $M$, esta dada por:\n",
    "\n",
    "$$M=\\begin{pmatrix} -0.71 & -0.71 \\\\ 0.71 & -0.71\\end{pmatrix}$$"
   ]
  },
  {
   "cell_type": "markdown",
   "metadata": {},
   "source": [
    "#### b) Considere ahora el caso 3D y encuentre los tres primeros momentos para esta distribución de masas.\n",
    "##### **Momento de orden cero**"
   ]
  },
  {
   "cell_type": "markdown",
   "metadata": {},
   "source": [
    "Dado que consideramos las mismas partículas pero con una coordenada adicional, las masas serán las mismas. Así, $\\mu_0(v)=\\displaystyle \\sum_{i=1}^N v_i=4627$, corresponde al momento de orden cero.\n",
    "##### **Momento de orden uno**\n",
    "Calculemos primero la media de los datos:"
   ]
  },
  {
   "cell_type": "code",
   "execution_count": 8,
   "metadata": {},
   "outputs": [
    {
     "name": "stdout",
     "output_type": "stream",
     "text": [
      "[821.97390737 775.87018917  15.06327462]\n"
     ]
    }
   ],
   "source": [
    "Media=np.mean(datos_array[:,2:5],axis=0)\n",
    "print(Media)"
   ]
  },
  {
   "cell_type": "markdown",
   "metadata": {},
   "source": [
    "Entonces $(\\bar{x})=\\displaystyle \\frac{1}{N}\\sum_{i=1}^N (x)_i=(821.97,775.87,15.06)$."
   ]
  },
  {
   "cell_type": "code",
   "execution_count": 9,
   "metadata": {},
   "outputs": [
    {
     "name": "stdout",
     "output_type": "stream",
     "text": [
      "[17773.73059361  4850.6347032   2036.2283105 ]\n"
     ]
    }
   ],
   "source": [
    "M1=np.zeros(3)\n",
    "for i in range(datos_array.shape[0]):\n",
    "    M1=M1+((datos_array[i,1])*((datos_array[i,2:5])-Media))\n",
    "print(M1)"
   ]
  },
  {
   "cell_type": "markdown",
   "metadata": {},
   "source": [
    "Por tanto, $\\mu_1(v)=\\displaystyle\\sum_{i=1}^N v_i[(x)_i-(\\bar{x})]=(17773.73,4850.63,2036.23)$, corresponde al momento de orden uno.\n",
    "##### **Momento de orden dos**"
   ]
  },
  {
   "cell_type": "code",
   "execution_count": 10,
   "metadata": {},
   "outputs": [
    {
     "name": "stdout",
     "output_type": "stream",
     "text": [
      "[[ 3.54320110e+09  3.37707826e+09 -3.20127639e+07]\n",
      " [ 3.37707826e+09  3.57033659e+09 -8.41983944e+06]\n",
      " [-3.20127639e+07 -8.41983944e+06  3.69780860e+08]]\n"
     ]
    }
   ],
   "source": [
    "M2=np.zeros((3,3))\n",
    "for i in range(0,3):\n",
    "    for j in range(0,3):\n",
    "        for k in range(datos_array.shape[0]):\n",
    "            M2[i,j]=M2[i,j]+((datos_array[k,1]*((datos_array[k,2:5])[i]-Media[i]))*(datos_array[k,1]*((datos_array[k,2:5])[j]-Media[j])))\n",
    "print(M2)"
   ]
  },
  {
   "cell_type": "markdown",
   "metadata": {},
   "source": [
    "De esta forma, $$\\mu_2(v)=\\sum_{i=1}^N v_i[(x)_i-(\\bar{x})]^2=\\begin{pmatrix} 3.54\\times 10^9 & 3.38\\times 10^9 & -3.2\\times 10^7\\\\ 3.38\\times 10^9 & 3.57\\times 10^9 & -8.42\\times 10^6\\\\ -3.2\\times 10^7 & -8.42\\times 10^6 & 3.7\\times 10^8\\end{pmatrix}\\text{, corresponde al momento de orden dos.}$$\n",
    "##### **¿Los vectores base del sistema cartesiano constituyen una base propia para esta distribución de masa?Esto es: ¿Los vectores cartesianos son autovectores del tensor momento de inercia?**\n",
    "Veamos cuales son los autovectores de la matriz antes calculada:"
   ]
  },
  {
   "cell_type": "code",
   "execution_count": 11,
   "metadata": {},
   "outputs": [
    {
     "data": {
      "text/plain": [
       "(array([6.93399859e+09, 1.78199678e+08, 3.71120280e+08]),\n",
       " array([[ 0.70568589,  0.70609276, -0.05865524],\n",
       "        [ 0.70851147, -0.70274202,  0.06453803],\n",
       "        [-0.00435033,  0.08710149,  0.99618994]]))"
      ]
     },
     "execution_count": 11,
     "metadata": {},
     "output_type": "execute_result"
    }
   ],
   "source": [
    "A=np.linalg.eig(M2)\n",
    "A"
   ]
  },
  {
   "cell_type": "markdown",
   "metadata": {},
   "source": [
    "Note que los autovectores del tensor momento de inercia son:\n",
    "\n",
    "$$v_1=(0.706, 0.708,-0.004) \\quad v_2=(0.706, -0.703,0.087) \\quad v_3=(-0.059, 0.064,0.996)$$\n",
    "\n",
    "Por tanto, los vectores cartesianos no son autovectores del tensor momento de inercia.\n",
    "##### **Encuentre los ejes principales de inercia para esta distribución de masas. Esto es aquellos vectores propios del tensor de inercia, que forma una base ortogonal respecto a la cual la distribución de las masas se organiza de forma mas simple.**\n",
    "Los ejes principales de inercia para esta distribución de masas son:\n",
    "\n",
    "$$v_1=(0.706, 0.708,-0.004) \\quad v_2=(0.706, -0.703,0.087) \\quad v_3=(-0.059, 0.064,0.996)$$ \n",
    "\n",
    "Que son los vectores propios del tensor de inercia.\n",
    "##### **Encuentre la matriz de transformación de la base cartesiana a la base de autovectores conformada por los ejes principales.**\n",
    "La matriz de transformación de la base cartesiana a la base de autovectores, notada con $N$, esta dada por: \n",
    "\n",
    "$$N=\\begin{pmatrix} 0.706 &  0.706 & -0.059\\\\ 0.708 & -0.703 & 0.064\\\\ -0.004 & 0.087 & 0.996\\end{pmatrix}$$"
   ]
  },
  {
   "cell_type": "markdown",
   "metadata": {},
   "source": [
    "### 2) El [Banco Mundial](https://data.worldbank.org) mantiene una estadı́stica de los datos económicos de casi todos los paı́ses. En particular estamos interesados en calcular la matriz de covariancia del % del producto interno bruto (GDP) que se ha empleado en el paı́s en los últimos 10 años en \n",
    "* Defensa \n",
    "* Salud \n",
    "* Educación \n",
    "* Ciencia y tecnología \n",
    "\n",
    "### La siguiente tabla muestra la información antes mencionada:"
   ]
  },
  {
   "cell_type": "code",
   "execution_count": 12,
   "metadata": {},
   "outputs": [
    {
     "data": {
      "text/html": [
       "<div>\n",
       "<style scoped>\n",
       "    .dataframe tbody tr th:only-of-type {\n",
       "        vertical-align: middle;\n",
       "    }\n",
       "\n",
       "    .dataframe tbody tr th {\n",
       "        vertical-align: top;\n",
       "    }\n",
       "\n",
       "    .dataframe thead th {\n",
       "        text-align: right;\n",
       "    }\n",
       "</style>\n",
       "<table border=\"1\" class=\"dataframe\">\n",
       "  <thead>\n",
       "    <tr style=\"text-align: right;\">\n",
       "      <th></th>\n",
       "      <th>Categoría</th>\n",
       "      <th>2006</th>\n",
       "      <th>2007</th>\n",
       "      <th>2008</th>\n",
       "      <th>2009</th>\n",
       "      <th>2010</th>\n",
       "      <th>2011</th>\n",
       "      <th>2012</th>\n",
       "      <th>2013</th>\n",
       "      <th>2014</th>\n",
       "      <th>2015</th>\n",
       "    </tr>\n",
       "  </thead>\n",
       "  <tbody>\n",
       "    <tr>\n",
       "      <th>0</th>\n",
       "      <td>Military expenditure (% of GDP)</td>\n",
       "      <td>3.27613</td>\n",
       "      <td>3.26674</td>\n",
       "      <td>3.70974</td>\n",
       "      <td>3.86329</td>\n",
       "      <td>3.63115</td>\n",
       "      <td>3.07278</td>\n",
       "      <td>3.16678</td>\n",
       "      <td>3.28882</td>\n",
       "      <td>3.13223</td>\n",
       "      <td>3.13089</td>\n",
       "    </tr>\n",
       "    <tr>\n",
       "      <th>1</th>\n",
       "      <td>Current health expenditure (% of GDP)</td>\n",
       "      <td>5.73355</td>\n",
       "      <td>5.73759</td>\n",
       "      <td>6.02977</td>\n",
       "      <td>6.39277</td>\n",
       "      <td>6.14411</td>\n",
       "      <td>5.942</td>\n",
       "      <td>6.10247</td>\n",
       "      <td>6.01406</td>\n",
       "      <td>6.40277</td>\n",
       "      <td>6.19133</td>\n",
       "    </tr>\n",
       "    <tr>\n",
       "      <th>2</th>\n",
       "      <td>Government expenditure on education, total (% ...</td>\n",
       "      <td>3.89332</td>\n",
       "      <td>4.0587</td>\n",
       "      <td>3.9098</td>\n",
       "      <td>4.74743</td>\n",
       "      <td>4.82616</td>\n",
       "      <td>4.45981</td>\n",
       "      <td>4.38531</td>\n",
       "      <td>4.90324</td>\n",
       "      <td>4.66516</td>\n",
       "      <td>4.50048</td>\n",
       "    </tr>\n",
       "    <tr>\n",
       "      <th>3</th>\n",
       "      <td>Research and development expenditure (% of GDP)</td>\n",
       "      <td>0.14857</td>\n",
       "      <td>0.17704</td>\n",
       "      <td>0.19289</td>\n",
       "      <td>0.18956</td>\n",
       "      <td>0.18933</td>\n",
       "      <td>0.20294</td>\n",
       "      <td>0.21867</td>\n",
       "      <td>0.27318</td>\n",
       "      <td>0.25053</td>\n",
       "      <td>0.24177</td>\n",
       "    </tr>\n",
       "  </tbody>\n",
       "</table>\n",
       "</div>"
      ],
      "text/plain": [
       "                                           Categoría     2006     2007  \\\n",
       "0                    Military expenditure (% of GDP)  3.27613  3.26674   \n",
       "1              Current health expenditure (% of GDP)  5.73355  5.73759   \n",
       "2  Government expenditure on education, total (% ...  3.89332   4.0587   \n",
       "3    Research and development expenditure (% of GDP)  0.14857  0.17704   \n",
       "\n",
       "      2008     2009     2010     2011     2012     2013     2014     2015  \n",
       "0  3.70974  3.86329  3.63115  3.07278  3.16678  3.28882  3.13223  3.13089  \n",
       "1  6.02977  6.39277  6.14411    5.942  6.10247  6.01406  6.40277  6.19133  \n",
       "2   3.9098  4.74743  4.82616  4.45981  4.38531  4.90324  4.66516  4.50048  \n",
       "3  0.19289  0.18956  0.18933  0.20294  0.21867  0.27318  0.25053  0.24177  "
      ]
     },
     "execution_count": 12,
     "metadata": {},
     "output_type": "execute_result"
    }
   ],
   "source": [
    "col=[2]\n",
    "for i in range (50,60):\n",
    "    col.append(i)\n",
    "datos_m=pd.read_csv(\"M.csv\",skiprows=3,usecols=col)\n",
    "datos_m_arr=datos_m.values\n",
    "dat=[datos_m_arr[43,:]]\n",
    "datos_h=pd.read_csv(\"H.csv\",skiprows=3,usecols=col)\n",
    "datos_h_arr=datos_h.values\n",
    "dat.append(datos_h_arr[43,:])\n",
    "datos_e=pd.read_csv(\"E.csv\",skiprows=3,usecols=col)\n",
    "datos_e_arr=datos_e.values\n",
    "dat.append(datos_e_arr[43,:])\n",
    "datos_st=pd.read_csv(\"S&T.csv\",skiprows=3,usecols=col)\n",
    "datos_st_arr=datos_st.values\n",
    "dat.append(datos_st_arr[569,:])\n",
    "data=np.array(dat)\n",
    "c=['Categoría','2006','2007','2008','2009','2010','2011','2012','2013','2014','2015']\n",
    "data_tab=pd.DataFrame(data,columns=c)\n",
    "data_tab.head()"
   ]
  },
  {
   "cell_type": "markdown",
   "metadata": {},
   "source": [
    "Procedamos a normalizar estos datos. Primero calculemos la media:"
   ]
  },
  {
   "cell_type": "code",
   "execution_count": 13,
   "metadata": {},
   "outputs": [
    {
     "name": "stdout",
     "output_type": "stream",
     "text": [
      "[3.3538563060538444 6.069042602 4.434941053390502 0.20844799999999997]\n"
     ]
    }
   ],
   "source": [
    "Media=np.mean(data[:,1:],axis=1)\n",
    "print(Media)"
   ]
  },
  {
   "cell_type": "markdown",
   "metadata": {},
   "source": [
    "Entonces $(\\bar{x})=\\displaystyle \\frac{1}{N}\\sum_{i=1}^N (x)_i=(3.35,6.07,4.43,0.20)$. Calculemos ahora la desviación estándar:"
   ]
  },
  {
   "cell_type": "code",
   "execution_count": 14,
   "metadata": {},
   "outputs": [
    {
     "name": "stdout",
     "output_type": "stream",
     "text": [
      "[0.26339456 0.21931719 0.35228782 0.03569657]\n"
     ]
    }
   ],
   "source": [
    "Des=np.std(data[:,1:],axis=1,dtype=np.float64)\n",
    "print(Des)"
   ]
  },
  {
   "cell_type": "markdown",
   "metadata": {},
   "source": [
    "Así, $$(\\sigma)=\\sqrt{\\frac{1}{N}\\sum_{i=1}^N [(x)_i-(\\bar{x})]^2}=(0.26,0.22,0.35,0.04)$$\n",
    "Ahora ya podemos normalizar los datos:"
   ]
  },
  {
   "cell_type": "code",
   "execution_count": 15,
   "metadata": {},
   "outputs": [
    {
     "data": {
      "text/html": [
       "<div>\n",
       "<style scoped>\n",
       "    .dataframe tbody tr th:only-of-type {\n",
       "        vertical-align: middle;\n",
       "    }\n",
       "\n",
       "    .dataframe tbody tr th {\n",
       "        vertical-align: top;\n",
       "    }\n",
       "\n",
       "    .dataframe thead th {\n",
       "        text-align: right;\n",
       "    }\n",
       "</style>\n",
       "<table border=\"1\" class=\"dataframe\">\n",
       "  <thead>\n",
       "    <tr style=\"text-align: right;\">\n",
       "      <th></th>\n",
       "      <th>Categoría</th>\n",
       "      <th>2006</th>\n",
       "      <th>2007</th>\n",
       "      <th>2008</th>\n",
       "      <th>2009</th>\n",
       "      <th>2010</th>\n",
       "      <th>2011</th>\n",
       "      <th>2012</th>\n",
       "      <th>2013</th>\n",
       "      <th>2014</th>\n",
       "      <th>2015</th>\n",
       "    </tr>\n",
       "  </thead>\n",
       "  <tbody>\n",
       "    <tr>\n",
       "      <th>0</th>\n",
       "      <td>Military expenditure (% of GDP)</td>\n",
       "      <td>-0.295092</td>\n",
       "      <td>-0.330746</td>\n",
       "      <td>1.35116</td>\n",
       "      <td>1.93413</td>\n",
       "      <td>1.05276</td>\n",
       "      <td>-1.06712</td>\n",
       "      <td>-0.710262</td>\n",
       "      <td>-0.246899</td>\n",
       "      <td>-0.841432</td>\n",
       "      <td>-0.846501</td>\n",
       "    </tr>\n",
       "    <tr>\n",
       "      <th>1</th>\n",
       "      <td>Current health expenditure (% of GDP)</td>\n",
       "      <td>-1.52969</td>\n",
       "      <td>-1.51129</td>\n",
       "      <td>-0.179084</td>\n",
       "      <td>1.47607</td>\n",
       "      <td>0.342271</td>\n",
       "      <td>-0.579258</td>\n",
       "      <td>0.15242</td>\n",
       "      <td>-0.250689</td>\n",
       "      <td>1.52168</td>\n",
       "      <td>0.557572</td>\n",
       "    </tr>\n",
       "    <tr>\n",
       "      <th>2</th>\n",
       "      <td>Government expenditure on education, total (% ...</td>\n",
       "      <td>-1.53744</td>\n",
       "      <td>-1.06799</td>\n",
       "      <td>-1.49066</td>\n",
       "      <td>0.887027</td>\n",
       "      <td>1.11051</td>\n",
       "      <td>0.0705921</td>\n",
       "      <td>-0.140882</td>\n",
       "      <td>1.32931</td>\n",
       "      <td>0.653497</td>\n",
       "      <td>0.186039</td>\n",
       "    </tr>\n",
       "    <tr>\n",
       "      <th>3</th>\n",
       "      <td>Research and development expenditure (% of GDP)</td>\n",
       "      <td>-1.67742</td>\n",
       "      <td>-0.87986</td>\n",
       "      <td>-0.43584</td>\n",
       "      <td>-0.529126</td>\n",
       "      <td>-0.53557</td>\n",
       "      <td>-0.154301</td>\n",
       "      <td>0.286358</td>\n",
       "      <td>1.8134</td>\n",
       "      <td>1.17888</td>\n",
       "      <td>0.933479</td>\n",
       "    </tr>\n",
       "  </tbody>\n",
       "</table>\n",
       "</div>"
      ],
      "text/plain": [
       "                                           Categoría      2006      2007  \\\n",
       "0                    Military expenditure (% of GDP) -0.295092 -0.330746   \n",
       "1              Current health expenditure (% of GDP)  -1.52969  -1.51129   \n",
       "2  Government expenditure on education, total (% ...  -1.53744  -1.06799   \n",
       "3    Research and development expenditure (% of GDP)  -1.67742  -0.87986   \n",
       "\n",
       "       2008      2009      2010       2011      2012      2013      2014  \\\n",
       "0   1.35116   1.93413   1.05276   -1.06712 -0.710262 -0.246899 -0.841432   \n",
       "1 -0.179084   1.47607  0.342271  -0.579258   0.15242 -0.250689   1.52168   \n",
       "2  -1.49066  0.887027   1.11051  0.0705921 -0.140882   1.32931  0.653497   \n",
       "3  -0.43584 -0.529126  -0.53557  -0.154301  0.286358    1.8134   1.17888   \n",
       "\n",
       "       2015  \n",
       "0 -0.846501  \n",
       "1  0.557572  \n",
       "2  0.186039  \n",
       "3  0.933479  "
      ]
     },
     "execution_count": 15,
     "metadata": {},
     "output_type": "execute_result"
    }
   ],
   "source": [
    "for i in range(4):\n",
    "    for j in range(1,11):\n",
    "        data[i,j]=(data[i,j]-Media[i])/Des[i]\n",
    "data_tab=pd.DataFrame(data,columns=c)\n",
    "data_tab.head()"
   ]
  },
  {
   "cell_type": "markdown",
   "metadata": {},
   "source": [
    "#### a) Calcule la matriz de covariancia y la matriz de correlación entre estos parámetros.\n",
    "La matriz de covariancia (y en este caso por normalizar, la de correlación), notada con $Cov$, no es más que el momento de orden dos, entonces:"
   ]
  },
  {
   "cell_type": "code",
   "execution_count": 16,
   "metadata": {},
   "outputs": [
    {
     "name": "stdout",
     "output_type": "stream",
     "text": [
      "[[ 1.          0.27439244  0.06667021 -0.36587082]\n",
      " [ 0.27439244  1.          0.66247632  0.50021603]\n",
      " [ 0.06667021  0.66247632  1.          0.6407579 ]\n",
      " [-0.36587082  0.50021603  0.6407579   1.        ]]\n"
     ]
    }
   ],
   "source": [
    "#Calculamos la media para los datos normalizados\n",
    "Media=np.mean(data[:,1:],axis=1)\n",
    "#Procedemos a calcular la matriz de covarianza\n",
    "Cov=np.zeros((4,4))\n",
    "for i in range(0,4):\n",
    "    for j in range(0,4):\n",
    "        for k in range(1,11):\n",
    "            Cov[i,j]=Cov[i,j]+(((data[:,k])[i]-Media[i])*((data[:,k])[j]-Media[j]))\n",
    "print(Cov/10)"
   ]
  },
  {
   "cell_type": "markdown",
   "metadata": {},
   "source": [
    "$$Cov=\\begin{pmatrix}1 & 0.27 & 0.07 & -0.37\\\\0.27 & 1 & 0.66 & 0.50\\\\0.07 & 0.66 & 1 & 0.64\\\\ -0.37 & 0.50 & 0.64 & 1\\end{pmatrix}$$\n",
    "#### b) Para la matriz de covariancia, en este espacio de parámetros, queremos encontrar sus autovalores y autovectores. Discuta el significado de los autovalores y autovectores de esta matriz."
   ]
  },
  {
   "cell_type": "code",
   "execution_count": 17,
   "metadata": {},
   "outputs": [
    {
     "data": {
      "text/plain": [
       "(array([2.20508758, 1.27459528, 0.21461142, 0.30570572]),\n",
       " array([[ 0.00777696,  0.85948193, -0.48636246, -0.1571047 ],\n",
       "        [-0.56421672,  0.32146577,  0.33920291,  0.68063253],\n",
       "        [-0.60717915,  0.07233199,  0.34770792, -0.71077476],\n",
       "        [-0.55940369, -0.39079234, -0.72628654,  0.08280526]]))"
      ]
     },
     "execution_count": 17,
     "metadata": {},
     "output_type": "execute_result"
    }
   ],
   "source": [
    "A=np.linalg.eig(Cov/10)\n",
    "A"
   ]
  },
  {
   "cell_type": "markdown",
   "metadata": {},
   "source": [
    "Los autovectores de la matriz de covarianza son:\n",
    "\n",
    "$$\\lambda_1=2.20 \\quad \\lambda_2=1.27 \\quad \\lambda_3=0.21 \\quad \\lambda_4=0.31$$\n",
    "\n",
    "Los autovectores de la matriz de covarianza son:\n",
    "\n",
    "$$\\begin{aligned} v_1&=(0.008,-0.56,-0.61,-0.56) & v_2&=(0.86,0.32,0.07,-0.39) \\\\ v_3&=(-0.49,0.34,0.35,-0.73) & v_4&=(-0.16,0.68,-0.71,0.08)\\end{aligned}$$\n",
    "\n",
    "Con los autovectores de la matriz de covarianza podemos formar un nuevo sistema de referencia en el espacio de paramétros, para el cual los datos del problema se encuentran mejor distribuidos. Con los autovalores de la matriz de covarianza es posible representar las varianzas de cada paramétro una vez que esta matriz sea representada en la base anterior de autovectores. Por otro lado, note que la matriz de correlación podemos verla de la siguiente manera:\n",
    "\n",
    "|               | **Defensa** | **Salud ** | **Educación** | **Ciencia ** | \n",
    "| :-----------: | :---------: | :--------: | :-----------: | :----------: |\n",
    "|  **Defensa**  |      1      |    0.27    |      0.07     |    -0.37     | \n",
    "|   **Salud**   |    0.27     |     1      |      0.66     |     0.50     |\n",
    "| **Educación** |    0.07     |    0.66    |       1       |     0.64     |\n",
    "|  **Ciencia**  |   -0.37     |    0.50    |      0.64     |      1       |\n",
    "\n",
    "Se observa entonces que la mayoría de correlaciones entre los paramétros son positivas excepto para la relación Defensa-Ciencia y tecnología, esto quiere decir que a medida que aumenta el porcentaje de PIB nacional destinado a la defensa, disminuye el porcentaje del PIB destinado a la ciencia y tecnología. Caso contrario ocurre con las relaciones Defensa-Salud y Defensa-Educación, en las cuales a medida que aumenta el porcentaje de PIB destinado a la defensa, aumenta el porcentaje del PIB destinado a la salud y educación.\n",
    "\n",
    "#### c) Encuentre la matriz de transformación que nos lleva de la matriz en la base original a la representación de la matriz en la base de autovalores y autovectores.\n",
    "La matriz de transformación, notada con $T$, esta dada por: \n",
    "\n",
    "$$T=\\begin{pmatrix} 0.008 &  0.86 & -0.49 &-0.16\\\\ -0.56 & 0.32 & 0.34 & 0.68\\\\ -0.61 & 0.07 & 0.35 & -0.71\\\\ -0.56 & -0.39 & -0.73 & 0.08\\end{pmatrix}$$"
   ]
  }
 ],
 "metadata": {
  "kernelspec": {
   "display_name": "Python 3",
   "language": "python",
   "name": "python3"
  },
  "language_info": {
   "codemirror_mode": {
    "name": "ipython",
    "version": 3
   },
   "file_extension": ".py",
   "mimetype": "text/x-python",
   "name": "python",
   "nbconvert_exporter": "python",
   "pygments_lexer": "ipython3",
   "version": "3.6.4"
  }
 },
 "nbformat": 4,
 "nbformat_minor": 2
}
