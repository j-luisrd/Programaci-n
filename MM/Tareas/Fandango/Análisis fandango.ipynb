{
 "cells": [
  {
   "cell_type": "markdown",
   "metadata": {},
   "source": [
    "# Podemos confiar en los rankings de películas online?\n",
    "\n",
    "La industria del cine se ha convertido en los últimos años en uno de los negocios más lucrativos a nivel mundial y en ella juegan un papel importante los rankings de películas online. Los rankings clasifican las películas películas de acuerdo a ciertos criterios para dar un veredicto de que tan \"buena\" o \"mala\" es dicha película. En teoría, estos rankings serían de gran ayuda a la hora de decidir qué película ver en cualquier ocasión, sin embargo, como muestra Walt Hickey en su [artículo](https://fivethirtyeight.com/features/fandango-movies-ratings/) \"_Be Suspicious Of Online Movie Ratings, Especially Fandango’s_\" parece que no sería una buena idea guiarse de ellos.\n",
    "\n",
    "Hickey centra su artículo en _Fandango_, una subsidiaria de de NBCUniversal que usa un ranking de 5 estrellas para clasificar las películas y hay dos razones que pueden justificar esta escogencia:\n",
    "1. Al parecer, ninguna película es \"mala\" para _Fandango_.\n",
    "2. A diferencia de otros sitios que elaboran _ratings_ de películas, _Fandango_ tiene una conexión directa con la industria cinematográfica: vende boletas de cine directamente a los usuarios.\n",
    "\n",
    "La primera razón se puede evidenciar en el siguiente [gráfico](https://github.com/j-luisrd/Programaci-n/blob/master/MM/Tareas/Fandango/Gr-ficas/G%C5%95aficos%20fandango.ipynb):\n",
    "\n",
    "![G1](https://github.com/j-luisrd/Programaci-n/blob/master/MM/Tareas/Fandango/Gr-ficas/g1.jpg?raw=true)\n",
    "\n",
    "Como podemos ver, ninguna película tiene menos de 2.5 estrellas y más del 70% de estas tienen 4 o más estrellas de clasificación. Esto es un poco sospechoso teniendo en cuenta las distintas películas que se lanzaron en el año 2015 y las distintas críticas que tuvieron. \n",
    "Por esto, comparamos este ranking de _Fandango_ con los rankings de otros sitios de críticas cinematográficas en este [gráfico](https://github.com/j-luisrd/Programaci-n/blob/master/MM/Tareas/Fandango/Gr-ficas/G%C5%95aficos%20fandango.ipynb):\n",
    "\n",
    "![G2](https://github.com/j-luisrd/Programaci-n/blob/master/MM/Tareas/Fandango/Gr-ficas/g2.jpg?raw=true)\n",
    "\n",
    "Note que las calificaciones de _IMDb_, _Metacritic_ y _Rotten Tomatoes_ se encuentran aproximadamente en el mismo rango, lo que muestra que las puntuaciones presentes en _Fandango_ superan con creces las puntuaciones en los sitios antes mencionados para las mismas películas. Puede haber muchas razones para que esto suceda. Hickey mostró en su artículo que una de las razones era el redondeo que hacía _Fandango_ para muchas de sus películas y que en algunos casos las subía desde 0.5 hasta 1 estrella de más.\n",
    "\n",
    "Otra de las razones para que esto suceda puede ser la cantidad de votos que reciben las películas en estos sitios especializados. Tomando los votos de los usuarios en las películas consideradas por _IMDb_, _Metacritic_ y _Fandango_ para el año 2015 tenemos el siguiente [gráfico](https://github.com/j-luisrd/Programaci-n/blob/master/MM/Tareas/Fandango/Gr-ficas/G%C5%95aficos%20fandango.ipynb):\n",
    "\n",
    "![G3](https://github.com/j-luisrd/Programaci-n/blob/master/MM/Tareas/Fandango/Gr-ficas/g3.jpg?raw=true)\n",
    "\n",
    "Podemos ver que ningun usuario de _Fandango_ puntuó alguna película con menos de 2.5 estrellas, incluso, más del 60% de los votos puntuan películas entre 4 y 5 estrellas. Caso contrario ocurre con _IMDb_ y _Metacritic_ donde la mayoría de los votos situan películas entre 3 y 4.5 estrellas, y existen una cantidad considerable de votos que puntuan películas entre 1 y 3 estrellas.\n",
    "## Entonces, podemos confiar en los rankings de películas online?\n",
    "Sin duda, los rankings de películas online proponen ser una guía a la hora de elegir películas con base en cierta clasificación. Sin embargo, como se mostró aquí y Hickey en su artículo, para el caso de _Fandango_ puede que no sea una buena idea. Y no es necesariamente por \"inflar\" la clasificación, como en el caso de _Fandango_, sino porque a fin de cuentas los rankings online se basan en opiniones subjetivas para clasificarlas (ya sea de expertos o no).\n",
    "\n",
    "Puede que a veces nuestras opiniones coincidan con las del público general pero esto no sucede en todas las ocasiones, más aún en el contexto del séptimo arte. Por esto, en el único ranking cinematográfico en el que podemos confiar al 100% es el que hagamos nosotros mismos en el ejercicio de apreciar cada película.\n",
    "\n",
    "______________________________________________________________________________________________\n",
    "\n",
    "_Puede ver nuevamente el artículo [aquí](https://fivethirtyeight.com/features/fandango-movies-ratings/)_.\n",
    "_Puede ver nuevamente como se hicieron los gráficos [aquí](https://github.com/j-luisrd/Programaci-n/blob/master/MM/Tareas/Fandango/Gr-ficas/G%C5%95aficos%20fandango.ipynb)_."
   ]
  }
 ],
 "metadata": {
  "kernelspec": {
   "display_name": "Python 3",
   "language": "python",
   "name": "python3"
  },
  "language_info": {
   "codemirror_mode": {
    "name": "ipython",
    "version": 3
   },
   "file_extension": ".py",
   "mimetype": "text/x-python",
   "name": "python",
   "nbconvert_exporter": "python",
   "pygments_lexer": "ipython3",
   "version": "3.6.4"
  }
 },
 "nbformat": 4,
 "nbformat_minor": 2
}
