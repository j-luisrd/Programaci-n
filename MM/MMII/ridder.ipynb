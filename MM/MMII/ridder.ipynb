{
 "cells": [
  {
   "cell_type": "code",
   "execution_count": 1,
   "metadata": {},
   "outputs": [],
   "source": [
    "import math\n",
    "from numpy import sign\n",
    "\n",
    "def ridder(f,a,b,tol=1.0e-9):\n",
    "    \"root=ridder(f,a,b,tol=1.0e-9). \\n Encuentra la raíz de f(x) con el método de Ridder. \\nLa raíz debe estar acotada en (a,b).\"\n",
    "    fa = f(a)\n",
    "    if fa == 0.0: return a\n",
    "    fb = f(b)\n",
    "    if fb == 0.0: return b\n",
    "    for i in range(30):\n",
    "        #Calcula la raíz mejorada x con la fórmula de Ridder\n",
    "        c = 0.5*(a + b); fc = f(c)\n",
    "        s = math.sqrt(fc**2 - fa*fb)\n",
    "        if s == 0.0: return None\n",
    "        dx = (c - a)*fc/s\n",
    "        if (fa - fb) < 0.0: dx = -dx\n",
    "        x = c + dx; fx = f(x)\n",
    "        #Prueba de convergencia\n",
    "        if i > 0:\n",
    "            if abs(x - xOld) < tol*max(abs(x),1.0): return x\n",
    "        xOld = x\n",
    "        #Re-acota la raíz lo más cerca posible\n",
    "        if sign(fc) == sign(fx):\n",
    "            if sign(fa)!= sign(fx): b = x; fb = fx\n",
    "            else: a = x; fa = fx\n",
    "        else:\n",
    "            a = c; b = x; fa = fc; fb = fx\n",
    "    return None \n",
    "    print('Muchas iteraciones')"
   ]
  },
  {
   "cell_type": "markdown",
   "metadata": {},
   "source": [
    "### Ejemplo 12\n",
    "Determina las raíces de $f(x)=x^3-10x^2+5$ que yacen en $(0.6,0.8)$ con el método de Ridder."
   ]
  },
  {
   "cell_type": "code",
   "execution_count": 2,
   "metadata": {},
   "outputs": [
    {
     "name": "stdout",
     "output_type": "stream",
     "text": [
      "Raíz = 0.7346035077893032\n"
     ]
    }
   ],
   "source": [
    "def f(x): return x**3 - 10*x**2 + 5\n",
    "print(\"Raíz =\",ridder(f,0.6,0.8))"
   ]
  },
  {
   "cell_type": "markdown",
   "metadata": {},
   "source": [
    "### Ejercicio 8\n",
    "Determina las raíces de $f(x)=x^3-10x^2+5$ que yacen en $(0.6,0.8)$ con el método de Ridder."
   ]
  },
  {
   "cell_type": "code",
   "execution_count": 3,
   "metadata": {},
   "outputs": [
    {
     "name": "stdout",
     "output_type": "stream",
     "text": [
      "Raíz = 0.6840945657036893\n"
     ]
    }
   ],
   "source": [
    "def f(x): return x**3 + 10*x**2 - 5\n",
    "print(\"Raíz =\",ridder(f,0.6,0.8))"
   ]
  },
  {
   "cell_type": "markdown",
   "metadata": {},
   "source": [
    "### Ejemplo 13\n",
    "Computa el cero de la función $$f(x)=\\frac{1}{(x-0.3)^2+0.01}-\\frac{1}{(x-0.8)^2+0.04}$$\n",
    "Que yace en (0,1)."
   ]
  },
  {
   "cell_type": "code",
   "execution_count": 4,
   "metadata": {},
   "outputs": [
    {
     "name": "stdout",
     "output_type": "stream",
     "text": [
      "Raíz = 0.5800000000000001\n"
     ]
    }
   ],
   "source": [
    "def f(x): \n",
    "    a=(x-0.3)**2+0.01\n",
    "    b=(x-0.8)**2+0.04\n",
    "    return 1.0/a - 1.0/b\n",
    "print(\"Raíz =\",ridder(f,0.0,1.0))"
   ]
  }
 ],
 "metadata": {
  "kernelspec": {
   "display_name": "Python 3",
   "language": "python",
   "name": "python3"
  },
  "language_info": {
   "codemirror_mode": {
    "name": "ipython",
    "version": 3
   },
   "file_extension": ".py",
   "mimetype": "text/x-python",
   "name": "python",
   "nbconvert_exporter": "python",
   "pygments_lexer": "ipython3",
   "version": "3.6.4"
  }
 },
 "nbformat": 4,
 "nbformat_minor": 2
}
