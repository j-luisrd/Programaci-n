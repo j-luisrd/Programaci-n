{
 "cells": [
  {
   "cell_type": "markdown",
   "metadata": {},
   "source": [
    "### Ejemplo 30\n",
    "Escríbimos las funciones que encuentran las dos primeras derivadas por aproximación en diferencias finitas:"
   ]
  },
  {
   "cell_type": "code",
   "execution_count": 38,
   "metadata": {},
   "outputs": [],
   "source": [
    "def df1(x,h,s):\n",
    "    \"Regresa la aproximación por diferencias finitas para la primera derivada en un x dado con h dado. \\n s=0, si se usa una aproximación central.\\n s=-1, si se usa una aproximación no central hacia atrás.\\n s=1, si se usa una aproximación no central hacia adelante.\"\n",
    "    if s==1:\n",
    "        return (-f(x+2*h)+4*f(x+h)-3*f(x))/(2*h)\n",
    "    if s==-1:\n",
    "        return (f(x-2*h)-4*f(x-h)+3*f(x))/(2*h)\n",
    "    if s==0:\n",
    "        return (f(x+h)-f(x-h))/(2*h)\n",
    "\n",
    "def df2(x,h,s):\n",
    "    \"Regresa la aproximación por diferencias finitas para la segunda derivada en un x dado con h dado. \\n s=0, si se usa una aproximación central.\\n s=-1, si se usa una aproximación no central hacia atrás.\\n s=1, si se usa una aproximación no central hacia adelante.\"\n",
    "    if s==1:\n",
    "        return (-5*f(x+h)+2*f(x)+4*f(x+2*h)-f(x+3*h))/(h**2)\n",
    "    if s==-1:\n",
    "        return (-5*f(x-h)+2*f(x)+4*f(x-2*h)-f(x-3*h))/(h**2)\n",
    "    if s==0:\n",
    "        return (f(x+h)-2*f(x)+f(x-h))/(h**2)"
   ]
  },
  {
   "cell_type": "markdown",
   "metadata": {},
   "source": [
    "Escribimos ahora un array con los valores de $f(x)$ y una función que nos permita encontrar el valor de $f$ para un $x$ dado:"
   ]
  },
  {
   "cell_type": "code",
   "execution_count": 39,
   "metadata": {},
   "outputs": [],
   "source": [
    "import numpy as np\n",
    "\n",
    "F=np.array([0,0.0819,0.1341,0.1646,0.1797],dtype=float)\n",
    "\n",
    "def f(x):\n",
    "    i=int(x*10)\n",
    "    return F[i]"
   ]
  },
  {
   "cell_type": "markdown",
   "metadata": {},
   "source": [
    "Calculamos ahora $f'(0)$ y $f''(0)$:"
   ]
  },
  {
   "cell_type": "code",
   "execution_count": 41,
   "metadata": {},
   "outputs": [
    {
     "name": "stdout",
     "output_type": "stream",
     "text": [
      "f'(0)= 0.9675\n",
      "f'(0)= -3.769999999999998\n"
     ]
    }
   ],
   "source": [
    "print(\"f'(0)=\",df1(0,0.1,1))\n",
    "print(\"f''(0)=\",df2(0,0.1,1))"
   ]
  },
  {
   "cell_type": "markdown",
   "metadata": {},
   "source": [
    "Calculamos ahora $f'(0.2)$ y $f''(0.2)$:"
   ]
  },
  {
   "cell_type": "code",
   "execution_count": 52,
   "metadata": {},
   "outputs": [
    {
     "name": "stdout",
     "output_type": "stream",
     "text": [
      "f'(0.2)= 0.4135\n",
      "f''(0.2)= -2.1699999999999995\n"
     ]
    }
   ],
   "source": [
    "print(\"f'(0.2)=\",df1(0.2,0.1,0))\n",
    "print(\"f''(0.2)=\",df2(0.2,0.1,0))"
   ]
  },
  {
   "cell_type": "markdown",
   "metadata": {},
   "source": [
    "### Ejemplo 31\n",
    "Escribimos la función que calcule la fórmula de extrapolación de Richarson para valores dados:"
   ]
  },
  {
   "cell_type": "code",
   "execution_count": 47,
   "metadata": {},
   "outputs": [],
   "source": [
    "def R_ext(g1,g2,p):\n",
    "    \"Regresa la extrapolación de Richardson para dos aproximaciones por diferencias finitas para una derivada en un x dado, g1 y g2.\\n p es el grado de error que se quiere eliminar.\"\n",
    "    return ((2**p)*g2-g1)/((2**p)-1)"
   ]
  },
  {
   "cell_type": "markdown",
   "metadata": {},
   "source": [
    "Calculamos ahora los valores necesarios para la fórmula:"
   ]
  },
  {
   "cell_type": "code",
   "execution_count": 48,
   "metadata": {},
   "outputs": [
    {
     "name": "stdout",
     "output_type": "stream",
     "text": [
      "f'(0)= 0.99275\n"
     ]
    }
   ],
   "source": [
    "g2=df1(0,0.1,1)\n",
    "g1=df1(0,0.2,1)\n",
    "print(\"f'(0)=\",R_ext(g1,g2,2))"
   ]
  },
  {
   "cell_type": "markdown",
   "metadata": {},
   "source": [
    "Con la extrapolación de Richarson se tiene una aproximación en diferencias finitas de $\\mathcal{O}(h^4)$."
   ]
  },
  {
   "cell_type": "markdown",
   "metadata": {},
   "source": [
    "### Ejercicio 33"
   ]
  },
  {
   "cell_type": "markdown",
   "metadata": {},
   "source": [
    "Calculamos $f'(0.3)$ y $f''(0.3)$:"
   ]
  },
  {
   "cell_type": "code",
   "execution_count": 45,
   "metadata": {},
   "outputs": [
    {
     "name": "stdout",
     "output_type": "stream",
     "text": [
      "f'(0.3)= 0.489\n",
      "f''(0.3)= -6.759999999999998\n"
     ]
    }
   ],
   "source": [
    "print(\"f'(0.3)=\",df1(0.3,0.1,0))\n",
    "print(\"f''(0.3)=\",df2(0.3,0.1,0))"
   ]
  },
  {
   "cell_type": "markdown",
   "metadata": {},
   "source": [
    "Calculamos $f'(0.4)$ y $f''(0.4)$:"
   ]
  },
  {
   "cell_type": "code",
   "execution_count": 46,
   "metadata": {},
   "outputs": [
    {
     "name": "stdout",
     "output_type": "stream",
     "text": [
      "f'(0.4)= 0.07400000000000018\n",
      "f''(0.4)= 7.280000000000002\n"
     ]
    }
   ],
   "source": [
    "print(\"f'(0.4)=\",df1(0.4,0.1,-1))\n",
    "print(\"f''(0.4)=\",df2(0.4,0.1,-1))"
   ]
  },
  {
   "cell_type": "markdown",
   "metadata": {},
   "source": [
    "### Ejercicio 34\n",
    "Calculamos los valores necesarios para la fórmula:"
   ]
  },
  {
   "cell_type": "code",
   "execution_count": 53,
   "metadata": {},
   "outputs": [
    {
     "name": "stdout",
     "output_type": "stream",
     "text": [
      "f''(0.2)= -2.155833333333333\n"
     ]
    }
   ],
   "source": [
    "g2=df2(0.2,0.1,0)\n",
    "g1=df2(0.2,0.2,0)\n",
    "print(\"f''(0.2)=\",R_ext(g1,g2,2))"
   ]
  },
  {
   "cell_type": "markdown",
   "metadata": {},
   "source": [
    "Con la extrapolación de Richarson se tiene una aproximación en diferencias finitas de $\\mathcal{O}(h^4)$."
   ]
  }
 ],
 "metadata": {
  "kernelspec": {
   "display_name": "Python 3",
   "language": "python",
   "name": "python3"
  },
  "language_info": {
   "codemirror_mode": {
    "name": "ipython",
    "version": 3
   },
   "file_extension": ".py",
   "mimetype": "text/x-python",
   "name": "python",
   "nbconvert_exporter": "python",
   "pygments_lexer": "ipython3",
   "version": "3.6.4"
  }
 },
 "nbformat": 4,
 "nbformat_minor": 2
}
