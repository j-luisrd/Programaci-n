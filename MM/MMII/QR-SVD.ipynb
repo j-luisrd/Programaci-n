{
 "cells": [
  {
   "cell_type": "markdown",
   "metadata": {},
   "source": [
    "### Ejercicio 29\n",
    "Use la descomposición QR para resolver el sistema de ecuaciones $\\mathbf{Ax=b}$, donde \n",
    "$$\n",
    "    \\mathbf{A}=\\begin{pmatrix}\n",
    "    1 & 4 & 1\\\\\n",
    "    1 & 6 & -1\\\\\n",
    "    2 & -1 & 2\n",
    "    \\end{pmatrix}\n",
    "    \\quad\n",
    "    \\mathbf{b}=\\begin{pmatrix}\n",
    "    7\\\\\n",
    "    13\\\\\n",
    "    5\n",
    "    \\end{pmatrix}\n",
    "$$"
   ]
  },
  {
   "cell_type": "code",
   "execution_count": 1,
   "metadata": {},
   "outputs": [
    {
     "name": "stdout",
     "output_type": "stream",
     "text": [
      "Descomposición QR:\n",
      " Q=\n",
      " [[-0.40824829 -0.40985242 -0.81569255]\n",
      " [-0.40824829 -0.71724173  0.56471022]\n",
      " [-0.81649658  0.56354707  0.12549116]]\n",
      "R=\n",
      " [[-2.44948974 -3.26598632 -1.63299316]\n",
      " [ 0.         -6.5064071   1.43448345]\n",
      " [ 0.          0.         -1.12942045]] \n",
      "\n",
      "La solución del sistema es:\n",
      "\n",
      "x 1 = 5.0\n",
      "x 2 = 0.9999999999999999\n",
      "x 3 = -1.9999999999999996\n"
     ]
    }
   ],
   "source": [
    "import numpy as np\n",
    "\n",
    "A=np.array([[1,4,1],[1,6,-1],[2,-1,2]],dtype=float)\n",
    "b=np.array([7,13,5],dtype=float)\n",
    "Q,R = np.linalg.qr(A)\n",
    "y=np.linalg.solve(Q,b)\n",
    "x=np.linalg.solve(R,y)\n",
    "print(\"Descomposición QR:\\n Q=\\n\",Q)\n",
    "print(\"R=\\n\",R,\"\\n\")\n",
    "print(\"La solución del sistema es:\\n\")\n",
    "for i in range(len(x)):\n",
    "    print(\"x\",i+1,\"=\",x[i])"
   ]
  },
  {
   "cell_type": "markdown",
   "metadata": {},
   "source": [
    "### Ejercicio 30\n",
    "Clasifique el condicionamiento de las siguientes matrices:\n",
    "$$\\displaystyle \\mathbf{A}=\\begin{pmatrix}\n",
    "    1 & 2 & 3\\\\\n",
    "    2 & 3 & 4\\\\\n",
    "    3 & 4 & 5\n",
    "    \\end{pmatrix}\\qquad\n",
    "    \\mathbf{B}=\\begin{pmatrix}\n",
    "    2.11 & -0.80 & 1.72\\\\\n",
    "    -1.84 & 3.03 & 1.29\\\\\n",
    "    -1.57 & 5.25 & 4.30\n",
    "    \\end{pmatrix}\\qquad\n",
    "    \\mathbf{C}=\\begin{pmatrix}\n",
    "    2 & -1 & 0\\\\\n",
    "    -1 & 2 & -1\\\\\n",
    "    0 & -1 & 2\n",
    "    \\end{pmatrix}\\qquad\n",
    "    \\mathbf{D}=\\begin{pmatrix}\n",
    "    4 & 3 & -1\\\\\n",
    "    7 & -2 & 3\\\\\n",
    "    5 & -18 & 13\n",
    "    \\end{pmatrix}$$"
   ]
  },
  {
   "cell_type": "code",
   "execution_count": 2,
   "metadata": {},
   "outputs": [
    {
     "name": "stdout",
     "output_type": "stream",
     "text": [
      "Elementos diagonales de lambda A:  [9.62347538e+00 6.23475383e-01 3.97943080e-16]\n",
      "Número condicional para A:  2.4183044944012284e+16 \n",
      "\n",
      "Elementos diagonales de lambda B:  [7.82448153e+00 3.09450851e+00 2.43122220e-03]\n",
      "Número condicional para B:  3218.332541480952 \n",
      "\n",
      "Elementos diagonales de lambda A:  [3.41421356 2.         0.58578644]\n",
      "Número condicional para C:  5.828427124746193 \n",
      "\n",
      "Elementos diagonales de lambda D:  [2.33769332e+01 7.71485545e+00 4.30547196e-16]\n",
      "Número condicional para D:  5.429586681719376e+16\n"
     ]
    }
   ],
   "source": [
    "A=np.array([[1,2,3],[2,3,4],[3,4,5]],dtype=float)\n",
    "B=np.array([[2.11,-0.80,1.72],[-1.84,3.03,1.29],[-1.57,5.25,4.30]])\n",
    "C=np.array([[2,-1,0],[-1,2,-1],[0,-1,2]],dtype=float)\n",
    "D=np.array([[4,3,-1],[7,-2,3],[5,-18,13]],dtype=float)\n",
    "\n",
    "#Matriz A\n",
    "U,lam,V = np.linalg.svd(A)\n",
    "print(\"Elementos diagonales de lambda A: \",lam)\n",
    "print(\"Número condicional para A: \",max(lam)/min(lam),\"\\n\")\n",
    "\n",
    "#Matriz B\n",
    "U,lam,V = np.linalg.svd(B)\n",
    "print(\"Elementos diagonales de lambda B: \",lam)\n",
    "print(\"Número condicional para B: \",max(lam)/min(lam),\"\\n\")\n",
    "\n",
    "#Matriz C\n",
    "U,lam,V = np.linalg.svd(C)\n",
    "print(\"Elementos diagonales de lambda A: \",lam)\n",
    "print(\"Número condicional para C: \",max(lam)/min(lam),\"\\n\")\n",
    "\n",
    "#Matriz D\n",
    "U,lam,V = np.linalg.svd(D)\n",
    "print(\"Elementos diagonales de lambda D: \",lam)\n",
    "print(\"Número condicional para D: \",max(lam)/min(lam))"
   ]
  },
  {
   "cell_type": "markdown",
   "metadata": {},
   "source": [
    "Por los calculos hechos y por lo discutido sobre la utilidad de $\\Lambda$ en el análisis de condicionamiento de una matriz, podemos decir ninguna matriz es singular; $\\mathbf{A}$ y $\\mathbf{D}$ están mal condicionadas \\(y en menor medida $\\mathbf{B}$)."
   ]
  }
 ],
 "metadata": {
  "kernelspec": {
   "display_name": "Python 3",
   "language": "python",
   "name": "python3"
  },
  "language_info": {
   "codemirror_mode": {
    "name": "ipython",
    "version": 3
   },
   "file_extension": ".py",
   "mimetype": "text/x-python",
   "name": "python",
   "nbconvert_exporter": "python",
   "pygments_lexer": "ipython3",
   "version": "3.6.4"
  }
 },
 "nbformat": 4,
 "nbformat_minor": 2
}
