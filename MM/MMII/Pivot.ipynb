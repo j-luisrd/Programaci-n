{
 "cells": [
  {
   "cell_type": "code",
   "execution_count": 4,
   "metadata": {},
   "outputs": [],
   "source": [
    "import numpy as np\n",
    "\n",
    "def swapRows(v,i,j):\n",
    "    \n",
    "    if len(v.shape) == 1:\n",
    "        v[i],v[j] = v[j],v[i]\n",
    "    else:\n",
    "        v[[i,j],:] = v[[j,i],:]\n",
    "        \n",
    "def swapCols(v,i,j):\n",
    "    v[:,[i,j]] = v[:,[j,i]]"
   ]
  },
  {
   "cell_type": "code",
   "execution_count": 5,
   "metadata": {},
   "outputs": [],
   "source": [
    "def gaussPivot(a,b,tol=1.0e-12):\n",
    "    \"x = gaussPivot(a,b,tol=1.0e-12).\\n Resuelve Ax=b por eliminación gaussiana con pivote.\"\n",
    "    n = len(b)\n",
    "    #Calculando los factores de escala\n",
    "    s = np.zeros(n)\n",
    "    for i in range(n):\n",
    "        s[i] = max(np.abs(a[i,:]))\n",
    "        \n",
    "    for k in range(0,n-1):\n",
    "        #Intercambio de filas si es necesario\n",
    "        p = np.argmax(np.abs(a[k:n,k])/s[k:n]) + k\n",
    "        if abs(a[p,k]) < tol: \n",
    "            error.err(\"La matriz es singular.\")\n",
    "        if p != k:\n",
    "            swapRows(b,k,p)\n",
    "            swapRows(s,k,p)\n",
    "            swapRows(a,k,p)\n",
    "            \n",
    "        #Eliminación\n",
    "        for i in range(k+1,n):\n",
    "            if a[i,k] != 0.0:\n",
    "                lam = a[i,k]/a[k,k]\n",
    "                a[i,k+1:n] = a[i,k+1:n] - lam*a[k,k+1:n]\n",
    "                b[i] = b[i] - lam*b[k]\n",
    "    if abs(a[n-1,n-1]) < tol: \n",
    "        error.err(\"La matriz es singular.\")\n",
    "        \n",
    "    #Sustitución\n",
    "    b[n-1] = b[n-1]/a[n-1,n-1]\n",
    "    for k in range(n-2,-1,-1):\n",
    "        b[k] = (b[k] - np.dot(a[k,k+1:n],b[k+1:n]))/a[k,k]\n",
    "    return b"
   ]
  },
  {
   "cell_type": "code",
   "execution_count": 6,
   "metadata": {},
   "outputs": [],
   "source": [
    "def LUdecomp(a,tol=1.0e-9):\n",
    "    n = len(a)\n",
    "    seq = np.array(range(n))\n",
    "    \n",
    "    #Calculando los factores de escala\n",
    "    s = np.zeros((n))\n",
    "    for i in range(n):\n",
    "        s[i] = max(abs(a[i,:]))\n",
    "        \n",
    "    for k in range(0,n-1):\n",
    "        #Intercambio de filas si es necesario\n",
    "        p = np.argmax(np.abs(a[k:n,k])/s[k:n]) + k\n",
    "        if abs(a[p,k]) < tol: \n",
    "            error.err(\"La matriz es singular.\")\n",
    "        if p != k:\n",
    "            swapRows(s,k,p)\n",
    "            swapRows(a,k,p)\n",
    "            swapRows(seq,k,p)\n",
    "        \n",
    "        #Eliminación\n",
    "        for i in range(k+1,n):\n",
    "            if a[i,k] != 0.0:\n",
    "                lam = a[i,k]/a[k,k]\n",
    "                a[i,k+1:n] = a[i,k+1:n] - lam*a[k,k+1:n]\n",
    "                a[i,k] = lam\n",
    "    return a,seq\n",
    "\n",
    "def LUsolve(a,b,seq):\n",
    "    n = len(a)\n",
    "    \n",
    "    #Rearreglando el vector b\n",
    "    x = b.copy()\n",
    "    for i in range(n):\n",
    "        x[i] = b[seq[i]]\n",
    "        \n",
    "    #Solución\n",
    "    for k in range(1,n):\n",
    "        x[k] = x[k] - np.dot(a[k,0:k],x[0:k])\n",
    "    x[n-1] = x[n-1]/a[n-1,n-1]\n",
    "    for k in range(n-2,-1,-1):\n",
    "        x[k] = (x[k] - np.dot(a[k,k+1:n],x[k+1:n]))/a[k,k]\n",
    "    return x"
   ]
  },
  {
   "cell_type": "markdown",
   "metadata": {},
   "source": [
    "### Ejercicio 23\n",
    "Use la eliminación gaussiana con pivote para resolver las ecuaciones $\\mathbf{Ax=b}$ donde\n",
    "$$\n",
    "    \\mathbf{A}=\\begin{pmatrix}\n",
    "    2 & -2 & 6\\\\\n",
    "    -2 & 4 & 3\\\\\n",
    "    -1 & 8 & 4\n",
    "    \\end{pmatrix}\n",
    "    \\qquad \n",
    "    \\mathbf{b}=\\begin{pmatrix}\n",
    "    16\\\\\n",
    "    0\\\\\n",
    "    -1\n",
    "    \\end{pmatrix}\n",
    "$$"
   ]
  },
  {
   "cell_type": "code",
   "execution_count": 9,
   "metadata": {},
   "outputs": [
    {
     "name": "stdout",
     "output_type": "stream",
     "text": [
      "La solución del sistema es  [ 1. -1.  2.]\n"
     ]
    }
   ],
   "source": [
    "A=np.array([[2,-2,6],[-2,4,3],[-1,8,4]],dtype=float)\n",
    "b=np.array([16,0,-1],dtype=float)\n",
    "print(\"La solución del sistema es \",gaussPivot(A,b))"
   ]
  },
  {
   "cell_type": "markdown",
   "metadata": {},
   "source": [
    "### Ejercicio 24\n",
    "Use la descomposición de Doolittle con pivote para resolver las ecuaciones $\\mathbf{Ax=b}$ donde\n",
    "$$\n",
    "    \\mathbf{A}=\\begin{pmatrix}\n",
    "    3 & -3 & 3\\\\\n",
    "    -3 & 5 & 1\\\\\n",
    "    3 & 1 & 5\n",
    "    \\end{pmatrix}\n",
    "    \\qquad \n",
    "    \\mathbf{b}=\\begin{pmatrix}\n",
    "    9\\\\\n",
    "    -7\\\\\n",
    "    12\n",
    "    \\end{pmatrix}\n",
    "$$"
   ]
  },
  {
   "cell_type": "code",
   "execution_count": 10,
   "metadata": {},
   "outputs": [
    {
     "name": "stdout",
     "output_type": "stream",
     "text": [
      "La solución del sistema es  [3.5        0.66666667 0.16666667]\n"
     ]
    }
   ],
   "source": [
    "A=np.array([[3,-3,3],[-3,5,1],[3,1,5]],dtype=float)\n",
    "b=np.array([9,-7,12],dtype=float)\n",
    "a,seq=LUdecomp(A)\n",
    "print(\"La solución del sistema es \",LUsolve(a,b,seq))"
   ]
  }
 ],
 "metadata": {
  "kernelspec": {
   "display_name": "Python 3",
   "language": "python",
   "name": "python3"
  },
  "language_info": {
   "codemirror_mode": {
    "name": "ipython",
    "version": 3
   },
   "file_extension": ".py",
   "mimetype": "text/x-python",
   "name": "python",
   "nbconvert_exporter": "python",
   "pygments_lexer": "ipython3",
   "version": "3.6.4"
  }
 },
 "nbformat": 4,
 "nbformat_minor": 2
}
