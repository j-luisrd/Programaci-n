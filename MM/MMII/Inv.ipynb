{
 "cells": [
  {
   "cell_type": "code",
   "execution_count": 1,
   "metadata": {},
   "outputs": [],
   "source": [
    "import numpy as np\n",
    "\n",
    "def swapRows(v,i,j):\n",
    "    \n",
    "    if len(v.shape) == 1:\n",
    "        v[i],v[j] = v[j],v[i]\n",
    "    else:\n",
    "        v[[i,j],:] = v[[j,i],:]\n",
    "        \n",
    "def swapCols(v,i,j):\n",
    "    v[:,[i,j]] = v[:,[j,i]]"
   ]
  },
  {
   "cell_type": "code",
   "execution_count": 2,
   "metadata": {},
   "outputs": [],
   "source": [
    "def LUdecomp(a,tol=1.0e-9):\n",
    "    n = len(a)\n",
    "    seq = np.array(range(n))\n",
    "    \n",
    "    #Calculando los factores de escala\n",
    "    s = np.zeros((n))\n",
    "    for i in range(n):\n",
    "        s[i] = max(abs(a[i,:]))\n",
    "        \n",
    "    for k in range(0,n-1):\n",
    "        #Intercambio de filas si es necesario\n",
    "        p = np.argmax(np.abs(a[k:n,k])/s[k:n]) + k\n",
    "        if abs(a[p,k]) < tol: \n",
    "            error.err(\"La matriz es singular.\")\n",
    "        if p != k:\n",
    "            swapRows(s,k,p)\n",
    "            swapRows(a,k,p)\n",
    "            swapRows(seq,k,p)\n",
    "        \n",
    "        #Eliminación\n",
    "        for i in range(k+1,n):\n",
    "            if a[i,k] != 0.0:\n",
    "                lam = a[i,k]/a[k,k]\n",
    "                a[i,k+1:n] = a[i,k+1:n] - lam*a[k,k+1:n]\n",
    "                a[i,k] = lam\n",
    "    return a,seq\n",
    "\n",
    "def LUsolve(a,b,seq):\n",
    "    n = len(a)\n",
    "    \n",
    "    #Rearreglando el vector b\n",
    "    x = b.copy()\n",
    "    for i in range(n):\n",
    "        x[i] = b[seq[i]]\n",
    "        \n",
    "    #Solución\n",
    "    for k in range(1,n):\n",
    "        x[k] = x[k] - np.dot(a[k,0:k],x[0:k])\n",
    "    x[n-1] = x[n-1]/a[n-1,n-1]\n",
    "    for k in range(n-2,-1,-1):\n",
    "        x[k] = (x[k] - np.dot(a[k,k+1:n],x[k+1:n]))/a[k,k]\n",
    "    return x"
   ]
  },
  {
   "cell_type": "code",
   "execution_count": 3,
   "metadata": {},
   "outputs": [],
   "source": [
    "def LUdecomp3(c,d,e):\n",
    "    \"c,d,e = LUdecomp3(c,d,e).\\n Descomposición LU de una matriz triagonal conformada por las diagonales c,d,e.\"\n",
    "    n = len(d)\n",
    "    for k in range(1,n):\n",
    "        lam = c[k-1]/d[k-1]\n",
    "        d[k] = d[k] - lam*e[k-1]\n",
    "        c[k-1] = lam\n",
    "    return c,d,e\n",
    "\n",
    "def LUsolve3(c,d,e,b):\n",
    "    \"x=LUsolve3(c,d,e,b).\\n Resuelve Ax=b donde c,d,e son las diagonales descompuestas de la matriz triagonal A.\"\n",
    "    n = len(d)\n",
    "    for k in range(1,n):\n",
    "        b[k] = b[k] - c[k-1]*b[k-1]\n",
    "    b[n-1] = b[n-1]/d[n-1]\n",
    "    for k in range(n-2,-1,-1):\n",
    "        b[k] = (b[k] - e[k]*b[k+1])/d[k]\n",
    "    return b"
   ]
  },
  {
   "cell_type": "markdown",
   "metadata": {},
   "source": [
    "### Ejemplo 24\n",
    "Invierta la matriz $\\mathbf{A}$ usando descomposición LU con pivote.\n",
    "$$\n",
    "    \\mathbf{A}=\\begin{pmatrix}\n",
    "    0.6 & -0.4 & 1.0\\\\\n",
    "    -0.3 & 0.2 & 0.5\\\\\n",
    "    0.6 & -1.0 & 0.5\n",
    "    \\end{pmatrix}\n",
    "$$"
   ]
  },
  {
   "cell_type": "code",
   "execution_count": 4,
   "metadata": {},
   "outputs": [
    {
     "name": "stdout",
     "output_type": "stream",
     "text": [
      "Ainv =\n",
      " [[ 1.66666667 -2.22222222 -1.11111111]\n",
      " [ 1.25       -0.83333333 -1.66666667]\n",
      " [ 0.5         1.          0.        ]]\n"
     ]
    }
   ],
   "source": [
    "def matInv(a):\n",
    "    n = len(a[0])\n",
    "    aInv = np.identity(n)\n",
    "    a,seq = LUdecomp(a)\n",
    "    for i in range(n):\n",
    "        aInv[:,i] = LUsolve(a,aInv[:,i],seq)\n",
    "    return aInv\n",
    "\n",
    "A = np.array([[ 0.6, -0.4, 1.0],[-0.3, 0.2, 0.5],[ 0.6, -1.0, 0.5]])\n",
    "print(\"Ainv =\\n\",matInv(A))"
   ]
  },
  {
   "cell_type": "markdown",
   "metadata": {},
   "source": [
    "### Ejemplo 25\n",
    "Invierta la matriz $\\mathbf{A}$.\n",
    "$$\n",
    "    \\mathbf{A}=\\begin{pmatrix}\n",
    "    2 & -1 & 0 & 0 & 0 & 0\\\\\n",
    "    -1 & 2 & -1 & 0 & 0 & 0\\\\\n",
    "    0 & -1 & 2 & -1 & 0 & 0\\\\\n",
    "    0 & 0 & -1 & 2 & -1 & 0\\\\\n",
    "    0 & 0 & 0 & -1 & 2 & -1\\\\\n",
    "    0 & 0 & 0 & 0 & -1 & 5\n",
    "    \\end{pmatrix}\n",
    "$$"
   ]
  },
  {
   "cell_type": "code",
   "execution_count": 5,
   "metadata": {},
   "outputs": [
    {
     "name": "stdout",
     "output_type": "stream",
     "text": [
      "La matriz inversa es \n",
      " [[0.84 0.68 0.52 0.36 0.2  0.04]\n",
      " [0.68 1.36 1.04 0.72 0.4  0.08]\n",
      " [0.52 1.04 1.56 1.08 0.6  0.12]\n",
      " [0.36 0.72 1.08 1.44 0.8  0.16]\n",
      " [0.2  0.4  0.6  0.8  1.   0.2 ]\n",
      " [0.04 0.08 0.12 0.16 0.2  0.24]]\n"
     ]
    }
   ],
   "source": [
    "n=6\n",
    "d = np.ones((n))*2.0\n",
    "e = np.ones((n-1))*(-1.0)\n",
    "c = e.copy()\n",
    "d[n-1] = 5.0\n",
    "AInv = np.identity(n)\n",
    "c,d,e = LUdecomp3(c,d,e)\n",
    "for i in range(n):\n",
    "    AInv[:,i] = LUsolve3(c,d,e,AInv[:,i])\n",
    "print(\"La matriz inversa es \\n\",AInv)"
   ]
  },
  {
   "cell_type": "markdown",
   "metadata": {},
   "source": [
    "### Ejercicio 25\n",
    "Invierta la matriz $\\mathbf{A}$ usando descomposición LU con pivote.\n",
    "$$\n",
    "    \\mathbf{A}=\\begin{pmatrix}\n",
    "    0.5 & 0 & 0.25\\\\\n",
    "    0.3 & 0.4 & 0.45\\\\\n",
    "    -0.1 & 0.2 & -0.15\n",
    "    \\end{pmatrix}\n",
    "$$"
   ]
  },
  {
   "cell_type": "code",
   "execution_count": 6,
   "metadata": {},
   "outputs": [
    {
     "name": "stdout",
     "output_type": "stream",
     "text": [
      "Ainv =\n",
      " [[ 3.00000000e+00 -1.00000000e+00  2.00000000e+00]\n",
      " [ 1.38777878e-16  1.00000000e+00  3.00000000e+00]\n",
      " [-2.00000000e+00  2.00000000e+00 -4.00000000e+00]]\n"
     ]
    }
   ],
   "source": [
    "def matInv(a):\n",
    "    n = len(a[0])\n",
    "    aInv = np.identity(n)\n",
    "    a,seq = LUdecomp(a)\n",
    "    for i in range(n):\n",
    "        aInv[:,i] = LUsolve(a,aInv[:,i],seq)\n",
    "    return aInv\n",
    "\n",
    "A = np.array([[ 0.5, 0.0, 0.25],[0.3, 0.4, 0.45],[ -0.1, 0.2, -0.15]])\n",
    "a=A.copy()\n",
    "print(\"Ainv =\\n\",matInv(A))"
   ]
  },
  {
   "cell_type": "markdown",
   "metadata": {},
   "source": [
    "### Ejercicio 26\n",
    "Invierta la matriz $\\mathbf{A}$.\n",
    "$$\n",
    "    \\mathbf{A}=\\begin{pmatrix}\n",
    "    4 & -1 & 0 & 0\\\\\n",
    "    -1 & 4 & -1 & 0\\\\\n",
    "    0 & -1 & 4 & -1\\\\\n",
    "    0 & 0 & -1 & 4\n",
    "    \\end{pmatrix}\n",
    "$$"
   ]
  },
  {
   "cell_type": "code",
   "execution_count": 7,
   "metadata": {},
   "outputs": [
    {
     "name": "stdout",
     "output_type": "stream",
     "text": [
      "La matriz inversa es \n",
      " [[0.26794258 0.07177033 0.01913876 0.00478469]\n",
      " [0.07177033 0.28708134 0.07655502 0.01913876]\n",
      " [0.01913876 0.07655502 0.28708134 0.07177033]\n",
      " [0.00478469 0.01913876 0.07177033 0.26794258]]\n"
     ]
    }
   ],
   "source": [
    "d = np.ones((4))*4.0\n",
    "e = np.ones((3))*(-1.0)\n",
    "c = e.copy()\n",
    "AInv = np.identity(4)\n",
    "c,d,e = LUdecomp3(c,d,e)\n",
    "for i in range(4):\n",
    "    AInv[:,i] = LUsolve3(c,d,e,AInv[:,i])\n",
    "print(\"La matriz inversa es \\n\",AInv)"
   ]
  }
 ],
 "metadata": {
  "kernelspec": {
   "display_name": "Python 3",
   "language": "python",
   "name": "python3"
  },
  "language_info": {
   "codemirror_mode": {
    "name": "ipython",
    "version": 3
   },
   "file_extension": ".py",
   "mimetype": "text/x-python",
   "name": "python",
   "nbconvert_exporter": "python",
   "pygments_lexer": "ipython3",
   "version": "3.6.4"
  }
 },
 "nbformat": 4,
 "nbformat_minor": 2
}
