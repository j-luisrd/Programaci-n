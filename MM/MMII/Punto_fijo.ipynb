{
 "cells": [
  {
   "cell_type": "code",
   "execution_count": 33,
   "metadata": {},
   "outputs": [],
   "source": [
    "import math\n",
    "\n",
    "def fixPoint (it,g,x):\n",
    "    \"x,e=fixPoint(it,g,x).\\nCalcula la raíz de una función, x, y el error asociado a la estimación encontrada de la raíz, e.\\nit es el número de iteraciones a realizar.\\ng es la función reorganizada para la iteración.\\nx es la suposición inicial para la raíz.\"\n",
    "    for i in range(it):\n",
    "        r=g(x)\n",
    "        e=math.fabs((r-x)/r)*100\n",
    "        x=r\n",
    "    return x,e"
   ]
  },
  {
   "cell_type": "markdown",
   "metadata": {},
   "source": [
    "### Ejemplo 14\n",
    "Usa el método de punto fijo para encontrar la raíz de $f(x)=e^{-x}-x$."
   ]
  },
  {
   "cell_type": "code",
   "execution_count": 34,
   "metadata": {},
   "outputs": [],
   "source": [
    "def f(x):\n",
    "    return math.exp(-x)"
   ]
  },
  {
   "cell_type": "code",
   "execution_count": 35,
   "metadata": {},
   "outputs": [
    {
     "name": "stdout",
     "output_type": "stream",
     "text": [
      "Raíz: 0.5649 \n",
      "Error:   1.11 %.\n"
     ]
    }
   ],
   "source": [
    "x,e=fixPoint(10,f,0)\n",
    "print('Raíz:','{:6.4f}'.format(x),'\\nError:','{:6.2f}'.format(e),'%.')"
   ]
  },
  {
   "cell_type": "markdown",
   "metadata": {},
   "source": [
    "### Ejercicio 9\n",
    "Usa el método de punto fijo para encontrar la raíz de $f(x)=x^2-2x+1$."
   ]
  },
  {
   "cell_type": "code",
   "execution_count": 43,
   "metadata": {},
   "outputs": [],
   "source": [
    "def g(x):\n",
    "    return (x**2 +1)/2"
   ]
  },
  {
   "cell_type": "code",
   "execution_count": 49,
   "metadata": {},
   "outputs": [
    {
     "name": "stdout",
     "output_type": "stream",
     "text": [
      "Raíz: 0.9231 \n",
      "Error:   0.35 %.\n"
     ]
    }
   ],
   "source": [
    "x,e=fixPoint(20,g,0.5)\n",
    "print('Raíz:','{:6.4f}'.format(x),'\\nError:','{:6.2f}'.format(e),'%.')"
   ]
  }
 ],
 "metadata": {
  "kernelspec": {
   "display_name": "Python 3",
   "language": "python",
   "name": "python3"
  },
  "language_info": {
   "codemirror_mode": {
    "name": "ipython",
    "version": 3
   },
   "file_extension": ".py",
   "mimetype": "text/x-python",
   "name": "python",
   "nbconvert_exporter": "python",
   "pygments_lexer": "ipython3",
   "version": "3.6.4"
  }
 },
 "nbformat": 4,
 "nbformat_minor": 2
}
