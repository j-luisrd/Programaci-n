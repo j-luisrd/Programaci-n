{
 "cells": [
  {
   "cell_type": "code",
   "execution_count": 25,
   "metadata": {},
   "outputs": [
    {
     "data": {
      "text/html": [
       "<div>\n",
       "<style scoped>\n",
       "    .dataframe tbody tr th:only-of-type {\n",
       "        vertical-align: middle;\n",
       "    }\n",
       "\n",
       "    .dataframe tbody tr th {\n",
       "        vertical-align: top;\n",
       "    }\n",
       "\n",
       "    .dataframe thead th {\n",
       "        text-align: right;\n",
       "    }\n",
       "</style>\n",
       "<table border=\"1\" class=\"dataframe\">\n",
       "  <thead>\n",
       "    <tr style=\"text-align: right;\">\n",
       "      <th></th>\n",
       "      <th>0.1</th>\n",
       "      <th>0.01</th>\n",
       "      <th>0.001</th>\n",
       "      <th>0.0001</th>\n",
       "      <th>1e-05</th>\n",
       "      <th>1e-06</th>\n",
       "      <th>1e-07</th>\n",
       "      <th>1e-08</th>\n",
       "    </tr>\n",
       "  </thead>\n",
       "  <tbody>\n",
       "    <tr>\n",
       "      <th>f(x)</th>\n",
       "      <td>0.000501</td>\n",
       "      <td>5.000125e-07</td>\n",
       "      <td>5.000001e-10</td>\n",
       "      <td>5.000000e-13</td>\n",
       "      <td>5.000002e-16</td>\n",
       "      <td>4.999612e-19</td>\n",
       "      <td>5.029258e-22</td>\n",
       "      <td>0.000000e+00</td>\n",
       "    </tr>\n",
       "    <tr>\n",
       "      <th>g(x)</th>\n",
       "      <td>0.000251</td>\n",
       "      <td>2.500063e-07</td>\n",
       "      <td>2.500001e-10</td>\n",
       "      <td>2.500000e-13</td>\n",
       "      <td>2.500000e-16</td>\n",
       "      <td>2.500000e-19</td>\n",
       "      <td>2.500000e-22</td>\n",
       "      <td>2.500000e-25</td>\n",
       "    </tr>\n",
       "    <tr>\n",
       "      <th>Error</th>\n",
       "      <td>1.000000</td>\n",
       "      <td>1.000000e+00</td>\n",
       "      <td>1.000000e+00</td>\n",
       "      <td>1.000000e+00</td>\n",
       "      <td>1.000001e+00</td>\n",
       "      <td>9.998448e-01</td>\n",
       "      <td>1.011703e+00</td>\n",
       "      <td>1.000000e+00</td>\n",
       "    </tr>\n",
       "  </tbody>\n",
       "</table>\n",
       "</div>"
      ],
      "text/plain": [
       "       1.000000e-01  1.000000e-02  1.000000e-03  1.000000e-04  1.000000e-05  \\\n",
       "f(x)       0.000501  5.000125e-07  5.000001e-10  5.000000e-13  5.000002e-16   \n",
       "g(x)       0.000251  2.500063e-07  2.500001e-10  2.500000e-13  2.500000e-16   \n",
       "Error      1.000000  1.000000e+00  1.000000e+00  1.000000e+00  1.000001e+00   \n",
       "\n",
       "       1.000000e-06  1.000000e-07  1.000000e-08  \n",
       "f(x)   4.999612e-19  5.029258e-22  0.000000e+00  \n",
       "g(x)   2.500000e-19  2.500000e-22  2.500000e-25  \n",
       "Error  9.998448e-01  1.011703e+00  1.000000e+00  "
      ]
     },
     "execution_count": 25,
     "metadata": {},
     "output_type": "execute_result"
    }
   ],
   "source": [
    "import math\n",
    "import numpy as np\n",
    "import pandas as pd\n",
    "\n",
    "def f(x):\n",
    "    return math.tan(x)-math.sin(x)\n",
    "\n",
    "def g(x):\n",
    "    return math.tan(x)*(math.sin(x/2))**2\n",
    "\n",
    "x=[1.0e-1,1.0e-2,1.0e-3,1.0e-4,1.0e-5,1.0e-6,1.0e-7,1.0e-8]\n",
    "\n",
    "F=[]\n",
    "G=[]\n",
    "e=[]\n",
    "\n",
    "for i in range(len(x)):\n",
    "    F.append(f(x[i]))\n",
    "    G.append(g(x[i]))\n",
    "    e.append(abs(F[i]-G[i])/abs(G[i]))\n",
    "\n",
    "a=np.array([F,G,e])\n",
    "pob=pd.DataFrame(a,['f(x)','g(x)','Error'],x)\n",
    "pob.head()"
   ]
  },
  {
   "cell_type": "markdown",
   "metadata": {},
   "source": [
    "Para todos los valores considerados de $x$ los errores son en promedio del 100% lo que muestra el error de calculo al que se llega si se evaluan valores pequeños de $x$ en la función original en comparación con una versión modificada de la misma. "
   ]
  }
 ],
 "metadata": {
  "kernelspec": {
   "display_name": "Python 3",
   "language": "python",
   "name": "python3"
  },
  "language_info": {
   "codemirror_mode": {
    "name": "ipython",
    "version": 3
   },
   "file_extension": ".py",
   "mimetype": "text/x-python",
   "name": "python",
   "nbconvert_exporter": "python",
   "pygments_lexer": "ipython3",
   "version": "3.6.4"
  }
 },
 "nbformat": 4,
 "nbformat_minor": 2
}
