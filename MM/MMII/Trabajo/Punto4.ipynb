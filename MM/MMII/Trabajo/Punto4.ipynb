{
 "cells": [
  {
   "cell_type": "markdown",
   "metadata": {},
   "source": [
    "## Punto 4\n",
    "Escribimos primero la función que nos devolverá la raíz y el número de iteraciones:"
   ]
  },
  {
   "cell_type": "code",
   "execution_count": 1,
   "metadata": {},
   "outputs": [],
   "source": [
    "def fixpoint(g,x):\n",
    "    sol=[]\n",
    "    for i in range(100):\n",
    "        xNew=g(x)\n",
    "        if abs(xNew-x)<=1.0e-50:\n",
    "            return xNew,i,sol\n",
    "        x=xNew\n",
    "        sol.append(xNew)\n",
    "    print(\"¡Número máximo de iteraciones alcanzado!\")\n",
    "    return xNew,i,sol"
   ]
  },
  {
   "cell_type": "markdown",
   "metadata": {},
   "source": [
    "Escribimos ahora la funciones a usar para el método de punto fijo:"
   ]
  },
  {
   "cell_type": "code",
   "execution_count": 2,
   "metadata": {},
   "outputs": [],
   "source": [
    "import math\n",
    "def f(x):\n",
    "    return math.exp(x/3)-5\n",
    "def g(x):\n",
    "    return (2*x)+5-math.exp(x/3)\n",
    "def h(x):\n",
    "    return 3*math.log(x+5)"
   ]
  },
  {
   "cell_type": "markdown",
   "metadata": {},
   "source": [
    "Aplicamos ahora el método de punto fijo a cada función, empezando con la primera raíz tomando como punto inicial $x=-4.5$:"
   ]
  },
  {
   "cell_type": "code",
   "execution_count": 3,
   "metadata": {},
   "outputs": [
    {
     "name": "stdout",
     "output_type": "stream",
     "text": [
      "La raíz es: -4.797966589447381\n",
      "Se realizaron 13 iteraciones\n"
     ]
    }
   ],
   "source": [
    "raíz,it,sol=fixpoint(f,-4.5)\n",
    "print(\"La raíz es:\",raíz)\n",
    "print(\"Se realizaron\",it,\"iteraciones\")"
   ]
  },
  {
   "cell_type": "code",
   "execution_count": 4,
   "metadata": {},
   "outputs": [
    {
     "name": "stdout",
     "output_type": "stream",
     "text": [
      "¡Número máximo de iteraciones alcanzado!\n",
      "La raíz es: 9.57008168056904\n",
      "Se realizaron 99 iteraciones\n"
     ]
    }
   ],
   "source": [
    "raíz,it,sol=fixpoint(g,-4.5)\n",
    "print(\"La raíz es:\",raíz)\n",
    "print(\"Se realizaron\",it,\"iteraciones\")"
   ]
  },
  {
   "cell_type": "code",
   "execution_count": 5,
   "metadata": {},
   "outputs": [
    {
     "name": "stdout",
     "output_type": "stream",
     "text": [
      "La raíz es: 7.6014311795590785\n",
      "Se realizaron 28 iteraciones\n"
     ]
    }
   ],
   "source": [
    "raíz,it,sol=fixpoint(h,-4.5)\n",
    "print(\"La raíz es:\",raíz)\n",
    "print(\"Se realizaron\",it,\"iteraciones\")"
   ]
  },
  {
   "cell_type": "markdown",
   "metadata": {},
   "source": [
    "Procedamos ahora con tomando como punto inicial $x=7.5$ para determinar la segunda raíz:"
   ]
  },
  {
   "cell_type": "code",
   "execution_count": 6,
   "metadata": {},
   "outputs": [
    {
     "name": "stdout",
     "output_type": "stream",
     "text": [
      "La raíz es: -4.797966589447381\n",
      "Se realizaron 18 iteraciones\n"
     ]
    }
   ],
   "source": [
    "raíz,it,sol=fixpoint(f,7.5)\n",
    "print(\"La raíz es:\",raíz)\n",
    "print(\"Se realizaron\",it,\"iteraciones\")"
   ]
  },
  {
   "cell_type": "code",
   "execution_count": 7,
   "metadata": {},
   "outputs": [
    {
     "name": "stdout",
     "output_type": "stream",
     "text": [
      "¡Número máximo de iteraciones alcanzado!\n",
      "La raíz es: 2.4668614240704834\n",
      "Se realizaron 99 iteraciones\n"
     ]
    }
   ],
   "source": [
    "raíz,it,sol=fixpoint(g,7.5)\n",
    "print(\"La raíz es:\",raíz)\n",
    "print(\"Se realizaron\",it,\"iteraciones\")"
   ]
  },
  {
   "cell_type": "code",
   "execution_count": 8,
   "metadata": {},
   "outputs": [
    {
     "name": "stdout",
     "output_type": "stream",
     "text": [
      "La raíz es: 7.6014311795590785\n",
      "Se realizaron 23 iteraciones\n"
     ]
    }
   ],
   "source": [
    "raíz,it,sol=fixpoint(h,7.5)\n",
    "print(\"La raíz es:\",raíz)\n",
    "print(\"Se realizaron\",it,\"iteraciones\")"
   ]
  },
  {
   "cell_type": "markdown",
   "metadata": {},
   "source": [
    "### Conclusión\n",
    "Se consideraron tres manipulaciones de la función $F(x)=e^{x/3}-(x+5)$ para aplicar el método del punto fijo y así encontrar sus raíces. Con la primera manipulación, $f(x)=e^{x/3}-5$, se obtiene la primera raíz en 13 iteraciones pero falla al encontrar la segunda (de hecho lo que hace es encontrar nuevamente la primera) en 18 iteraciones. La segunda manipulación, $g(x)=2x+5-e^{x/3}$, falla a la hora de encontrar las dos raíces, superando las 99 iteraciones. Finalmente, la tercera manipulación, $h(x)=3\\ln(x+5)$, falla al encontrar la primera raíz (de hecho lo que hace es encontrar la segunda) en 28 iteraciones pero obtiene la segunda raíz en 23 iteraciones. \n",
    "\n",
    "Teniendo en cuenta lo anterior, se puede decir que la primera manipulación es la más efectiva para determinar la primera raíz y la tercera manipulación es la más efectiva para encontrar la segunda raíz. De esta forma, se necesitaron dos manipulaciones diferentes de la misma función para encontrar exitosamente las dos raíces de la función por el método del punto fijo. Lo que indica que el éxito del método recae de gran manera en la escogencia adecuada de la manipulación a usar de la función."
   ]
  }
 ],
 "metadata": {
  "kernelspec": {
   "display_name": "Python 3",
   "language": "python",
   "name": "python3"
  },
  "language_info": {
   "codemirror_mode": {
    "name": "ipython",
    "version": 3
   },
   "file_extension": ".py",
   "mimetype": "text/x-python",
   "name": "python",
   "nbconvert_exporter": "python",
   "pygments_lexer": "ipython3",
   "version": "3.6.4"
  }
 },
 "nbformat": 4,
 "nbformat_minor": 2
}
