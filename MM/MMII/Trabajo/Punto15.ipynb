{
 "cells": [
  {
   "cell_type": "markdown",
   "metadata": {},
   "source": [
    "## Punto 15\n",
    "Importemos primero las librerias necesarias:"
   ]
  },
  {
   "cell_type": "code",
   "execution_count": 1,
   "metadata": {},
   "outputs": [],
   "source": [
    "from scipy.linalg import hilbert,invhilbert\n",
    "import numpy as np\n",
    "from numpy import linalg as l\n",
    "import math"
   ]
  },
  {
   "cell_type": "markdown",
   "metadata": {},
   "source": [
    "Sea $A$ la matriz de Hilbert 10-dimensional, calculemos el condition number de la siguiente manera: $$cond(A)=||A||_\\infty\\cdot ||A^{-1}||_\\infty$$\n",
    "Donde $||\\cdot||_\\infty$ es la norma infinito:"
   ]
  },
  {
   "cell_type": "code",
   "execution_count": 2,
   "metadata": {},
   "outputs": [
    {
     "name": "stdout",
     "output_type": "stream",
     "text": [
      "El condition number para la matriz de Hilbert 10-dimensional es 1.4572440094689449e+26\n"
     ]
    }
   ],
   "source": [
    "A=l.norm(hilbert(10), np.inf)\n",
    "B=A=l.norm(invhilbert(10), np.inf)\n",
    "print(\"El condition number para la matriz de Hilbert 10-dimensional es\",A*B)"
   ]
  },
  {
   "cell_type": "markdown",
   "metadata": {},
   "source": [
    "Lo que muestra que la matriz de Hilbert está muy mal condicionada, veamos ahora cuantas figuras significativas se podría perder (aproximando por encima) por el malcondicionamiento de la matriz:"
   ]
  },
  {
   "cell_type": "code",
   "execution_count": 3,
   "metadata": {},
   "outputs": [
    {
     "name": "stdout",
     "output_type": "stream",
     "text": [
      "Se esperaría perder hasta 2.4448497511566507e+33 figuras significativas.\n"
     ]
    }
   ],
   "source": [
    "print(\"Se esperaría perder hasta\",10**(math.log10(A*B)-math.log10(2**(-24))),\"figuras significativas.\")"
   ]
  },
  {
   "cell_type": "markdown",
   "metadata": {},
   "source": [
    "Determinemos ahora la solución del sistema $Ax=b$, donde $\\displaystyle b_i=\\sum_{j=1}^{10}A_{ij}$:"
   ]
  },
  {
   "cell_type": "code",
   "execution_count": 4,
   "metadata": {},
   "outputs": [
    {
     "name": "stdout",
     "output_type": "stream",
     "text": [
      "La solución del sistema es:\n",
      "\n",
      "x 1 = 0.9999999985598518\n",
      "x 2 = 1.0000001214609484\n",
      "x 3 = 0.9999974606649096\n",
      "x 4 = 1.0000227435750897\n",
      "x 5 = 0.9998928386308716\n",
      "x 6 = 1.0002915739241025\n",
      "x 7 = 0.9995257878805062\n",
      "x 8 = 1.0004548190523932\n",
      "x 9 = 0.9997627942146571\n",
      "x 10 = 1.000051862860613\n"
     ]
    }
   ],
   "source": [
    "b=np.zeros(10)\n",
    "for i in range(10):\n",
    "    for j in range(3):\n",
    "        b[i]=np.sum(hilbert(10)[i])\n",
    "        \n",
    "C=l.solve(hilbert(10),b)\n",
    "print(\"La solución del sistema es:\\n\")\n",
    "for i in range(10):\n",
    "    print(\"x\",i+1,\"=\",C[i])"
   ]
  },
  {
   "cell_type": "markdown",
   "metadata": {},
   "source": [
    "Sabiendo que la solución exacta del sistema es $x=(1,1,1,1,1,1,1,1,1,1)^T$, veamos cuales serían los errores para cada incógnita:"
   ]
  },
  {
   "cell_type": "code",
   "execution_count": 5,
   "metadata": {},
   "outputs": [
    {
     "name": "stdout",
     "output_type": "stream",
     "text": [
      "Los errores para cada incógnita son:\n",
      "\n",
      "x 1 : 1.4401482228976192e-09\n",
      "x 2 : 1.2146094841014587e-07\n",
      "x 3 : 2.539335090423478e-06\n",
      "x 4 : 2.2743575089689827e-05\n",
      "x 5 : 0.00010716136912836127\n",
      "x 6 : 0.00029157392410250615\n",
      "x 7 : 0.00047421211949383313\n",
      "x 8 : 0.0004548190523931961\n",
      "x 9 : 0.00023720578534291992\n",
      "x 10 : 5.18628606129834e-05\n"
     ]
    }
   ],
   "source": [
    "D=np.ones(10)-C\n",
    "print(\"Los errores para cada incógnita son:\\n\")\n",
    "for i in range(10):\n",
    "    print(\"x\",i+1,\":\",abs(D[i]))"
   ]
  },
  {
   "cell_type": "markdown",
   "metadata": {},
   "source": [
    "Estos valores de los errores verifican el mal condicionamiento del sistema previsto por el condition number ya que se presentan errores en la solución en el orden entre $10^{-4}$ y $10^{-9}$ debido a los distintos errores de redondeo en el proceso de solución del sistema."
   ]
  }
 ],
 "metadata": {
  "kernelspec": {
   "display_name": "Python 3",
   "language": "python",
   "name": "python3"
  },
  "language_info": {
   "codemirror_mode": {
    "name": "ipython",
    "version": 3
   },
   "file_extension": ".py",
   "mimetype": "text/x-python",
   "name": "python",
   "nbconvert_exporter": "python",
   "pygments_lexer": "ipython3",
   "version": "3.6.4"
  }
 },
 "nbformat": 4,
 "nbformat_minor": 2
}
