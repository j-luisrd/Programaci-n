{
 "cells": [
  {
   "cell_type": "markdown",
   "metadata": {},
   "source": [
    "## Punto 14\n",
    "Importemos primero los paquetes necesarios:"
   ]
  },
  {
   "cell_type": "code",
   "execution_count": 1,
   "metadata": {},
   "outputs": [],
   "source": [
    "import numpy as np\n",
    "import math"
   ]
  },
  {
   "cell_type": "markdown",
   "metadata": {},
   "source": [
    "Reacomodamos el sistema de la siguiente manera para lograr la convergencia:\n",
    "\\begin{equation*}\n",
    "\\left\\{\n",
    "\\begin{aligned}\n",
    "-8x+y-2z=-20\\\\\n",
    "2x-6y-z=-38\\\\\n",
    "-3x-y+7z=-34\n",
    "\\end{aligned}\n",
    "\\right.\n",
    "\\end{equation*}\n",
    "Con lo que quedan las siguientes fórmulas iterativas para el método de Gauss-Seidel:\n",
    "$$x=\\frac{-20-y+2z}{-8}\\qquad y=\\frac{-38-2x+z}{-6}\\qquad z=\\frac{-34+3x+y}{7}$$\n",
    "Escribimos ahora la función que reproducirá el método de Gauss-Seidel así como sus fórmulas iterativas:"
   ]
  },
  {
   "cell_type": "code",
   "execution_count": 2,
   "metadata": {},
   "outputs": [],
   "source": [
    "def gaussSeidel(x,omega,tol = 1.0e-4):\n",
    "    for i in range(1,1501):\n",
    "        xOld = x.copy()\n",
    "        x = iterEqs(x,omega)\n",
    "        dx = math.sqrt(np.dot(x-xOld,x-xOld))\n",
    "        if dx < tol: \n",
    "            return x,i,omega\n",
    "    print(\"Gauss-Seidel falló para converger.\")\n",
    "\n",
    "def iterEqs(x,omega):\n",
    "    x[0]=((omega/(-8))*(-20-x[1]+2*x[2]))+((1-omega)*x[0])\n",
    "    x[1]=((omega/(-6))*(-38-2*x[0]+x[2]))+((1-omega)*x[1])\n",
    "    x[2]=((omega/7)*(-34+3*x[0]+x[1]))+((1-omega)*x[2])\n",
    "    return x"
   ]
  },
  {
   "cell_type": "markdown",
   "metadata": {},
   "source": [
    "Para el caso sin relajación tenemos que $\\omega=1$, con lo que nos queda:"
   ]
  },
  {
   "cell_type": "code",
   "execution_count": 3,
   "metadata": {},
   "outputs": [
    {
     "name": "stdout",
     "output_type": "stream",
     "text": [
      "Número de iteraciones = 7\n",
      "Factor de relajación = 1\n",
      "La solución es:\n",
      "x 1 = 3.9999989880285733\n",
      "x 2 = 7.999999674416637\n",
      "x 3 = -2.0000004802139486\n"
     ]
    }
   ],
   "source": [
    "x = np.zeros(3)\n",
    "x,numIter,omega = gaussSeidel(x,1)\n",
    "print(\"Número de iteraciones =\",numIter)\n",
    "print(\"Factor de relajación =\",omega)\n",
    "print(\"La solución es:\")\n",
    "for i in range(len(x)):\n",
    "    print(\"x\",i+1,\"=\",x[i])"
   ]
  },
  {
   "cell_type": "markdown",
   "metadata": {},
   "source": [
    "Para el caso con relajación para $\\omega=1.2$ tenemos:"
   ]
  },
  {
   "cell_type": "code",
   "execution_count": 4,
   "metadata": {},
   "outputs": [
    {
     "name": "stdout",
     "output_type": "stream",
     "text": [
      "Número de iteraciones = 14\n",
      "Factor de relajación = 1.2\n",
      "La solución es:\n",
      "x 1 = 4.000005508280296\n",
      "x 2 = 8.000017526884896\n",
      "x 3 = -1.999987887176437\n"
     ]
    }
   ],
   "source": [
    "x = np.zeros(3)\n",
    "x,numIter,omega = gaussSeidel(x,1.2)\n",
    "print(\"Número de iteraciones =\",numIter)\n",
    "print(\"Factor de relajación =\",omega)\n",
    "print(\"La solución es:\")\n",
    "for i in range(len(x)):\n",
    "    print(\"x\",i+1,\"=\",x[i])"
   ]
  },
  {
   "cell_type": "markdown",
   "metadata": {},
   "source": [
    "Para una tolerancia de 0.01% y después de reacomodar las ecuaciones el método converge más rápido cuando se usa sin relajación ya que toma 7 iteraciones, en comparación cuando se relaja, que toma el doble de iteraciones."
   ]
  }
 ],
 "metadata": {
  "kernelspec": {
   "display_name": "Python 3",
   "language": "python",
   "name": "python3"
  },
  "language_info": {
   "codemirror_mode": {
    "name": "ipython",
    "version": 3
   },
   "file_extension": ".py",
   "mimetype": "text/x-python",
   "name": "python",
   "nbconvert_exporter": "python",
   "pygments_lexer": "ipython3",
   "version": "3.6.4"
  }
 },
 "nbformat": 4,
 "nbformat_minor": 2
}
