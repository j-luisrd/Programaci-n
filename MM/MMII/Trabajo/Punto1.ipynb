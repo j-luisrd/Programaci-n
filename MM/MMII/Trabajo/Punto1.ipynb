{
 "cells": [
  {
   "cell_type": "code",
   "execution_count": 98,
   "metadata": {},
   "outputs": [],
   "source": [
    "def deci(n):  \n",
    "    \"Convierte números enteros en decimales.\"\n",
    "    while n > 1: \n",
    "        n=n/10\n",
    "    return n \n",
    "\n",
    "def conv_bin(num):\n",
    "    \"Convierte un número real (en string) a binario.\"\n",
    "    try:\n",
    "        ent,dec=num.split(\".\") \n",
    "        ent=int(ent) \n",
    "        dec=int(dec) \n",
    "        binario=bin(ent).lstrip(\"0b\") + \".\"\n",
    "    except ValueError:\n",
    "        ent=int(num)\n",
    "        dec=0\n",
    "        binario=bin(ent)[2:]\n",
    "    while dec!=0:\n",
    "        ent,dec=str((deci(dec))*2).split(\".\")\n",
    "        dec=int(dec) \n",
    "        binario=binario+ent\n",
    "        if len(binario)==53:\n",
    "            return binario\n",
    "    return binario\n",
    "conv_bin(num)\n",
    "\n",
    "def Exp(num):\n",
    "    \"Calcula el número de dígitos antes del punto menos la unidad.\"\n",
    "    for i in range(len(num)):\n",
    "        if num[i]==\".\":\n",
    "            return i-1\n",
    "        else:\n",
    "            return len(num)-1\n",
    "        \n",
    "def est(exp,num,bits):\n",
    "    \"Representa el número dado según el número de bits deseados\"\n",
    "    if bits==\"32\":\n",
    "        if 8<len(exp):\n",
    "            exp=exp[:8]\n",
    "        if len(exp)<8:\n",
    "            j=27\n",
    "            for i in range(8-len(exp)):\n",
    "                exp+=\"0\"\n",
    "        if 23<len(num):\n",
    "            num=num[0:23]\n",
    "        if len(num)<23:\n",
    "            for i in range(23-len(num)):\n",
    "                num+=\"0\"\n",
    "    return exp,num"
   ]
  },
  {
   "cell_type": "code",
   "execution_count": 111,
   "metadata": {},
   "outputs": [],
   "source": [
    "def flot(num,bits):\n",
    "    \"Recibe un número real y muestra su representación en el estándar IEEE de punto flotante.\"\n",
    "    sig=str(num)[0]\n",
    "    num=str(num).lstrip(sig)\n",
    "    print(num)\n",
    "    num=conv_bin(num)\n",
    "    print(num)\n",
    "    exp=Exp(num)+127\n",
    "    try:\n",
    "        num1,num2=num[1:].split(\".\")\n",
    "        num=num1+num2\n",
    "    except ValueError:\n",
    "        num=num[1:]        \n",
    "    exp=conv_bin(str(exp))\n",
    "    if sig==\"+\":\n",
    "        sig=\"0\"\n",
    "    else:\n",
    "        sig=\"1\"\n",
    "    exp,num=est(exp,num,bits)\n",
    "    rep=sig+exp+num\n",
    "    return rep"
   ]
  },
  {
   "cell_type": "code",
   "execution_count": 113,
   "metadata": {},
   "outputs": [
    {
     "name": "stdout",
     "output_type": "stream",
     "text": [
      "0\n",
      "0\n",
      "01111111000000000000000000000000\n"
     ]
    }
   ],
   "source": [
    "num=input(\"Escriba el número con su signo:\")\n",
    "bits=input(\"¿En cuánto bits quisiera almacenar el número?\")\n",
    "print(flot(num,bits))\n",
    "#Empezar con valores especiales!"
   ]
  }
 ],
 "metadata": {
  "kernelspec": {
   "display_name": "Python 3",
   "language": "python",
   "name": "python3"
  },
  "language_info": {
   "codemirror_mode": {
    "name": "ipython",
    "version": 3
   },
   "file_extension": ".py",
   "mimetype": "text/x-python",
   "name": "python",
   "nbconvert_exporter": "python",
   "pygments_lexer": "ipython3",
   "version": "3.6.4"
  }
 },
 "nbformat": 4,
 "nbformat_minor": 2
}
