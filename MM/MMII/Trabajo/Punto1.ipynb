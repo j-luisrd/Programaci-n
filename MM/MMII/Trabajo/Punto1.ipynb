{
 "cells": [
  {
   "cell_type": "markdown",
   "metadata": {},
   "source": [
    "## Punto 1\n",
    "Escribamos primero las funciones que usaremos en la rutina:"
   ]
  },
  {
   "cell_type": "code",
   "execution_count": 1,
   "metadata": {},
   "outputs": [],
   "source": [
    "import math\n",
    "\n",
    "def deci(n):\n",
    "    \"Convierte números (en string) en decimales.\"\n",
    "    decimal=\"0.\"+n\n",
    "    decimal=float(decimal)\n",
    "    return decimal\n",
    "\n",
    "def conv_bin(num):\n",
    "    \"Convierte un número real (en string) a binario.\"\n",
    "    try:\n",
    "        ent,dec=num.split(\".\") \n",
    "        ent=int(ent)  \n",
    "        binario=bin(ent).lstrip(\"0b\") + \".\"\n",
    "    except ValueError:\n",
    "        ent=int(num)\n",
    "        dec=\"0\"\n",
    "        binario=bin(ent)[2:]\n",
    "    while dec!=\"0\":\n",
    "        ent,dec=str((deci(dec))*2).split(\".\")\n",
    "        binario=binario+ent\n",
    "        if len(binario)==53:\n",
    "            return binario\n",
    "    return binario\n",
    "   \n",
    "def est(exp,num,bits):\n",
    "    \"Representa el número dado según el número de bits deseados\"\n",
    "    if bits==\"16\":\n",
    "        if 5<len(exp):\n",
    "            exp=exp[:5]\n",
    "        if len(exp)<5:\n",
    "            for i in range(5-len(exp)):\n",
    "                exp=\"0\"+exp\n",
    "        if 10<len(num):\n",
    "            num=num[0:10]\n",
    "        if len(num)<10:\n",
    "            for i in range(10-len(num)):\n",
    "                num+=\"0\"\n",
    "    \n",
    "    if bits==\"32\":\n",
    "        if 8<len(exp):\n",
    "            exp=exp[:8]\n",
    "        if len(exp)<8:\n",
    "            for i in range(8-len(exp)):\n",
    "                exp=\"0\"+exp\n",
    "        if 23<len(num):\n",
    "            num=num[0:23]\n",
    "        if len(num)<23:\n",
    "            for i in range(23-len(num)):\n",
    "                num+=\"0\"\n",
    "                \n",
    "    if bits==\"64\":\n",
    "        if 11<len(exp):\n",
    "            exp=exp[:11]\n",
    "        if len(exp)<11:\n",
    "            for i in range(11-len(exp)):\n",
    "                exp=\"0\"+exp\n",
    "        if 52<len(num):\n",
    "            num=num[0:52]\n",
    "        if len(num)<52:\n",
    "            for i in range(52-len(num)):\n",
    "                num+=\"0\"\n",
    "    return exp,num\n",
    "\n",
    "def flot(num,bits):\n",
    "    \"Recibe un número real y muestra su representación en el estándar IEEE de punto flotante.\"\n",
    "    sig=num[0]\n",
    "    num=num.lstrip(sig)\n",
    "    if num!=\"0\" and num!=\"inf\":\n",
    "        m,e=math.frexp(float(num))\n",
    "        num=conv_bin(str(m))[2:]\n",
    "        if bits==\"16\":\n",
    "            exp=e+14\n",
    "        if bits==\"32\":\n",
    "            exp=e+126\n",
    "        if bits==\"64\":\n",
    "            exp=e+1022\n",
    "        exp=conv_bin(str(exp))\n",
    "    if num==\"0\":\n",
    "        exp=\"0\"\n",
    "    if num==\"inf\":\n",
    "        exp=\"1\"*11\n",
    "        num=\"0\"\n",
    "    if sig==\"+\":\n",
    "        sig=\"0\"\n",
    "    else:\n",
    "        sig=\"1\"\n",
    "    exp,num=est(exp,num,bits)\n",
    "    rep=sig+exp+num\n",
    "    return rep"
   ]
  },
  {
   "cell_type": "markdown",
   "metadata": {},
   "source": [
    "A continuación pedimos al usuario el número con su signo y los bits en los que quiere representar el número. Usamos esos datos en las funciones anteriores y se devuelve la representación del número en el estándar IEEE:"
   ]
  },
  {
   "cell_type": "code",
   "execution_count": 2,
   "metadata": {},
   "outputs": [
    {
     "name": "stdout",
     "output_type": "stream",
     "text": [
      "La representación en el estándar IEEE de +inf en 32 bits es: 01111111100000000000000000000000\n"
     ]
    }
   ],
   "source": [
    "num=input(\"Escriba el número con su signo (Ej: +59.856 o -inf):\")\n",
    "bits=input(\"¿En cuánto bits quisiera almacenar el número, 16, 32 ó 64?\")\n",
    "print(\"La representación en el estándar IEEE de\",num,\"en\",bits,\"bits es:\",flot(num,bits))"
   ]
  }
 ],
 "metadata": {
  "kernelspec": {
   "display_name": "Python 3",
   "language": "python",
   "name": "python3"
  },
  "language_info": {
   "codemirror_mode": {
    "name": "ipython",
    "version": 3
   },
   "file_extension": ".py",
   "mimetype": "text/x-python",
   "name": "python",
   "nbconvert_exporter": "python",
   "pygments_lexer": "ipython3",
   "version": "3.6.4"
  }
 },
 "nbformat": 4,
 "nbformat_minor": 2
}
