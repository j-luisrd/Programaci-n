{
 "cells": [
  {
   "cell_type": "markdown",
   "metadata": {},
   "source": [
    "## Punto 12\n",
    "En el siguiente experimento compararemos la eficacia de los siguientes métodos de resolución de sistemas de ecuaciones lineales: eliminación gaussiana con y sin pivote, eliminación de Gauss-Jordan con y sin pivote, descomposición de Doolittle con y sin pivote, y descomposición de Choleski. Para la comparación usaremos tres sistemas de ecuaciones a partir de tres matrices con diferentes características que nos ayudarán a realizar un mejor anális de la eficacia de los métodos anteriores. Empecemos primero por importar las librerías y declarar las funciones a usar:"
   ]
  },
  {
   "cell_type": "code",
   "execution_count": 1,
   "metadata": {},
   "outputs": [],
   "source": [
    "import numpy as np\n",
    "import math \n",
    "import time"
   ]
  },
  {
   "cell_type": "code",
   "execution_count": 2,
   "metadata": {},
   "outputs": [],
   "source": [
    "def gaussElimin(A,B):\n",
    "    \"Resuelve Ax=B por eliminación gaussiana.\"\n",
    "    a=A.copy()\n",
    "    b=B.copy()\n",
    "    n = len(a[1])\n",
    "    it=0\n",
    "    #Fase de eliminación\n",
    "    for k in range(0,n-1):\n",
    "        for i in range(k+1,n):\n",
    "            if a[k,k]==0:\n",
    "                return \"Un elemento diagonal es cero, no se puede realizar eliminación gaussiana.\"\n",
    "            lam=a[i,k]/a[k,k]\n",
    "            a[i]=a[i] - lam*a[k]\n",
    "            b[i]=b[i] - lam*b[k]\n",
    "            it+=1\n",
    "    #Fase de sustitución\n",
    "    for k in range(n-1,-1,-1):\n",
    "        b[k] = (b[k] - np.dot(a[k,k+1:n],b[k+1:n]))/a[k,k]\n",
    "        it+=1\n",
    "    return b,it\n",
    "\n",
    "def gaussJordan(A,B):\n",
    "    \"Resuelve Ax=B por Gauss-Jordan.\"\n",
    "    a=A.copy()\n",
    "    b=B.copy()\n",
    "    n = len(a[1])\n",
    "    it=0\n",
    "    #Fase de eliminación\n",
    "    for k in range(n-1):\n",
    "        for i in range(k+1,n):\n",
    "            if a[k,k]==0:\n",
    "                return \"Un elemento diagonal es cero, no se puede realizar Gauss-Jordan.\"\n",
    "            lam=a[i,k]/a[k,k]\n",
    "            a[i]=a[i]-lam*a[k]\n",
    "            b[i]=b[i]-lam*b[k]\n",
    "            it+=1\n",
    "    for k in range(1,n):\n",
    "        for i in range(n):\n",
    "            if a[i,k]!=a[k,k]:\n",
    "                lam=a[i,k]/a[k,k]\n",
    "                a[i]=a[i]-lam*a[k]\n",
    "                b[i]=b[i]-lam*b[k]\n",
    "                it+=1\n",
    "    #Fase de sustitución\n",
    "    for i in range(n):\n",
    "        b[i]=b[i]/a[i,i]\n",
    "        it+=1\n",
    "    return b,it\n",
    "\n",
    "def LU(A,B):\n",
    "    \"Resuelve un sistema de ecuaciones por descomposición LU usando el método de Doolittle para una matriz a.\"\n",
    "    a=A.copy()\n",
    "    b=B.copy()\n",
    "    n = len(a)\n",
    "    it=0\n",
    "    for k in range(0,n-1):\n",
    "        for i in range(k+1,n):\n",
    "            if a[k,k]==0:\n",
    "                return \"Un elemento diagonal es cero, no se puede realizar la descomposición LU de Doolittle.\"\n",
    "            lam=a[i,k]/a[k,k]\n",
    "            a[i,k+1:n]=a[i,k+1:n] - lam*a[k,k+1:n]\n",
    "            a[i,k] = lam\n",
    "            it+=1\n",
    "    for k in range(1,n):\n",
    "        b[k] = b[k] - np.dot(a[k,0:k],b[0:k])\n",
    "        it+=1\n",
    "    b[n-1] = b[n-1]/a[n-1,n-1]\n",
    "    for k in range(n-2,-1,-1):\n",
    "        b[k] = (b[k] - np.dot(a[k,k+1:n],b[k+1:n]))/a[k,k]\n",
    "        it+=1\n",
    "    return b,it\n",
    "\n",
    "def choleski(A,B):\n",
    "    \"Soluciona un sistema de ecuaciones por medio de la descomposición de Choleski.\"\n",
    "    a=A.copy()\n",
    "    b=B.copy()\n",
    "    n = len(a)\n",
    "    it=0\n",
    "    for i in range(n):\n",
    "        for j in range(n):\n",
    "            if a[i,j]!=a[j,i]:\n",
    "                return \"La matriz no es simétrica, no se puede realizar la descomposición de Choleski.\"\n",
    "        it+=1\n",
    "    for k in range(n):\n",
    "        try:\n",
    "            a[k,k] = math.sqrt(a[k,k]- np.dot(a[k,0:k],a[k,0:k]))\n",
    "        except ValueError:\n",
    "            return \"La matriz no es definida positiva, no se puede realizar la descomposición de Choleski.\"\n",
    "        for i in range(k+1,n):\n",
    "            a[i,k] = (a[i,k] - np.dot(a[i,0:k],a[k,0:k]))/a[k,k]\n",
    "            it+=1\n",
    "    for k in range(1,n): \n",
    "        a[0:k,k] = 0.0\n",
    "        it+=1\n",
    "    \n",
    "    n = len(b)\n",
    "    for k in range(n):\n",
    "        b[k] = (b[k] - np.dot(a[k,0:k],b[0:k]))/a[k,k]\n",
    "        it+=1\n",
    "    for k in range(n-1,-1,-1):\n",
    "        b[k] = (b[k] - np.dot(a[k+1:n,k],b[k+1:n]))/a[k,k]\n",
    "        it+=1\n",
    "    return b,it\n",
    "\n",
    "def swapRows(v,i,j):\n",
    "    \"Cambio de filas para pivotear.\"\n",
    "    if len(v.shape) == 1:\n",
    "        v[i],v[j] = v[j],v[i]\n",
    "    else:\n",
    "        v[[i,j],:] = v[[j,i],:]\n",
    "\n",
    "def GaussPivot(A,B,tol=1.0e-12):\n",
    "    \"Resuelve Ax=B por eliminación gaussiana con pivote.\"\n",
    "    a=A.copy()\n",
    "    b=B.copy()\n",
    "    n = len(b)\n",
    "    it=0\n",
    "    #Calculando los factores de escala\n",
    "    s = np.zeros(n)\n",
    "    for i in range(n):\n",
    "        s[i] = max(np.abs(a[i,:]))\n",
    "        it+=1\n",
    "        \n",
    "    for k in range(0,n-1):\n",
    "        #Intercambio de filas si es necesario\n",
    "        p = np.argmax(np.abs(a[k:n,k])/s[k:n]) + k\n",
    "        if abs(a[p,k]) < tol: \n",
    "            return \"La matriz es singular.\"\n",
    "        if p != k:\n",
    "            swapRows(b,k,p)\n",
    "            swapRows(s,k,p)\n",
    "            swapRows(a,k,p)\n",
    "        it+=1\n",
    "            \n",
    "        #Eliminación\n",
    "        for i in range(k+1,n):\n",
    "            lam = a[i,k]/a[k,k]\n",
    "            a[i] = a[i] - lam*a[k]\n",
    "            b[i] = b[i] - lam*b[k]\n",
    "            it+=1\n",
    "            \n",
    "    if abs(a[n-1,n-1]) < tol: \n",
    "        return \"La matriz es singular.\"\n",
    "        \n",
    "    #Sustitución\n",
    "    b[n-1] = b[n-1]/a[n-1,n-1]\n",
    "    for k in range(n-2,-1,-1):\n",
    "        b[k] = (b[k] - np.dot(a[k,k+1:n],b[k+1:n]))/a[k,k]\n",
    "        it+=1\n",
    "    return b,it\n",
    "\n",
    "def JordanPivot(A,B,tol=1.0e-12):\n",
    "    \"Resuelve Ax=B por Gauss-Jordan con pivote.\"\n",
    "    a=A.copy()\n",
    "    b=B.copy()\n",
    "    n = len(b)\n",
    "    it=0\n",
    "    #Calculando los factores de escala\n",
    "    s = np.zeros(n)\n",
    "    for i in range(n):\n",
    "        s[i] = max(np.abs(a[i,:]))\n",
    "        it+=1\n",
    "        \n",
    "    for k in range(0,n-1):\n",
    "        #Intercambio de filas si es necesario\n",
    "        p = np.argmax(np.abs(a[k:n,k])/s[k:n]) + k\n",
    "        if abs(a[p,k]) < tol: \n",
    "            return \"La matriz es singular.\"\n",
    "        if p != k:\n",
    "            swapRows(b,k,p)\n",
    "            swapRows(s,k,p)\n",
    "            swapRows(a,k,p)\n",
    "        it+=1\n",
    "            \n",
    "        #Eliminación\n",
    "        for i in range(k+1,n):\n",
    "            lam = a[i,k]/a[k,k]\n",
    "            a[i] = a[i] - lam*a[k]\n",
    "            b[i] = b[i] - lam*b[k]\n",
    "            it+=1\n",
    "    if abs(a[n-1,n-1]) < tol: \n",
    "        return \"La matriz es singular.\"\n",
    "        \n",
    "    for k in range(1,n):\n",
    "        for i in range(n):\n",
    "            if a[i,k]!=a[k,k]:\n",
    "                lam=a[i,k]/a[k,k]\n",
    "                a[i]=a[i]-lam*a[k]\n",
    "                b[i]=b[i]-lam*b[k]\n",
    "            it+=1\n",
    "    \n",
    "    #Fase de sustitución\n",
    "    for i in range(n):\n",
    "        b[i]=b[i]/a[i,i]\n",
    "        it+=1\n",
    "    return b,it\n",
    "\n",
    "def LUPivot(A,B,tol=1.0e-9):\n",
    "    \"Resuelve un sistema de ecuaciones por el método de Doolittle con pívote.\"\n",
    "    a=A.copy()\n",
    "    b=B.copy()\n",
    "    n = len(a)\n",
    "    it=0\n",
    "    seq = np.array(range(n))\n",
    "    \n",
    "    #Calculando los factores de escala\n",
    "    s = np.zeros((n))\n",
    "    for i in range(n):\n",
    "        s[i] = max(abs(a[i,:]))\n",
    "        it+=1\n",
    "        \n",
    "    for k in range(0,n-1):\n",
    "        #Intercambio de filas si es necesario\n",
    "        p = np.argmax(np.abs(a[k:n,k])/s[k:n]) + k\n",
    "        if abs(a[p,k]) < tol: \n",
    "            return \"La matriz es singular.\"\n",
    "        if p != k:\n",
    "            swapRows(s,k,p)\n",
    "            swapRows(a,k,p)\n",
    "            swapRows(seq,k,p)\n",
    "        it+=1\n",
    "        \n",
    "        #Eliminación\n",
    "        for i in range(k+1,n):\n",
    "            if a[i,k] != 0.0:\n",
    "                lam = a[i,k]/a[k,k]\n",
    "                a[i,k+1:n] = a[i,k+1:n] - lam*a[k,k+1:n]\n",
    "                a[i,k] = lam\n",
    "            it+=1\n",
    "    #Rearreglando el vector b\n",
    "    x = b.copy()\n",
    "    for i in range(n):\n",
    "        x[i] = b[seq[i]]\n",
    "        it+=1\n",
    "        \n",
    "    #Solución\n",
    "    for k in range(1,n):\n",
    "        x[k] = x[k] - np.dot(a[k,0:k],x[0:k])\n",
    "        it+=1\n",
    "    x[n-1] = x[n-1]/a[n-1,n-1]\n",
    "    for k in range(n-2,-1,-1):\n",
    "        x[k] = (x[k] - np.dot(a[k,k+1:n],x[k+1:n]))/a[k,k]\n",
    "        it+=1\n",
    "    return x,it\n",
    "\n",
    "def res(f):\n",
    "    \"Muestra la respuesta de un sistema de ecuaciones, el tiempo tomado y el número de iteraciones para los métodos dados.\"\n",
    "    start=time.time()\n",
    "    x,it=f\n",
    "    end=time.time()\n",
    "    print(\"La solución del sistema es:\")\n",
    "    for i in range(3):\n",
    "        print(\"x\",i+1,\"=\",x[i])\n",
    "    print(\"Se realizaron\",it,\"iteraciones en\",end-start,\"segundos.\")"
   ]
  },
  {
   "cell_type": "markdown",
   "metadata": {},
   "source": [
    "Usaremos las siguientes matrices:\n",
    "$$\n",
    "A=\\begin{pmatrix}\n",
    "4 & -2 & 2\\\\\n",
    "-2 &  1 & 3\\\\\n",
    "2 & -2 & 2\n",
    "  \\end{pmatrix}\n",
    "\\qquad\n",
    "B=\\begin{pmatrix}\n",
    "9 & -6 & 6\\\\\n",
    "-6 &  5 & -1\\\\\n",
    "6 & -1 & 15\n",
    "  \\end{pmatrix}\n",
    "\\qquad\n",
    "C=\\begin{pmatrix}\n",
    "9 & -6 & 6\\\\\n",
    "-6 &  5 & -1\\\\\n",
    "6 & -1 & 12\n",
    "  \\end{pmatrix}\n",
    "$$\n",
    "Los sistemas a analizar serán $Ax=d$, $Bx=d$ y $Cx=d$, donde $x=(1,2,3)^T$. Declaremos entonces las matrices a trabajar: "
   ]
  },
  {
   "cell_type": "code",
   "execution_count": 3,
   "metadata": {},
   "outputs": [],
   "source": [
    "A=np.array([[4,-2,2],[-2,1,3],[2,-2,2]],dtype=float)\n",
    "B=np.array([[9,-6,6],[-6,5,-1],[6,-1,15]],dtype=float)\n",
    "C=np.array([[9,-6,6],[-6,5,-1],[6,-1,12]],dtype=float)\n",
    "d=np.array([1,2,3],dtype=float)"
   ]
  },
  {
   "cell_type": "markdown",
   "metadata": {},
   "source": [
    "Considerando el sistema $Ax=d$ podemos ver que los métodos sin pivote y la descomposición de Choleski fracasan. En el caso de los métodos de eliminación y la descomposición de Doolittle, al realizar la primera eliminación un elemento diagonal se vuelve cero y como no se puede pivotear, el método no puede continuar. No es posible realizar la descomposición de Choleski puesto que la matriz $A$ no es simétrica. Comprobemos lo anterior:"
   ]
  },
  {
   "cell_type": "code",
   "execution_count": 4,
   "metadata": {},
   "outputs": [
    {
     "name": "stdout",
     "output_type": "stream",
     "text": [
      "Un elemento diagonal es cero, no se puede realizar eliminación gaussiana.\n",
      "Un elemento diagonal es cero, no se puede realizar Gauss-Jordan.\n",
      "Un elemento diagonal es cero, no se puede realizar la descomposición LU de Doolittle.\n",
      "La matriz no es simétrica, no se puede realizar la descomposición de Choleski.\n"
     ]
    }
   ],
   "source": [
    "print(gaussElimin(A,d))\n",
    "print(gaussJordan(A,d))\n",
    "print(LU(A,d))\n",
    "print(choleski(A,d))"
   ]
  },
  {
   "cell_type": "markdown",
   "metadata": {},
   "source": [
    "Probemos ahora los métodos con pívote:"
   ]
  },
  {
   "cell_type": "code",
   "execution_count": 5,
   "metadata": {},
   "outputs": [
    {
     "name": "stdout",
     "output_type": "stream",
     "text": [
      "La solución del sistema es:\n",
      "x 1 = -1.0\n",
      "x 2 = -1.875\n",
      "x 3 = 0.625\n",
      "Se realizaron 10 iteraciones en 1.6689300537109375e-06 segundos.\n"
     ]
    }
   ],
   "source": [
    "res(GaussPivot(A,d))"
   ]
  },
  {
   "cell_type": "code",
   "execution_count": 6,
   "metadata": {},
   "outputs": [
    {
     "name": "stdout",
     "output_type": "stream",
     "text": [
      "La solución del sistema es:\n",
      "x 1 = -1.0\n",
      "x 2 = -1.875\n",
      "x 3 = 0.625\n",
      "Se realizaron 17 iteraciones en 1.430511474609375e-06 segundos.\n"
     ]
    }
   ],
   "source": [
    "res(JordanPivot(A,d))"
   ]
  },
  {
   "cell_type": "code",
   "execution_count": 7,
   "metadata": {},
   "outputs": [
    {
     "name": "stdout",
     "output_type": "stream",
     "text": [
      "La solución del sistema es:\n",
      "x 1 = -1.0\n",
      "x 2 = -1.875\n",
      "x 3 = 0.625\n",
      "Se realizaron 15 iteraciones en 9.5367431640625e-07 segundos.\n"
     ]
    }
   ],
   "source": [
    "res(LUPivot(A,d))"
   ]
  },
  {
   "cell_type": "markdown",
   "metadata": {},
   "source": [
    "Podemos ver los tres métodos llegan a la solución pero quien realiza menos iteraciones es la eliminación gaussiana con pivote y el más rápido es la descomposición de Doolittle con pivote. Veamos ahora los métodos para el sistema $Bx=d$:"
   ]
  },
  {
   "cell_type": "code",
   "execution_count": 8,
   "metadata": {},
   "outputs": [
    {
     "name": "stdout",
     "output_type": "stream",
     "text": [
      "La solución del sistema es:\n",
      "x 1 = 9.444444444444445\n",
      "x 2 = 11.166666666666666\n",
      "x 3 = -2.833333333333333\n",
      "Se realizaron 6 iteraciones en 1.1920928955078125e-06 segundos.\n"
     ]
    }
   ],
   "source": [
    "res(gaussElimin(B,d))"
   ]
  },
  {
   "cell_type": "code",
   "execution_count": 9,
   "metadata": {},
   "outputs": [
    {
     "name": "stdout",
     "output_type": "stream",
     "text": [
      "La solución del sistema es:\n",
      "x 1 = 9.444444444444445\n",
      "x 2 = 11.166666666666666\n",
      "x 3 = -2.833333333333333\n",
      "Se realizaron 10 iteraciones en 1.430511474609375e-06 segundos.\n"
     ]
    }
   ],
   "source": [
    "res(gaussJordan(B,d))"
   ]
  },
  {
   "cell_type": "code",
   "execution_count": 10,
   "metadata": {},
   "outputs": [
    {
     "name": "stdout",
     "output_type": "stream",
     "text": [
      "La solución del sistema es:\n",
      "x 1 = 9.444444444444445\n",
      "x 2 = 11.166666666666666\n",
      "x 3 = -2.833333333333333\n",
      "Se realizaron 7 iteraciones en 7.152557373046875e-07 segundos.\n"
     ]
    }
   ],
   "source": [
    "res(LU(B,d))"
   ]
  },
  {
   "cell_type": "code",
   "execution_count": 11,
   "metadata": {},
   "outputs": [
    {
     "name": "stdout",
     "output_type": "stream",
     "text": [
      "La solución del sistema es:\n",
      "x 1 = 9.444444444444441\n",
      "x 2 = 11.166666666666663\n",
      "x 3 = -2.833333333333332\n",
      "Se realizaron 14 iteraciones en 1.430511474609375e-06 segundos.\n"
     ]
    }
   ],
   "source": [
    "res(choleski(B,d))"
   ]
  },
  {
   "cell_type": "code",
   "execution_count": 12,
   "metadata": {},
   "outputs": [
    {
     "name": "stdout",
     "output_type": "stream",
     "text": [
      "La solución del sistema es:\n",
      "x 1 = 9.444444444444446\n",
      "x 2 = 11.16666666666667\n",
      "x 3 = -2.833333333333334\n",
      "Se realizaron 10 iteraciones en 1.1920928955078125e-06 segundos.\n"
     ]
    }
   ],
   "source": [
    "res(GaussPivot(B,d))"
   ]
  },
  {
   "cell_type": "code",
   "execution_count": 13,
   "metadata": {},
   "outputs": [
    {
     "name": "stdout",
     "output_type": "stream",
     "text": [
      "La solución del sistema es:\n",
      "x 1 = 9.444444444444446\n",
      "x 2 = 11.16666666666667\n",
      "x 3 = -2.833333333333334\n",
      "Se realizaron 17 iteraciones en 9.5367431640625e-07 segundos.\n"
     ]
    }
   ],
   "source": [
    "res(JordanPivot(B,d))"
   ]
  },
  {
   "cell_type": "code",
   "execution_count": 14,
   "metadata": {},
   "outputs": [
    {
     "name": "stdout",
     "output_type": "stream",
     "text": [
      "La solución del sistema es:\n",
      "x 1 = 9.444444444444446\n",
      "x 2 = 11.16666666666667\n",
      "x 3 = -2.833333333333334\n",
      "Se realizaron 15 iteraciones en 1.1920928955078125e-06 segundos.\n"
     ]
    }
   ],
   "source": [
    "res(LUPivot(B,d))"
   ]
  },
  {
   "cell_type": "markdown",
   "metadata": {},
   "source": [
    "Note que para este sistema todos los métodos analizados podrían ser usados y llegan a la respuesta con al menos una tolerancia de $10^{-12}$. El método con menos iteraciones es la eliminación gaussiana y el más rápido es la descomposición de Doolittle sin pivote. Analicemos ahora el sistema $Cx=d$:"
   ]
  },
  {
   "cell_type": "code",
   "execution_count": 15,
   "metadata": {},
   "outputs": [
    {
     "name": "stdout",
     "output_type": "stream",
     "text": [
      "La solución del sistema es:\n",
      "x 1 = -13.222222222222221\n",
      "x 2 = -14.333333333333334\n",
      "x 3 = 5.666666666666666\n",
      "Se realizaron 6 iteraciones en 7.152557373046875e-07 segundos.\n"
     ]
    }
   ],
   "source": [
    "res(gaussElimin(C,d))"
   ]
  },
  {
   "cell_type": "code",
   "execution_count": 16,
   "metadata": {},
   "outputs": [
    {
     "name": "stdout",
     "output_type": "stream",
     "text": [
      "La solución del sistema es:\n",
      "x 1 = -13.222222222222221\n",
      "x 2 = -14.333333333333334\n",
      "x 3 = 5.666666666666666\n",
      "Se realizaron 10 iteraciones en 1.430511474609375e-06 segundos.\n"
     ]
    }
   ],
   "source": [
    "res(gaussJordan(C,d))"
   ]
  },
  {
   "cell_type": "code",
   "execution_count": 17,
   "metadata": {},
   "outputs": [
    {
     "name": "stdout",
     "output_type": "stream",
     "text": [
      "La solución del sistema es:\n",
      "x 1 = -13.222222222222221\n",
      "x 2 = -14.333333333333334\n",
      "x 3 = 5.666666666666666\n",
      "Se realizaron 7 iteraciones en 1.6689300537109375e-06 segundos.\n"
     ]
    }
   ],
   "source": [
    "res(LU(C,d))"
   ]
  },
  {
   "cell_type": "code",
   "execution_count": 18,
   "metadata": {},
   "outputs": [
    {
     "name": "stdout",
     "output_type": "stream",
     "text": [
      "La matriz no es definida positiva, no se puede realizar la descomposición de Choleski.\n"
     ]
    }
   ],
   "source": [
    "print(choleski(C,d))"
   ]
  },
  {
   "cell_type": "code",
   "execution_count": 19,
   "metadata": {},
   "outputs": [
    {
     "name": "stdout",
     "output_type": "stream",
     "text": [
      "La solución del sistema es:\n",
      "x 1 = -13.222222222222216\n",
      "x 2 = -14.333333333333327\n",
      "x 3 = 5.666666666666664\n",
      "Se realizaron 10 iteraciones en 1.430511474609375e-06 segundos.\n"
     ]
    }
   ],
   "source": [
    "res(GaussPivot(C,d))"
   ]
  },
  {
   "cell_type": "code",
   "execution_count": 20,
   "metadata": {},
   "outputs": [
    {
     "name": "stdout",
     "output_type": "stream",
     "text": [
      "La solución del sistema es:\n",
      "x 1 = -13.222222222222216\n",
      "x 2 = -14.333333333333327\n",
      "x 3 = 5.666666666666664\n",
      "Se realizaron 17 iteraciones en 1.9073486328125e-06 segundos.\n"
     ]
    }
   ],
   "source": [
    "res(JordanPivot(C,d))"
   ]
  },
  {
   "cell_type": "code",
   "execution_count": 21,
   "metadata": {},
   "outputs": [
    {
     "name": "stdout",
     "output_type": "stream",
     "text": [
      "La solución del sistema es:\n",
      "x 1 = -13.222222222222216\n",
      "x 2 = -14.333333333333327\n",
      "x 3 = 5.666666666666664\n",
      "Se realizaron 15 iteraciones en 1.6689300537109375e-06 segundos.\n"
     ]
    }
   ],
   "source": [
    "res(LUPivot(C,d))"
   ]
  },
  {
   "cell_type": "markdown",
   "metadata": {},
   "source": [
    "En este caso no es posible realizar la descomposición de Choleski ya que la matriz $C$ no es definida positiva, el resto de los métodos si es posible utilizarlos. La eliminación gaussiana realiza menos iteraciones y es el más rápido.\n",
    "### Conclusión\n",
    "Se realizó un experimento para medir y comparar la eficacia de la eliminación gaussiana con y sin pivote, la eliminación de Gauss-Jordan con y sin pivote, la descomposición de Doolittle con y sin pivote, y la descomposición de Choleski. Para el experimento se usaron tres sistemas cuyas matrices ampliadas tenían diferentes características con el fin de comparar adecuadamente los métodos.\n",
    "\n",
    "Con el experimento se llegaron a las siguiente conclusiones:\n",
    "\n",
    "-Los métodos sin pivote se encuentran límitados si en medio de la eliminación algún elemento de la diagonal se vuelve cero. Por lo que si no se conoce la naturaleza de la matriz es recomendable utilizar los métodos con pivote aunque se requieran más iteraciones o tiempo.\n",
    "\n",
    "-La descomposición de Choleski también encuentra su limitación si la matriz no es definida positiva y siḿétrica, por lo que encuentra su utilidad cuando es requerida para ciertas aplicaciones particulares donde surgen matrices de la naturaleza adecuada para el método.  "
   ]
  }
 ],
 "metadata": {
  "kernelspec": {
   "display_name": "Python 3",
   "language": "python",
   "name": "python3"
  },
  "language_info": {
   "codemirror_mode": {
    "name": "ipython",
    "version": 3
   },
   "file_extension": ".py",
   "mimetype": "text/x-python",
   "name": "python",
   "nbconvert_exporter": "python",
   "pygments_lexer": "ipython3",
   "version": "3.6.4"
  }
 },
 "nbformat": 4,
 "nbformat_minor": 2
}
