{
 "cells": [
  {
   "cell_type": "code",
   "execution_count": 1,
   "metadata": {},
   "outputs": [],
   "source": [
    "import numpy as np\n",
    "\n",
    "def LUdecomp(a):\n",
    "    \"Realiza la descomposición LU por el método de Doolittle para una matriz a.\"\n",
    "    n = len(a)\n",
    "    for k in range(0,n-1):\n",
    "        for i in range(k+1,n):\n",
    "            if a[i,k] != 0.0:\n",
    "                lam = a [i,k]/a[k,k]\n",
    "                a[i,k+1:n] = a[i,k+1:n] - lam*a[k,k+1:n]\n",
    "                a[i,k] = lam\n",
    "    return a\n",
    "\n",
    "def LUsolve(a,b):\n",
    "    \"Resuelve un sistema de ecuaciones luego de la descomposición LU\"\n",
    "    n = len(a)\n",
    "    for k in range(1,n):\n",
    "        b[k] = b[k] - np.dot(a[k,0:k],b[0:k])\n",
    "    b[n-1] = b[n-1]/a[n-1,n-1]\n",
    "    for k in range(n-2,-1,-1):\n",
    "        b[k] = (b[k] - np.dot(a[k,k+1:n],b[k+1:n]))/a[k,k]\n",
    "    return b"
   ]
  },
  {
   "cell_type": "code",
   "execution_count": 2,
   "metadata": {},
   "outputs": [],
   "source": [
    "import math\n",
    "def choleski(a):\n",
    "    \"Realiza la descomposición de Choleski para una matriz a.\"\n",
    "    n = len(a)\n",
    "    for k in range(n):\n",
    "        try:\n",
    "            a[k,k] = math.sqrt(a[k,k]- np.dot(a[k,0:k],a[k,0:k]))\n",
    "        except ValueError:\n",
    "            error.err(\"La matriz no es definida positiva.\")\n",
    "        for i in range(k+1,n):\n",
    "            a[i,k] = (a[i,k] - np.dot(a[i,0:k],a[k,0:k]))/a[k,k]\n",
    "    for k in range(1,n): a[0:k,k] = 0.0\n",
    "    return a\n",
    "\n",
    "def choleskiSol(L,b):\n",
    "    \"Soluciona un sistema de ecuaciones por medio de la descomposición de Choleski.\"\n",
    "    n = len(b)\n",
    "    for k in range(n):\n",
    "        b[k] = (b[k] - np.dot(L[k,0:k],b[0:k]))/L[k,k]\n",
    "    for k in range(n-1,-1,-1):\n",
    "        b[k] = (b[k] - np.dot(L[k+1:n,k],b[k+1:n]))/L[k,k]\n",
    "    return b"
   ]
  },
  {
   "cell_type": "markdown",
   "metadata": {},
   "source": [
    "### Ejemplo 21\n",
    "Escriba un programa que solucione $\\mathbf{AX=B}$ con el método de descomposición de Doolittle y calcule $|\\mathbf{A}|$. Pruebe el programa con\n",
    "$$\n",
    "    \\mathbf{A}=\\begin{pmatrix}\n",
    "    3 & -1 & 4\\\\\n",
    "    -2 & 0 & 5\\\\\n",
    "    7 & 2 & -2\n",
    "    \\end{pmatrix}\n",
    "    \\quad\n",
    "    \\mathbf{B}=\\begin{pmatrix}\n",
    "    6 & -4\\\\\n",
    "    3 & 2\\\\\n",
    "    7 & -5\n",
    "    \\end{pmatrix}\n",
    "$$"
   ]
  },
  {
   "cell_type": "code",
   "execution_count": 3,
   "metadata": {},
   "outputs": [
    {
     "name": "stdout",
     "output_type": "stream",
     "text": [
      "Descomposición de A:\n",
      " [[ 3.         -1.          4.        ]\n",
      " [-0.66666667 -0.66666667  7.66666667]\n",
      " [ 2.33333333 -6.5        38.5       ]]\n",
      "\n",
      "Determinante de A = 52.50000000000007\n",
      "x 1 = [1. 1. 1.]\n",
      "x 2 = [-1.00000000e+00  1.00000000e+00  2.30695693e-17]\n"
     ]
    }
   ],
   "source": [
    "A = np.array([[3,-1,4],[-2,0,5],[7,2,-2]],dtype=float)\n",
    "B = np.array([[6,3,7], [-4,2,-5]],dtype=float)\n",
    "A = LUdecomp(A)\n",
    "print(\"Descomposición de A:\\n\",A)\n",
    "print(\"\\nDeterminante de A =\",np.linalg.det(A))\n",
    "for i in range(len(B)):\n",
    "    x = LUsolve(A,B[i])\n",
    "    print(\"x\",i+1,\"=\",x)"
   ]
  },
  {
   "cell_type": "markdown",
   "metadata": {},
   "source": [
    "### Ejemplo 22\n",
    "Use el método de descomposición de Choleski para resolver el sistema de ecuaciones $\\mathbf{Ax=b}$, donde \n",
    "$$\n",
    "    \\mathbf{A}=\\begin{pmatrix}\n",
    "    1.44 & -0.36 & 5.52 & 0.00\\\\\n",
    "    -0.36 & 10.33 & -7.78 & 0.00\\\\\n",
    "    5.52 & -7.78 & 28.40 & 9.00\\\\\n",
    "    0.00 & 0.00 & 9.00 & 61.00\n",
    "    \\end{pmatrix}\n",
    "    \\quad\n",
    "    \\mathbf{b}=\\begin{pmatrix}\n",
    "    0.04\\\\\n",
    "    -2.15\\\\\n",
    "    0\\\\\n",
    "    0.88\n",
    "    \\end{pmatrix}\n",
    "$$\n",
    "Y verifique la solución."
   ]
  },
  {
   "cell_type": "code",
   "execution_count": 4,
   "metadata": {},
   "outputs": [
    {
     "name": "stdout",
     "output_type": "stream",
     "text": [
      "La solución del sistema es: [ 3.09212567 -0.73871706 -0.8475723   0.13947788]\n",
      "\n",
      "Verificación Ax =\n",
      " [ 4.00000000e-02 -2.15000000e+00 -3.55271368e-15  8.80000000e-01]\n"
     ]
    }
   ],
   "source": [
    "A = np.array([[ 1.44, -0.36, 5.52, 0.0],[-0.36, 10.33, -7.78, 0.0],[ 5.52, -7.78, 28.40, 9.0],[ 0.0, 0.0, 9.0, 61.0]])\n",
    "b = np.array([0.04, -2.15, 0.0, 0.88])\n",
    "aOrig = A.copy()\n",
    "L = choleski(A)\n",
    "x = choleskiSol(L,b)\n",
    "print(\"La solución del sistema es:\",x)\n",
    "print(\"\\nVerificación Ax =\\n\",np.dot(aOrig,x))"
   ]
  },
  {
   "cell_type": "markdown",
   "metadata": {},
   "source": [
    "### Ejercicio 18\n",
    "Use el método de descomposición de Doolittle para resolver el sistema de ecuaciones $\\mathbf{Ax=b}$, donde \n",
    "$$\n",
    "    \\mathbf{A}=\\begin{pmatrix}\n",
    "    1 & 4 & 1\\\\\n",
    "    1 & 6 & -1\\\\\n",
    "    2 & -1 & 2\n",
    "    \\end{pmatrix}\n",
    "    \\quad\n",
    "    \\mathbf{b}=\\begin{pmatrix}\n",
    "    7\\\\\n",
    "    13\\\\\n",
    "    5\n",
    "    \\end{pmatrix}\n",
    "$$"
   ]
  },
  {
   "cell_type": "code",
   "execution_count": 5,
   "metadata": {},
   "outputs": [
    {
     "name": "stdout",
     "output_type": "stream",
     "text": [
      "[L|U]=\n",
      " [[ 1.   4.   1. ]\n",
      " [ 1.   2.  -2. ]\n",
      " [ 2.  -4.5 -9. ]]\n"
     ]
    }
   ],
   "source": [
    "A=np.array([[1,4,1],[1,6,-1],[2,-1,2]],dtype=float)\n",
    "b=np.array([7,13,5],dtype=float)\n",
    "a=LUdecomp(A)\n",
    "print(\"[L|U]=\\n\",a)"
   ]
  },
  {
   "cell_type": "code",
   "execution_count": 6,
   "metadata": {},
   "outputs": [
    {
     "name": "stdout",
     "output_type": "stream",
     "text": [
      "La solución del sistema es: [ 5.  1. -2.]\n"
     ]
    }
   ],
   "source": [
    "print(\"La solución del sistema es:\",LUsolve(a,b))"
   ]
  },
  {
   "cell_type": "markdown",
   "metadata": {},
   "source": [
    "### Ejercicio 19\n",
    "Use el método de descomposición de Choleski para resolver el sistema de ecuaciones $\\mathbf{Ax=b}$, donde \n",
    "$$\n",
    "    \\mathbf{A}=\\begin{pmatrix}\n",
    "    4 & -2 & 2\\\\\n",
    "    -2 & 2 & -4\\\\\n",
    "    2 & -4 & 11\n",
    "    \\end{pmatrix}\n",
    "    \\quad\n",
    "    \\mathbf{b}=\\begin{pmatrix}\n",
    "    7\\\\\n",
    "    13\\\\\n",
    "    5\n",
    "    \\end{pmatrix}\n",
    "$$"
   ]
  },
  {
   "cell_type": "code",
   "execution_count": 7,
   "metadata": {},
   "outputs": [
    {
     "name": "stdout",
     "output_type": "stream",
     "text": [
      "L=\n",
      " [[ 2.  0.  0.]\n",
      " [-1.  1.  0.]\n",
      " [ 1. -3.  1.]]\n"
     ]
    }
   ],
   "source": [
    "A=np.array([[4,-2,2],[-2,2,-4],[2,-4,11]],dtype=float)\n",
    "b=np.array([7,13,5],dtype=float)\n",
    "a=choleski(A)\n",
    "print(\"L=\\n\",a)"
   ]
  },
  {
   "cell_type": "code",
   "execution_count": 8,
   "metadata": {},
   "outputs": [
    {
     "name": "stdout",
     "output_type": "stream",
     "text": [
      "La solución del sistema es: [ 61.  169.5  51. ]\n"
     ]
    }
   ],
   "source": [
    "print(\"La solución del sistema es:\",choleskiSol(a,b))"
   ]
  },
  {
   "cell_type": "markdown",
   "metadata": {},
   "source": [
    "### Ejercicio 20\n",
    "Escriba un programa que solucione $\\mathbf{AX=B}$ donde\n",
    "$$\n",
    "    \\mathbf{A}=\\begin{pmatrix}\n",
    "    6 & -4 & 1\\\\\n",
    "    -4 & 6 & -4\\\\\n",
    "    1 & -4 & 6\n",
    "    \\end{pmatrix}\n",
    "    \\quad\n",
    "    \\mathbf{B}=\\begin{pmatrix}\n",
    "    -14 & 22\\\\\n",
    "    36 & -18\\\\\n",
    "    6 & 7\n",
    "    \\end{pmatrix}\n",
    "$$\n",
    "_Solución_: Usando primero el método de Doolittle tenemos:"
   ]
  },
  {
   "cell_type": "code",
   "execution_count": 9,
   "metadata": {},
   "outputs": [
    {
     "name": "stdout",
     "output_type": "stream",
     "text": [
      "Descomposición de A:\n",
      " [[ 6.         -4.          1.        ]\n",
      " [-0.66666667  3.33333333 -3.33333333]\n",
      " [ 0.16666667 -1.          2.5       ]]\n",
      "x 1 = [10. 22. 14.]\n",
      "x 2 = [ 3. -1.  0.]\n"
     ]
    }
   ],
   "source": [
    "A = np.array([[6,-4,1],[-4,6,-4],[1,-4,6]],dtype=float)\n",
    "B = np.array([[-14,36,6], [22,-18,7]],dtype=float)\n",
    "a = LUdecomp(A)\n",
    "print(\"Descomposición de A:\\n\",a)\n",
    "for i in range(len(B)):\n",
    "    x = LUsolve(a,B[i])\n",
    "    print(\"x\",i+1,\"=\",x)"
   ]
  }
 ],
 "metadata": {
  "kernelspec": {
   "display_name": "Python 3",
   "language": "python",
   "name": "python3"
  },
  "language_info": {
   "codemirror_mode": {
    "name": "ipython",
    "version": 3
   },
   "file_extension": ".py",
   "mimetype": "text/x-python",
   "name": "python",
   "nbconvert_exporter": "python",
   "pygments_lexer": "ipython3",
   "version": "3.6.4"
  }
 },
 "nbformat": 4,
 "nbformat_minor": 2
}
