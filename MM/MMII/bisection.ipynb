{
 "cells": [
  {
   "cell_type": "code",
   "execution_count": 1,
   "metadata": {},
   "outputs": [],
   "source": [
    "import math\n",
    "from numpy import sign"
   ]
  },
  {
   "cell_type": "code",
   "execution_count": 2,
   "metadata": {},
   "outputs": [],
   "source": [
    "def bisection(f,x1,x2,switch=1,tol=1.0e-9):\n",
    "    \"root = bisection(f,x1,x2,switch=0,tol=1.0e-9). \\nEncuentra la raíz de f(x)=0 por bisección. \\nLa raíz debe estar acotada en (x1,x2). \\nHaciendo switch=1 devuelve root=None si f(x) aumenta durante la bisección.\"\n",
    "    f1 = f(x1)\n",
    "    if f1 == 0.0: return x1\n",
    "    f2 = f(x2)\n",
    "    if f2 == 0.0: return x2\n",
    "    if sign(f1) == sign(f2):\n",
    "        error.err('La raíz no está acotada.')\n",
    "    n = int(math.ceil(math.log(abs(x2 - x1)/tol)/math.log(2.0)))\n",
    "    \n",
    "    for i in range(n):\n",
    "        x3 = 0.5*(x1 + x2); f3 = f(x3)\n",
    "        if (switch == 1) and (abs(f3) > abs(f1)) \\\n",
    "                         and (abs(f3) > abs(f2)):\n",
    "            return None\n",
    "        if f3 == 0.0: return x3\n",
    "        if sign(f2)!= sign(f3): x1 = x3; f1 = f3\n",
    "        else: x2 = x3; f2 = f3\n",
    "    return (x1 + x2)/2.0"
   ]
  },
  {
   "cell_type": "markdown",
   "metadata": {},
   "source": [
    "### Ejemplo 10\n",
    "Use $\\mathtt{bisection}$ para encontrar la raíz de $x^3-10x^2+5=0$ que yace en el intervalo $(0,1)$ con una precisión de 4 dígitos."
   ]
  },
  {
   "cell_type": "code",
   "execution_count": 3,
   "metadata": {},
   "outputs": [
    {
     "name": "stdout",
     "output_type": "stream",
     "text": [
      "x = 0.7346\n"
     ]
    }
   ],
   "source": [
    "from math import *\n",
    "def f(x): return x**3 - 10.0*x**2 + 5.0\n",
    "x = bisection(f, 0.0, 1.0, tol = 1.0e-4)\n",
    "print('x =', '{:6.4f}'.format(x))"
   ]
  },
  {
   "cell_type": "markdown",
   "metadata": {},
   "source": [
    "### Ejercicio 7\n",
    "Use $\\mathtt{bisection}$ para encontrar la raíz de $x^3+10x^2-5=0$ que yace en el intervalo $(0,1)$ con una precisión de 3 dígitos."
   ]
  },
  {
   "cell_type": "code",
   "execution_count": 4,
   "metadata": {},
   "outputs": [
    {
     "name": "stdout",
     "output_type": "stream",
     "text": [
      "x =  0.684\n"
     ]
    }
   ],
   "source": [
    "from math import *\n",
    "def f(x): return x**3 + 10.0*x**2 - 5.0\n",
    "x = bisection(f, 0.0, 1.0, tol = 1.0e-3)\n",
    "print('x =', '{:6.3f}'.format(x))"
   ]
  },
  {
   "cell_type": "markdown",
   "metadata": {},
   "source": [
    "### Ejemplo 11\n",
    "Encuentre _todos_ los ceros de $f(x)=x-\\tan(x)$ en el intervalo $(0,20)$ por el método de bisección. Use las funciones $\\mathtt{rootsearch}$ y $\\mathtt{bisection}$."
   ]
  },
  {
   "cell_type": "code",
   "execution_count": 5,
   "metadata": {},
   "outputs": [],
   "source": [
    "from numpy import sign\n",
    "\n",
    "def rootsearch(f,a,b,dx):\n",
    "    \"x1,x2 = rootsearch(f,a,b,dx). \\nBusca en el intervalo (a,b) en incrementos dx para los límites (x1,x2) de la raíz más pequeña de f(x). \\nDevuelve x1=x2=None si ninguna raíz es detectada.\"\n",
    "    x1 = a; f1 = f(a)\n",
    "    x2 = a + dx; f2 = f(x2)\n",
    "    while sign(f1) == sign(f2):\n",
    "        if x1 >= b: return None,None\n",
    "        x1 = x2; f1 = f2\n",
    "        x2 = x1 + dx; f2 = f(x2)\n",
    "    else:\n",
    "        return x1,x2"
   ]
  },
  {
   "cell_type": "code",
   "execution_count": 6,
   "metadata": {},
   "outputs": [
    {
     "name": "stdout",
     "output_type": "stream",
     "text": [
      "Las raíces son:\n",
      "0.0\n",
      "4.493409458100745\n",
      "7.725251837074637\n",
      "10.904121659695917\n",
      "14.06619391292308\n",
      "17.220755272209537\n",
      "\n",
      "Listo\n"
     ]
    }
   ],
   "source": [
    "from math import *\n",
    "\n",
    "def f(x): return x - math.tan(x)\n",
    "\n",
    "a,b,dx = (0.0, 20.0, 0.01)\n",
    "print(\"Las raíces son:\")\n",
    "while True:\n",
    "    x1,x2 = rootsearch(f,a,b,dx)\n",
    "    if x1 != None:\n",
    "        a = x2\n",
    "        root = bisection(f,x1,x2,1)\n",
    "        if root != None: print(root)\n",
    "    else:\n",
    "        print(\"\\nListo\")\n",
    "        break"
   ]
  }
 ],
 "metadata": {
  "kernelspec": {
   "display_name": "Python 3",
   "language": "python",
   "name": "python3"
  },
  "language_info": {
   "codemirror_mode": {
    "name": "ipython",
    "version": 3
   },
   "file_extension": ".py",
   "mimetype": "text/x-python",
   "name": "python",
   "nbconvert_exporter": "python",
   "pygments_lexer": "ipython3",
   "version": "3.6.4"
  }
 },
 "nbformat": 4,
 "nbformat_minor": 2
}
