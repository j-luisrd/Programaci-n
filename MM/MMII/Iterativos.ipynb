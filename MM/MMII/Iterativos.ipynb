{
 "cells": [
  {
   "cell_type": "code",
   "execution_count": 1,
   "metadata": {},
   "outputs": [],
   "source": [
    "import numpy as np\n",
    "import math\n",
    "\n",
    "def gaussSeidel(iterEqs,x,tol = 1.0e-9):\n",
    "    \"x,numIter,omega = gaussSeidel(iterEqs,x,tol = 1.0e-9).\\n Método de Gauss-Seidel para resolver Ax=b. La matriz A debe tener en su mayoría elementos nulos.\\n El usuario debe proveer la función iterEqs(x,omega) que devuelve la solución mejorada.\\n 'omega' es el factor de relajación.\"\n",
    "    omega = 1.0\n",
    "    k = 10\n",
    "    p=1\n",
    "    for i in range(1,501):\n",
    "        xOld = x.copy()\n",
    "        x = iterEqs(x,omega)\n",
    "        dx = math.sqrt(np.dot(x-xOld,x-xOld))\n",
    "        if dx < tol: \n",
    "            return x,i,omega\n",
    "        #Calcula la relajación después de k+p iteraciones \n",
    "        if i == k:\n",
    "            dx1 = dx\n",
    "        if i == k + p:\n",
    "            dx2 = dx\n",
    "            omega = 2.0/(1.0 + math.sqrt(1.0- (dx2/dx1)**(1.0/p)))\n",
    "    print(\"Gauss-Seidel falló para converger.\")"
   ]
  },
  {
   "cell_type": "code",
   "execution_count": 2,
   "metadata": {},
   "outputs": [],
   "source": [
    "def conjGrad(Av,x,b,tol=1.0e-9):\n",
    "    \"x, numIter = conjGrad(Av,x,b,tol=1.0e-9).\\n Método del gradiente conjugado para resolver Ax=b.\\n La matriz A en su mayoría debe contener elementos nulos.\\n El usuario debe proveer la función Av(v) que devuelve el vector Av.\"\n",
    "    n = len(b)\n",
    "    r = b - Av(x)\n",
    "    s = r.copy()\n",
    "    for i in range(n):\n",
    "        u = Av(s)\n",
    "        alpha = np.dot(s,r)/np.dot(s,u)\n",
    "        x = x + alpha*s\n",
    "        r = b - Av(x)\n",
    "        if(math.sqrt(np.dot(r,r))) < tol:\n",
    "            break\n",
    "        else:\n",
    "            beta = -np.dot(r,u)/np.dot(s,u)\n",
    "            s = r + beta*s\n",
    "    return x,i"
   ]
  },
  {
   "cell_type": "markdown",
   "metadata": {},
   "source": [
    "### Ejemplo 26\n",
    "Escriba un programa que resuelva el siguiente sistema de ecuaciones con el método de Gauss-Seidel con relajación para cualquier valor de $n$. Ejecute el programa con $n=20$.\n",
    "$$\n",
    "\\begin{pmatrix}\n",
    "2 & -1 & 0 & 0 & \\cdots & 0 & 0 & 0 & 1\\\\\n",
    "-1 & 2 & -1 & 0 & \\cdots & 0 & 0 & 0 & 0\\\\\n",
    "0 & -1 & 2 & -1 & \\cdots & 0 & 0 & 0 & 0\\\\\n",
    "\\vdots & \\vdots & \\vdots & \\vdots & \\ddots & \\vdots & \\vdots & \\vdots & \\vdots\\\\\n",
    "0 & 0 & 0 & 0 & \\cdots & -1 & 2 & -1 & 0\\\\\n",
    "0 & 0 & 0 & 0 & \\cdots & 0 & -1 & 2 & -1\\\\\n",
    "1 & 0 & 0 & 0 & \\cdots & 0 & 0 & -1 & 2\n",
    "\\end{pmatrix}\n",
    "\\begin{pmatrix}\n",
    "x_1\\\\\n",
    "x_2\\\\\n",
    "x_3\\\\\n",
    "\\vdots\\\\\n",
    "x_{n-2}\\\\\n",
    "x_{n-1}\\\\\n",
    "x_n\n",
    "\\end{pmatrix}\n",
    "=\\begin{pmatrix}\n",
    "0\\\\\n",
    "0\\\\\n",
    "0\\\\\n",
    "\\vdots\\\\\n",
    "0\\\\\n",
    "0\\\\\n",
    "1\n",
    "\\end{pmatrix}\n",
    "$$\n",
    "_Solución_: Note que las fórmulas iterativas en este caso son:\n",
    "$$x_1=\\frac{\\omega}{2}(x_2-x_n)+(1-\\omega)x_1$$\n",
    "$$x_i=\\frac{\\omega}{2}(x_{i-1}-x_{i+1})+(1-\\omega)x_1, \\ i=2,3,...,n-1.$$\n",
    "$$x_n=\\frac{\\omega}{2}(1-x_1-x_{n-1})+(1-\\omega)x_n$$"
   ]
  },
  {
   "cell_type": "code",
   "execution_count": 3,
   "metadata": {},
   "outputs": [
    {
     "name": "stdout",
     "output_type": "stream",
     "text": [
      "Número de iteraciones = 256\n",
      "Factor de relajación = 1.6988309117973837\n",
      "La solución es:\n",
      " [-4.50000000e+00 -4.00000000e+00 -3.50000000e+00 -3.00000000e+00\n",
      " -2.50000000e+00 -2.00000000e+00 -1.50000000e+00 -9.99999998e-01\n",
      " -4.99999997e-01  2.62929058e-09  5.00000003e-01  1.00000000e+00\n",
      "  1.50000000e+00  2.00000000e+00  2.50000000e+00  3.00000000e+00\n",
      "  3.50000000e+00  4.00000000e+00  4.50000000e+00  5.00000000e+00]\n"
     ]
    }
   ],
   "source": [
    "def iterEqs(x,omega):\n",
    "    n = len(x)\n",
    "    x[0] = omega*(x[1] - x[n-1])/2.0 + (1.0 - omega)*x[0]\n",
    "    for i in range(1,n-1):\n",
    "        x[i] = omega*(x[i-1] + x[i+1])/2.0 + (1.0 - omega)*x[i]\n",
    "        x[n-1] = omega*(1.0 - x[0] + x[n-2])/2.0 + (1.0 - omega)*x[n-1]\n",
    "    return x\n",
    "n = eval(input(\"Ingrese el número de ecuaciones: \"))\n",
    "x = np.zeros(n)\n",
    "x,numIter,omega = gaussSeidel(iterEqs,x)\n",
    "print(\"Número de iteraciones =\",numIter)\n",
    "print(\"Factor de relajación =\",omega)\n",
    "print(\"La solución es:\\n\",x)"
   ]
  },
  {
   "cell_type": "markdown",
   "metadata": {},
   "source": [
    "### Ejemplo 27\n",
    "Resuelva el ejemplo anterior con el método del gradiente conjugado.\n",
    "\n",
    "_Solución:_ Para la matriz de coeficientes dada, las componentes del vector Ax(v) son:\n",
    "$$(Ax)_1=2v_1-v_2+v_n$$\n",
    "$$(Ax)_i=-v_{i-1}+2v_i-v_{i+1}, \\ i=2,3,...,n-1.$$\n",
    "$$(Ax)_n=-v_{n-1}+2v_n+v_1$$"
   ]
  },
  {
   "cell_type": "code",
   "execution_count": 4,
   "metadata": {},
   "outputs": [
    {
     "name": "stdout",
     "output_type": "stream",
     "text": [
      "Número de iteraciones : 9\n",
      "La solución es:\n",
      " [-4.5 -4.  -3.5 -3.  -2.5 -2.  -1.5 -1.  -0.5  0.   0.5  1.   1.5  2.\n",
      "  2.5  3.   3.5  4.   4.5  5. ]\n"
     ]
    }
   ],
   "source": [
    "def Ax(v):\n",
    "    n = len(v)\n",
    "    Ax = np.zeros(n)\n",
    "    Ax[0] = 2.0*v[0] - v[1]+v[n-1]\n",
    "    Ax[1:n-1] = -v[0:n-2] + 2.0*v[1:n-1] -v[2:n]\n",
    "    Ax[n-1] = -v[n-2] + 2.0*v[n-1] + v[0]\n",
    "    return Ax\n",
    "n = eval(input(\"Ingrese el número de ecuaciones : \"))\n",
    "b = np.zeros(n)\n",
    "b[n-1] = 1.0\n",
    "x = np.zeros(n)\n",
    "x,numIter = conjGrad(Ax,x,b)\n",
    "print(\"Número de iteraciones :\",numIter)\n",
    "print(\"La solución es:\\n\",x)"
   ]
  },
  {
   "cell_type": "markdown",
   "metadata": {},
   "source": [
    "### Ejercicio 27\n",
    "Resolver las ecuaciones\n",
    "$$\n",
    "\\begin{pmatrix}\n",
    "4 & -1 & 1\\\\\n",
    "-1 & 4 & -2\\\\\n",
    "1 & -2 & 4\n",
    "\\end{pmatrix}\n",
    "\\begin{pmatrix}\n",
    "x_1\\\\\n",
    "x_2\\\\\n",
    "x_3\n",
    "\\end{pmatrix}\n",
    "=\\begin{pmatrix}\n",
    "12\\\\\n",
    "-1\\\\\n",
    "5\n",
    "\\end{pmatrix}\n",
    "$$\n",
    "por el método de Gauss-Seidel sin relajación.\n",
    "_Solución:_ Note que las fórmulas iterativas en este caso son:\n",
    "$$x_1=\\frac{1}{4}(12+x_2-x_3)$$\n",
    "$$x_2=\\frac{1}{4}(-1+x_1+2x_3)$$\n",
    "$$x_3=\\frac{1}{4}(5-x_1+2x_2)$$"
   ]
  },
  {
   "cell_type": "code",
   "execution_count": 5,
   "metadata": {},
   "outputs": [
    {
     "name": "stdout",
     "output_type": "stream",
     "text": [
      "Número de iteraciones = 14\n",
      "La solución es:\n",
      "\n",
      "x 1 = 2.999999999981825\n",
      "x 2 = 1.0000000000661957\n",
      "x 3 = 1.0000000000376414\n"
     ]
    }
   ],
   "source": [
    "x = np.zeros(3)\n",
    "def gaussSeidel(x,tol = 1.0e-9):\n",
    "    for i in range(1,501):\n",
    "        xOld = x.copy()\n",
    "        x[0]=(12+x[1]-x[2])/4\n",
    "        x[1]=(-1+x[0]+2*x[2])/4\n",
    "        x[2]=(5-x[0]+2*x[1])/4\n",
    "        dx = math.sqrt(np.dot(x-xOld,x-xOld))\n",
    "        if dx < tol: \n",
    "            return x,i\n",
    "    print(\"Gauss-Seidel falló para converger.\")\n",
    "x,numIter = gaussSeidel(x)\n",
    "print(\"Número de iteraciones =\",numIter)\n",
    "print(\"La solución es:\\n\")\n",
    "for i in range(len(x)):\n",
    "    print(\"x\",i+1,\"=\",x[i])"
   ]
  },
  {
   "cell_type": "markdown",
   "metadata": {},
   "source": [
    "### Ejercicio 28\n",
    "Resuelva el ejercicio anterior con el método del gradiente conjugado.\n",
    "\n",
    "_Solución:_ Para la matriz de coeficientes dada, las componentes del vector Ax(v) son:\n",
    "$$(Ax)_1=4v_1-v_2+v_3$$\n",
    "$$(Ax)_2=-v_1+4v_2-2v_3$$\n",
    "$$(Ax)_3=v_1-2v_2+4v_3$$"
   ]
  },
  {
   "cell_type": "code",
   "execution_count": 6,
   "metadata": {},
   "outputs": [
    {
     "name": "stdout",
     "output_type": "stream",
     "text": [
      "Número de iteraciones : 2\n",
      "La solución es:\n",
      "\n",
      "x 1 = 2.9660907033165436\n",
      "x 2 = 1.1651243789152521\n",
      "x 3 = 1.1683773198389824\n"
     ]
    }
   ],
   "source": [
    "def Ax(v):\n",
    "    Ax = np.zeros(3)\n",
    "    Ax[0]=4*v[0]-v[1]+v[2]\n",
    "    Ax[1]=-v[0]+4*v[1]-2*v[2]\n",
    "    Ax[2]=v[0]-2*v[2]+4*v[2]\n",
    "    return Ax\n",
    "b = np.array([12,-1,5])\n",
    "x = np.zeros(3)\n",
    "def conjGrad(Av,x,b,tol=1.0e-9):\n",
    "    r = b - Av(x)\n",
    "    s = r.copy()\n",
    "    for i in range(3):\n",
    "        u = Av(s)\n",
    "        alpha = np.dot(s,r)/np.dot(s,u)\n",
    "        x = x + alpha*s\n",
    "        r = b - Av(x)\n",
    "        if(math.sqrt(np.dot(r,r))) < tol:\n",
    "            break\n",
    "        else:\n",
    "            beta = -np.dot(r,u)/np.dot(s,u)\n",
    "            s = r + beta*s\n",
    "    return x,i\n",
    "x,numIter = conjGrad(Ax,x,b)\n",
    "print(\"Número de iteraciones :\",numIter)\n",
    "print(\"La solución es:\\n\")\n",
    "for i in range(len(x)):\n",
    "    print(\"x\",i+1,\"=\",x[i])"
   ]
  }
 ],
 "metadata": {
  "kernelspec": {
   "display_name": "Python 3",
   "language": "python",
   "name": "python3"
  },
  "language_info": {
   "codemirror_mode": {
    "name": "ipython",
    "version": 3
   },
   "file_extension": ".py",
   "mimetype": "text/x-python",
   "name": "python",
   "nbconvert_exporter": "python",
   "pygments_lexer": "ipython3",
   "version": "3.6.4"
  }
 },
 "nbformat": 4,
 "nbformat_minor": 2
}
