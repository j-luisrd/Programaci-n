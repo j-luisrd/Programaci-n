{
 "cells": [
  {
   "cell_type": "code",
   "execution_count": 1,
   "metadata": {},
   "outputs": [],
   "source": [
    "from scipy.interpolate import lagrange\n",
    "from scipy.interpolate import CubicSpline as CS\n",
    "import matplotlib.pyplot as plt\n",
    "import numpy as np\n",
    "import math"
   ]
  },
  {
   "cell_type": "markdown",
   "metadata": {},
   "source": [
    "### Ejercicio 43\n",
    "Ingresamos primero la información dada en dos arrays, veamos cuál sería el polinomio interpolante mediante el método de Lagrange:"
   ]
  },
  {
   "cell_type": "code",
   "execution_count": 2,
   "metadata": {},
   "outputs": [
    {
     "name": "stdout",
     "output_type": "stream",
     "text": [
      "   2\n",
      "5 x - 8 x + 7\n"
     ]
    }
   ],
   "source": [
    "x=np.array([0,2,3])\n",
    "y=np.array([7,11,28])\n",
    "p=np.poly1d(lagrange(x,y))\n",
    "print(p)"
   ]
  },
  {
   "cell_type": "markdown",
   "metadata": {},
   "source": [
    "Evaluamos el polinomio anterior en el valor pedido:"
   ]
  },
  {
   "cell_type": "code",
   "execution_count": 3,
   "metadata": {},
   "outputs": [
    {
     "data": {
      "text/plain": [
       "4.000000000000002"
      ]
     },
     "execution_count": 3,
     "metadata": {},
     "output_type": "execute_result"
    }
   ],
   "source": [
    "p(1)"
   ]
  },
  {
   "cell_type": "markdown",
   "metadata": {},
   "source": [
    "### Ejercicio 44\n",
    "Ingresamos primero la información dada en dos arrays:"
   ]
  },
  {
   "cell_type": "code",
   "execution_count": 4,
   "metadata": {},
   "outputs": [],
   "source": [
    "x=np.array([-2,1,4,-1,3,-4,])\n",
    "y=np.array([-1,2,59,4,24,-53])"
   ]
  },
  {
   "cell_type": "markdown",
   "metadata": {},
   "source": [
    "Definimos ahora  una función que calcule el polinomio interpolante por el método de Newton y evalúe un punto dado en el polinomio:"
   ]
  },
  {
   "cell_type": "code",
   "execution_count": 5,
   "metadata": {},
   "outputs": [],
   "source": [
    "def coef(x,y):\n",
    "    '''Calcula los coeficientes del polinomio de Newton.\n",
    "    x, y son arrays con los datos dados.'''\n",
    "    m=len(x)\n",
    "    a=y.copy()\n",
    "    for k in range(1,m):\n",
    "        a[k:m] = (a[k:m]-a[k-1])/(x[k:m]-x[k-1])\n",
    "    return a\n",
    "\n",
    "def evalPoly(a,x,p):\n",
    "    '''Evalua el polinomio de Newton en p, provisto por los coeficientes guardados en a.\n",
    "    x es el array con los datos.'''\n",
    "    n=len(x)-1\n",
    "    pol=a[n]\n",
    "    for k in range(1,n+1):\n",
    "        pol=a[n-k]+(p-x[n-k])*pol\n",
    "    return pol"
   ]
  },
  {
   "cell_type": "markdown",
   "metadata": {},
   "source": [
    "Calculamos el valor del polinomio interpolante por el método de Newton en el punto dado:"
   ]
  },
  {
   "cell_type": "code",
   "execution_count": 6,
   "metadata": {},
   "outputs": [
    {
     "data": {
      "text/plain": [
       "3"
      ]
     },
     "execution_count": 6,
     "metadata": {},
     "output_type": "execute_result"
    }
   ],
   "source": [
    "evalPoly(coef(x,y),x,0)"
   ]
  },
  {
   "cell_type": "markdown",
   "metadata": {},
   "source": [
    "### Ejercicio 45\n",
    "Definimos primero una función que calcule el polinomio interpolante por el método de Neville y evalúe un punto dado en el polinomio:"
   ]
  },
  {
   "cell_type": "code",
   "execution_count": 7,
   "metadata": {},
   "outputs": [],
   "source": [
    "def neville(x,y,p):\n",
    "    '''Evalúa el polinomio interpolante en p que pasa a través los puntos (x_i,y_i) por el método de Neville.'''\n",
    "    m=len(x)\n",
    "    y=y.copy()\n",
    "    for k in range(1,m):\n",
    "        y[0:m-k]=((p-x[k:m])*y[0:m-k]+(x[0:m-k]-p)*y[1:m-k+1])/(x[0:m-k]-x[k:m])\n",
    "    return y[0]"
   ]
  },
  {
   "cell_type": "markdown",
   "metadata": {},
   "source": [
    "Ingresamos los datos dados. Note que determinar la raíz de y(x), equivale a calcular x(0) para x(y), así:"
   ]
  },
  {
   "cell_type": "code",
   "execution_count": 8,
   "metadata": {},
   "outputs": [
    {
     "data": {
      "text/plain": [
       "3.831703559723663"
      ]
     },
     "execution_count": 8,
     "metadata": {},
     "output_type": "execute_result"
    }
   ],
   "source": [
    "x=np.arange(4,3.6,-0.1)\n",
    "y=np.array([-0.06604,-0.02724,0.01282,0.05383])\n",
    "neville(y,x,0)"
   ]
  },
  {
   "cell_type": "markdown",
   "metadata": {},
   "source": [
    "### Ejercicio 46\n",
    "Definimos primero una función que calcule el polinomio interpolante usando una función racional diagonal y evalúe un punto dado en el polinomio:"
   ]
  },
  {
   "cell_type": "code",
   "execution_count": 9,
   "metadata": {},
   "outputs": [],
   "source": [
    "def rational(x,y,p):\n",
    "    '''Evalúa el la función racional diagonal interpolante que pasa por (x_i,y_i) en p.'''\n",
    "    m=len(x)\n",
    "    r=y.copy()\n",
    "    rOld=np.zeros(m)\n",
    "    for k in range(m-1):\n",
    "        for i in range(m-k-1):\n",
    "            if abs(p-x[i+k+1])<1.0e-9:\n",
    "                return y[i+k+1]\n",
    "            else:\n",
    "                c1=r[i+1]-r[i]\n",
    "                c2=r[i+1]-rOld[i+1]\n",
    "                c3=(p-x[i])/(p-x[i+k+1])\n",
    "                r[i]=r[i+1]+c1/(c3*(1.0-c1/c2)-1.0)\n",
    "                rOld[i+1]=r[i+1]\n",
    "    return r[0]"
   ]
  },
  {
   "cell_type": "markdown",
   "metadata": {},
   "source": [
    "Calculamos el valor pedido usando la interpolación por función racional:"
   ]
  },
  {
   "cell_type": "code",
   "execution_count": 10,
   "metadata": {},
   "outputs": [
    {
     "data": {
      "text/plain": [
       "1.0131205116558464"
      ]
     },
     "execution_count": 10,
     "metadata": {},
     "output_type": "execute_result"
    }
   ],
   "source": [
    "x=np.array([0,0.6,0.8,0.95])\n",
    "y=np.array([0,1.3764,3.0777,12.7062])\n",
    "rational(x,y,0.5)"
   ]
  },
  {
   "cell_type": "markdown",
   "metadata": {},
   "source": [
    "### Ejemplo 33\n",
    "Ingresamos los datos de forma que podamos graficar los resultados:"
   ]
  },
  {
   "cell_type": "code",
   "execution_count": 11,
   "metadata": {},
   "outputs": [
    {
     "data": {
      "image/png": "[encoded data removed]",
      "text/plain": [
       "<matplotlib.figure.Figure at 0x7f4f078f3780>"
      ]
     },
     "metadata": {},
     "output_type": "display_data"
    }
   ],
   "source": [
    "xData = np.array([0.1,0.2,0.5,0.6,0.8,1.2,1.5])\n",
    "yData = np.array([-1.5342,-1.0811,-0.4445,-0.3085,-0.0868,0.2281,0.3824])\n",
    "x = np.arange(0.1,1.55,0.05)\n",
    "n = len(x)\n",
    "y = np.zeros((n,2))\n",
    "for i in range(n):\n",
    "    y[i,0] = rational(xData,yData,x[i])\n",
    "    y[i,1] = neville(xData,yData,x[i])\n",
    "plt.figure(figsize=(10,6), dpi=80)\n",
    "plt.plot(xData,yData,'o',x,y[:,0],'-',x,y[:,1],'--')\n",
    "plt.xlabel('x')\n",
    "plt.legend(('Datos','Racional','Neville'),loc = 0)\n",
    "plt.show()"
   ]
  },
  {
   "cell_type": "markdown",
   "metadata": {},
   "source": [
    "### Ejercicio 47"
   ]
  },
  {
   "cell_type": "markdown",
   "metadata": {},
   "source": [
    "Ingresamos los datos y evaluamos el polinomio interpolante en los puntos pedidos:"
   ]
  },
  {
   "cell_type": "code",
   "execution_count": 12,
   "metadata": {},
   "outputs": [
    {
     "name": "stdout",
     "output_type": "stream",
     "text": [
      " x     yReal   yLagrange  yNewton   yNeville\n",
      "--------------------------------------------\n",
      "0.0   4.80000   4.80003   4.80003   4.80003\n",
      "0.5   4.78520   4.78518   4.78518   4.78518\n",
      "1.0   4.74090   4.74088   4.74088   4.74088\n",
      "1.5   4.66738   4.66736   4.66736   4.66736\n",
      "2.0   4.56507   4.56507   4.56507   4.56507\n",
      "2.5   4.43462   4.43462   4.43462   4.43462\n",
      "3.0   4.27683   4.27683   4.27683   4.27683\n",
      "3.5   4.09267   4.09267   4.09267   4.09267\n",
      "4.0   3.88328   3.88327   3.88327   3.88327\n",
      "4.5   3.64995   3.64994   3.64994   3.64994\n",
      "5.0   3.39411   3.39411   3.39411   3.39411\n",
      "5.5   3.11735   3.11735   3.11735   3.11735\n",
      "6.0   2.82137   2.82137   2.82137   2.82137\n",
      "6.5   2.50799   2.50799   2.50799   2.50799\n",
      "7.0   2.17915   2.17915   2.17915   2.17915\n",
      "7.5   1.83688   1.83687   1.83687   1.83687\n",
      "8.0   1.48328   1.48329   1.48329   1.48329\n"
     ]
    }
   ],
   "source": [
    "x=np.array([0.15,2.3,3.15,4.85,6.25,7.95])\n",
    "y=np.array([4.79867,4.49013,4.2243,3.47313,2.66674,1.51909])\n",
    "pol=np.poly1d(lagrange(x,y))\n",
    "a=coef(x,y)\n",
    "print(\" x     yReal   yLagrange  yNewton   yNeville\")\n",
    "print(\"--------------------------------------------\")\n",
    "for p in np.arange(0.0,8.1,0.5):\n",
    "    ypol=evalPoly(a,x,p)\n",
    "    yReal=4.8*math.cos(math.pi*p/20.0)\n",
    "    print('{:3.1f} {:9.5f} {:9.5f} {:9.5f} {:9.5f}'.format(p,yReal,pol(p),ypol,neville(x,y,p)))"
   ]
  },
  {
   "cell_type": "markdown",
   "metadata": {},
   "source": [
    "Note que los métodos usados tienen una precisión en el resultado de dos cifras decimales en la mayoría de los casos, excepto en aquellos donde coincide con el valor \"exacto\"."
   ]
  },
  {
   "cell_type": "markdown",
   "metadata": {},
   "source": [
    "### Ejercicio 48"
   ]
  },
  {
   "cell_type": "markdown",
   "metadata": {},
   "source": [
    "Ingresamos los datos y usamos la función que calcule la interpolación que deseamos:"
   ]
  },
  {
   "cell_type": "code",
   "execution_count": 13,
   "metadata": {},
   "outputs": [
    {
     "name": "stdout",
     "output_type": "stream",
     "text": [
      "0.7678571428571429\n"
     ]
    }
   ],
   "source": [
    "x=np.arange(1,6,1)\n",
    "y=np.array([0,1,0,1,0])\n",
    "cs=CS(x,y,bc_type='natural')\n",
    "print(cs(1.5))"
   ]
  },
  {
   "cell_type": "markdown",
   "metadata": {},
   "source": [
    "Veamos como se ve la interpolación con respecto a los datos:"
   ]
  },
  {
   "cell_type": "code",
   "execution_count": 14,
   "metadata": {},
   "outputs": [
    {
     "data": {
      "image/png": "[encoded data removed]",
      "text/plain": [
       "<matplotlib.figure.Figure at 0x7f4f000be978>"
      ]
     },
     "metadata": {},
     "output_type": "display_data"
    }
   ],
   "source": [
    "xdat=np.arange(1,5.05,0.05)\n",
    "ydat=np.zeros(len(xdat))\n",
    "for i in range(len(xdat)):\n",
    "    ydat[i]=cs(xdat[i])\n",
    "plt.figure(figsize=(10,6), dpi=80)\n",
    "plt.plot(x,y,'o',xdat,ydat,'-')\n",
    "plt.xlabel('x')\n",
    "plt.ylabel('y')\n",
    "plt.legend(('Datos','Cubic Spline'),loc = 0)\n",
    "plt.show()"
   ]
  },
  {
   "cell_type": "markdown",
   "metadata": {},
   "source": [
    "### Ejercicio 49"
   ]
  },
  {
   "cell_type": "markdown",
   "metadata": {},
   "source": [
    "Ingresamos los datos y usamos la función que calcule la interpolación que deseamos:"
   ]
  },
  {
   "cell_type": "code",
   "execution_count": 15,
   "metadata": {},
   "outputs": [
    {
     "name": "stdout",
     "output_type": "stream",
     "text": [
      "0.10879999999999995\n"
     ]
    }
   ],
   "source": [
    "x=np.arange(0,4,1)\n",
    "y=np.array([1,1,0.5,0])\n",
    "cs=CS(x,y,bc_type='clamped')\n",
    "print(cs(2.6))"
   ]
  },
  {
   "cell_type": "markdown",
   "metadata": {},
   "source": [
    "Veamos como se ve la interpolación con respecto a los datos:"
   ]
  },
  {
   "cell_type": "code",
   "execution_count": 16,
   "metadata": {},
   "outputs": [
    {
     "data": {
      "image/png": "[encoded data removed]",
      "text/plain": [
       "<matplotlib.figure.Figure at 0x7f4f00001208>"
      ]
     },
     "metadata": {},
     "output_type": "display_data"
    }
   ],
   "source": [
    "xdat=np.arange(0,3.05,0.05)\n",
    "ydat=np.zeros(len(xdat))\n",
    "for i in range(len(xdat)):\n",
    "    ydat[i]=cs(xdat[i])\n",
    "plt.figure(figsize=(10,6), dpi=80)\n",
    "plt.plot(x,y,'o',xdat,ydat,'-')\n",
    "plt.xlabel('x')\n",
    "plt.ylabel('y')\n",
    "plt.legend(('Datos','Cubic Spline'),loc = 0)\n",
    "plt.show()"
   ]
  }
 ],
 "metadata": {
  "kernelspec": {
   "display_name": "Python 3",
   "language": "python",
   "name": "python3"
  },
  "language_info": {
   "codemirror_mode": {
    "name": "ipython",
    "version": 3
   },
   "file_extension": ".py",
   "mimetype": "text/x-python",
   "name": "python",
   "nbconvert_exporter": "python",
   "pygments_lexer": "ipython3",
   "version": "3.6.4"
  }
 },
 "nbformat": 4,
 "nbformat_minor": 2
}
