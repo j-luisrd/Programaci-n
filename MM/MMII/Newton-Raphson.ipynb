{
 "cells": [
  {
   "cell_type": "code",
   "execution_count": 1,
   "metadata": {},
   "outputs": [],
   "source": [
    "def newtonRaphson(f,df,a,b,tol=1.0e-9):\n",
    "    \"root = newtonRaphson(f,df,a,b,tol=1.0e-9).\\nEncuentra la raíz de f(x) combinando el método de Newton-Raphson con el de bisección.\\nLa raíz debe estar acotada en (a,b).\\nSe debe proveer f(x) y su derivada df(x).\"\n",
    "    from numpy import sign\n",
    "    \n",
    "    fa = f(a)\n",
    "    if fa == 0.0: return a\n",
    "    fb = f(b)\n",
    "    if fb == 0.0: return b\n",
    "    if sign(fa) == sign(fb): error.err('La raíz no está acotada')\n",
    "    x = 0.5*(a + b)\n",
    "    for i in range(30):\n",
    "        fx = f(x)\n",
    "        if fx == 0.0: return x\n",
    "        #Achicando los límites en la raíz\n",
    "        if sign(fa) != sign(fx): b = x\n",
    "        else: a = x\n",
    "        #Intentando el paso de Newton-Raphson\n",
    "        dfx = df(x)\n",
    "        #Si la división es por cero, se saca a x de los límites\n",
    "        try: dx = -fx/dfx\n",
    "        except ZeroDivisionError: dx = b - a\n",
    "        x = x + dx\n",
    "        #Si el resultado está fuera de los límites, se usa bisección\n",
    "        if (b - x)*(x - a) < 0.0:\n",
    "            dx = 0.5*(b - a)\n",
    "            x = a + dx\n",
    "        #Revisando la convergencia\n",
    "        if abs(dx) < tol*max(abs(b),1.0): return x\n",
    "    print('Muchas iteraciones en Newton-Raphson')"
   ]
  },
  {
   "cell_type": "markdown",
   "metadata": {},
   "source": [
    "### Ejemplo 16\n",
    "Determina las raíces de $f(x)=x^3-10x^2+5$ que yacen en $(0,1)$ con el método de Newton-Raphson."
   ]
  },
  {
   "cell_type": "code",
   "execution_count": 2,
   "metadata": {},
   "outputs": [
    {
     "name": "stdout",
     "output_type": "stream",
     "text": [
      "Raíz = 0.7346035077893033\n"
     ]
    }
   ],
   "source": [
    "def f(x): return x**3 - 10*x**2 + 5\n",
    "def df(x): return 3*x**2 - 20*x\n",
    "print(\"Raíz =\",newtonRaphson(f,df,0.0,1.0))"
   ]
  },
  {
   "cell_type": "markdown",
   "metadata": {},
   "source": [
    "### Ejercicio 10\n",
    "Determina las raíces de $f(x)=x^3+10x^2-5$ que yacen en $(0,1)$ con el método de Newton-Raphson."
   ]
  },
  {
   "cell_type": "code",
   "execution_count": 3,
   "metadata": {},
   "outputs": [
    {
     "name": "stdout",
     "output_type": "stream",
     "text": [
      "Raíz = 0.6840945657036894\n"
     ]
    }
   ],
   "source": [
    "def f(x): return x**3 + 10*x**2 - 5\n",
    "def df(x): return 3*x**2 + 20*x\n",
    "print(\"Raíz =\",newtonRaphson(f,df,0.0,1.0))"
   ]
  },
  {
   "cell_type": "markdown",
   "metadata": {},
   "source": [
    "### Ejemplo 17\n",
    "Encuentra el cero positivo más pequeño de $f(x)=x^4-6.4x^3+6.45x^2+20.538x-31.752$."
   ]
  },
  {
   "cell_type": "code",
   "execution_count": 4,
   "metadata": {},
   "outputs": [
    {
     "name": "stdout",
     "output_type": "stream",
     "text": [
      "Raíz = 2.0999999786199406\n",
      "Número de iteraciones = 22\n"
     ]
    }
   ],
   "source": [
    "def f(x): return x**4 - 6.4*x**3 + 6.45*x**2 + 20.538*x - 31.752\n",
    "def df(x): return 4.0*x**3 - 19.2*x**2 + 12.9*x + 20.538\n",
    "def newtonraphson(x,tol=1.0e-9):\n",
    "    for i in range(30):\n",
    "        dx = -f(x)/df(x)\n",
    "        x = x + dx\n",
    "        if abs(dx) < tol: return x,i\n",
    "    print ('Muchas iteraciones')\n",
    "root,numIter = newtonraphson(2.0)\n",
    "print ('Raíz =',root)\n",
    "print ('Número de iteraciones =',numIter)"
   ]
  },
  {
   "cell_type": "markdown",
   "metadata": {},
   "source": [
    "Cambiando $\\displaystyle x_{i+1}=x_i-\\frac{f(x_i)}{f'(x_i)} \\ \\text{por} \\ x_{i+1}=x_i-m\\frac{f(x_i)}{f'(x_i)}$, con $m=2$:"
   ]
  },
  {
   "cell_type": "code",
   "execution_count": 5,
   "metadata": {},
   "outputs": [
    {
     "name": "stdout",
     "output_type": "stream",
     "text": [
      "Raíz = 2.100000000014807\n",
      "Número de iteraciones = 5\n"
     ]
    }
   ],
   "source": [
    "def f(x): return x**4 - 6.4*x**3 + 6.45*x**2 + 20.538*x - 31.752\n",
    "def df(x): return 4.0*x**3 - 19.2*x**2 + 12.9*x + 20.538\n",
    "def newtonraphson(x,tol=1.0e-9):\n",
    "    for i in range(30):\n",
    "        dx = -2*f(x)/df(x)\n",
    "        x = x + dx\n",
    "        if abs(dx) < tol: return x,i\n",
    "    print ('Muchas iteraciones')\n",
    "root,numIter = newtonraphson(2.0)\n",
    "print ('Raíz =',root)\n",
    "print ('Número de iteraciones =',numIter)"
   ]
  }
 ],
 "metadata": {
  "kernelspec": {
   "display_name": "Python 3",
   "language": "python",
   "name": "python3"
  },
  "language_info": {
   "codemirror_mode": {
    "name": "ipython",
    "version": 3
   },
   "file_extension": ".py",
   "mimetype": "text/x-python",
   "name": "python",
   "nbconvert_exporter": "python",
   "pygments_lexer": "ipython3",
   "version": "3.6.4"
  }
 },
 "nbformat": 4,
 "nbformat_minor": 2
}
