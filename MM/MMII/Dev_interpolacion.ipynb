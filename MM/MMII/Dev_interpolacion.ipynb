{
 "cells": [
  {
   "cell_type": "markdown",
   "metadata": {},
   "source": [
    "### Ejemplo 32\n",
    "Escribimos los datos dados:"
   ]
  },
  {
   "cell_type": "code",
   "execution_count": 1,
   "metadata": {},
   "outputs": [],
   "source": [
    "import numpy as np\n",
    "\n",
    "x=np.array([1.5,1.9,2.1,2.4,2.6,3.1])\n",
    "y=np.array([1.0628,1.3961,1.5432,1.7349,1.8423,2.0397])\n",
    "\n",
    "d=np.polyfit(x,y,2)"
   ]
  },
  {
   "cell_type": "markdown",
   "metadata": {},
   "source": [
    "Calculamos ahora las derivadas pedidas sabiendo los coeficientes del polinomio interpolador:"
   ]
  },
  {
   "cell_type": "code",
   "execution_count": 2,
   "metadata": {},
   "outputs": [
    {
     "name": "stdout",
     "output_type": "stream",
     "text": [
      "f'(2)= 0.7275677669482614\n",
      "f''(2)= -0.3851363610887174\n"
     ]
    }
   ],
   "source": [
    "print(\"f'(2)=\",2*2*d[0]+d[1])\n",
    "print(\"f''(2)=\",2*d[0])"
   ]
  },
  {
   "cell_type": "markdown",
   "metadata": {},
   "source": [
    "### Ejercicio 35"
   ]
  },
  {
   "cell_type": "markdown",
   "metadata": {},
   "source": [
    "Calculamos las derivadas pedidas sabiendo los coeficientes del polinomio interpolador:"
   ]
  },
  {
   "cell_type": "code",
   "execution_count": 3,
   "metadata": {},
   "outputs": [
    {
     "name": "stdout",
     "output_type": "stream",
     "text": [
      "f'(2.9)= 0.3809450419684157\n",
      "f''(2.9)= -0.3851363610887174\n"
     ]
    }
   ],
   "source": [
    "print(\"f'(2.9)=\",2*2.9*d[0]+d[1])\n",
    "print(\"f''(2.9)=\",2*d[0])"
   ]
  }
 ],
 "metadata": {
  "kernelspec": {
   "display_name": "Python 3",
   "language": "python",
   "name": "python3"
  },
  "language_info": {
   "codemirror_mode": {
    "name": "ipython",
    "version": 3
   },
   "file_extension": ".py",
   "mimetype": "text/x-python",
   "name": "python",
   "nbconvert_exporter": "python",
   "pygments_lexer": "ipython3",
   "version": "3.6.4"
  }
 },
 "nbformat": 4,
 "nbformat_minor": 2
}
