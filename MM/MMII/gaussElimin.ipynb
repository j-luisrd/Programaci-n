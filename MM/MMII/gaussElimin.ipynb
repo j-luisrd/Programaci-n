{
 "cells": [
  {
   "cell_type": "code",
   "execution_count": 1,
   "metadata": {},
   "outputs": [],
   "source": [
    "import numpy as np\n",
    "def gaussElimin(a,b):\n",
    "    \"Resuelve Ax=b por eliminación gaussiana.\"\n",
    "    n = len(a[1])\n",
    "    #Fase de eliminación\n",
    "    for k in range(0,n-1):\n",
    "        for i in range(k+1,n):\n",
    "            if a[i,k] != 0.0:\n",
    "                lam = a[i,k]/a[k,k]\n",
    "                a[i] = a[i] - lam*a[k]\n",
    "                b[i] = b[i] - lam*b[k]\n",
    "    #Fase de sustitución\n",
    "    for k in range(n-1,-1,-1):\n",
    "        b[k] = (b[k] - np.dot(a[k,k+1:n],b[k+1:n]))/a[k,k]\n",
    "    return b"
   ]
  },
  {
   "cell_type": "markdown",
   "metadata": {},
   "source": [
    "### Ejercicio 16\n",
    "Resolver el siguiente sistema de ecuaciones por eliminación gaussiana:\n",
    "$$\n",
    "    \\left\\{\n",
    "    \\begin{aligned}\n",
    "    4x_1-2x_2+x_3&=11\\\\\n",
    "    -2x_1+4x_2-2x_3&=-16\\\\\n",
    "    x_1-2x_2+4x_3&=17\n",
    "    \\end{aligned}\n",
    "    \\right.\n",
    "$$"
   ]
  },
  {
   "cell_type": "code",
   "execution_count": 2,
   "metadata": {},
   "outputs": [
    {
     "name": "stdout",
     "output_type": "stream",
     "text": [
      "La solución del sistema es [ 1. -2.  3.]\n"
     ]
    }
   ],
   "source": [
    "A=np.array([[4,-2,1],[-2,4,-2],[1,-2,4]],dtype=float)\n",
    "b=np.array([11,-16,17],dtype=float)\n",
    "print(\"La solución del sistema es\",gaussElimin(A,b))"
   ]
  },
  {
   "cell_type": "markdown",
   "metadata": {},
   "source": [
    "### Ejemplo 20\n",
    "Una matriz Vandermode $\\mathbf{A}$ $n\\times n$ es definida como $$A_{ij}=v_i^{n-j}, \\ i=1,2,...,n; \\ j=1,2,...,n;$$\n",
    "donde $\\mathbf{v}$ es un vector dado. Use la función $\\mathtt{gaussElimin}$ para calcular la solución de $\\mathbf{Ax=b}$, donde $\\mathbf{A}$ es la matriz Vandermode $6\\times 6$ generada por el vector $$\\mathbf{v}=(1.0,1.2,1.4,1.6,1.8,2.0) \\ \\text{y} \\ \\mathbf{b}=(0,1,0,1,0,1)$$\n",
    "También, evalúe la precisión de la solución (las matrices de Vandermode tienden a ser mal condicionadas)."
   ]
  },
  {
   "cell_type": "code",
   "execution_count": 3,
   "metadata": {},
   "outputs": [
    {
     "name": "stdout",
     "output_type": "stream",
     "text": [
      "x= [   416.66666667  -3125.00000004   9250.00000012 -13500.00000017\n",
      "   9709.33333345  -2751.00000003]\n",
      "\n",
      "\n",
      "a= [[ 1.       1.       1.       1.       1.       1.     ]\n",
      " [ 2.48832  2.0736   1.728    1.44     1.2      1.     ]\n",
      " [ 5.37824  3.8416   2.744    1.96     1.4      1.     ]\n",
      " [10.48576  6.5536   4.096    2.56     1.6      1.     ]\n",
      " [18.89568 10.4976   5.832    3.24     1.8      1.     ]\n",
      " [32.      16.       8.       4.       2.       1.     ]]\n",
      "\n",
      "\n",
      "Determinante de a= -1.1324620799992405e-06\n"
     ]
    }
   ],
   "source": [
    "def vandermode(v):\n",
    "    n = len(v)\n",
    "    a = np.zeros((n,n))\n",
    "    for j in range(n):\n",
    "        a[:,j] = v**(n-j-1)\n",
    "    return a\n",
    "\n",
    "v = np.array([1.0, 1.2, 1.4, 1.6, 1.8, 2.0])\n",
    "b = np.array([0.0, 1.0, 0.0, 1.0, 0.0, 1.0])\n",
    "a = vandermode(v)\n",
    "aOrig = a.copy() # Save original matrix\n",
    "print(\"x=\",gaussElimin(a,b))\n",
    "print(\"\\n\")\n",
    "print(\"a=\",aOrig)\n",
    "print(\"\\n\")\n",
    "print(\"Determinante de a=\",np.linalg.det(aOrig))"
   ]
  },
  {
   "cell_type": "markdown",
   "metadata": {},
   "source": [
    "Note que el determinante de la matriz es mucho menor en magnitud a los elementos de la misma por lo que se esperan errores de redondeo en el calculo de la solución.\n",
    "### Ejercicio 17\n",
    "Use la función $\\mathtt{gaussElimin}$ para calcular la solución de $\\mathbf{Ax=b}$, donde $\\mathbf{A}$ es la matriz Vandermode $3\\times 3$ generada por el vector $$\\mathbf{v}=(1.0,1.2,1.4) \\ \\text{y} \\ \\mathbf{b}=(0,1,0)$$\n",
    "También, evalué la precisión de la solución."
   ]
  },
  {
   "cell_type": "code",
   "execution_count": 4,
   "metadata": {},
   "outputs": [
    {
     "name": "stdout",
     "output_type": "stream",
     "text": [
      "x= [-25.  60. -35.]\n",
      "\n",
      "\n",
      "a= [[1.   1.   1.  ]\n",
      " [1.44 1.2  1.  ]\n",
      " [1.96 1.4  1.  ]]\n",
      "\n",
      "\n",
      "Determinante de a= -0.015999999999999938\n"
     ]
    }
   ],
   "source": [
    "def vandermode(v):\n",
    "    n = len(v)\n",
    "    a = np.zeros((n,n))\n",
    "    for j in range(n):\n",
    "        a[:,j] = v**(n-j-1)\n",
    "    return a\n",
    "\n",
    "v = np.array([1.0, 1.2, 1.4])\n",
    "b = np.array([0.0, 1.0, 0.0])\n",
    "a = vandermode(v)\n",
    "aOrig = a.copy() # Save original matrix\n",
    "print(\"x=\",gaussElimin(a,b))\n",
    "print(\"\\n\")\n",
    "print(\"a=\",aOrig)\n",
    "print(\"\\n\")\n",
    "print(\"Determinante de a=\",np.linalg.det(aOrig))"
   ]
  },
  {
   "cell_type": "markdown",
   "metadata": {},
   "source": [
    "Note que al igual que el ejemplo anterior el determinante de la matriz es mucho menor en magnitud a los elementos de la misma por lo que se esperan errores de redondeo en el calculo de la solución."
   ]
  }
 ],
 "metadata": {
  "kernelspec": {
   "display_name": "Python 3",
   "language": "python",
   "name": "python3"
  },
  "language_info": {
   "codemirror_mode": {
    "name": "ipython",
    "version": 3
   },
   "file_extension": ".py",
   "mimetype": "text/x-python",
   "name": "python",
   "nbconvert_exporter": "python",
   "pygments_lexer": "ipython3",
   "version": "3.6.4"
  }
 },
 "nbformat": 4,
 "nbformat_minor": 2
}
