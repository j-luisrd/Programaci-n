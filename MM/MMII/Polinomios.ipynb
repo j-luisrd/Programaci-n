{
 "cells": [
  {
   "cell_type": "code",
   "execution_count": 1,
   "metadata": {},
   "outputs": [],
   "source": [
    "import numpy as np\n",
    "def horner(r,a):\n",
    "    n=len(a)-1\n",
    "    b=np.zeros(n)\n",
    "    b[n-1] = a[n]\n",
    "    for i in range(n-2,-1,-1):\n",
    "        b[i] = a[i+1] + r*b[i+1]\n",
    "    return b[:n]"
   ]
  },
  {
   "cell_type": "markdown",
   "metadata": {},
   "source": [
    "### Ejemplo 17\n",
    "Un cero del polinomio $P_4(x)=3x^4-10x^3-48x^2-2x+12$ es $x=6$. Degrade el polinomio con el algoritmo de Hornet."
   ]
  },
  {
   "cell_type": "code",
   "execution_count": 2,
   "metadata": {},
   "outputs": [
    {
     "name": "stdout",
     "output_type": "stream",
     "text": [
      "[-2.  0.  8.  3.]\n"
     ]
    }
   ],
   "source": [
    "a=[12,-2,-48,-10,3]\n",
    "r=6\n",
    "print(horner(r,a))"
   ]
  },
  {
   "cell_type": "markdown",
   "metadata": {},
   "source": [
    "### Ejercicio 10\n",
    "Un cero del polinomio $P_5(x)=x^5+x^4-3x^3+5x^2-7x+15$ es $x=-3$. Degrade el polinomio con el algoritmo de Hornet."
   ]
  },
  {
   "cell_type": "code",
   "execution_count": 3,
   "metadata": {},
   "outputs": [
    {
     "name": "stdout",
     "output_type": "stream",
     "text": [
      "[ 5. -4.  3. -2.  1.]\n"
     ]
    }
   ],
   "source": [
    "a=[15,-7,5,-3,1,1]\n",
    "r=-3\n",
    "print(horner(r,a))"
   ]
  },
  {
   "cell_type": "code",
   "execution_count": 4,
   "metadata": {},
   "outputs": [],
   "source": [
    "def evalPoly(a,x):\n",
    "    \"p,dp,ddp = evalPoly(a,x). \\n Evalua el polinomio p = a[0] + a[1]*x + a[2]*xˆ2 +...+ a[n]*xˆn con sus derivadas dp = p’ y ddp = p en x.\"\n",
    "    n = len(a) - 1\n",
    "    p = a[n]\n",
    "    dp = 0.0 + 0.0j\n",
    "    ddp = 0.0 + 0.0j\n",
    "    for i in range(1,n+1):\n",
    "        ddp = ddp*x + 2.0*dp\n",
    "        dp = dp*x + p\n",
    "        p = p*x + a[n-i]\n",
    "    return p,dp,ddp"
   ]
  },
  {
   "cell_type": "code",
   "execution_count": 5,
   "metadata": {},
   "outputs": [],
   "source": [
    "import numpy as np\n",
    "import cmath\n",
    "from random import random\n",
    "def polyRoots(a,tol=1.0e-12):\n",
    "    'roots=polyRoots(a). \\nUsa el método de Laguerre para computar todas las raíces de a[0] + a[1]*x + a[2]*xˆ2 +...+ a[n]*xˆn = 0. \\nLas raíces son devueltas en el arreglo roots'\n",
    "    def laguerre(a,tol):\n",
    "        x = random()\n",
    "        n = len(a) - 1\n",
    "        for i in range(30):\n",
    "            p,dp,ddp = evalPoly(a,x)\n",
    "            if abs(p) < tol: return x\n",
    "            g = dp/p\n",
    "            h = g*g - ddp/p\n",
    "            f = cmath.sqrt((n - 1)*(n*h - g*g))\n",
    "            if abs(g + f) > abs(g - f): dx = n/(g + f)\n",
    "            else: dx = n/(g - f)\n",
    "            x = x - dx\n",
    "            if abs(dx) < tol: return x\n",
    "        print('Muchas iteraciones')\n",
    "        \n",
    "    def deflPoly(a,root): \n",
    "        n = len(a)-1\n",
    "        b = [(0.0 + 0.0j)]*n\n",
    "        b[n-1] = a[n]\n",
    "        for i in range(n-2,-1,-1):\n",
    "            b[i] = a[i+1] + root*b[i+1]\n",
    "        return b\n",
    "    \n",
    "    n = len(a) - 1\n",
    "    roots = np.zeros((n),dtype=complex)\n",
    "    for i in range(n):\n",
    "        x = laguerre(a,tol)\n",
    "        if abs(x.imag) < tol: x = x.real\n",
    "        roots[i] = x\n",
    "        a = deflPoly(a,x)\n",
    "    return roots"
   ]
  },
  {
   "cell_type": "markdown",
   "metadata": {},
   "source": [
    "### Ejemplo 18\n",
    "Usa polyRoots para hallar _todas_ las raíces de $x^4-5x^3-9x^2+155x-250=0$."
   ]
  },
  {
   "cell_type": "code",
   "execution_count": 6,
   "metadata": {},
   "outputs": [
    {
     "name": "stdout",
     "output_type": "stream",
     "text": [
      "Las raíces son:\n",
      " [ 2.+0.j  4.-3.j  4.+3.j -5.+0.j]\n"
     ]
    }
   ],
   "source": [
    "c = np.array([-250.0,155.0,-9.0,-5.0,1.0])\n",
    "print('Las raíces son:\\n',polyRoots(c))"
   ]
  },
  {
   "cell_type": "markdown",
   "metadata": {},
   "source": [
    "### Ejercicio 11\n",
    "Usa polyRoots para hallar _todas_ las raíces de $x^4+5x^3-9x^2-155x+250=0$."
   ]
  },
  {
   "cell_type": "code",
   "execution_count": 7,
   "metadata": {},
   "outputs": [
    {
     "name": "stdout",
     "output_type": "stream",
     "text": [
      "Las raíces son:\n",
      " [ 1.64698494+0.        j  3.73165541+0.        j -5.18932018-3.70782276j\n",
      " -5.18932018+3.70782276j]\n"
     ]
    }
   ],
   "source": [
    "c = np.array([250.0,-155.0,-9.0,+5.0,1.0])\n",
    "print('Las raíces son:\\n',polyRoots(c))"
   ]
  }
 ],
 "metadata": {
  "kernelspec": {
   "display_name": "Python 3",
   "language": "python",
   "name": "python3"
  },
  "language_info": {
   "codemirror_mode": {
    "name": "ipython",
    "version": 3
   },
   "file_extension": ".py",
   "mimetype": "text/x-python",
   "name": "python",
   "nbconvert_exporter": "python",
   "pygments_lexer": "ipython3",
   "version": "3.6.4"
  }
 },
 "nbformat": 4,
 "nbformat_minor": 2
}
