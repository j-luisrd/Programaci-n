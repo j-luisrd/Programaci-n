{
 "cells": [
  {
   "cell_type": "code",
   "execution_count": 1,
   "metadata": {},
   "outputs": [],
   "source": [
    "from numpy import sign\n",
    "\n",
    "def rootsearch(f,a,b,dx):\n",
    "    \"x1,x2 = rootsearch(f,a,b,dx). \\nBusca en el intervalo (a,b) en incrementos dx para los límites (x1,x2) de la raíz más pequeña de f(x). \\nDevuelve x1=x2=None si ninguna raíz es detectada.\"\n",
    "    x1 = a; f1 = f(a)\n",
    "    x2 = a + dx; f2 = f(x2)\n",
    "    while sign(f1) == sign(f2):\n",
    "        if x1 >= b: return None,None\n",
    "        x1 = x2; f1 = f2\n",
    "        x2 = x1 + dx; f2 = f(x2)\n",
    "    else:\n",
    "        return x1,x2"
   ]
  },
  {
   "cell_type": "markdown",
   "metadata": {},
   "source": [
    "### Ejemplo 9\n",
    "Una raíz de $x^3-10x^2+5=0$ yace en el intevalo $(0,1)$. Usa _rootsearch_ para calcular esa raíz con una precisión de 4 dígitos."
   ]
  },
  {
   "cell_type": "code",
   "execution_count": 2,
   "metadata": {},
   "outputs": [
    {
     "name": "stdout",
     "output_type": "stream",
     "text": [
      "x = 0.7346\n"
     ]
    }
   ],
   "source": [
    "from math import *\n",
    "\n",
    "def f(x): return x**3 - 10.0*x**2 + 5.0\n",
    "\n",
    "x1 = 0.0; x2 = 1.0\n",
    "for i in range(4):\n",
    "    dx = (x2 - x1)/10.0\n",
    "    x1,x2 = rootsearch(f,x1,x2,dx)\n",
    "x = (x1 + x2)/2.0\n",
    "print('x =', '{:6.4f}'.format(x))"
   ]
  },
  {
   "cell_type": "markdown",
   "metadata": {},
   "source": [
    "### Ejercicio 6\n",
    "Una raíz de $x^3+10x^2-5=0$ yace en el intevalo $(0,1)$. Usa _rootsearch_ para calcular esa raíz con una precisión de 3 dígitos."
   ]
  },
  {
   "cell_type": "code",
   "execution_count": 3,
   "metadata": {},
   "outputs": [
    {
     "name": "stdout",
     "output_type": "stream",
     "text": [
      "x =  0.685\n"
     ]
    }
   ],
   "source": [
    "from math import *\n",
    "\n",
    "def f(x): return x**3 + 10.0*x**2 - 5.0\n",
    "\n",
    "x1 = 0.0; x2 = 1.0\n",
    "for i in range(3):\n",
    "    dx = (x2 - x1)/10.0\n",
    "    x1,x2 = rootsearch(f,x1,x2,dx)\n",
    "x = (x1 + x2)/2.0\n",
    "print('x =', '{:6.3f}'.format(x))"
   ]
  }
 ],
 "metadata": {
  "kernelspec": {
   "display_name": "Python 3",
   "language": "python",
   "name": "python3"
  },
  "language_info": {
   "codemirror_mode": {
    "name": "ipython",
    "version": 3
   },
   "file_extension": ".py",
   "mimetype": "text/x-python",
   "name": "python",
   "nbconvert_exporter": "python",
   "pygments_lexer": "ipython3",
   "version": "3.6.4"
  }
 },
 "nbformat": 4,
 "nbformat_minor": 2
}
