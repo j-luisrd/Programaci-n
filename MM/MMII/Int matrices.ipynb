{
 "cells": [
  {
   "cell_type": "code",
   "execution_count": 1,
   "metadata": {},
   "outputs": [],
   "source": [
    "import numpy as np"
   ]
  },
  {
   "cell_type": "markdown",
   "metadata": {},
   "source": [
    "### Ejercicio 13\n",
    "Determine si la siguiente matriz es singular:\n",
    "$$\\mathbf{A}=\\begin{pmatrix}\n",
    "    2.1 & -0.6 & 1.1\\\\\n",
    "    3.2 & 4.7 & -0.8\\\\\n",
    "    3.1 & -6.5 & 4.1\n",
    "    \\end{pmatrix}$$"
   ]
  },
  {
   "cell_type": "code",
   "execution_count": 2,
   "metadata": {},
   "outputs": [
    {
     "name": "stdout",
     "output_type": "stream",
     "text": [
      "El determinante de la matriz es 0.0\n"
     ]
    }
   ],
   "source": [
    "A=np.array([[2.1,-0.6,1.1],[3.2, 4.7,-0.8],[3.1,-6.5,4.1]])\n",
    "print(\"El determinante de la matriz es\",np.linalg.det(A))"
   ]
  },
  {
   "cell_type": "markdown",
   "metadata": {},
   "source": [
    "Como $|\\mathbf{A}|=0$, la matriz es singular.\n",
    "### Ejercicio 14\n",
    "Determine si la siguiente matriz es singular:\n",
    "$$\n",
    "    \\mathbf{B}=\\begin{pmatrix}\n",
    "    1 & 2 & 3 & 4\\\\\n",
    "    5 & 6 & 7 & 8\\\\\n",
    "    -4 & 3 & -2 & 1\\\\\n",
    "    8 & -7 & 6 & -5\n",
    "    \\end{pmatrix}\n",
    "$$"
   ]
  },
  {
   "cell_type": "code",
   "execution_count": 3,
   "metadata": {},
   "outputs": [
    {
     "name": "stdout",
     "output_type": "stream",
     "text": [
      "El determinante de la matriz es -256.00000000000017\n"
     ]
    }
   ],
   "source": [
    "B=np.array([[1,2,3,4],[5,6,7,8],[-4,3,-2,1],[8,-7,6,-5]])\n",
    "print(\"El determinante de la matriz es\",np.linalg.det(B))"
   ]
  },
  {
   "cell_type": "markdown",
   "metadata": {},
   "source": [
    "Como $|\\mathbf{A}|\\neq 0$, la matriz es no singular.\n",
    "### Ejercicio 15\n",
    "Resuelva el sistema $\\mathbf{Ax=b}$, donde\n",
    "$$\n",
    "    \\mathbf{A}=\\begin{pmatrix}\n",
    "    8 & -6 & 2\\\\\n",
    "    -4 & 11 & -7\\\\\n",
    "    4 & -7 & 6\n",
    "    \\end{pmatrix}\n",
    "    \\qquad\n",
    "    \\mathbf{b}=\\begin{pmatrix}\n",
    "    28\\\\\n",
    "    -40\\\\\n",
    "    33\n",
    "    \\end{pmatrix}\n",
    "$$\n",
    "sabiendo que la descomposición LU de la matriz de coeficientes es\n",
    "$$\n",
    "    \\mathbf{A=LU}=\\begin{pmatrix}\n",
    "    2 & 0 & 0\\\\\n",
    "    -1 & 2 & 0\\\\\n",
    "    1 & -1 & 1\n",
    "    \\end{pmatrix}\n",
    "    \\begin{pmatrix}\n",
    "    4 & -3 & 1\\\\\n",
    "    0 & 4 & -3\\\\\n",
    "    0 & 0 & 2\n",
    "    \\end{pmatrix}\n",
    "$$"
   ]
  },
  {
   "cell_type": "code",
   "execution_count": 4,
   "metadata": {},
   "outputs": [],
   "source": [
    "A=np.array([[8,-6,2],[-4,11,-7],[4,-7,6]])\n",
    "b=np.array([28,-40,33])\n",
    "L=np.array([[2,0,0],[-1,2,0],[1,-1,1]])\n",
    "U=np.array([[4,-3,1],[0,4,-3],[0,0,2]])"
   ]
  },
  {
   "cell_type": "markdown",
   "metadata": {},
   "source": [
    "Comprobemos primero la descomposición LU dada:"
   ]
  },
  {
   "cell_type": "code",
   "execution_count": 5,
   "metadata": {},
   "outputs": [
    {
     "name": "stdout",
     "output_type": "stream",
     "text": [
      "[[ 8 -6  2]\n",
      " [-4 11 -7]\n",
      " [ 4 -7  6]]\n"
     ]
    }
   ],
   "source": [
    "print(L@U)"
   ]
  },
  {
   "cell_type": "markdown",
   "metadata": {},
   "source": [
    "Solucionamos entonces el sistema $\\mathbf{Ly=b}$:"
   ]
  },
  {
   "cell_type": "code",
   "execution_count": 6,
   "metadata": {},
   "outputs": [
    {
     "name": "stdout",
     "output_type": "stream",
     "text": [
      "[ 14. -13.   6.]\n"
     ]
    }
   ],
   "source": [
    "y=np.linalg.solve(L,b)\n",
    "print(y)"
   ]
  },
  {
   "cell_type": "markdown",
   "metadata": {},
   "source": [
    "Obtenemos ahora la solución al sistema inicial resolviendo $\\mathbf{Ux=y}$:"
   ]
  },
  {
   "cell_type": "code",
   "execution_count": 7,
   "metadata": {},
   "outputs": [
    {
     "name": "stdout",
     "output_type": "stream",
     "text": [
      "La solución del sistema es  [ 2. -1.  3.]\n"
     ]
    }
   ],
   "source": [
    "x=np.linalg.solve(U,y)\n",
    "print(\"La solución del sistema es \",x)"
   ]
  }
 ],
 "metadata": {
  "kernelspec": {
   "display_name": "Python 3",
   "language": "python",
   "name": "python3"
  },
  "language_info": {
   "codemirror_mode": {
    "name": "ipython",
    "version": 3
   },
   "file_extension": ".py",
   "mimetype": "text/x-python",
   "name": "python",
   "nbconvert_exporter": "python",
   "pygments_lexer": "ipython3",
   "version": "3.6.4"
  }
 },
 "nbformat": 4,
 "nbformat_minor": 2
}
