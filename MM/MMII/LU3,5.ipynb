{
 "cells": [
  {
   "cell_type": "code",
   "execution_count": 1,
   "metadata": {},
   "outputs": [],
   "source": [
    "def LUdecomp3(c,d,e):\n",
    "    \"c,d,e = LUdecomp3(c,d,e).\\n Descomposición LU de una matriz triagonal conformada por las diagonales c,d,e.\"\n",
    "    n = len(d)\n",
    "    for k in range(1,n):\n",
    "        lam = c[k-1]/d[k-1]\n",
    "        d[k] = d[k] - lam*e[k-1]\n",
    "        c[k-1] = lam\n",
    "    return c,d,e\n",
    "\n",
    "def LUsolve3(c,d,e,b):\n",
    "    \"x=LUsolve3(c,d,e,b).\\n Resuelve Ax=b donde c,d,e son las diagonales descompuestas de la matriz triagonal A.\"\n",
    "    n = len(d)\n",
    "    for k in range(1,n):\n",
    "        b[k] = b[k] - c[k-1]*b[k-1]\n",
    "    b[n-1] = b[n-1]/d[n-1]\n",
    "    for k in range(n-2,-1,-1):\n",
    "        b[k] = (b[k] - e[k]*b[k+1])/d[k]\n",
    "    return b"
   ]
  },
  {
   "cell_type": "code",
   "execution_count": 2,
   "metadata": {},
   "outputs": [],
   "source": [
    "def LUdecomp5(d,e,f):\n",
    "    \"d,e,f=LUdecomp5(d,e,f).\\n Descomposición LU de una matriz pentadiagonal simétrica donde d,e,f son las diagonales de dicha matriz.\\n Las salidas d,e,f, son las diagonales de la nueva matriz descompuesta.\"\n",
    "    n = len(d)\n",
    "    for k in range(n-2):\n",
    "        lam = e[k]/d[k]\n",
    "        d[k+1] = d[k+1] - lam*e[k]\n",
    "        e[k+1] = e[k+1] - lam*f[k]\n",
    "        e[k] = lam\n",
    "        lam = f[k]/d[k]\n",
    "        d[k+2] = d[k+2] - lam*f[k]\n",
    "        f[k] = lam\n",
    "    lam = e[n-2]/d[n-2]\n",
    "    d[n-1] = d[n-1] - lam*e[n-2]\n",
    "    e[n-2] = lam\n",
    "    return d,e,f\n",
    "\n",
    "def LUsolve5(d,e,f,b):\n",
    "    \"x=LUsolve5(d,e,f,b).\\n Resuelve Ax=b donde d,e,f son las diagonales descompuesta de la matriz pentadiagonal simétrica A.\"\n",
    "    n = len(d)\n",
    "    b[1] = b[1] - e[0]*b[0]\n",
    "    for k in range(2,n):\n",
    "        b[k] = b[k] - e[k-1]*b[k-1] - f[k-2]*b[k-2]\n",
    "    b[n-1] = b[n-1]/d[n-1]\n",
    "    b[n-2] = b[n-2]/d[n-2] - e[n-2]*b[n-1]\n",
    "    for k in range(n-3,-1,-1):\n",
    "        b[k] = b[k]/d[k] - e[k]*b[k+1] - f[k]*b[k+2]\n",
    "    return b"
   ]
  },
  {
   "cell_type": "markdown",
   "metadata": {},
   "source": [
    "### Ejemplo 23\n",
    "Use las funciones $\\mathtt{LUdecomp3}$ y $\\mathtt{LUsolve3}$ para resolver $\\mathbf{Ax=b}$, donde\n",
    "$$\n",
    "    \\mathbf{A}=\\begin{pmatrix}\n",
    "    2 & -1 & 0 & 0 & 0\\\\\n",
    "    -1 & 2 & -1 & 0 & 0\\\\\n",
    "    0 & -1 & 2 & -1 & 0\\\\\n",
    "    0 & 0 & -1 & 2 & -1\\\\\n",
    "    0 & 0 & 0 & -1 & 2\n",
    "    \\end{pmatrix}\n",
    "    \\qquad\n",
    "    \\mathbf{b}=\\begin{pmatrix}\n",
    "    5\\\\\n",
    "    -5\\\\\n",
    "    4\\\\\n",
    "    -5\\\\\n",
    "    5\n",
    "    \\end{pmatrix}\n",
    "$$"
   ]
  },
  {
   "cell_type": "code",
   "execution_count": 3,
   "metadata": {},
   "outputs": [
    {
     "name": "stdout",
     "output_type": "stream",
     "text": [
      "La solución del sistema es:\n",
      "\n",
      "x 1 = 2.0\n",
      "x 2 = -1.0\n",
      "x 3 = 1.0\n",
      "x 4 = -1.0\n",
      "x 5 = 2.0\n"
     ]
    }
   ],
   "source": [
    "import numpy as np\n",
    "d = np.ones((5))*2.0\n",
    "c = np.ones((4))*(-1.0)\n",
    "b = np.array([5.0, -5.0, 4.0, -5.0, 5.0])\n",
    "e = c.copy()\n",
    "c,d,e = LUdecomp3(c,d,e)\n",
    "x = LUsolve3(c,d,e,b)\n",
    "print(\"La solución del sistema es:\\n\")\n",
    "for i in range(len(x)):\n",
    "    print(\"x\",i+1,\"=\",x[i])"
   ]
  },
  {
   "cell_type": "markdown",
   "metadata": {},
   "source": [
    "### Ejercicio 21\n",
    "Use las funciones $\\mathtt{LUdecomp3}$ y $\\mathtt{LUsolve3}$ para resolver $\\mathbf{Ax=b}$, donde\n",
    "$$\n",
    "    \\mathbf{A}=\\begin{pmatrix}\n",
    "    -2 & 1 & 0 & 0 & 0\\\\\n",
    "    1 & -2 & 1 & 0 & 0\\\\\n",
    "    0 & 1 & -2 & 1 & 0\\\\\n",
    "    0 & 0 & 1 & -2 & 1\\\\\n",
    "    0 & 0 & 0 & 1 & -2\n",
    "    \\end{pmatrix}\n",
    "    \\qquad\n",
    "    \\mathbf{b}=\\begin{pmatrix}\n",
    "    -5\\\\\n",
    "    5\\\\\n",
    "    -4\\\\\n",
    "    5\\\\\n",
    "    -5\n",
    "    \\end{pmatrix}\n",
    "$$"
   ]
  },
  {
   "cell_type": "code",
   "execution_count": 4,
   "metadata": {},
   "outputs": [
    {
     "name": "stdout",
     "output_type": "stream",
     "text": [
      "La solución del sistema es:\n",
      "\n",
      "x 1 = 2.0\n",
      "x 2 = -1.0\n",
      "x 3 = 1.0\n",
      "x 4 = -1.0\n",
      "x 5 = 2.0\n"
     ]
    }
   ],
   "source": [
    "d = np.ones((5))*(-2.0)\n",
    "c = np.ones((4))*(1.0)\n",
    "b = np.array([-5.0, 5.0, -4.0, 5.0, -5.0])\n",
    "e = c.copy()\n",
    "c,d,e = LUdecomp3(c,d,e)\n",
    "x = LUsolve3(c,d,e,b)\n",
    "print(\"La solución del sistema es:\\n\")\n",
    "for i in range(len(x)):\n",
    "    print(\"x\",i+1,\"=\",x[i])"
   ]
  },
  {
   "cell_type": "markdown",
   "metadata": {},
   "source": [
    "### Ejercicio 22\n",
    "Use las funciones $\\mathtt{LUdecomp5}$ y $\\mathtt{LUsolve5}$ para resolver $\\mathbf{Ax=b}$, donde\n",
    "$$\n",
    "    \\mathbf{A}=\\begin{pmatrix}\n",
    "    8 & -1 & 4 & 0 & 0 & 0 & 0 & 0 & 0 & 0\\\\\n",
    "    -1 & 8 & -1 & 4 & 0 & 0 & 0 & 0 & 0 & 0\\\\\n",
    "    4 & -1 & 8 & -1 & 4 & 0 & 0 & 0 & 0 & 0\\\\\n",
    "    0 & 4 & -1 & 8 & -1 & 4 & 0 & 0 & 0 & 0\\\\\n",
    "    0 & 0 & 4 & -1 & 8 & -1 & 4 & 0 & 0 & 0\\\\\n",
    "    0 & 0 & 0 & 4 & -1 & 8 & -1 & 4 & 0 & 0\\\\\n",
    "    0 & 0 & 0 & 0 & 4 & -1 & 8 & -1 & 4 & 0\\\\\n",
    "    0 & 0 & 0 & 0 & 0 & 4 & -1 & 8 & -1 & 4\\\\\n",
    "    0 & 0 & 0 & 0 & 0 & 0 & 4 & -1 & 8 & -1\\\\\n",
    "    0 & 0 & 0 & 0 & 0 & 0 & 0 & 4 & -1 & 8\n",
    "    \\end{pmatrix}\n",
    "    \\qquad\n",
    "    \\mathbf{b}=\\begin{pmatrix}\n",
    "    8\\\\\n",
    "    33\\\\\n",
    "    8\\\\\n",
    "    24\\\\\n",
    "    29\\\\\n",
    "    82\\\\\n",
    "    71\\\\\n",
    "    17\\\\\n",
    "    57\\\\\n",
    "    108\n",
    "    \\end{pmatrix}\n",
    "$$"
   ]
  },
  {
   "cell_type": "code",
   "execution_count": 5,
   "metadata": {},
   "outputs": [
    {
     "name": "stdout",
     "output_type": "stream",
     "text": [
      "La solución del sistema es:\n",
      "\n",
      "x 1 = 6.479297534616684\n",
      "x 2 = 16.969132049983113\n",
      "x 3 = -6.716312056737589\n",
      "x 4 = -25.747517730496455\n",
      "x 5 = 6.75873015873016\n",
      "x 6 = 40.53650793650794\n",
      "x 7 = 4.146099290780141\n",
      "x 8 = -32.09929078014184\n",
      "x 9 = 4.808375548801082\n",
      "x 10 = 30.150692333671053\n"
     ]
    }
   ],
   "source": [
    "d = np.ones((10))*(8)\n",
    "e = np.ones((9))*(-1.0)\n",
    "f = np.ones((8))*(4.0)\n",
    "b = np.array([8.0, 33.0, 8.0, 24.0, 29.0, 82.0, 71.0, 17.0, 57.0, 108.0])\n",
    "d,e,f= LUdecomp5(d,e,f)\n",
    "x = LUsolve5(d,e,f,b)\n",
    "print(\"La solución del sistema es:\\n\")\n",
    "for i in range(len(x)):\n",
    "    print(\"x\",i+1,\"=\",x[i])"
   ]
  }
 ],
 "metadata": {
  "kernelspec": {
   "display_name": "Python 3",
   "language": "python",
   "name": "python3"
  },
  "language_info": {
   "codemirror_mode": {
    "name": "ipython",
    "version": 3
   },
   "file_extension": ".py",
   "mimetype": "text/x-python",
   "name": "python",
   "nbconvert_exporter": "python",
   "pygments_lexer": "ipython3",
   "version": "3.6.4"
  }
 },
 "nbformat": 4,
 "nbformat_minor": 2
}
