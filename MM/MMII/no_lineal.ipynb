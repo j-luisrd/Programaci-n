{
 "cells": [
  {
   "cell_type": "markdown",
   "metadata": {},
   "source": [
    "### Ejemplo 28\n",
    "Use el método del punto fijo para determinar la solución del siguiente sistema, note que una solución es $x=2$ y $y=3$. Inicie el calculo suponiendo que $x=1.5$ y $y=3.5$. \n",
    "$$\n",
    "    \\left\\{\n",
    "    \\begin{aligned}\n",
    "    x^2+xy=10\\\\\n",
    "    y+3xy^2=57\n",
    "    \\end{aligned}\n",
    "    \\right.\n",
    "$$\n",
    "\n",
    "_Solución:_ Despejando de las dos ecuaciones dadas, tenemos:\n",
    "$$x_{i+1}=\\frac{10-x_i^2}{y_i} \\quad y_{i+1}=57-3x_iy_i^2$$"
   ]
  },
  {
   "cell_type": "code",
   "execution_count": 1,
   "metadata": {},
   "outputs": [],
   "source": [
    "def f(x,y):\n",
    "    return (10-x**2)/y\n",
    "def g(x,y):\n",
    "    return 57-3*x* y**2\n",
    "def fixPoint2 (it,f,g,x,y):\n",
    "    for i in range(it):\n",
    "        r=f(x,y)\n",
    "        x=r\n",
    "        s=g(x,y)\n",
    "        y=s\n",
    "        print(\"Iteración\",i+1,\":\")\n",
    "        print(\"x=\",x)\n",
    "        print(\"y=\",y,\"\\n\")"
   ]
  },
  {
   "cell_type": "code",
   "execution_count": 2,
   "metadata": {},
   "outputs": [
    {
     "name": "stdout",
     "output_type": "stream",
     "text": [
      "Iteración 1 :\n",
      "x= 2.2142857142857144\n",
      "y= -24.375 \n",
      "\n",
      "Iteración 2 :\n",
      "x= -0.20910518053375193\n",
      "y= 429.7136479591836 \n",
      "\n",
      "Iteración 3 :\n",
      "x= 0.02316955738026651\n",
      "y= -12778.04178126569 \n",
      "\n"
     ]
    }
   ],
   "source": [
    "fixPoint2(3,f,g,1.5,3.5)"
   ]
  },
  {
   "cell_type": "markdown",
   "metadata": {},
   "source": [
    "Note que con el despeje realizado, las soluciones divergen respecto a lo esperado. Despejando las mismas ecuaciones pero de otra forma, tenemos:\n",
    "$$x_{i+1}=\\sqrt{10-x_iy_i}\\quad y_{i+1}=\\sqrt{\\frac{57-y_i}{3x_i}}$$"
   ]
  },
  {
   "cell_type": "code",
   "execution_count": 3,
   "metadata": {},
   "outputs": [
    {
     "name": "stdout",
     "output_type": "stream",
     "text": [
      "Iteración 1 :\n",
      "x= 2.179449471770337\n",
      "y= 2.860505988116444 \n",
      "\n",
      "Iteración 2 :\n",
      "x= 1.9405338789116078\n",
      "y= 3.0495506732218938 \n",
      "\n",
      "Iteración 3 :\n",
      "x= 2.0204562858807944\n",
      "y= 2.9834047467413445 \n",
      "\n",
      "Iteración 4 :\n",
      "x= 1.9930281297863939\n",
      "y= 3.005704362568321 \n",
      "\n"
     ]
    }
   ],
   "source": [
    "import math as m\n",
    "def f(x,y):\n",
    "    return m.sqrt(10-x*y)\n",
    "def g(x,y):\n",
    "    return m.sqrt((57-y)/(3*x))\n",
    "fixPoint2(4,f,g,1.5,3.5)"
   ]
  },
  {
   "cell_type": "markdown",
   "metadata": {},
   "source": [
    "Note que en este caso, el método si parece converger al resultado deseado."
   ]
  },
  {
   "cell_type": "code",
   "execution_count": 4,
   "metadata": {},
   "outputs": [],
   "source": [
    "import numpy as np\n",
    "def newtonRaphson2(f,x,tol=1.0e-9):\n",
    "    \" soln = newtonRaphson2(f,x,tol=1.0e-9).\\n Resuelve un sistema de ecuaciones no lineales por el método de Newton-Raphson method usando x como suposición inicial. \\n Note que f y x son vectores\"\n",
    "    def jacobian(f,x):\n",
    "        h = 1.0e-4\n",
    "        n = len(x)\n",
    "        jac = np.zeros((n,n))\n",
    "        f0 = f(x)\n",
    "        for i in range(n):\n",
    "            temp = x[i]\n",
    "            x[i] = temp + h\n",
    "            f1 = f(x)\n",
    "            x[i] = temp\n",
    "            jac[:,i] = (f1 - f0)/h\n",
    "        return jac,f0\n",
    "    \n",
    "    for i in range(30):\n",
    "        jac,f0 = jacobian(f,x)\n",
    "        if m.sqrt(np.dot(f0,f0)/len(x)) < tol: \n",
    "            return x\n",
    "        dx = np.linalg.solve(jac,-f0)\n",
    "        x = x + dx\n",
    "        if m.sqrt(np.dot(dx,dx)) < tol*max(max(abs(x)),1.0):\n",
    "            return x\n",
    "    print(\"Muchas iteraciones.\")"
   ]
  },
  {
   "cell_type": "markdown",
   "metadata": {},
   "source": [
    "### Ejemplo 29\n",
    "Encuentre la solución de \n",
    "$$\n",
    "    \\left\\{\\begin{aligned}\n",
    "    \\sin(x)+y^2+\\ln(z)=7\\\\\n",
    "    3x+2^y-z^3=-1\\\\\n",
    "    x+y+z=5\n",
    "    \\end{aligned}\\right.\n",
    "$$\n",
    "Usando $\\mathtt{newtonRaphson2}$. Use como suposiciones iniciales el punto (1,1,1).\n",
    "\n",
    "_Solución:_ Sea $x_1=x$, $x_2=y$ y $x_3=z$."
   ]
  },
  {
   "cell_type": "code",
   "execution_count": 5,
   "metadata": {},
   "outputs": [
    {
     "name": "stdout",
     "output_type": "stream",
     "text": [
      "x 1 = 0.5990537566405691\n",
      "x 2 = 2.3959314023778266\n",
      "x 3 = 2.0050148409816035\n"
     ]
    }
   ],
   "source": [
    "def f(x):\n",
    "    f = np.zeros(len(x))\n",
    "    f[0] = m.sin(x[0]) + x[1]**2 + m.log(x[2]) - 7.0\n",
    "    f[1] = 3.0*x[0] + 2.0**x[1] - x[2]**3 + 1.0\n",
    "    f[2] = x[0] + x[1] + x[2] - 5.0\n",
    "    return f\n",
    "x = np.array([1.0, 1.0, 1.0])\n",
    "sol=newtonRaphson2(f,x)\n",
    "for i in range(len(sol)):\n",
    "    print(\"x\",i+1,\"=\",sol[i])"
   ]
  },
  {
   "cell_type": "markdown",
   "metadata": {},
   "source": [
    "### Ejercicio 31\n",
    "Use el método de Newthon-Raphson para determinar la solución del sistema mostrado en el ejemplo #28.\n",
    "\n",
    "_Solución:_ Sea $x_1=x$ y $x_2=y$."
   ]
  },
  {
   "cell_type": "code",
   "execution_count": 6,
   "metadata": {},
   "outputs": [
    {
     "name": "stdout",
     "output_type": "stream",
     "text": [
      "x 1 = 2.0000000000020823\n",
      "x 2 = 2.999999999990089\n"
     ]
    }
   ],
   "source": [
    "def f(x):\n",
    "    f = np.zeros(len(x))\n",
    "    f[0] = x[0]**2 + x[0]*x[1] -10\n",
    "    f[1] = x[1] + 3*x[0]* x[1]**2 -57\n",
    "    return f\n",
    "x = np.array([1.5, 3.5])\n",
    "sol=newtonRaphson2(f,x)\n",
    "for i in range(len(sol)):\n",
    "    print(\"x\",i+1,\"=\",sol[i])"
   ]
  },
  {
   "cell_type": "markdown",
   "metadata": {},
   "source": [
    "### Ejercicio 32\n",
    "Determine los puntos de intersección entre el círculo $x^2+y^2=3$ y la hipérbola $xy=1$ sabiendo que una aproximación es (0.5,1.5).\n",
    "\n",
    "_Solución:_ Sea $x_1=x$ y $x_2=y$."
   ]
  },
  {
   "cell_type": "code",
   "execution_count": 7,
   "metadata": {},
   "outputs": [
    {
     "name": "stdout",
     "output_type": "stream",
     "text": [
      "x 1 = 0.6180339887498757\n",
      "x 2 = 1.618033988749945\n"
     ]
    }
   ],
   "source": [
    "def f(x):\n",
    "    f = np.zeros(len(x))\n",
    "    f[0] = x[0]**2 + x[1]**2 -3\n",
    "    f[1] = x[1] * x[0] - 1 \n",
    "    return f\n",
    "x = np.array([0.5, 1.5])\n",
    "sol=newtonRaphson2(f,x)\n",
    "for i in range(len(sol)):\n",
    "    print(\"x\",i+1,\"=\",sol[i])"
   ]
  },
  {
   "cell_type": "markdown",
   "metadata": {},
   "source": [
    "Como las figuras son simétricas se tiene que los cuatro puntos de intersección vienen dados por $\\pm(0.61803, 1.61803)$ y $\\pm(1.61803, 0.61803)$."
   ]
  }
 ],
 "metadata": {
  "kernelspec": {
   "display_name": "Python 3",
   "language": "python",
   "name": "python3"
  },
  "language_info": {
   "codemirror_mode": {
    "name": "ipython",
    "version": 3
   },
   "file_extension": ".py",
   "mimetype": "text/x-python",
   "name": "python",
   "nbconvert_exporter": "python",
   "pygments_lexer": "ipython3",
   "version": "3.6.4"
  }
 },
 "nbformat": 4,
 "nbformat_minor": 2
}
