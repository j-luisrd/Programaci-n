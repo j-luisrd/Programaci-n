{
 "cells": [
  {
   "cell_type": "code",
   "execution_count": 1,
   "metadata": {},
   "outputs": [],
   "source": [
    "from scipy.integrate import trapz,simps,romb\n",
    "import numpy as np\n",
    "import math as m"
   ]
  },
  {
   "cell_type": "markdown",
   "metadata": {},
   "source": [
    "### Ejercicio 36\n",
    "Escribimos primero una función que separe el intervalo en las regiones deseadas así como calcule los valores de la función para esos valores de $x$:"
   ]
  },
  {
   "cell_type": "code",
   "execution_count": 2,
   "metadata": {},
   "outputs": [],
   "source": [
    "def sep(f,a,b,n):\n",
    "    \"Separa el intervalo (a,b) en n regiones, calcula además f(x) para todos los x en (a,b).\"\n",
    "    x=np.linspace(a,b,n+1)\n",
    "    y=[]\n",
    "    for i in range(len(x)):\n",
    "        y.append(f(x[i]))\n",
    "    return x,y"
   ]
  },
  {
   "cell_type": "markdown",
   "metadata": {},
   "source": [
    "Calculamos ahora la integral usando la función $\\mathtt{trapz}$ para 8 regiones:"
   ]
  },
  {
   "cell_type": "code",
   "execution_count": 3,
   "metadata": {},
   "outputs": [
    {
     "data": {
      "text/plain": [
       "1.9742316019455508"
      ]
     },
     "execution_count": 3,
     "metadata": {},
     "output_type": "execute_result"
    }
   ],
   "source": [
    "def f(x):\n",
    "    return m.sin(x)\n",
    "x,y=sep(f,0,m.pi,8)\n",
    "trapz(y,x)"
   ]
  },
  {
   "cell_type": "markdown",
   "metadata": {},
   "source": [
    "Nuevamente calculamos la integral pero ahora para 16 regiones:"
   ]
  },
  {
   "cell_type": "code",
   "execution_count": 4,
   "metadata": {},
   "outputs": [
    {
     "data": {
      "text/plain": [
       "1.9935703437723393"
      ]
     },
     "execution_count": 4,
     "metadata": {},
     "output_type": "execute_result"
    }
   ],
   "source": [
    "x,y=sep(f,0,m.pi,16)\n",
    "trapz(y,x)"
   ]
  },
  {
   "cell_type": "markdown",
   "metadata": {},
   "source": [
    "Note que con más regiones el resultado se acerca más al valor exacto de la integral definida.\n",
    "### Ejercicio 37\n",
    "Escribimos dos arrays que representen la información dada:"
   ]
  },
  {
   "cell_type": "code",
   "execution_count": 5,
   "metadata": {},
   "outputs": [],
   "source": [
    "x=np.arange(0,3,0.5)\n",
    "y=np.array([1.5,2.0,2.0,1.6364,1.25,0.9565])"
   ]
  },
  {
   "cell_type": "markdown",
   "metadata": {},
   "source": [
    "Hacemos el calculo usando la regla del trapecio:"
   ]
  },
  {
   "cell_type": "code",
   "execution_count": 6,
   "metadata": {},
   "outputs": [
    {
     "data": {
      "text/plain": [
       "4.0573250000000005"
      ]
     },
     "execution_count": 6,
     "metadata": {},
     "output_type": "execute_result"
    }
   ],
   "source": [
    "trapz(y,x)"
   ]
  },
  {
   "cell_type": "markdown",
   "metadata": {},
   "source": [
    "Dado que el número de regiones sería impar, si calculamos la integral por la regla de Simpson tenemos que usar las reglas 1/3 y 3/8; esto lo aproximamos usando la función $\\mathtt{simps}$  aplicando la regla de Simpson 1/3 en los primeros intervalos y la regla del trapecio en el último intervalo:"
   ]
  },
  {
   "cell_type": "code",
   "execution_count": 7,
   "metadata": {},
   "outputs": [
    {
     "data": {
      "text/plain": [
       "4.100891666666667"
      ]
     },
     "execution_count": 7,
     "metadata": {},
     "output_type": "execute_result"
    }
   ],
   "source": [
    "simps(y,x,even='first')"
   ]
  },
  {
   "cell_type": "markdown",
   "metadata": {},
   "source": [
    "### Ejercicio 39\n",
    "Escribimos dos arrays que representen la información dada:"
   ]
  },
  {
   "cell_type": "code",
   "execution_count": 8,
   "metadata": {},
   "outputs": [],
   "source": [
    "x=np.arange(0,2.5,0.5)\n",
    "y=np.array([1.5,2.0,2.0,1.6364,1.25])"
   ]
  },
  {
   "cell_type": "markdown",
   "metadata": {},
   "source": [
    "Hacemos el calculo usando la regla del trapecio:"
   ]
  },
  {
   "cell_type": "code",
   "execution_count": 9,
   "metadata": {},
   "outputs": [
    {
     "data": {
      "text/plain": [
       "3.5057"
      ]
     },
     "execution_count": 9,
     "metadata": {},
     "output_type": "execute_result"
    }
   ],
   "source": [
    "trapz(y,x)"
   ]
  },
  {
   "cell_type": "markdown",
   "metadata": {},
   "source": [
    "Hacemos el calculo usando la regla de Simpson:"
   ]
  },
  {
   "cell_type": "code",
   "execution_count": 10,
   "metadata": {},
   "outputs": [
    {
     "data": {
      "text/plain": [
       "3.5492666666666666"
      ]
     },
     "execution_count": 10,
     "metadata": {},
     "output_type": "execute_result"
    }
   ],
   "source": [
    "simps(y,x)"
   ]
  },
  {
   "cell_type": "markdown",
   "metadata": {},
   "source": [
    "### Ejercicio 40\n",
    "Escribimos dos funciones que evaluen la integral con las cifras que queremos y también que muestre el número de regiones necesarias para llegar a dicho resultado, una para la regla del trapecio y otra para la regla de Simpson:"
   ]
  },
  {
   "cell_type": "code",
   "execution_count": 11,
   "metadata": {},
   "outputs": [],
   "source": [
    "def trap(f,a,b,tol=1.0e-6):\n",
    "    x,y=sep(f,a,b,1)\n",
    "    I0=trapz(y,x)\n",
    "    for i in range(2,50001):\n",
    "        x,y=sep(f,a,b,i)\n",
    "        I1=trapz(y,x)\n",
    "        if abs(I1-I0) < tol*max(abs(I1),1.0):\n",
    "            return I1,i\n",
    "        I0=I1\n",
    "    print(\"La regla del trapecio no converge\")\n",
    "\n",
    "def simp(f,a,b,tol=1.0e-6):\n",
    "    x,y=sep(f,a,b,2)\n",
    "    I0=simps(y,x)\n",
    "    for i in range(3,50001):\n",
    "        x,y=sep(f,a,b,i)\n",
    "        if i%2==0:\n",
    "            I1=simps(y,x)\n",
    "        else:\n",
    "            I1=simps(y,x,'first')\n",
    "        if abs(I1-I0) < tol*max(abs(I1),1.0):\n",
    "            return I1,i\n",
    "        I0=I1\n",
    "    print(\"La regla de Simpson no converge\")"
   ]
  },
  {
   "cell_type": "markdown",
   "metadata": {},
   "source": [
    "Realizamos ahora el calculo de la integral con la regla del trapecio para función y el intervalo dado:"
   ]
  },
  {
   "cell_type": "code",
   "execution_count": 12,
   "metadata": {},
   "outputs": [
    {
     "name": "stdout",
     "output_type": "stream",
     "text": [
      "Aproximadamente la integral definida es igual a -0.8950398658277625 y se necesitaron 316 regiones para llegar a la precisión deseada.\n"
     ]
    }
   ],
   "source": [
    "def f(x):\n",
    "    return m.sqrt(x)*m.cos(x)\n",
    "I,n=trap(f,0,m.pi)\n",
    "print(\"Aproximadamente la integral definida es igual a\",I,\"y se necesitaron\",n,\"regiones para llegar a la precisión deseada.\")"
   ]
  },
  {
   "cell_type": "markdown",
   "metadata": {},
   "source": [
    "Realizamos ahora el calculo de la integral con la regla de Simpson para función y el intervalo dado:"
   ]
  },
  {
   "cell_type": "code",
   "execution_count": 13,
   "metadata": {},
   "outputs": [
    {
     "name": "stdout",
     "output_type": "stream",
     "text": [
      "Aproximadamente la integral definida es igual a -0.8948343424399006 y se necesitaron 3877 regiones para llegar a la precisión deseada.\n"
     ]
    }
   ],
   "source": [
    "def f(x):\n",
    "    return m.sqrt(x)*m.cos(x)\n",
    "I,n=simp(f,0,m.pi)\n",
    "print(\"Aproximadamente la integral definida es igual a\",I,\"y se necesitaron\",n,\"regiones para llegar a la precisión deseada.\")"
   ]
  },
  {
   "cell_type": "markdown",
   "metadata": {},
   "source": [
    "Note que aunque la regla de Simpson necesita más regiones, logra un resultado más preciso con respecto al valor real de la integral.\n",
    "### Ejercicio 41\n",
    "Escribimos una función que evalúe la integral con las cifras deseadas y también que muestre el número de regiones necesarias para llegar a dicho resultado usando la integración de Romberg:"
   ]
  },
  {
   "cell_type": "code",
   "execution_count": 14,
   "metadata": {},
   "outputs": [],
   "source": [
    "def romberg(f,a,b,tol=1.0e-6):\n",
    "    x,y=sep(f,a,b,2)\n",
    "    I0=romb(y,dx=(b-a)/2)\n",
    "    for i in range(2,21):\n",
    "        x,y=sep(f,a,b,2**i)\n",
    "        I1=romb(y,dx=(b-a)/(2**i))\n",
    "        if abs(I1-I0) < tol*max(abs(I1),1.0):\n",
    "            return I1,2**i\n",
    "        I0=I1\n",
    "    print(\"La integración de Romberg no converge\")"
   ]
  },
  {
   "cell_type": "markdown",
   "metadata": {},
   "source": [
    "Hacemos el calculo usando la integración de Romberg:"
   ]
  },
  {
   "cell_type": "code",
   "execution_count": 15,
   "metadata": {},
   "outputs": [
    {
     "name": "stdout",
     "output_type": "stream",
     "text": [
      "I= 1.9999999945872902\n"
     ]
    }
   ],
   "source": [
    "def f(x):\n",
    "    return m.sin(x)\n",
    "I,n=romberg(f,0,m.pi,1.0e-4)\n",
    "print(\"I=\",I)"
   ]
  },
  {
   "cell_type": "markdown",
   "metadata": {},
   "source": [
    "### Ejercicio 42\n",
    "Hacemos el calculo usando la integración de Romberg:"
   ]
  },
  {
   "cell_type": "code",
   "execution_count": 16,
   "metadata": {},
   "outputs": [
    {
     "name": "stdout",
     "output_type": "stream",
     "text": [
      "Aproximadamente la integral definida es igual a -0.8948314695044144 y se necesitaron 64 regiones para llegar a la precisión deseada.\n"
     ]
    }
   ],
   "source": [
    "def f(x):\n",
    "    return 2*(x**2)*m.cos(x**2)\n",
    "I,n=romberg(f,0,m.sqrt(np.pi))\n",
    "print(\"Aproximadamente la integral definida es igual a\",I,\"y se necesitaron\",n,\"regiones para llegar a la precisión deseada.\")"
   ]
  },
  {
   "cell_type": "markdown",
   "metadata": {},
   "source": [
    "Note que la función analizada en este ejercicio es la misma que la del ejercicio 40 pero con un cambio de variable, realicemos los calculos con la función original:"
   ]
  },
  {
   "cell_type": "code",
   "execution_count": 17,
   "metadata": {},
   "outputs": [
    {
     "name": "stdout",
     "output_type": "stream",
     "text": [
      "Aproximadamente la integral definida es igual a -0.8948319843669595 y se necesitaron 8192 regiones para llegar a la precisión deseada.\n"
     ]
    }
   ],
   "source": [
    "def f(x):\n",
    "    return m.sqrt(x)*m.cos(x)\n",
    "I,n=romberg(f,0,m.pi)\n",
    "print(\"Aproximadamente la integral definida es igual a\",I,\"y se necesitaron\",n,\"regiones para llegar a la precisión deseada.\")"
   ]
  },
  {
   "cell_type": "markdown",
   "metadata": {},
   "source": [
    "De lo anterior se puede concluir dos cosas:\n",
    "\n",
    "-En algunos casos, un cambio de variable reduce considerablemente el número de regiones necesarias para lograr cierta precisión.\n",
    "\n",
    "-La integración de Romberg, aunque necesita más regiones, logra resultados más cercanos al valor de la integral."
   ]
  }
 ],
 "metadata": {
  "kernelspec": {
   "display_name": "Python 3",
   "language": "python",
   "name": "python3"
  },
  "language_info": {
   "codemirror_mode": {
    "name": "ipython",
    "version": 3
   },
   "file_extension": ".py",
   "mimetype": "text/x-python",
   "name": "python",
   "nbconvert_exporter": "python",
   "pygments_lexer": "ipython3",
   "version": "3.6.4"
  }
 },
 "nbformat": 4,
 "nbformat_minor": 2
}
