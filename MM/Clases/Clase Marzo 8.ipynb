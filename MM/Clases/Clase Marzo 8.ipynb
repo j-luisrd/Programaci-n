{
 "cells": [
  {
   "cell_type": "code",
   "execution_count": 51,
   "metadata": {},
   "outputs": [
    {
     "name": "stdout",
     "output_type": "stream",
     "text": [
      "[0. 2. 4.]\n"
     ]
    }
   ],
   "source": [
    "import numpy as np #librería \"matlab\"\n",
    "import matplotlib.pyplot as plt #librería para graficar\n",
    "A=np.linspace(0,4,3) #crea un arreglo empezando en el primer número, terminando en el segundo y con la cantidad\n",
    "                     #de números especifícados en el tercero\n",
    "print(A) #muestra lo que está almacenado en una variable"
   ]
  },
  {
   "cell_type": "code",
   "execution_count": 52,
   "metadata": {},
   "outputs": [
    {
     "name": "stdout",
     "output_type": "stream",
     "text": [
      "0 0\n",
      "0 1\n",
      "0 2\n",
      "1 0\n",
      "1 1\n",
      "1 2\n",
      "2 0\n",
      "2 1\n",
      "2 2\n"
     ]
    }
   ],
   "source": [
    "for i in range(3):   #range() crea un intervalo de 0 hasta antes del número indicado\n",
    "    for j in range (3): #range(,) crea un intervalo desde el primer número hasta el último número\n",
    "        print(i,j)"
   ]
  },
  {
   "cell_type": "code",
   "execution_count": 53,
   "metadata": {},
   "outputs": [
    {
     "name": "stdout",
     "output_type": "stream",
     "text": [
      "[1 2 3 4 5]\n",
      "4\n",
      "[1 2 3]\n"
     ]
    }
   ],
   "source": [
    "B=np.array([1,2,3,4,5]) #crea un arreglo con los datos dados\n",
    "print(B)\n",
    "B[3] #invoca el 4 elemento del arreglo \"B\"\n",
    "print(B[3])\n",
    "B[0:3] #corta el arreglo B desde el primer elemento hasta el 3 elemento\n",
    "print(B[0:3])"
   ]
  },
  {
   "cell_type": "code",
   "execution_count": 54,
   "metadata": {},
   "outputs": [
    {
     "name": "stdout",
     "output_type": "stream",
     "text": [
      "[ 1  2  3 10  5]\n",
      "[1 2 3 4 5]\n"
     ]
    }
   ],
   "source": [
    "C=B #crea una copia reflejada de B (todo lo que le pase a B le pasa a C)\n",
    "D=B.copy() #crea una copia de B\n",
    "B[3]=10\n",
    "print(C)\n",
    "print(D)"
   ]
  },
  {
   "cell_type": "code",
   "execution_count": 62,
   "metadata": {},
   "outputs": [
    {
     "name": "stdout",
     "output_type": "stream",
     "text": [
      "2.0\n"
     ]
    },
    {
     "data": {
      "text/plain": [
       "False"
      ]
     },
     "execution_count": 62,
     "metadata": {},
     "output_type": "execute_result"
    }
   ],
   "source": [
    "from numpy import sqrt #para usar la raíz cuadrada\n",
    "from numpy import isnan #para testear si un número es real o no\n",
    "x=sqrt(4)\n",
    "print(x)\n",
    "isnan(x)"
   ]
  },
  {
   "cell_type": "code",
   "execution_count": 67,
   "metadata": {},
   "outputs": [
    {
     "name": "stdout",
     "output_type": "stream",
     "text": [
      "[ 1  2  3 10  5]\n",
      "[ 1  2  3 -5  5]\n",
      "[ 2  4  6 20 10]\n",
      "[1 2 3 5 5]\n"
     ]
    }
   ],
   "source": [
    "print(B)\n",
    "E=B*2\n",
    "B[3]=-5\n",
    "print(B)\n",
    "F=abs(B)\n",
    "print(E)\n",
    "print(F)"
   ]
  },
  {
   "cell_type": "code",
   "execution_count": 70,
   "metadata": {},
   "outputs": [
    {
     "name": "stdout",
     "output_type": "stream",
     "text": [
      "Elmo\n",
      "Pacman\n",
      "['Elmo' 'Elmo' 'Elmo' 'Elmo' 'Pacman']\n"
     ]
    }
   ],
   "source": [
    "def Funcion(x): #para definir una función\n",
    "    if x<=3:\n",
    "        return \"Elmo\"\n",
    "    else: \n",
    "        return \"Pacman\"\n",
    "print(Funcion(2))\n",
    "print(Funcion(4))\n",
    "Fn=np.vectorize(Funcion) #para que la función creada funcione en arreglos\n",
    "print(Fn(B))"
   ]
  },
  {
   "cell_type": "code",
   "execution_count": 75,
   "metadata": {},
   "outputs": [
    {
     "name": "stdout",
     "output_type": "stream",
     "text": [
      "[0 1 2 3 4 5 6 7 8 9]\n",
      "[0 2 4 6 8]\n"
     ]
    }
   ],
   "source": [
    "G=np.arange(0,10) #crea un arreglo desde el primer número hasta antes del segundo\n",
    "print(G)\n",
    "H=np.arange(0,10,2) #crea un arreglo desde el primer número hasta antes del segundo, con un incremento dado por\n",
    "                    #el tercer número\n",
    "print(H)"
   ]
  },
  {
   "cell_type": "code",
   "execution_count": 85,
   "metadata": {},
   "outputs": [
    {
     "data": {
      "text/plain": [
       "[<matplotlib.lines.Line2D at 0x7efbff00a1d0>]"
      ]
     },
     "execution_count": 85,
     "metadata": {},
     "output_type": "execute_result"
    },
    {
     "data": {
      "image/png": "[encoded data removed]",
      "text/plain": [
       "<matplotlib.figure.Figure at 0x7efbff094160>"
      ]
     },
     "metadata": {},
     "output_type": "display_data"
    }
   ],
   "source": [
    "x=G\n",
    "y=x*2+5\n",
    "plt.plot(x, y) #Grafica y en función de x"
   ]
  },
  {
   "cell_type": "code",
   "execution_count": 86,
   "metadata": {},
   "outputs": [
    {
     "data": {
      "text/plain": [
       "[<matplotlib.lines.Line2D at 0x7efc06ead588>]"
      ]
     },
     "execution_count": 86,
     "metadata": {},
     "output_type": "execute_result"
    },
    {
     "data": {
      "image/png": "[encoded data removed]",
      "text/plain": [
       "<matplotlib.figure.Figure at 0x7efbff0867f0>"
      ]
     },
     "metadata": {},
     "output_type": "display_data"
    }
   ],
   "source": [
    "from numpy import pi, sin #importa pi y la función seno\n",
    "x=np.arange(-2*pi,2*pi, 0.01)\n",
    "y=sin(x)\n",
    "plt.plot(x,y)"
   ]
  },
  {
   "cell_type": "code",
   "execution_count": 94,
   "metadata": {},
   "outputs": [
    {
     "name": "stdout",
     "output_type": "stream",
     "text": [
      "[[1 2]\n",
      " [3 4]\n",
      " [5 6]]\n"
     ]
    }
   ],
   "source": [
    "H=np.array([[1,2],[3,4],[5,6]])\n",
    "print(H)"
   ]
  },
  {
   "cell_type": "code",
   "execution_count": 95,
   "metadata": {},
   "outputs": [
    {
     "name": "stdout",
     "output_type": "stream",
     "text": [
      "[3 4]\n",
      "6\n"
     ]
    }
   ],
   "source": [
    "print(H[1])\n",
    "print(H[2][1])"
   ]
  },
  {
   "cell_type": "code",
   "execution_count": 123,
   "metadata": {},
   "outputs": [
    {
     "name": "stdout",
     "output_type": "stream",
     "text": [
      "[[1 2]\n",
      " [3 4]\n",
      " [5 6]]\n",
      "[[2 0]\n",
      " [0 2]]\n"
     ]
    }
   ],
   "source": [
    "I=np.matrix(H) #crea una matriz a partir de un arreglo\n",
    "print(I)\n",
    "J=np.matrix(\"2 0; 0 2\") #crea una matriz a partir de una cadena\n",
    "print(J)"
   ]
  },
  {
   "cell_type": "code",
   "execution_count": 130,
   "metadata": {},
   "outputs": [
    {
     "name": "stdout",
     "output_type": "stream",
     "text": [
      "6\n",
      "(3, 2)\n",
      "[[1 3 5]\n",
      " [2 4 6]]\n",
      "[[-1.33333333 -0.33333333  0.66666667]\n",
      " [ 1.08333333  0.33333333 -0.41666667]]\n",
      "[[ 0.83333333  0.33333333 -0.16666667]\n",
      " [ 0.33333333  0.33333333  0.33333333]\n",
      " [-0.16666667  0.33333333  0.83333333]]\n"
     ]
    }
   ],
   "source": [
    "I.size #número de elementos en la matriz\n",
    "print(I.size)\n",
    "I.shape #número de filas y columnas\n",
    "print(I.shape)\n",
    "K=I.T #la traspuesta de I\n",
    "print(I.T)\n",
    "L=I.I #la inversa de I\n",
    "print(I.I)\n",
    "M=I*L #multiplica las matrices\n",
    "print(M)"
   ]
  },
  {
   "cell_type": "code",
   "execution_count": 113,
   "metadata": {},
   "outputs": [
    {
     "data": {
      "image/png": "[encoded data removed]",
      "text/plain": [
       "<matplotlib.figure.Figure at 0x7efbfd467f60>"
      ]
     },
     "metadata": {},
     "output_type": "display_data"
    }
   ],
   "source": [
    "x = np.arange(0, 2*pi, 0.01)\n",
    "y = sin(x)\n",
    "W=plt.plot(x,y)"
   ]
  },
  {
   "cell_type": "code",
   "execution_count": 131,
   "metadata": {},
   "outputs": [
    {
     "data": {
      "image/png": "[encoded data removed]",
      "text/plain": [
       "<matplotlib.figure.Figure at 0x7efbfd6222e8>"
      ]
     },
     "metadata": {},
     "output_type": "display_data"
    }
   ],
   "source": [
    "from numpy import cos\n",
    "x = np.arange(0, 2*pi, 0.01)\n",
    "ax = plt.plot(x, np.matrix([sin(x), cos(x)]).T) #se pueden sobreponer dos gráficas usando la inversa de una matrix"
   ]
  },
  {
   "cell_type": "code",
   "execution_count": 133,
   "metadata": {},
   "outputs": [
    {
     "name": "stdout",
     "output_type": "stream",
     "text": [
      "[[1 2]\n",
      " [3 4]\n",
      " [5 6]]\n",
      "[[2]\n",
      " [4]\n",
      " [6]]\n",
      "[[3 4]]\n",
      "4\n"
     ]
    }
   ],
   "source": [
    "print(I)\n",
    "I[:,1] #Llama elementos de una matriz, en este caso, columnas\n",
    "I[1,:] #Llama elementos de una matriz, en este caso, filas\n",
    "I[1,1] #Llama elementos de una matriz, en este caso, un elemento\n",
    "print(I[:,1])\n",
    "print(I[1,:])\n",
    "print(I[1,1])"
   ]
  },
  {
   "cell_type": "code",
   "execution_count": 134,
   "metadata": {},
   "outputs": [
    {
     "name": "stdout",
     "output_type": "stream",
     "text": [
      "[[2]\n",
      " [4]\n",
      " [6]]\n",
      "[[ 1  2]\n",
      " [ 3 16]\n",
      " [ 5  6]]\n"
     ]
    }
   ],
   "source": [
    "N=np.copy(I[:,1]) #copia los elementos de una matriz, en este caso, una columna\n",
    "I[1,1]=16\n",
    "print(N)\n",
    "print(I)"
   ]
  },
  {
   "cell_type": "code",
   "execution_count": 135,
   "metadata": {},
   "outputs": [
    {
     "name": "stdout",
     "output_type": "stream",
     "text": [
      "[0 1 2 3 4 5 6 7 8 9]\n",
      "45\n"
     ]
    }
   ],
   "source": [
    "print(G)\n",
    "print(np.sum(G)) #suma los elementos de un vector"
   ]
  },
  {
   "cell_type": "code",
   "execution_count": 137,
   "metadata": {},
   "outputs": [
    {
     "name": "stdout",
     "output_type": "stream",
     "text": [
      "[[ 1  2]\n",
      " [ 3 16]\n",
      " [ 5  6]]\n",
      "[[ 9 24]]\n",
      "[[ 3]\n",
      " [19]\n",
      " [11]]\n"
     ]
    }
   ],
   "source": [
    "print(I)\n",
    "print(np.sum(I,axis=0)) #suma las columnas de una matriz\n",
    "print(np.sum(I,axis=1)) #suma las filas de una matriz"
   ]
  },
  {
   "cell_type": "code",
   "execution_count": 138,
   "metadata": {},
   "outputs": [
    {
     "name": "stdout",
     "output_type": "stream",
     "text": [
      "[ 0  1  3  6 10 15 21 28 36 45]\n"
     ]
    }
   ],
   "source": [
    "print(G)\n",
    "print(np.cumsum(G)) #suma acumulalada de un vector"
   ]
  },
  {
   "cell_type": "code",
   "execution_count": 140,
   "metadata": {},
   "outputs": [
    {
     "name": "stdout",
     "output_type": "stream",
     "text": [
      "[[ 1  2]\n",
      " [ 3 16]\n",
      " [ 5  6]]\n",
      "[[ 1  2]\n",
      " [ 4 18]\n",
      " [ 9 24]]\n",
      "[[ 1  3]\n",
      " [ 3 19]\n",
      " [ 5 11]]\n"
     ]
    }
   ],
   "source": [
    "print(I)\n",
    "print(np.cumsum(I,axis=0)) #suma acumulada las columnas de una matriz\n",
    "print(np.cumsum(I,axis=1)) #suma acumulada las filas de una matriz"
   ]
  },
  {
   "cell_type": "code",
   "execution_count": 141,
   "metadata": {},
   "outputs": [
    {
     "name": "stdout",
     "output_type": "stream",
     "text": [
      "[0 1 2 3 4 5 6 7 8 9]\n",
      "[0 0 0 0 0 0 0 0 0 0]\n"
     ]
    }
   ],
   "source": [
    "print(G)\n",
    "print(np.cumprod(G)) #producto acumulalado de un vector"
   ]
  },
  {
   "cell_type": "code",
   "execution_count": 142,
   "metadata": {},
   "outputs": [
    {
     "name": "stdout",
     "output_type": "stream",
     "text": [
      "[[ 1  2]\n",
      " [ 3 16]\n",
      " [ 5  6]]\n",
      "[[  1   2]\n",
      " [  3  32]\n",
      " [ 15 192]]\n",
      "[[ 1  2]\n",
      " [ 3 48]\n",
      " [ 5 30]]\n"
     ]
    }
   ],
   "source": [
    "print(I)\n",
    "print(np.cumprod(I,axis=0)) #producto acumulado las columnas de una matriz\n",
    "print(np.cumprod(I,axis=1)) #producto acumulado las filas de una matriz"
   ]
  },
  {
   "cell_type": "code",
   "execution_count": 166,
   "metadata": {},
   "outputs": [
    {
     "name": "stdout",
     "output_type": "stream",
     "text": [
      "-0.4659373705408328\n"
     ]
    }
   ],
   "source": [
    "from numpy.random import normal, uniform, exponential, randint #Importa las funciones de probabilidad para \n",
    "                                                               #generar números aleatorios\n",
    "epsilon=normal() #genera el número aleatorio basado en la distribución normal\n",
    "print(epsilon)"
   ]
  },
  {
   "cell_type": "code",
   "execution_count": 176,
   "metadata": {},
   "outputs": [
    {
     "data": {
      "text/plain": [
       "1.690525703800356"
      ]
     },
     "execution_count": 176,
     "metadata": {},
     "output_type": "execute_result"
    }
   ],
   "source": [
    "from numpy.random import seed\n",
    "seed(7) #cambia la base de los números aleatorios\n",
    "np.random.normal(0) #genera un número aleatorio con dicha distribución centrado en 0"
   ]
  },
  {
   "cell_type": "code",
   "execution_count": 169,
   "metadata": {},
   "outputs": [
    {
     "data": {
      "text/plain": [
       "array([-0.46593737,  0.03282016])"
      ]
     },
     "execution_count": 169,
     "metadata": {},
     "output_type": "execute_result"
    }
   ],
   "source": [
    "normal(size=2) #genera dos números aleatorios"
   ]
  },
  {
   "cell_type": "code",
   "execution_count": 170,
   "metadata": {},
   "outputs": [
    {
     "data": {
      "text/plain": [
       "array([[ 0.40751628, -0.78892303],\n",
       "       [ 0.00206557, -0.00089039]])"
      ]
     },
     "execution_count": 170,
     "metadata": {},
     "output_type": "execute_result"
    }
   ],
   "source": [
    "normal(size=(2,2)) genera una par de números aleatorios"
   ]
  },
  {
   "cell_type": "code",
   "execution_count": 177,
   "metadata": {},
   "outputs": [
    {
     "data": {
      "image/png": "[encoded data removed]",
      "text/plain": [
       "<matplotlib.figure.Figure at 0x7efbff222630>"
      ]
     },
     "metadata": {},
     "output_type": "display_data"
    }
   ],
   "source": [
    "data = normal(size=10000)\n",
    "ax = plt.hist(data) #genera un histograma"
   ]
  },
  {
   "cell_type": "code",
   "execution_count": 178,
   "metadata": {},
   "outputs": [
    {
     "data": {
      "text/plain": [
       "(array([  32,  166,  670, 1751, 2815, 2607, 1400,  458,   90,   11]),\n",
       " array([-3.53436265, -2.80663727, -2.07891189, -1.35118651, -0.62346113,\n",
       "         0.10426425,  0.83198963,  1.55971501,  2.28744039,  3.01516577,\n",
       "         3.74289115]))"
      ]
     },
     "execution_count": 178,
     "metadata": {},
     "output_type": "execute_result"
    }
   ],
   "source": [
    "np.histogram(data) #cuenta las frecuencias de los datos y menciona los mismos"
   ]
  },
  {
   "cell_type": "code",
   "execution_count": 179,
   "metadata": {},
   "outputs": [
    {
     "name": "stdout",
     "output_type": "stream",
     "text": [
      "-0.009256765855502454\n"
     ]
    }
   ],
   "source": [
    "print(np.mean(data)) #calcula la media de un conjunto de datos"
   ]
  },
  {
   "cell_type": "code",
   "execution_count": 180,
   "metadata": {},
   "outputs": [
    {
     "name": "stdout",
     "output_type": "stream",
     "text": [
      "0.9842879000795832\n"
     ]
    }
   ],
   "source": [
    "print(np.var(data)) #calcula la varianza de un conjunto de datos"
   ]
  },
  {
   "cell_type": "code",
   "execution_count": 181,
   "metadata": {},
   "outputs": [
    {
     "name": "stdout",
     "output_type": "stream",
     "text": [
      "5\n"
     ]
    }
   ],
   "source": [
    "die_roll = randint(0, 6) #produce números aleatorios discretos entre el primer número y antes del segundo número\n",
    "print(die_roll)"
   ]
  },
  {
   "cell_type": "code",
   "execution_count": 182,
   "metadata": {},
   "outputs": [
    {
     "name": "stdout",
     "output_type": "stream",
     "text": [
      "[1 1 0 1 0 0 0 0 0 1 1 1 0 0 1 1 0 1 0 0]\n"
     ]
    }
   ],
   "source": [
    "bernoulli_trials = randint(0, 2, size = 20) #un proceso de bernoulli con 20 intentos\n",
    "print(bernoulli_trials)"
   ]
  },
  {
   "cell_type": "code",
   "execution_count": 183,
   "metadata": {},
   "outputs": [
    {
     "name": "stdout",
     "output_type": "stream",
     "text": [
      "[0 1 1 0 1 1 0 0 0 1 0 1 0 1 1 1 1 0 0 1]\n"
     ]
    }
   ],
   "source": [
    "bernoulli_trials = randint(0, 2, size = 20) #un proceso de bernoulli con 20 intentos\n",
    "print(bernoulli_trials)"
   ]
  },
  {
   "cell_type": "code",
   "execution_count": null,
   "metadata": {},
   "outputs": [],
   "source": []
  }
 ],
 "metadata": {
  "kernelspec": {
   "display_name": "Python 3",
   "language": "python",
   "name": "python3"
  },
  "language_info": {
   "codemirror_mode": {
    "name": "ipython",
    "version": 3
   },
   "file_extension": ".py",
   "mimetype": "text/x-python",
   "name": "python",
   "nbconvert_exporter": "python",
   "pygments_lexer": "ipython3",
   "version": "3.6.4"
  }
 },
 "nbformat": 4,
 "nbformat_minor": 2
}
