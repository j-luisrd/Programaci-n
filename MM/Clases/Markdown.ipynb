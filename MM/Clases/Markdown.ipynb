{
 "cells": [
  {
   "cell_type": "markdown",
   "metadata": {},
   "source": [
    "# _Cursiva_ y **negrita** en Markdown"
   ]
  },
  {
   "cell_type": "markdown",
   "metadata": {},
   "source": [
    "_Así es cursiva_"
   ]
  },
  {
   "cell_type": "markdown",
   "metadata": {},
   "source": [
    "**Así es negrita**"
   ]
  },
  {
   "cell_type": "markdown",
   "metadata": {},
   "source": [
    "**_Así se usa cursiva y negrita a la vez_**"
   ]
  },
  {
   "cell_type": "markdown",
   "metadata": {},
   "source": [
    "# Encabezados en Markdown"
   ]
  },
  {
   "cell_type": "markdown",
   "metadata": {},
   "source": [
    "# Encabezado 1\n",
    "## Encabezado 2\n",
    "### Encabezado 3\n",
    "#### Encabezado 4\n",
    "##### Encabezado 5\n",
    "###### Encabezado 6"
   ]
  },
  {
   "cell_type": "markdown",
   "metadata": {},
   "source": [
    "# Links en Markdown"
   ]
  },
  {
   "cell_type": "markdown",
   "metadata": {},
   "source": [
    "[Para ir a github](https://github.com/j-luisrd/Programaci-n)"
   ]
  },
  {
   "cell_type": "markdown",
   "metadata": {},
   "source": [
    "[**_Para ir a github_**](https://github.com/j-luisrd/Programaci-n)"
   ]
  },
  {
   "cell_type": "markdown",
   "metadata": {},
   "source": [
    "# [Para ir a github](https://github.com/j-luisrd/Programaci-n)"
   ]
  },
  {
   "cell_type": "markdown",
   "metadata": {},
   "source": [
    "# Imagénes en Markdown"
   ]
  },
  {
   "cell_type": "markdown",
   "metadata": {},
   "source": [
    "![Batman](https://www.lego.com/r/www/r/catalogs/-/media/catalogs/characters/lbm%20characters/primary/70900_1to1_batman_360_480.png?l.r=1668006940)"
   ]
  },
  {
   "cell_type": "markdown",
   "metadata": {},
   "source": [
    "# Citas en Markdown"
   ]
  },
  {
   "cell_type": "markdown",
   "metadata": {},
   "source": [
    ">\"Luke, yo soy tu padre\""
   ]
  },
  {
   "cell_type": "markdown",
   "metadata": {},
   "source": [
    ">También es posible para grandes parráfos, separar en varias líneas\n",
    ">\n",
    ">Y usar _varios_ tipos de **letra**"
   ]
  },
  {
   "cell_type": "markdown",
   "metadata": {},
   "source": [
    "# Listas en Markdown"
   ]
  },
  {
   "cell_type": "markdown",
   "metadata": {},
   "source": [
    "Una lista sin ordenar puede ser así:\n",
    "* Uno\n",
    "* Dos\n",
    "* Tres"
   ]
  },
  {
   "cell_type": "markdown",
   "metadata": {},
   "source": [
    "Y una ordenada puede ser así:\n",
    "1. Uno\n",
    "2. Dos\n",
    "3. Tres"
   ]
  },
  {
   "cell_type": "markdown",
   "metadata": {},
   "source": [
    "También puede modificarse:\n",
    "1. _Es posible cambiar_\n",
    "2. **El tipo de letra en una lista**\n",
    "3. [E insertar links](https://github.com/j-luisrd/Programaci-n)"
   ]
  },
  {
   "cell_type": "markdown",
   "metadata": {},
   "source": [
    "La jerarquía en una lista también puede mantenerse:\n",
    "* Uno\n",
    " * Dos\n",
    "   * Tres"
   ]
  },
  {
   "cell_type": "markdown",
   "metadata": {},
   "source": [
    "E insertar texto en ellas:\n",
    "1. Uno\n",
    "       Así no solo se queda en la misma línea\n",
    "2. Dos\n",
    " > También pueden añadirse comentarios"
   ]
  },
  {
   "cell_type": "markdown",
   "metadata": {},
   "source": [
    "# Parráfos en Markdown"
   ]
  },
  {
   "cell_type": "markdown",
   "metadata": {},
   "source": [
    "Es posible crear\n",
    "\n",
    "Parráfos con saltos fuertes\n",
    "\n",
    "O simplemente con saltos  \n",
    "Lo suficientemente suaves (con dos espacios)"
   ]
  },
  {
   "cell_type": "code",
   "execution_count": null,
   "metadata": {},
   "outputs": [],
   "source": []
  }
 ],
 "metadata": {
  "kernelspec": {
   "display_name": "Python 3",
   "language": "python",
   "name": "python3"
  },
  "language_info": {
   "codemirror_mode": {
    "name": "ipython",
    "version": 3
   },
   "file_extension": ".py",
   "mimetype": "text/x-python",
   "name": "python",
   "nbconvert_exporter": "python",
   "pygments_lexer": "ipython3",
   "version": "3.6.4"
  }
 },
 "nbformat": 4,
 "nbformat_minor": 2
}
