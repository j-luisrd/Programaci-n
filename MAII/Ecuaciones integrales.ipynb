{
 "cells": [
  {
   "cell_type": "markdown",
   "metadata": {},
   "source": [
    "**Encuentre los autovalores de $$\\varphi(x)=\\lambda \\int_{-1}^1(t-x)\\varphi(t)dt$$ **\n",
    "Podemos separar el kernel, $t-x$, de la forma $M_1(x)N_1(t)+M_2(x)N_2(t)$ con $M_1(x)=1$, $N_1(t)=t$, $M_2(x)=x$, $N_2(t)=-1$. Teniendo en cuenta que $\\displaystyle a_{ij}=\\int_a^b N_i(x)M_j(x)dx$, encontremos estos valores:"
   ]
  },
  {
   "cell_type": "code",
   "execution_count": 1,
   "metadata": {},
   "outputs": [
    {
     "name": "stdout",
     "output_type": "stream",
     "text": [
      "[[ 0.          0.66666667]\n",
      " [-2.          0.        ]]\n"
     ]
    }
   ],
   "source": [
    "import numpy as np\n",
    "from sympy import *\n",
    "\n",
    "x=symbols('x')\n",
    "\n",
    "a=np.zeros((2,2))\n",
    "M=[1,x]\n",
    "N=[x,-1]\n",
    "\n",
    "for i in range(2):\n",
    "    for j in range(2):\n",
    "        a[i][j]=integrate(N[i]*M[j],(x,-1,1))\n",
    "print(a)"
   ]
  },
  {
   "cell_type": "markdown",
   "metadata": {},
   "source": [
    "Encontremos ahora los autovalores del operador:"
   ]
  },
  {
   "cell_type": "code",
   "execution_count": 2,
   "metadata": {},
   "outputs": [
    {
     "data": {
      "text/plain": [
       "array([ 0.-0.8660254j, -0.+0.8660254j])"
      ]
     },
     "execution_count": 2,
     "metadata": {},
     "output_type": "execute_result"
    }
   ],
   "source": [
    "1/np.linalg.eigvals(a)"
   ]
  },
  {
   "cell_type": "markdown",
   "metadata": {},
   "source": [
    "**Resuelva $\\displaystyle \\psi(x)=x+\\frac{1}{2}\\int_{-1}^1(t-x)\\psi(t)dt$ usando series de Neumann**\n",
    "\n",
    "Empezamos aproximando $\\psi_0=x$ y reemplazando en la ecuación:"
   ]
  },
  {
   "cell_type": "code",
   "execution_count": 3,
   "metadata": {},
   "outputs": [
    {
     "name": "stdout",
     "output_type": "stream",
     "text": [
      "x + 0.333333333333333\n"
     ]
    }
   ],
   "source": [
    "x,t=symbols('x t')\n",
    "I=x+(1/2)*integrate((t-x)*t,(t,-1,1))\n",
    "i=I.subs(x,t)\n",
    "print(I)"
   ]
  },
  {
   "cell_type": "markdown",
   "metadata": {},
   "source": [
    "Reemplazamos ahora $\\displaystyle \\psi_1=x+\\frac{1}{3}$ en la ecuación:"
   ]
  },
  {
   "cell_type": "code",
   "execution_count": 4,
   "metadata": {},
   "outputs": [
    {
     "name": "stdout",
     "output_type": "stream",
     "text": [
      "0.666666666666667*x + 0.333333333333333\n"
     ]
    }
   ],
   "source": [
    "I=x+(1/2)*integrate((t-x)*i,(t,-1,1))\n",
    "i=I.subs(x,t)\n",
    "print(I)"
   ]
  },
  {
   "cell_type": "markdown",
   "metadata": {},
   "source": [
    "Reemplazamos ahora $\\displaystyle \\psi_2=\\frac{2x}{3}+\\frac{1}{3}$ en la ecuación:"
   ]
  },
  {
   "cell_type": "code",
   "execution_count": 5,
   "metadata": {},
   "outputs": [
    {
     "name": "stdout",
     "output_type": "stream",
     "text": [
      "0.666666666666667*x + 0.222222222222222\n"
     ]
    }
   ],
   "source": [
    "I=x+(1/2)*integrate((t-x)*i,(t,-1,1))\n",
    "i=I.subs(x,t)\n",
    "print(I)"
   ]
  },
  {
   "cell_type": "markdown",
   "metadata": {},
   "source": [
    "Iterando ahora hasta un $n$ suficientemente grande, podremos encontrar una aproximación para $\\psi$:"
   ]
  },
  {
   "cell_type": "code",
   "execution_count": 6,
   "metadata": {},
   "outputs": [
    {
     "name": "stdout",
     "output_type": "stream",
     "text": [
      "0.75*x + 0.25\n"
     ]
    }
   ],
   "source": [
    "for j in range(200):\n",
    "    I=x+(1/2)*integrate((t-x)*i,(t,-1,1))\n",
    "    i=I.subs(x,t)\n",
    "print(I)"
   ]
  },
  {
   "cell_type": "markdown",
   "metadata": {},
   "source": [
    "Por lo que entonces $\\psi(x)=0.75x+0.25$, lo cual podemos verificar reemplazando en la ecuación:"
   ]
  },
  {
   "cell_type": "code",
   "execution_count": 7,
   "metadata": {},
   "outputs": [
    {
     "data": {
      "text/plain": [
       "0.75*x + 0.25"
      ]
     },
     "execution_count": 7,
     "metadata": {},
     "output_type": "execute_result"
    }
   ],
   "source": [
    "x+(1/2)*integrate((t-x)*I.subs(x,t),(t,-1,1))"
   ]
  }
 ],
 "metadata": {
  "kernelspec": {
   "display_name": "Python 3",
   "language": "python",
   "name": "python3"
  },
  "language_info": {
   "codemirror_mode": {
    "name": "ipython",
    "version": 3
   },
   "file_extension": ".py",
   "mimetype": "text/x-python",
   "name": "python",
   "nbconvert_exporter": "python",
   "pygments_lexer": "ipython3",
   "version": "3.6.4"
  }
 },
 "nbformat": 4,
 "nbformat_minor": 2
}
