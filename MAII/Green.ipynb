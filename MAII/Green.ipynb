{
 "cells": [
  {
   "cell_type": "markdown",
   "metadata": {},
   "source": [
    "**Encuentre la función de Green para $\\displaystyle \\mathcal{L}y=\\frac{d^2y}{dx^2}+y$ con $y(0)=0$ y $y'(1)=0$.**\n",
    "\n",
    "La solución general de $\\displaystyle \\frac{d^2y}{dx^2}+y=0$ es:"
   ]
  },
  {
   "cell_type": "code",
   "execution_count": 1,
   "metadata": {},
   "outputs": [
    {
     "data": {
      "text/plain": [
       "Eq(y(x), C1*sin(x) + C2*cos(x))"
      ]
     },
     "execution_count": 1,
     "metadata": {},
     "output_type": "execute_result"
    }
   ],
   "source": [
    "from sympy import Function, Derivative, dsolve\n",
    "from sympy.abc import x\n",
    "y=Function('y')\n",
    "dsolve(Derivative(y(x),x,x)+y(x),y(x))"
   ]
  },
  {
   "cell_type": "markdown",
   "metadata": {},
   "source": [
    "Tomamos entonces la solución $y_1=\\sin(x)$ que satisface $y(0)=0$ y la solución $y_2=\\cos(x-1)$ que satisface $y'(1)=0$. Determinemos ahora el valor de $A$:"
   ]
  },
  {
   "cell_type": "code",
   "execution_count": 2,
   "metadata": {},
   "outputs": [
    {
     "data": {
      "text/plain": [
       "-1/cos(1)"
      ]
     },
     "execution_count": 2,
     "metadata": {},
     "output_type": "execute_result"
    }
   ],
   "source": [
    "from sympy import *\n",
    "x, A=symbols('x A')\n",
    "A=1/(diff(cos(x-1),x)*sin(x)-diff(sin(x),x)*cos(x-1))\n",
    "simplify(A)"
   ]
  },
  {
   "cell_type": "markdown",
   "metadata": {},
   "source": [
    "De esta forma, la función de Green vendrá dada por:\n",
    "$$G(x,t)=\\left\\{\\begin{aligned}-\\frac{\\sin(x)\\cos(t-1)}{\\cos(1)}, \\ 0\\leq x <t\\\\ -\\frac{\\sin(t)\\cos(x-1)}{\\cos(1)}, \\ t< x\\leq 1 \\end{aligned}\\right.$$"
   ]
  },
  {
   "cell_type": "markdown",
   "metadata": {},
   "source": [
    "**Encuentre la función de Green para $\\displaystyle -\\frac{d^2y}{dx^2}-\\frac{y}{4}=f(x)$ con $y(0)=y(\\pi)=0$.**\n",
    "\n",
    "La solución general de $\\displaystyle -\\frac{d^2y}{dx^2}-\\frac{y}{4}=0$ es:"
   ]
  },
  {
   "cell_type": "code",
   "execution_count": 3,
   "metadata": {},
   "outputs": [
    {
     "data": {
      "text/plain": [
       "Eq(y(x), C1*sin(x/2) + C2*cos(x/2))"
      ]
     },
     "execution_count": 3,
     "metadata": {},
     "output_type": "execute_result"
    }
   ],
   "source": [
    "y=Function('y')\n",
    "dsolve(-Derivative(y(x),x,x)-y(x)/4,y(x))"
   ]
  },
  {
   "cell_type": "markdown",
   "metadata": {},
   "source": [
    "Tomamos entonces la solución $\\displaystyle y_1=\\sin\\left(\\frac{x}{2}\\right)$ que satisface $y(0)=0$ y la solución $\\displaystyle y_2=\\cos\\left(\\frac{x}{2}\\right)$ que satisface $y(\\pi)=0$. Determinemos ahora el valor de $A$:"
   ]
  },
  {
   "cell_type": "code",
   "execution_count": 4,
   "metadata": {},
   "outputs": [
    {
     "data": {
      "text/plain": [
       "2"
      ]
     },
     "execution_count": 4,
     "metadata": {},
     "output_type": "execute_result"
    }
   ],
   "source": [
    "from sympy import *\n",
    "x, A=symbols('x A')\n",
    "A=1/-(diff(cos(x/2),x)*sin(x/2)-diff(sin(x/2),x)*cos(x/2))\n",
    "simplify(A)"
   ]
  },
  {
   "cell_type": "markdown",
   "metadata": {},
   "source": [
    "De esta forma, la función de Green vendrá dada por:\n",
    "$$G(x,t)=\\left\\{\\begin{aligned}2\\sin\\left(\\frac{x}{2}\\right)\\cos\\left(\\frac{t}{2}\\right), \\ 0\\leq x <t\\\\ 2\\sin\\left(\\frac{x}{2}\\right)\\cos\\left(\\frac{t}{2}\\right), \\ t< x\\leq \\pi \\end{aligned}\\right.$$"
   ]
  }
 ],
 "metadata": {
  "kernelspec": {
   "display_name": "Python 3",
   "language": "python",
   "name": "python3"
  },
  "language_info": {
   "codemirror_mode": {
    "name": "ipython",
    "version": 3
   },
   "file_extension": ".py",
   "mimetype": "text/x-python",
   "name": "python",
   "nbconvert_exporter": "python",
   "pygments_lexer": "ipython3",
   "version": "3.6.4"
  }
 },
 "nbformat": 4,
 "nbformat_minor": 2
}
