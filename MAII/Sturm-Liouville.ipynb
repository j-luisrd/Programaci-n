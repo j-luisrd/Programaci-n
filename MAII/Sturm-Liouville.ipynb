{
 "cells": [
  {
   "cell_type": "markdown",
   "metadata": {},
   "source": [
    "**Dado que $$P_1(x)=x \\qquad Q_0=\\frac{1}{2}\\ln\\left(\\frac{1+x}{1-x}\\right)$$ son soluciones de de la EDO de Legendre que corresponden a diferentes autovalores:**\n",
    "1. **Evalue su integral ortogonal $\\displaystyle \\int_{-1}^1 \\frac{x}{2}\\ln\\left(\\frac{1+x}{1-x}\\right)dx$.**\n",
    "2. **Explique porqué estas dos funciones no son ortogonales, es decir, porqué la prueba de ortogonalidad no aplica. **"
   ]
  },
  {
   "cell_type": "code",
   "execution_count": 1,
   "metadata": {},
   "outputs": [
    {
     "data": {
      "text/plain": [
       "1"
      ]
     },
     "execution_count": 1,
     "metadata": {},
     "output_type": "execute_result"
    }
   ],
   "source": [
    "from sympy import *\n",
    "\n",
    "import sympy as sy\n",
    "\n",
    "x=symbols('x')\n",
    "\n",
    "integrate((x/2)*sy.log((1+x)/(1-x)),(x,-1,1))"
   ]
  },
  {
   "cell_type": "markdown",
   "metadata": {},
   "source": [
    "La prueba de ortogonalidad no aplica puesto que las condiciones de frontera son violadas al ser $Q_0$ singular en $x=\\pm 1$.\n",
    "\n",
    "**Una función que es normalizada en el intervalo $[0,\\infty)$ con un producto escalar sin peso es $$\\displaystyle \\psi=2\\alpha^\\frac{3}{2}xe^{-\\alpha x}$$**\n",
    "1. **Verifique la normalización.**\n",
    "2. **Verifique para $\\psi$ que $\\langle x^{-1}\\rangle=\\alpha$.**\n",
    "3. **Verifique para $\\psi$ que $\\displaystyle \\left\\langle \\frac{d^2}{dx^2}\\right\\rangle=-\\alpha^2$.**\n",
    "4. **Use el método de variación para encontrar el valor de $\\alpha$ que minimiza $$\\left\\langle \\psi \\Bigr| -\\frac{1}{2}\\frac{d^2}{dx^2}-\\frac{1}{x}\\Bigr| \\psi\\right\\rangle,$$ y encuentre el valor minímo para dicho valor esperado.**\n",
    "\n",
    "Para verificar la normalización evaluamos la integral $\\displaystyle \\int_0^\\infty 4\\alpha^3x^2e^{-2\\alpha x}dx$:"
   ]
  },
  {
   "cell_type": "code",
   "execution_count": 2,
   "metadata": {},
   "outputs": [
    {
     "data": {
      "text/plain": [
       "1"
      ]
     },
     "execution_count": 2,
     "metadata": {},
     "output_type": "execute_result"
    }
   ],
   "source": [
    "from sympy import oo\n",
    "\n",
    "x=symbols('x')\n",
    "a=symbols('a')\n",
    "\n",
    "integrate(4*a**3*x**2*exp(-2*a*x),(x,0,oo),conds=\"none\")"
   ]
  },
  {
   "cell_type": "markdown",
   "metadata": {},
   "source": [
    "Verifiquemos ahora el segundo inciso teniendo en cuenta que $\\langle x^{-1}\\rangle=\\displaystyle \\int_0^\\infty 4\\alpha^3xe^{-2\\alpha x}dx$:"
   ]
  },
  {
   "cell_type": "code",
   "execution_count": 3,
   "metadata": {},
   "outputs": [
    {
     "data": {
      "text/plain": [
       "a"
      ]
     },
     "execution_count": 3,
     "metadata": {},
     "output_type": "execute_result"
    }
   ],
   "source": [
    "x=symbols('x')\n",
    "a=symbols('a')\n",
    "\n",
    "integrate(4*a**3*x*exp(-2*a*x),(x,0,oo),conds=\"none\")"
   ]
  },
  {
   "cell_type": "markdown",
   "metadata": {},
   "source": [
    "Verifiquemos ahora el tercer inciso calculando primero $\\displaystyle \\frac{d^2\\psi}{dx^2}$:"
   ]
  },
  {
   "cell_type": "code",
   "execution_count": 4,
   "metadata": {},
   "outputs": [
    {
     "data": {
      "text/plain": [
       "2*(-2*a**2.5 + a**3.5*x)*exp(-a*x)"
      ]
     },
     "execution_count": 4,
     "metadata": {},
     "output_type": "execute_result"
    }
   ],
   "source": [
    "x=symbols('x')\n",
    "a=symbols('a')\n",
    "\n",
    "d=diff(2*a**(3/2)*x*exp(-a*x),x,2)\n",
    "d"
   ]
  },
  {
   "cell_type": "markdown",
   "metadata": {},
   "source": [
    "Por tanto, $\\displaystyle \\left\\langle \\frac{d^2}{dx^2}\\right\\rangle=\\int_0^\\infty 4\\alpha^3(\\alpha^2x^2-2\\alpha x)e^{-2\\alpha x}dx$, cuyo resultado será:"
   ]
  },
  {
   "cell_type": "code",
   "execution_count": 5,
   "metadata": {},
   "outputs": [
    {
     "data": {
      "text/plain": [
       "-a**2"
      ]
     },
     "execution_count": 5,
     "metadata": {},
     "output_type": "execute_result"
    }
   ],
   "source": [
    "integrate(4*a**3*(a**2*x**2-2*a*x)*exp(-2*a*x),(x,0,oo),conds=\"none\")"
   ]
  },
  {
   "cell_type": "markdown",
   "metadata": {},
   "source": [
    "Para el último incisio, teniendo en cuenta lo encontrado anteriormente se tiene: $$\\left\\langle \\psi \\Bigr| -\\frac{1}{2}\\frac{d^2}{dx^2}-\\frac{1}{x}\\Bigr| \\psi\\right\\rangle=\\frac{\\alpha^2}{2}-\\alpha.$$ Llamando $T$ a la función anterior, notemos que "
   ]
  },
  {
   "cell_type": "code",
   "execution_count": 6,
   "metadata": {},
   "outputs": [
    {
     "data": {
      "text/plain": [
       "a - 1"
      ]
     },
     "execution_count": 6,
     "metadata": {},
     "output_type": "execute_result"
    }
   ],
   "source": [
    "diff(a**2/2-a,a,1)"
   ]
  },
  {
   "cell_type": "markdown",
   "metadata": {},
   "source": [
    "Por lo que $T(\\alpha)$ tiene un minímo si $\\alpha=1$ y dicho valor minímo es $\\displaystyle T(1)=\\frac{1}{2}-1=-\\frac{1}{2}$."
   ]
  }
 ],
 "metadata": {
  "kernelspec": {
   "display_name": "Python 3",
   "language": "python",
   "name": "python3"
  },
  "language_info": {
   "codemirror_mode": {
    "name": "ipython",
    "version": 3
   },
   "file_extension": ".py",
   "mimetype": "text/x-python",
   "name": "python",
   "nbconvert_exporter": "python",
   "pygments_lexer": "ipython3",
   "version": "3.6.4"
  }
 },
 "nbformat": 4,
 "nbformat_minor": 2
}
