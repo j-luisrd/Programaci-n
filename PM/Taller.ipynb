{
 "cells": [
  {
   "cell_type": "code",
   "execution_count": 1,
   "metadata": {},
   "outputs": [],
   "source": [
    "#Importamos los paquetes a usar\n",
    "\n",
    "import numpy as np\n",
    "import matplotlib.pyplot as plt\n",
    "from matplotlib.patches import Polygon\n",
    "from scipy.optimize import linprog\n",
    "from scipy.optimize import minimize\n",
    "\n",
    "#Definimos las funciones a usar \n",
    "\n",
    "def pol(rx,ry,k,v,verts):\n",
    "    \"Sombrea parte de una gráfica. \\n \\n Argumentos:\\n rx: límite izquierdo. \\n ry: límite derecho. \\n k: contador. \\n\"\n",
    "    ax = plt.gca()\n",
    "    if v==0:\n",
    "        verts=[]\n",
    "        for i in range(rx,ry):\n",
    "            verts.append([i,f_1(i)])\n",
    "        while k>=rx:\n",
    "            verts.append([k,f_2(k)])\n",
    "            k=k-1\n",
    "    poly = Polygon(verts, facecolor='#8cff7a',alpha=0.6)\n",
    "    ax.add_patch(poly)\n",
    "\n",
    "def g(f,labely,labelx,label1,label2,color1,color2,title,rx1,ry1,k1,rx2,ry2,k2,v,verts):\n",
    "    \"Genera la gráfica de una función predeterminada. \\n \\n Argumentos:\\n f: número de funciones.\\n labely: título del Eje y.\\n labelx: título del Eje x.\\n label1: Leyenda de la primera función.\\n label2: Leyenda de la segunda función.\\n color1: color de la primera función.\\n color2: color de la segunda función.\\n title: Título del gráfico.\\n rx1: primer argumento de la función pol para la primera función.\\n ry1: segundo argumento de la función pol para la primera función.\\n k1: tercer argumento de la función pol para la primera función.\\n rx2: primer argumento de la función pol para la segunda función.\\n ry2: segundo argumento de la función pol para la segunda función.\\n k2: tercer argumento de la función pol para la segunda función.\\n v: 0, si no se tienen los vértices, otro número en otro caso.\\n verts: array, vértices.\"\n",
    "    ax = plt.gca()\n",
    "    ax.spines['right'].set_color('none')\n",
    "    ax.spines['top'].set_color('none')\n",
    "    ax.xaxis.set_ticks_position('bottom')\n",
    "    ax.yaxis.set_ticks_position('left')\n",
    "    ax.set_ylabel(labely)\n",
    "    ax.set_xlabel(labelx)\n",
    "    ax.set_title(title)\n",
    "    plt.grid(True)\n",
    "    if f==1:\n",
    "        plt.plot(x,F_1,color=color1,label=label1)\n",
    "    else:\n",
    "        plt.plot(x,F_1,color=color1,label=label1)\n",
    "        plt.plot(x,F_2,color=color2,label=label2)\n",
    "    ax.legend()\n",
    "    pol(rx1,ry1,k1,v,verts)\n",
    "    pol(rx2,ry2,k2,v,verts)\n",
    "    plt.show()\n",
    "\n",
    "def Dom(vec,F_1,F_2):\n",
    "    \"Encuentra las soluciones no dominadas de un problema multiobjetivo.\\n \\n Argumentos:\\n vec: array, conjunto de posibles soluciones.\\n F_1: valores evaluados de la primera función del problema multiobjetivo.\\n F_2: valores evaluados de la segunda función del problema multiobjetivo. \\n\"\n",
    "    Dominada=[]\n",
    "    No_Dominada=[]\n",
    "    for i in range(len(vec)):\n",
    "        j=0\n",
    "        d=0\n",
    "        while (j<len(vec) and j!=i) and d==0:\n",
    "            if vec[i] in Dominada:\n",
    "                d=1\n",
    "            else:\n",
    "                if (F_1[i]<=F_1[j] and F_2[i]<F_2[j]) or (F_1[i]<F_1[j] and F_2[i]<=F_2[j]):\n",
    "                    if vec[j] not in Dominada:\n",
    "                        Dominada.append(vec[j])\n",
    "                    if vec[j] in No_Dominada:\n",
    "                        No_Dominada.remove(vec[j])\n",
    "                    if vec[i] not in No_Dominada:\n",
    "                        No_Dominada.append(vec[i])\n",
    "                if (F_1[i]>=F_1[j] and F_2[i]>F_2[j]) or (F_1[i]>F_1[j] and F_2[i]>=F_2[j]):\n",
    "                    if vec[i] not in Dominada:\n",
    "                        Dominada.append(vec[i])\n",
    "                    if vec[i] in No_Dominada:\n",
    "                        No_Dominada.remove(vec[i])\n",
    "                    if (vec[j] not in No_Dominada) and (vec[j] not in Dominada):\n",
    "                        No_Dominada.append(vec[j])\n",
    "                    d=1    \n",
    "                if ((F_1[i]>=F_1[j] and F_2[i]<F_2[j]) or (F_1[i]>F_1[j] and F_2[i]<=F_2[j])) or ((F_1[i]<=F_1[j] and F_2[i]>F_2[j]) or (F_1[i]<F_1[j] and F_2[i]>=F_2[j])): \n",
    "                    if (vec[j] not in No_Dominada) and (vec[j] not in Dominada):\n",
    "                        No_Dominada.append(vec[j])\n",
    "                    if (vec[i] not in No_Dominada) and (vec[i] not in Dominada):\n",
    "                        No_Dominada.append(vec[i])\n",
    "            j=j+1\n",
    "    print('Las soluciones de pareto son: \\n')\n",
    "    if np.array(No_Dominada).shape[1]==2:\n",
    "        for i in No_Dominada:\n",
    "            print('('+str(i[0])+','+str(i[1])+')')\n",
    "    else:\n",
    "        for i in No_Dominada:\n",
    "            print('('+str(i[0])+','+str(i[1])+','+str(i[2])+')')\n",
    "\n",
    "def plot(l1,l2,p,puntos):\n",
    "    \"Dibuja la región de objetivos de un problema multiobjetivo.\\n \\n Argumentos:\\n l1: límite superior de x1.\\n l2: límite superior de x2.\\n p: 1 si se tienen puntos a ingresar, otro número en otro caso.\\n puntos: array, valores a evaluar en Z.\"\n",
    "    if p==0:\n",
    "        x_1=np.arange(0,l1+1)\n",
    "        x_2=np.arange(0,l2+1)\n",
    "        Z=[]\n",
    "        for i in x_1:\n",
    "            for j in x_2:\n",
    "                Z.append([i,j])\n",
    "        Z_1=np.zeros(len(Z))\n",
    "        Z_2=np.zeros(len(Z))\n",
    "        for i in range(len(Z)):\n",
    "            Z_1[i]=z_1(Z[i])\n",
    "            Z_2[i]=z_2(Z[i])\n",
    "    else:\n",
    "        Z=puntos\n",
    "        Z_1=np.zeros(len(Z))\n",
    "        Z_2=np.zeros(len(Z))\n",
    "        for i in range(len(Z)):\n",
    "            Z_1[i]=z_1(Z[i])\n",
    "            Z_2[i]=z_2(Z[i])\n",
    "    ax = plt.gca()\n",
    "    ax.spines['right'].set_color('none')\n",
    "    ax.spines['top'].set_color('none')\n",
    "    ax.set_ylabel('$z_2$')\n",
    "    ax.set_xlabel('$z_1$')\n",
    "    ax.set_title('Región de objetivos')\n",
    "    plt.grid(True)\n",
    "    plt.scatter(Z_1,Z_2)\n",
    "    plt.show()\n",
    "            \n",
    "def sol_lin(maxi,coef_obj,coef_res,coef_sol):\n",
    "    \"Solver de un problema de programación lineal para restricciones del tipo <=. \\n \\n Argumentos: \\n maxi: 1 si es un problema de maximización, cualquier número en caso contrario. \\n coef_obj: array, coeficientes de la función objetivo. \\n coef_res: matriz, donde cada fila son los coeficientes de cada restricción. \\n coef_sol: array, coeficientes del lado derecho de las restricciones. \\n\"\n",
    "    if maxi==1:\n",
    "        res=linprog(-1*np.array(coef_obj),A_ub=coef_res,b_ub=coef_sol)\n",
    "        print('Z='+str(-1*res.fun))\n",
    "        print('x1='+str(res.x[0]))\n",
    "        print('x2='+str(res.x[1]))\n",
    "    else:\n",
    "        res=linprog(coef_obj,A_ub=coef_res,b_ub=coef_sol)\n",
    "        print('Z='+str(res.fun))\n",
    "        print('x1='+str(res.x[0]))\n",
    "        print('x2='+str(res.x[1]))     "
   ]
  },
  {
   "cell_type": "markdown",
   "metadata": {},
   "source": [
    "**1) Sea el problema de minimización**\n",
    "\n",
    "$$f_1(x)=(x-50)^2, \\quad f_2(x)=(x+50)^2, \\quad -64\\leq x\\leq 64$$\n",
    "\n",
    "**Hallar soluciones dominadas y no dominadas.**\n",
    "\n",
    "Para hallar las soluciones dominadas y no dominadas usaremos un análisis de monotonía para las funciones. Como ambas derivadas son continuas en el intervalo dado, los únicos puntos críticos son $x=50$ para $f_1$ y $x=-50$ para $f_2$. Note que $f_1'(x)<0$ y $f_1'(x)>0$, para $x\\in [-64,50)$ y $x\\in (50,64]$, respectivamente. También, $f_2'(x)<0$ y $f_2'(x)>0$, para $x\\in [-64,-50)$ y $x\\in (-50,64]$, respectivamente. Por tanto, $f_1$ es creciente en el intervalo $(50,64]$ y decreciente en el intervalo $[-64,50)$, análogamente, $f_2$ es decreciente en el intervalo $[-64,-50)$ y creciente en el intervalo $(-50,64]$. La monotonía de cada función en el intervalo $-64\\leq x\\leq 64$ se muestra en la siguiente tabla:\n",
    "\n",
    "| Intervalo |   $f_1(x)$   |   $f_2(x)$  |\n",
    "|:---------:|:------------:|:-----------:|\n",
    "| [-64,-50) | Decreciente  | Decreciente |\n",
    "| (-50,50)  | Decreciente  |  Creciente  |\n",
    "| (50,64]   |  Creciente   |  Creciente  |\n",
    "\n",
    "Así, $x=50$ y $x=-50$ son mínimos relativos para $f_1$ y $f_2$, respectivamente. De hecho, son mínimos absolutos en el intervalo $-64\\leq x\\leq 64$ para cada función. Teniendo en cuenta este análisis previo de monotonía para ambas funciones, podemos establecer algunas conclusiones sobre las soluciones dominadas y no dominadas en este problema de minimización:\n",
    "* Las soluciones dominadas se encuentran en el intervalo $[-64,-50)\\cup (50,64]$, puesto que $x=-50$ domina al intervalo $[-64,-50)$ y $x=50$ domina al intervalo $(50,64]$\n",
    "* Las soluciones no dominadas se encuentran en el intervalo $[-50,50]$ puesto que las soluciones en el intervalo $(-50,50)$ no son comparables en la relación de dominancia y $x=\\pm50$ son los mínimos absolutos de cada función.\n",
    "\n",
    "Lo anterior lo podemos notar en la siguiente gráfica:"
   ]
  },
  {
   "cell_type": "code",
   "execution_count": 2,
   "metadata": {},
   "outputs": [
    {
     "data": {
      "image/png": "[encoded data removed]",
      "text/plain": [
       "<matplotlib.figure.Figure at 0x7f49786889b0>"
      ]
     },
     "metadata": {},
     "output_type": "display_data"
    }
   ],
   "source": [
    "x=np.arange(-64,65)\n",
    "def f_1(x):\n",
    "    return (x-50)**2\n",
    "def f_2(x):\n",
    "    return (x+50)**2\n",
    "F_1=f_1(x)\n",
    "F_2=f_2(x)\n",
    "g(2,'Eje y','Eje x','$f_1$','$f_2$','red','blue','Región de las soluciones no dominadas',-50,1,-1,0,51,49,0,0)"
   ]
  },
  {
   "cell_type": "markdown",
   "metadata": {},
   "source": [
    "** 2) Encontrar las soluciones de pareto para el problema **\n",
    "\n",
    "$$f_1(x_1,x_2)=1-e^{-(x_1-1)^2-(x_2+1)^2}$$\n",
    "$$f_2(x_1,x_2)=1-e^{-(x_1+1)^2-(x_2-1)^2}$$\n",
    "\n",
    "Antes de determinar las soluciones de pareto, veamos las trazas de $f_1$ y $f_2$ con los planos $x_1Z$ y $x_2Z$:"
   ]
  },
  {
   "cell_type": "code",
   "execution_count": 3,
   "metadata": {},
   "outputs": [
    {
     "data": {
      "image/png": "[encoded data removed]",
      "text/plain": [
       "<matplotlib.figure.Figure at 0x7f494d78af98>"
      ]
     },
     "metadata": {},
     "output_type": "display_data"
    },
    {
     "data": {
      "image/png": "[encoded data removed]",
      "text/plain": [
       "<matplotlib.figure.Figure at 0x7f494d7de1d0>"
      ]
     },
     "metadata": {},
     "output_type": "display_data"
    }
   ],
   "source": [
    "x=np.linspace(-4,4,100)\n",
    "def f_1(x):\n",
    "    return 1-np.exp(-(x-1)**2-1)\n",
    "def f_2(x):\n",
    "    return 1-np.exp(-(x+1)**2-1)\n",
    "F_1=f_1(x)\n",
    "F_2=f_2(x)\n",
    "g(2,'Z','$x_1$','$f_1$','$f_2$','red','blue','Plano $x_1Z \\ (x_2=0)$',0,0,0,0,0,0,0,0)\n",
    "g(2,'Z','$x_2$','$f_2$','$f_1$','blue','red','Plano $x_2Z \\ (x_1=0)$',0,0,0,0,0,0,0,0)"
   ]
  },
  {
   "cell_type": "markdown",
   "metadata": {},
   "source": [
    "Siguiendo la misma idea del procedimiento usado en el ejercicio anterior, tiene sentido buscar las soluciones de pareto en la región $R$:\n",
    "\n",
    "$$R: [\\underset{x_1\\in \\mathbb{R}}{\\text{arg}\\min}f_2(x_1,0),\\underset{x_1\\in \\mathbb{R}}{\\text{arg}\\min}f_1(x_1,0)]\\times [\\underset{x_1\\in \\mathbb{R}}{\\text{arg}\\min}f_2(x_1,0),\\underset{x_1\\in \\mathbb{R}}{\\text{arg}\\min}f_1(x_1,0)]$$\n",
    "\n",
    "Lo cual se hará con el siguiente algorimo:"
   ]
  },
  {
   "cell_type": "code",
   "execution_count": 4,
   "metadata": {},
   "outputs": [
    {
     "name": "stdout",
     "output_type": "stream",
     "text": [
      "Las soluciones de pareto son: \n",
      "\n",
      "(-1.01010101010101,0.7856341189674525)\n",
      "(-1.01010101010101,1.0101010101010104)\n",
      "(-0.7856341189674522,0.5611672278338946)\n",
      "(-0.7856341189674522,0.7856341189674525)\n",
      "(-0.5611672278338944,0.33670033670033694)\n",
      "(-0.5611672278338944,0.5611672278338946)\n",
      "(-0.5611672278338944,0.7856341189674525)\n",
      "(-0.3367003367003365,0.11223344556677906)\n",
      "(-0.3367003367003365,0.33670033670033694)\n",
      "(-0.3367003367003365,0.5611672278338946)\n",
      "(-0.11223344556677872,-0.11223344556677872)\n",
      "(-0.11223344556677872,0.11223344556677906)\n",
      "(0.11223344556677906,-0.3367003367003365)\n",
      "(0.11223344556677906,-0.11223344556677872)\n",
      "(0.11223344556677906,0.11223344556677906)\n",
      "(0.33670033670033694,-0.5611672278338944)\n",
      "(0.33670033670033694,-0.3367003367003365)\n",
      "(0.5611672278338946,-0.7856341189674522)\n",
      "(0.5611672278338946,-0.5611672278338944)\n",
      "(0.5611672278338946,-0.3367003367003365)\n",
      "(0.7856341189674525,-1.01010101010101)\n",
      "(0.7856341189674525,-0.7856341189674522)\n",
      "(0.7856341189674525,-0.5611672278338944)\n",
      "(1.0101010101010104,-1.01010101010101)\n"
     ]
    }
   ],
   "source": [
    "def f_1(x):\n",
    "    return 1-np.exp(-(x[0]-1)**2-(x[1]+1)**2)\n",
    "def f_2(x):\n",
    "    return 1-np.exp(-(x[0]+1)**2-(x[1]-1)**2)\n",
    "vec=[]\n",
    "for i in np.linspace(x[np.argmin(F_2)],x[np.argmin(F_1)],10):\n",
    "    for j in np.linspace(x[np.argmin(F_2)],x[np.argmin(F_1)],10):\n",
    "        vec.append([i,j])\n",
    "F_1=[]\n",
    "F_2=[]\n",
    "for i in range(len(vec)):\n",
    "    F_1.append(f_1(vec[i]))\n",
    "    F_2.append(f_2(vec[i]))\n",
    "Dom(vec,F_1,F_2)"
   ]
  },
  {
   "cell_type": "markdown",
   "metadata": {},
   "source": [
    "** 3) Una agencia de publicidad con 100 empleados; ha recibido un contrato para promover un producto nuevo. La agencia puede anunciarlo por radio y por TV. La tabla siguiente contiene datos sobre la cantidad de personas a las que llega cada tipo de anuncio y sus requisitos de costo y mano de obra.**\n",
    "\n",
    "|                                  | Datos/min | anuncio |\n",
    "| :------------------------------: | :-------: | :----:  |\n",
    "|                                  | **Radio** |  **TV** |\n",
    "| **Exposición (millones person)** |     4     |     8   |\n",
    "| **Costo (millones de pesos)**    |     8     |    24   |\n",
    "| **Empleados asignados**          |     1     |     2   |\n",
    "\n",
    "**El contrato prohíbe a la agencia que use más de 6 minutos en anuncios por radio.**\n",
    "\n",
    "**a) Dibujar la región de objetivos $(z_1,z_2)$.**\n",
    "\n",
    "Sean $x_1, x_2$ los minutos asignados a los anuncios de radio y TV, respectivamente. La fórmulación de la situación anterior como un problema de programación lineal sería:\n",
    "\n",
    "$$\\begin{aligned}&\\text{Max} \\ z_1=4x_1+8x_2\\\\ &\\text{Min} \\ z_2=8x_1+24x_2\\\\ \\\\&\\text{S.A.}\\\\ &x_1+2x_2\\leq 100\\\\ &x_1\\leq 6\\\\ &x_i\\geq 0, \\ i\\in\\{1,2\\} \\end{aligned}$$\n",
    "\n",
    "Observemos ahora como sería la región de objetivos para $z_1$ y $z_2$:"
   ]
  },
  {
   "cell_type": "code",
   "execution_count": 5,
   "metadata": {},
   "outputs": [
    {
     "data": {
      "image/png": "[encoded data removed]",
      "text/plain": [
       "<matplotlib.figure.Figure at 0x7f494d658da0>"
      ]
     },
     "metadata": {},
     "output_type": "display_data"
    }
   ],
   "source": [
    "def z_1(Array):\n",
    "    return 4*Array[0]+8*Array[1]\n",
    "def z_2(Array):\n",
    "    return 8*Array[0]+24*Array[1]\n",
    "plot(6,47,0,0)"
   ]
  },
  {
   "cell_type": "markdown",
   "metadata": {},
   "source": [
    "**b) Si la mayor importancia es la maximización de la exposición y se refleja a través del problema de ponderaciones $P(3,1)$, ¿cuántos minutos de anuncios por radio y TV debe programar la agencia con el propósito de maximizar las exposiciones y minimizar el costo de presupuesto?**\n",
    "\n",
    "Considerando el método de las ponderaciones, el problema anterior se transforma en un problema mono-objetivo haciendo $Z=3z_1-z_2=12x_1+24x_2-8x_1-24x_2=4x_1$, así:\n",
    "\n",
    "$$\\begin{aligned}&\\text{Max} \\ Z=4x_1\\\\ \\\\&\\text{S.A.}\\\\ &x_1+2x_2\\leq 100\\\\ &x_1\\leq 6\\\\ &x_i\\geq 0, \\ i\\in\\{1,2\\} \\end{aligned}$$\n",
    "\n",
    "Cuya solución trivial es $x_1=6$ y $x_2=0$ para un $Z=24$, es decir, $z_1=24$ y $z_2=48$. "
   ]
  },
  {
   "cell_type": "markdown",
   "metadata": {},
   "source": [
    "**c) Usar el método de $\\epsilon$ restricciones para generar soluciones no dominadas.**\n",
    "\n",
    "Considerando ahora el método de $\\epsilon$ restricciones, el problema anterior se transforma en un problema mono-objetivo haciendo $z_2$ una restricción, así:\n",
    "\n",
    "$$\\begin{aligned}&\\text{Max} \\ z_1=4x_1+8x_2\\\\ \\\\&\\text{S.A.}\\\\ &8x_1+24x_2\\leq 100\\\\ &x_1+2x_2\\leq 100\\\\ &x_1\\leq 6\\\\ &x_i\\geq 0, \\ i\\in\\{1,2\\} \\end{aligned}$$\n",
    "\n",
    "Resolvemos entonces el problema:"
   ]
  },
  {
   "cell_type": "code",
   "execution_count": 6,
   "metadata": {},
   "outputs": [
    {
     "name": "stdout",
     "output_type": "stream",
     "text": [
      "Z=41.333333333333336\n",
      "x1=6.0\n",
      "x2=2.166666666666667\n"
     ]
    }
   ],
   "source": [
    "sol_lin(1,[4,8],[[8,24],[1,2],[1,0]],[100,100,6])"
   ]
  },
  {
   "cell_type": "markdown",
   "metadata": {},
   "source": [
    "Cuya solución es $x_1=6$, $x_2=2.17$ para un $z_1=41.34$ y $z_2=100$.\n",
    "\n",
    "**4) Sea el problema de optimización:**\n",
    "\n",
    "$$\\begin{aligned} &\\text{Max} \\ z_1=3x_1+2x_2^2 \\\\ &\\text{Min} \\ z_2=-x_1+x_2^2 \\\\ \\\\ &\\text{S.A.}\\\\ &2x_1+x_2\\leq 24\\\\ &-x_1+2x_2\\leq 16\\\\ &2x_1+4x_2\\leq 48\\\\ &x_i\\geq 0, \\ i\\in \\{1,2\\}\\end{aligned}$$\n",
    "\n",
    "Usemos el método de los pesos para resolver este problema multiobjetivo. Consideremos $Z=z_1-2z_2=3x_1+2x_2^2+2x_1-2x_2^2=5x_1$, así:\n",
    "\n",
    "$$\\begin{aligned} &\\text{Max} \\ Z=5x_1\\\\ \\\\ &\\text{S.A.}\\\\ &2x_1+x_2\\leq 24\\\\ &-x_1+2x_2\\leq 16\\\\ &2x_1+4x_2\\leq 48\\\\ &x_i\\geq 0, \\ i\\in \\{1,2\\} \\end{aligned}$$\n",
    "\n",
    "Resolvemos entonces el problema:"
   ]
  },
  {
   "cell_type": "code",
   "execution_count": 7,
   "metadata": {},
   "outputs": [
    {
     "name": "stdout",
     "output_type": "stream",
     "text": [
      "Z=60.0\n",
      "x1=12.0\n",
      "x2=0.0\n"
     ]
    }
   ],
   "source": [
    "sol_lin(1,[5,0],[[2,1],[-1,2],[2,4]],[24,16,48])"
   ]
  },
  {
   "cell_type": "markdown",
   "metadata": {},
   "source": [
    "Cuya solución es $x_1=12$, $x_2=0$ para un $Z=60$, es decir, $z_1=36$ y $z_2=-12$.\n",
    "\n",
    "** 5) En el problema de cartera se tiene:** $E(R_1)=10\\%$, $E(R_2)=15\\%$, $Var(R_1)=0.0009$, $Var(R_2)=0.064$. **Resolver las siguientes cuestiones**:\n",
    "\n",
    "**a) Dibujar la región factible.**\n",
    "\n",
    "La fórmulación de la situación anterior como un problema de programación multiobjetivo sería:\n",
    "\n",
    "$$\\begin{aligned}&\\text{Max} \\ z_1=E(R(x))=0.1x_1+0.15x_2\\\\ &\\text{Min} \\ z_2=Var(R(x))=0.0009x_1^2+0.064x_2^2\\\\ \\\\&\\text{S.A.}\\\\ &x_1+x_2\\leq 1\\\\ &x_i\\geq 0, \\ i\\in\\{1,2\\} \\end{aligned}$$\n",
    "\n",
    "Observemos ahora como sería la región factible:"
   ]
  },
  {
   "cell_type": "code",
   "execution_count": 8,
   "metadata": {},
   "outputs": [
    {
     "data": {
      "image/png": "[encoded data removed]",
      "text/plain": [
       "<matplotlib.figure.Figure at 0x7f494d580278>"
      ]
     },
     "metadata": {},
     "output_type": "display_data"
    }
   ],
   "source": [
    "x=np.linspace(0,1,100)\n",
    "F_1=1-x\n",
    "verts=[[0,0],[0,1],[1,0],[0,0]]\n",
    "g(1,'$x_2$','$x_1$','$x_1+x_2=1$',' ','red',' ','Región factible',0,2,0,0,0,0,1,verts)"
   ]
  },
  {
   "cell_type": "markdown",
   "metadata": {},
   "source": [
    "**b) Aproximar la región objetivo** $z_1,z_2$. **Tome los siguientes puntos:**\n",
    "\n",
    "| **Puntos** | $(x_1,x_2)$ |\n",
    "| ---------- | ----------- |\n",
    "|      0     |    (0,0)    |\n",
    "|      A     |   (0.5,0)   |\n",
    "|      B     |    (1,0)    |\n",
    "|      C     |  (0.5,0.5)  |\n",
    "|      D     |    (0,1)    |\n",
    "|      E     |   (0,0.5)   |"
   ]
  },
  {
   "cell_type": "code",
   "execution_count": 9,
   "metadata": {},
   "outputs": [
    {
     "data": {
      "image/png": "[encoded data removed]",
      "text/plain": [
       "<matplotlib.figure.Figure at 0x7f494d580400>"
      ]
     },
     "metadata": {},
     "output_type": "display_data"
    }
   ],
   "source": [
    "def z_1(array):\n",
    "    return 0.1*array[0]+0.15*array[1]\n",
    "def z_2(array):\n",
    "    return 0.0009*(array[0]**2)+0.064*(array[1]**2)\n",
    "puntos=np.array([[0,0],[0.5,0],[1,0],[0.5,0.5],[0,1],[0,0.5]])\n",
    "plot(1,1,1,puntos)"
   ]
  },
  {
   "cell_type": "markdown",
   "metadata": {},
   "source": [
    "**c) Suponga que el objetivo** $z_1$ **es doblemente importante que el objetivo $z_2$.**\n",
    "\n",
    "Bajo la suposición anterior se tiene que $Z=2z_1-z_2=0.2x_1+0.3x_2-0.0009x_1^2-0.064x_2^2$, así\n",
    "\n",
    "$$\\begin{aligned}&\\text{Max} \\ Z=0.2x_1+0.3x_2-0.0009x_1^2-0.064x_2^2\\\\&\\text{S.A.}\\\\ &x_1+x_2\\leq 1\\\\ &x_i\\geq 0, \\ i\\in\\{1,2\\} \\end{aligned}$$\n",
    "\n",
    "Resolvamos entonces el problema:"
   ]
  },
  {
   "cell_type": "code",
   "execution_count": 10,
   "metadata": {},
   "outputs": [
    {
     "name": "stdout",
     "output_type": "stream",
     "text": [
      "x1=0.21571645113983837\n",
      "x2=0.7842835488601616\n",
      "Z=0.23902003081664092\n"
     ]
    }
   ],
   "source": [
    "def objective(x):\n",
    "    return -0.2*x[0]-0.3*x[1]+0.0009*(x[0]**2)+0.064*(x[1]**2)\n",
    "def constraint1(x):\n",
    "    return -x[0]-x[1]+1\n",
    "x0=np.array([0,1])\n",
    "b = (0,1)\n",
    "bnds = (b, b)\n",
    "con1 = {'type': 'ineq', 'fun': constraint1} \n",
    "cons = ([con1])\n",
    "solution = minimize(objective,x0,method='SLSQP',bounds=bnds,constraints=cons)\n",
    "x=solution.x\n",
    "print('x1=' + str(x[0]))\n",
    "print('x2=' + str(x[1]))\n",
    "print('Z='+str(-1*objective(x)))"
   ]
  },
  {
   "cell_type": "markdown",
   "metadata": {},
   "source": [
    "Cuya solución es $x_1=0.216$ y $x_2=0.784$ para un $Z=0.239$, es decir, $z_1=0.139$ y $z_2=0.1$.\n",
    "\n",
    "**d) Si ahora se considera más importante el objetivo $z_1$ y se toma como meta para el segundo objetivo el valor** $\\epsilon_2=0.05$.\n",
    "\n",
    "Considerando ahora el método de $\\epsilon$-restricciones, tenemos:\n",
    "\n",
    "$$\\begin{aligned}&\\text{Max} \\ z_1=0.1x_1+0.15x_2\\\\ &\\text{S.A.}\\\\ &0.0009x_1^2+0.064x_2^2\\geq 0.05\\\\ &x_1+x_2\\leq 1\\\\ &x_i\\geq 0, \\ i\\in\\{1,2\\} \\end{aligned}$$\n",
    "\n",
    "Resolvamos entonces el problema:"
   ]
  },
  {
   "cell_type": "code",
   "execution_count": 11,
   "metadata": {},
   "outputs": [
    {
     "name": "stdout",
     "output_type": "stream",
     "text": [
      "x1=2.270406085358445e-13\n",
      "x2=1.0\n",
      "Z=0.1500000000000227\n"
     ]
    }
   ],
   "source": [
    "def objective(x):\n",
    "    return -0.1*x[0]-0.15*x[1]\n",
    "def constraint1(x):\n",
    "    return 0.0009*(x[0]**2)+0.064*(x[1]**2)-0.05\n",
    "def constraint2(x):\n",
    "    return -x[0]-x[1]+1\n",
    "x0=np.array([0.5,0.5])\n",
    "b = (0,1)\n",
    "bnds = (b, b)\n",
    "con1 = {'type': 'ineq', 'fun': constraint1} \n",
    "con2 = {'type': 'ineq', 'fun': constraint2} \n",
    "cons = ([con1,con2])\n",
    "solution = minimize(objective,x0,method='SLSQP',bounds=bnds,constraints=cons)\n",
    "x=solution.x\n",
    "print('x1=' + str(x[0]))\n",
    "print('x2=' + str(x[1]))\n",
    "print('Z='+str(-1*objective(x)))"
   ]
  },
  {
   "cell_type": "markdown",
   "metadata": {},
   "source": [
    "Cuya solución es $x_1=0$ y $x_2=1$, para $z_1=0.15$ y $z_2=0.064$.\n",
    "\n",
    "**e) Asuma que** $\\rho_{12}=0.73$**, coeficiente de correlación entre el rendimiento 1 y el rendimiento 2. Responder el inciso anterior.**\n",
    "\n",
    "Considerando ahora el método de $\\epsilon$-restricciones, tenemos:\n",
    "\n",
    "$$\\begin{aligned}&\\text{Max} \\ z_1=0.1x_1+0.15x_2\\\\ &\\text{S.A.}\\\\ &0.0009x_1^2+0.73x_1x_2+0.73x_2x_1+0.064x_2^2\\geq 0.05\\\\ &x_1+x_2\\leq 1\\\\ &x_i\\geq 0, \\ i\\in\\{1,2\\} \\end{aligned}$$\n",
    "\n",
    "Resolvamos entonces el problema:"
   ]
  },
  {
   "cell_type": "code",
   "execution_count": 12,
   "metadata": {},
   "outputs": [
    {
     "name": "stdout",
     "output_type": "stream",
     "text": [
      "x1=0.0\n",
      "x2=1.0\n"
     ]
    }
   ],
   "source": [
    "def objective(x):\n",
    "    return -0.1*x[0]-0.15*x[1]\n",
    "def constraint1(x):\n",
    "    return 0.0009*(x[0]**2)+1.46*x[1]*x[0]+0.064*(x[1]**2)-0.05\n",
    "def constraint2(x):\n",
    "    return -x[0]-x[1]+1\n",
    "x0=np.array([0.5,0.5])\n",
    "b = (0,1)\n",
    "bnds = (b, b)\n",
    "con1 = {'type': 'ineq', 'fun': constraint1} \n",
    "con2 = {'type': 'ineq', 'fun': constraint2} \n",
    "cons = ([con1,con2])\n",
    "solution = minimize(objective,x0,method='SLSQP',bounds=bnds,constraints=cons)\n",
    "x=solution.x\n",
    "print('x1=' + str(x[0]))\n",
    "print('x2=' + str(x[1]))"
   ]
  },
  {
   "cell_type": "markdown",
   "metadata": {},
   "source": [
    "Cuya solución es $x_1=0$ y $x_2=1$, para $z_1=0.15$ y $z_2=0.064$.\n",
    "\n",
    "**6) El problema siguiente es propuesto por Zitzler: considere** $f(x)=(f_1(x),f_2(x)), \\ x\\in \\mathbb{R}^n$**, donde** $f_1(x)=x_1$**,** $f_2(x)=g(x)h(f_1(x),g(x))$ y $\\displaystyle g(x)=1+\\frac{1}{n-1}\\sum_{i=2}^nx_i$**,** $\\displaystyle h(f_1(x),g(x))=1-\\sqrt{\\frac{f_1(x)}{g(x)}}$**. Asuma que** $n=3$ **y** $x_i=[0,1]$**. Encontrar las soluciones de Pareto.**"
   ]
  },
  {
   "cell_type": "code",
   "execution_count": 13,
   "metadata": {},
   "outputs": [
    {
     "name": "stdout",
     "output_type": "stream",
     "text": [
      "Las soluciones de pareto son: \n",
      "\n",
      "(0.0,0.0,0.0)\n",
      "(0.1111111111111111,0.0,0.0)\n",
      "(0.2222222222222222,0.0,0.0)\n",
      "(0.3333333333333333,0.0,0.0)\n",
      "(0.4444444444444444,0.0,0.0)\n",
      "(0.5555555555555556,0.0,0.0)\n",
      "(0.6666666666666666,0.0,0.0)\n",
      "(0.7777777777777777,0.0,0.0)\n",
      "(0.8888888888888888,0.0,0.0)\n",
      "(1.0,0.0,0.0)\n"
     ]
    }
   ],
   "source": [
    "def f(Array):\n",
    "    g=1+(np.sum(Array[1:3])/2)\n",
    "    h=1-np.sqrt(Array[0]/g)\n",
    "    f_2=g*h\n",
    "    return Array[0],f_2\n",
    "x_1=np.linspace(0,1,10)\n",
    "x_2=np.linspace(0,1,10)\n",
    "x_3=np.linspace(0,1,10)\n",
    "vec=[]\n",
    "for i in x_1:\n",
    "    for j in x_2:\n",
    "        for k in x_3:\n",
    "            vec.append([i,j,k])\n",
    "F_1=[]\n",
    "F_2=[]\n",
    "for i in vec:\n",
    "    F_1.append(f(i)[0])\n",
    "    F_2.append(f(i)[1])\n",
    "Dom(vec,F_1,F_2)"
   ]
  },
  {
   "cell_type": "markdown",
   "metadata": {},
   "source": [
    "**7) Presentar un breve informe sobre el AHP Fuzzy.**\n",
    "\n",
    "[El informe puede verse aquí](https://github.com/j-luisrd/Programaci-n/blob/master/PM/FAHP.pdf)."
   ]
  }
 ],
 "metadata": {
  "kernelspec": {
   "display_name": "Python 3",
   "language": "python",
   "name": "python3"
  },
  "language_info": {
   "codemirror_mode": {
    "name": "ipython",
    "version": 3
   },
   "file_extension": ".py",
   "mimetype": "text/x-python",
   "name": "python",
   "nbconvert_exporter": "python",
   "pygments_lexer": "ipython3",
   "version": "3.6.4"
  }
 },
 "nbformat": 4,
 "nbformat_minor": 2
}
