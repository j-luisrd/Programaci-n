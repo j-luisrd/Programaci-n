{
 "cells": [
  {
   "cell_type": "markdown",
   "metadata": {},
   "source": [
    "Importamos primero los paquetes necesarios y los datos a usar:"
   ]
  },
  {
   "cell_type": "code",
   "execution_count": 1,
   "metadata": {},
   "outputs": [
    {
     "data": {
      "text/html": [
       "<div>\n",
       "<style scoped>\n",
       "    .dataframe tbody tr th:only-of-type {\n",
       "        vertical-align: middle;\n",
       "    }\n",
       "\n",
       "    .dataframe tbody tr th {\n",
       "        vertical-align: top;\n",
       "    }\n",
       "\n",
       "    .dataframe thead th {\n",
       "        text-align: right;\n",
       "    }\n",
       "</style>\n",
       "<table border=\"1\" class=\"dataframe\">\n",
       "  <thead>\n",
       "    <tr style=\"text-align: right;\">\n",
       "      <th></th>\n",
       "      <th>FL</th>\n",
       "      <th>APP</th>\n",
       "      <th>AA</th>\n",
       "      <th>LA</th>\n",
       "      <th>SC</th>\n",
       "      <th>LC</th>\n",
       "      <th>HON</th>\n",
       "      <th>SMS</th>\n",
       "      <th>EXP</th>\n",
       "      <th>DRV</th>\n",
       "      <th>AMB</th>\n",
       "      <th>GSP</th>\n",
       "      <th>POT</th>\n",
       "      <th>KJ</th>\n",
       "      <th>SUIT</th>\n",
       "    </tr>\n",
       "  </thead>\n",
       "  <tbody>\n",
       "    <tr>\n",
       "      <th>0</th>\n",
       "      <td>6</td>\n",
       "      <td>7</td>\n",
       "      <td>2</td>\n",
       "      <td>5</td>\n",
       "      <td>8</td>\n",
       "      <td>7</td>\n",
       "      <td>8</td>\n",
       "      <td>8</td>\n",
       "      <td>3</td>\n",
       "      <td>8</td>\n",
       "      <td>9</td>\n",
       "      <td>7</td>\n",
       "      <td>5</td>\n",
       "      <td>7</td>\n",
       "      <td>10</td>\n",
       "    </tr>\n",
       "    <tr>\n",
       "      <th>1</th>\n",
       "      <td>9</td>\n",
       "      <td>10</td>\n",
       "      <td>5</td>\n",
       "      <td>8</td>\n",
       "      <td>10</td>\n",
       "      <td>9</td>\n",
       "      <td>9</td>\n",
       "      <td>10</td>\n",
       "      <td>5</td>\n",
       "      <td>9</td>\n",
       "      <td>9</td>\n",
       "      <td>8</td>\n",
       "      <td>8</td>\n",
       "      <td>8</td>\n",
       "      <td>10</td>\n",
       "    </tr>\n",
       "    <tr>\n",
       "      <th>2</th>\n",
       "      <td>7</td>\n",
       "      <td>8</td>\n",
       "      <td>3</td>\n",
       "      <td>6</td>\n",
       "      <td>9</td>\n",
       "      <td>8</td>\n",
       "      <td>9</td>\n",
       "      <td>7</td>\n",
       "      <td>4</td>\n",
       "      <td>9</td>\n",
       "      <td>9</td>\n",
       "      <td>8</td>\n",
       "      <td>6</td>\n",
       "      <td>8</td>\n",
       "      <td>10</td>\n",
       "    </tr>\n",
       "    <tr>\n",
       "      <th>3</th>\n",
       "      <td>5</td>\n",
       "      <td>6</td>\n",
       "      <td>8</td>\n",
       "      <td>5</td>\n",
       "      <td>6</td>\n",
       "      <td>5</td>\n",
       "      <td>9</td>\n",
       "      <td>2</td>\n",
       "      <td>8</td>\n",
       "      <td>4</td>\n",
       "      <td>5</td>\n",
       "      <td>8</td>\n",
       "      <td>7</td>\n",
       "      <td>6</td>\n",
       "      <td>5</td>\n",
       "    </tr>\n",
       "    <tr>\n",
       "      <th>4</th>\n",
       "      <td>6</td>\n",
       "      <td>8</td>\n",
       "      <td>8</td>\n",
       "      <td>8</td>\n",
       "      <td>4</td>\n",
       "      <td>4</td>\n",
       "      <td>9</td>\n",
       "      <td>5</td>\n",
       "      <td>8</td>\n",
       "      <td>5</td>\n",
       "      <td>5</td>\n",
       "      <td>8</td>\n",
       "      <td>8</td>\n",
       "      <td>7</td>\n",
       "      <td>7</td>\n",
       "    </tr>\n",
       "  </tbody>\n",
       "</table>\n",
       "</div>"
      ],
      "text/plain": [
       "   FL  APP  AA  LA  SC  LC  HON  SMS  EXP  DRV  AMB  GSP  POT  KJ  SUIT\n",
       "0   6    7   2   5   8   7    8    8    3    8    9    7    5   7    10\n",
       "1   9   10   5   8  10   9    9   10    5    9    9    8    8   8    10\n",
       "2   7    8   3   6   9   8    9    7    4    9    9    8    6   8    10\n",
       "3   5    6   8   5   6   5    9    2    8    4    5    8    7   6     5\n",
       "4   6    8   8   8   4   4    9    5    8    5    5    8    8   7     7"
      ]
     },
     "execution_count": 1,
     "metadata": {},
     "output_type": "execute_result"
    }
   ],
   "source": [
    "import pandas as pd\n",
    "import numpy as np\n",
    "import numpy.linalg as la\n",
    "import matplotlib.pyplot as plt\n",
    "from sklearn.preprocessing import StandardScaler\n",
    "from scipy import stats\n",
    "\n",
    "A=pd.read_excel('1.xlsx',usecols=np.arange(1,16))\n",
    "A.head()"
   ]
  },
  {
   "cell_type": "markdown",
   "metadata": {},
   "source": [
    "**1a) Obtenga las matrices de correlación y de covarianza $R$ y $S$ respectivamente para esos datos.**\n",
    "\n",
    "Obtengamos primero la matriz de covarianza, $S$, para ello primero normalizamos los datos:"
   ]
  },
  {
   "cell_type": "code",
   "execution_count": 2,
   "metadata": {},
   "outputs": [
    {
     "name": "stdout",
     "output_type": "stream",
     "text": [
      "[[ 1.0212766   0.24388671  0.04497793  0.31283034  0.09410518  0.2332923\n",
      "  -0.11843422  0.27645875  0.56004728  0.35292902  0.29070112  0.34539775\n",
      "   0.37527107  0.47714675  0.59838456]\n",
      " [ 0.24388671  1.0212766   0.12604524  0.38769105  0.43993473  0.37915807\n",
      "   0.35233621  0.49996496  0.14392332  0.347795    0.56133033  0.51707097\n",
      "   0.5181722   0.29013732  0.39238301]\n",
      " [ 0.04497793  0.12604524  1.0212766   0.00162359  0.00113031  0.07845906\n",
      "  -0.04536294  0.05589183  0.2712361   0.09551186  0.04500356  0.20170678\n",
      "   0.29620305 -0.33019849  0.14299646]\n",
      " [ 0.31283034  0.38769105  0.00162359  1.0212766   0.30887478  0.49304673\n",
      "   0.66641131  0.36933843  0.14371753  0.40152934  0.35392855  0.51350738\n",
      "   0.61839069  0.69973355  0.33391396]\n",
      " [ 0.09410518  0.43993473  0.00113031  0.30887478  1.0212766   0.82472683\n",
      "   0.41537912  0.81664395  0.01544766  0.71932603  0.86003972  0.73645172\n",
      "   0.68611531  0.49272098  0.2556086 ]\n",
      " [ 0.2332923   0.37915807  0.07845906  0.49304673  0.82472683  1.0212766\n",
      "   0.35534614  0.83542549  0.15033393  0.71235593  0.77365999  0.90163266\n",
      "   0.79385482  0.53804489  0.42499881]\n",
      " [-0.11843422  0.35233621 -0.04536294  0.66641131  0.41537912  0.35534614\n",
      "   1.0212766   0.2389661  -0.17463978  0.2896673   0.2189387   0.38616029\n",
      "   0.4198202   0.46781975 -0.0129933 ]\n",
      " [ 0.27645875  0.49996496  0.05589183  0.36933843  0.81664395  0.83542549\n",
      "   0.2389661   1.0212766   0.260852    0.83206898  0.87781436  0.79876414\n",
      "   0.76964408  0.57526896  0.56990895]\n",
      " [ 0.56004728  0.14392332  0.2712361   0.14371753  0.01544766  0.15033393\n",
      "  -0.17463978  0.260852    1.0212766   0.34440328  0.19964111  0.30563564\n",
      "   0.35575025  0.21952663  0.70737311]\n",
      " [ 0.35292902  0.347795    0.09551186  0.40152934  0.71932603  0.71235593\n",
      "   0.2896673   0.83206898  0.34440328  1.0212766   0.79692579  0.72926624\n",
      "   0.80517472  0.62584613  0.63579989]\n",
      " [ 0.29070112  0.56133033  0.04500356  0.35392855  0.86003972  0.77365999\n",
      "   0.2189387   0.87781436  0.19964111  0.79692579  1.0212766   0.80054883\n",
      "   0.78522846  0.55876655  0.44401863]\n",
      " [ 0.34539775  0.51707097  0.20170678  0.51350738  0.73645172  0.90163266\n",
      "   0.38616029  0.79876414  0.30563564  0.72926624  0.80054883  1.0212766\n",
      "   0.89446557  0.56109716  0.53904645]\n",
      " [ 0.37527107  0.5181722   0.29620305  0.61839069  0.68611531  0.79385482\n",
      "   0.4198202   0.76964408  0.35575025  0.80517472  0.78522846  0.89446557\n",
      "   1.0212766   0.55087334  0.58608322]\n",
      " [ 0.47714675  0.29013732 -0.33019849  0.69973355  0.49272098  0.53804489\n",
      "   0.46781975  0.57526896  0.21952663  0.62584613  0.55876655  0.56109716\n",
      "   0.55087334  1.0212766   0.40422009]\n",
      " [ 0.59838456  0.39238301  0.14299646  0.33391396  0.2556086   0.42499881\n",
      "  -0.0129933   0.56990895  0.70737311  0.63579989  0.44401863  0.53904645\n",
      "   0.58608322  0.40422009  1.0212766 ]]\n"
     ]
    }
   ],
   "source": [
    "datos_n=A.values\n",
    "datos=StandardScaler().fit_transform(datos_n.astype(float))\n",
    "S=np.cov(datos.T)\n",
    "print(S)"
   ]
  },
  {
   "cell_type": "markdown",
   "metadata": {},
   "source": [
    "Obtengamos ahora la matriz de correlación, $R$:"
   ]
  },
  {
   "cell_type": "code",
   "execution_count": 3,
   "metadata": {},
   "outputs": [
    {
     "name": "stdout",
     "output_type": "stream",
     "text": [
      "[[ 1.          0.23880573  0.04404089  0.30631304  0.09214466  0.22843205\n",
      "  -0.11596684  0.27069919  0.54837963  0.34557633  0.28464484  0.33820196\n",
      "   0.36745292  0.46720619  0.58591822]\n",
      " [ 0.23880573  1.          0.1234193   0.37961415  0.43076943  0.37125894\n",
      "   0.34499587  0.48954902  0.14092491  0.34054927  0.54963595  0.50629865\n",
      "   0.50737694  0.28409279  0.38420837]\n",
      " [ 0.04404089  0.1234193   1.          0.00158977  0.00110676  0.07682449\n",
      "  -0.04441788  0.05472742  0.26558535  0.09352203  0.04406598  0.19750455\n",
      "   0.29003215 -0.32331935  0.14001737]\n",
      " [ 0.30631304  0.37961415  0.00158977  1.          0.30243989  0.48277493\n",
      "   0.65252774  0.36164388  0.14072342  0.39316415  0.34655503  0.5028093\n",
      "   0.60550755  0.68515577  0.32695742]\n",
      " [ 0.09214466  0.43076943  0.00110676  0.30243989  1.          0.80754502\n",
      "   0.40672539  0.79963054  0.01512583  0.70434007  0.84212223  0.72110897\n",
      "   0.67182124  0.48245596  0.25028342]\n",
      " [ 0.22843205  0.37125894  0.07682449  0.48277493  0.80754502  1.\n",
      "   0.34794309  0.8180208   0.14720197  0.69751518  0.75754208  0.88284865\n",
      "   0.77731617  0.52683562  0.41614467]\n",
      " [-0.11596684  0.34499587 -0.04441788  0.65252774  0.40672539  0.34794309\n",
      "   1.          0.23398764 -0.17100145  0.28363257  0.21437747  0.37811528\n",
      "   0.41107394  0.4580735  -0.0127226 ]\n",
      " [ 0.27069919  0.48954902  0.05472742  0.36164388  0.79963054  0.8180208\n",
      "   0.23398764  1.          0.25541758  0.81473421  0.85952656  0.78212322\n",
      "   0.75360983  0.56328419  0.55803585]\n",
      " [ 0.54837963  0.14092491  0.26558535  0.14072342  0.01512583  0.14720197\n",
      "  -0.17100145  0.25541758  1.          0.33722821  0.19548192  0.29926823\n",
      "   0.34833878  0.21495316  0.69263617]\n",
      " [ 0.34557633  0.34054927  0.09352203  0.39316415  0.70434007  0.69751518\n",
      "   0.28363257  0.81473421  0.33722821  1.          0.78032317  0.71407319\n",
      "   0.78840024  0.61280767  0.62255406]\n",
      " [ 0.28464484  0.54963595  0.04406598  0.34655503  0.84212223  0.75754208\n",
      "   0.21437747  0.85952656  0.19548192  0.78032317  1.          0.78387073\n",
      "   0.76886954  0.54712558  0.43476824]\n",
      " [ 0.33820196  0.50629865  0.19750455  0.5028093   0.72110897  0.88284865\n",
      "   0.37811528  0.78212322  0.29926823  0.71407319  0.78387073  1.\n",
      "   0.87583087  0.54940764  0.52781631]\n",
      " [ 0.36745292  0.50737694  0.29003215  0.60550755  0.67182124  0.77731617\n",
      "   0.41107394  0.75360983  0.34833878  0.78840024  0.76886954  0.87583087\n",
      "   1.          0.53939681  0.57387315]\n",
      " [ 0.46720619  0.28409279 -0.32331935  0.68515577  0.48245596  0.52683562\n",
      "   0.4580735   0.56328419  0.21495316  0.61280767  0.54712558  0.54940764\n",
      "   0.53939681  1.          0.39579884]\n",
      " [ 0.58591822  0.38420837  0.14001737  0.32695742  0.25028342  0.41614467\n",
      "  -0.0127226   0.55803585  0.69263617  0.62255406  0.43476824  0.52781631\n",
      "   0.57387315  0.39579884  1.        ]]\n"
     ]
    }
   ],
   "source": [
    "R=np.corrcoef(datos.T)\n",
    "print(R)"
   ]
  },
  {
   "cell_type": "markdown",
   "metadata": {},
   "source": [
    "**1b) Escoja una de las matrices $S$ o $R$ (Justifique su elección). Y determine los eigenvalores y eigenvectores, construya un gráfico mostrando, en orden descendente por tamaño, el porcentaje que cada eigenvalor contribuye a la varianza total de la muestra.**\n",
    "\n",
    "Dado que las varianzas son similares y los criterios se manejan con la misma escala, escogemos $S$ para el análisis. Determinemos entonces los autovalores y autovectores de $S$:"
   ]
  },
  {
   "cell_type": "code",
   "execution_count": 4,
   "metadata": {},
   "outputs": [
    {
     "name": "stdout",
     "output_type": "stream",
     "text": [
      "Autovalores:\n",
      "7.669204410540634\n",
      "2.118022368067411\n",
      "1.4940700122310993\n",
      "1.2147769385589198\n",
      "0.7555933994056876\n",
      "0.5040086103412464\n",
      "0.3612652729242787\n",
      "0.31213881959575224\n",
      "0.2544007560723308\n",
      "0.18884397082794757\n",
      "0.1559524363841073\n",
      "0.0356316127406191\n",
      "0.06629102659405652\n",
      "0.09950442906325646\n",
      "0.08944487282287632\n"
     ]
    }
   ],
   "source": [
    "vals,vecs=la.eig(S)\n",
    "print(\"Autovalores:\")\n",
    "for i in range(len(vals)):\n",
    "    print(vals[i])"
   ]
  },
  {
   "cell_type": "code",
   "execution_count": 5,
   "metadata": {},
   "outputs": [
    {
     "name": "stdout",
     "output_type": "stream",
     "text": [
      "Autovectores:\n",
      "[ 0.16239586 -0.42321851 -0.32233485 -0.09617302 -0.11469123 -0.6258131\n",
      "  0.19601527  0.09513091 -0.4075533  -0.04412954  0.119711    0.02051505\n",
      "  0.09643737  0.18648551  0.04712726]\n",
      "[ 0.21300212  0.03318149  0.02466438  0.26077833 -0.87164764  0.0462504\n",
      " -0.01135912  0.00650548  0.05900607 -0.01471572 -0.11528805 -0.01608695\n",
      " -0.09280724  0.02242286 -0.3105978 ]\n",
      "[ 0.03985945 -0.24114419  0.42014195  0.64396544  0.21185423 -0.21398057\n",
      "  0.31025646 -0.04807933  0.08314043 -0.28680959 -0.18540401 -0.06845411\n",
      " -0.00932365 -0.17510955  0.02874706]\n",
      "[ 0.22527736  0.13721829 -0.4638137   0.34758742  0.12182865 -0.10539132\n",
      " -0.15295677 -0.26246291  0.39683864 -0.16035215  0.41706836  0.30328794\n",
      "  0.14869882 -0.02303346 -0.06696114]\n",
      "[ 0.29058397  0.24302309  0.24745674 -0.17353611 -0.00393878 -0.02575334\n",
      "  0.15307534  0.36805113 -0.16483565 -0.24772401  0.42026794  0.30417165\n",
      " -0.37093187 -0.33209682  0.00405065]\n",
      "[ 0.31490085  0.12633619  0.15448533 -0.07133782  0.20487546 -0.18699708\n",
      " -0.50936925  0.02170653 -0.12715545 -0.25203769  0.0207379  -0.49674205\n",
      "  0.10354979  0.02326221 -0.42533966]\n",
      "[ 0.15617529  0.41823271 -0.28433194  0.40341193  0.06619206  0.293779\n",
      "  0.16050379  0.29189519 -0.45026755 -0.00794228 -0.05219414 -0.18861189\n",
      "  0.22342948  0.13760881  0.21329215]\n",
      "[ 0.32436361  0.02554784  0.18775021 -0.19783177 -0.03550548  0.11782973\n",
      "  0.00397128 -0.14185578  0.12349453 -0.46398678 -0.17416521  0.15984116\n",
      " -0.01913745  0.61801805  0.34019816]\n",
      "[ 1.33856236e-01 -5.49433884e-01 -9.49664140e-02  6.69338298e-02\n",
      "  1.06588773e-01  3.63479306e-01 -1.02691259e-01  6.28203438e-01\n",
      "  2.72479286e-01  1.23769683e-02  8.16055175e-02 -2.56695088e-04\n",
      "  4.55095234e-02  1.34899748e-01 -1.29290351e-01]\n",
      "[ 0.31535797 -0.04545505  0.07686106 -0.15187139  0.20444205  0.26053687\n",
      "  0.47933688 -0.27739094 -0.1362739   0.19014429 -0.02428831  0.18101513\n",
      "  0.20924292  0.0905225  -0.55952329]\n",
      "[ 0.31825693  0.06454742  0.21046836 -0.19639368 -0.16132904 -0.10637371\n",
      "  0.20458739  0.06378836  0.34229685  0.22741465  0.18283036 -0.30837362\n",
      "  0.52186186 -0.20904037  0.33906917]\n",
      "[ 0.3315213   0.02044759  0.11782375  0.07601522  0.0809279  -0.15411281\n",
      " -0.3983692   0.11452159 -0.115409    0.3347657  -0.44884542  0.52225643\n",
      "  0.17145195 -0.16487916  0.10825558]\n",
      "[ 0.33336917 -0.0227883   0.07052931  0.19215045  0.12597318 -0.05399966\n",
      " -0.02068592 -0.13673425  0.04883327  0.55668641  0.17606434 -0.23047194\n",
      " -0.56291508  0.27154423  0.14673132]\n",
      "[ 0.25957186  0.08949514 -0.46384304 -0.2021223   0.10954443 -0.07271656\n",
      "  0.24004815  0.06837796  0.28168628 -0.13641041 -0.52367125 -0.19344351\n",
      " -0.30836493 -0.29025168 -0.00900216]\n",
      "[ 0.2358822  -0.41851696 -0.09707624 -0.02203116 -0.07821156  0.41259703\n",
      " -0.18496869 -0.40781059 -0.31569057 -0.14500135  0.08108981 -0.10537456\n",
      " -0.04167487 -0.40811392  0.27524294]\n"
     ]
    }
   ],
   "source": [
    "print(\"Autovectores:\")\n",
    "for i in range(len(vecs)):\n",
    "    print(vecs[i])"
   ]
  },
  {
   "cell_type": "markdown",
   "metadata": {},
   "source": [
    "Construyamos ahora el gráfico pedido:"
   ]
  },
  {
   "cell_type": "code",
   "execution_count": 6,
   "metadata": {},
   "outputs": [
    {
     "data": {
      "image/png": "[encoded data removed]",
      "text/plain": [
       "<matplotlib.figure.Figure at 0x7f3425570ba8>"
      ]
     },
     "metadata": {},
     "output_type": "display_data"
    }
   ],
   "source": [
    "vals[::-1].sort()\n",
    "per=np.zeros(len(vals))\n",
    "for i in range(len(vals)):\n",
    "    per[i]=vals[i]/vals.sum()*100\n",
    "    \n",
    "plt.figure(figsize=(8,4))\n",
    "plt.bar(range(1,len(vals)+1), per, align='center')\n",
    "plt.title('Porcentaje de contribución de cada autovalor a la varianza')\n",
    "plt.ylabel('Porcentaje de contribución (%)')\n",
    "plt.xlabel('Autovalor')\n",
    "plt.show()"
   ]
  },
  {
   "cell_type": "markdown",
   "metadata": {},
   "source": [
    "**1c) ¿Cuál es la varianza y media de la primera componente?**\n",
    "\n",
    "La varianza de la primera componente es:"
   ]
  },
  {
   "cell_type": "code",
   "execution_count": 7,
   "metadata": {},
   "outputs": [
    {
     "data": {
      "text/plain": [
       "0.06118972613854579"
      ]
     },
     "execution_count": 7,
     "metadata": {},
     "output_type": "execute_result"
    }
   ],
   "source": [
    "np.var(vecs[0])"
   ]
  },
  {
   "cell_type": "markdown",
   "metadata": {},
   "source": [
    "La media de la primera componente es:"
   ]
  },
  {
   "cell_type": "code",
   "execution_count": 8,
   "metadata": {},
   "outputs": [
    {
     "data": {
      "text/plain": [
       "-0.07400635464688758"
      ]
     },
     "execution_count": 8,
     "metadata": {},
     "output_type": "execute_result"
    }
   ],
   "source": [
    "np.mean(vecs[0])"
   ]
  },
  {
   "cell_type": "markdown",
   "metadata": {},
   "source": [
    "**1d) Suponga que se van a contratar personas provenientes del conjunto de datos solicitantes. ¿Cuáles están por debajo del promedio con respecto a la primera, a las dos primeras componentes, a las tres primeras componentes principales?**\n",
    "\n",
    "Veamos cual es la identificación de cada individuo cuyo promedio está por debajo con respecto a la primera componente:"
   ]
  },
  {
   "cell_type": "code",
   "execution_count": 9,
   "metadata": {},
   "outputs": [
    {
     "data": {
      "text/plain": [
       "[15, 18, 19, 25, 26, 28, 29, 30, 31, 32, 33, 34, 35, 36, 41, 42, 43, 47, 48]"
      ]
     },
     "execution_count": 9,
     "metadata": {},
     "output_type": "execute_result"
    }
   ],
   "source": [
    "prom=[]\n",
    "for i in range(len(datos)):\n",
    "    if np.mean(vecs[0])>=np.mean(datos[i]):\n",
    "        prom.append(i+1)\n",
    "prom"
   ]
  },
  {
   "cell_type": "markdown",
   "metadata": {},
   "source": [
    "Veamos ahora cual es la identificación de cada individuo cuyo promedio está por debajo con respecto a las dos primeras componentes:"
   ]
  },
  {
   "cell_type": "code",
   "execution_count": 10,
   "metadata": {},
   "outputs": [
    {
     "data": {
      "text/plain": [
       "[15, 18, 19, 25, 26, 28, 29, 30, 31, 32, 33, 34, 35, 36, 41, 42, 43, 47, 48]"
      ]
     },
     "execution_count": 10,
     "metadata": {},
     "output_type": "execute_result"
    }
   ],
   "source": [
    "prom=[]\n",
    "for i in range(len(datos)):\n",
    "    if (np.mean(vecs[0])>=np.mean(datos[i]) and np.mean(vecs[1])>=np.mean(datos[i])):\n",
    "        prom.append(i+1)\n",
    "prom"
   ]
  },
  {
   "cell_type": "markdown",
   "metadata": {},
   "source": [
    "Finalmente, veamos cual es la identificación de cada individuo cuyo promedio está por debajo con respecto a las tres primeras componentes:"
   ]
  },
  {
   "cell_type": "code",
   "execution_count": 11,
   "metadata": {},
   "outputs": [
    {
     "data": {
      "text/plain": [
       "[15, 18, 19, 25, 26, 28, 29, 30, 31, 32, 33, 34, 35, 36, 41, 42, 43, 47, 48]"
      ]
     },
     "execution_count": 11,
     "metadata": {},
     "output_type": "execute_result"
    }
   ],
   "source": [
    "prom=[]\n",
    "for i in range(len(datos)):\n",
    "    if (np.mean(vecs[0])>=np.mean(datos[i]) and np.mean(vecs[1])>=np.mean(datos[i]) and \n",
    "        np.mean(vecs[2])>=np.mean(datos[i])):\n",
    "        prom.append(i+1)\n",
    "prom"
   ]
  },
  {
   "cell_type": "markdown",
   "metadata": {},
   "source": [
    "**2a) Obtenga la matriz de correlación $R$ de la muestra para esos datos, y determine sus eigenvalores y sus eigenvectores.**\n",
    "\n",
    "Leemos primero los datos:"
   ]
  },
  {
   "cell_type": "code",
   "execution_count": 12,
   "metadata": {},
   "outputs": [
    {
     "data": {
      "text/html": [
       "<div>\n",
       "<style scoped>\n",
       "    .dataframe tbody tr th:only-of-type {\n",
       "        vertical-align: middle;\n",
       "    }\n",
       "\n",
       "    .dataframe tbody tr th {\n",
       "        vertical-align: top;\n",
       "    }\n",
       "\n",
       "    .dataframe thead th {\n",
       "        text-align: right;\n",
       "    }\n",
       "</style>\n",
       "<table border=\"1\" class=\"dataframe\">\n",
       "  <thead>\n",
       "    <tr style=\"text-align: right;\">\n",
       "      <th></th>\n",
       "      <th>Países</th>\n",
       "      <th>100 m</th>\n",
       "      <th>200 m</th>\n",
       "      <th>400 m</th>\n",
       "      <th>800 m</th>\n",
       "      <th>1500 m</th>\n",
       "      <th>5000 m</th>\n",
       "      <th>10000 m</th>\n",
       "      <th>Marathon</th>\n",
       "    </tr>\n",
       "  </thead>\n",
       "  <tbody>\n",
       "    <tr>\n",
       "      <th>0</th>\n",
       "      <td>Argentina</td>\n",
       "      <td>10.39</td>\n",
       "      <td>20.81</td>\n",
       "      <td>46.84</td>\n",
       "      <td>1.81</td>\n",
       "      <td>3.70</td>\n",
       "      <td>14.04</td>\n",
       "      <td>29.36</td>\n",
       "      <td>137.72</td>\n",
       "    </tr>\n",
       "    <tr>\n",
       "      <th>1</th>\n",
       "      <td>Australia</td>\n",
       "      <td>10.31</td>\n",
       "      <td>20.06</td>\n",
       "      <td>44.84</td>\n",
       "      <td>1.74</td>\n",
       "      <td>3.57</td>\n",
       "      <td>13.28</td>\n",
       "      <td>27.66</td>\n",
       "      <td>128.30</td>\n",
       "    </tr>\n",
       "    <tr>\n",
       "      <th>2</th>\n",
       "      <td>Austria</td>\n",
       "      <td>10.44</td>\n",
       "      <td>20.81</td>\n",
       "      <td>46.82</td>\n",
       "      <td>1.79</td>\n",
       "      <td>3.60</td>\n",
       "      <td>13.26</td>\n",
       "      <td>27.72</td>\n",
       "      <td>135.90</td>\n",
       "    </tr>\n",
       "    <tr>\n",
       "      <th>3</th>\n",
       "      <td>Belgica</td>\n",
       "      <td>10.34</td>\n",
       "      <td>20.68</td>\n",
       "      <td>45.04</td>\n",
       "      <td>1.73</td>\n",
       "      <td>3.60</td>\n",
       "      <td>13.22</td>\n",
       "      <td>27.45</td>\n",
       "      <td>129.95</td>\n",
       "    </tr>\n",
       "    <tr>\n",
       "      <th>4</th>\n",
       "      <td>Bermudas</td>\n",
       "      <td>10.28</td>\n",
       "      <td>20.58</td>\n",
       "      <td>45.91</td>\n",
       "      <td>1.80</td>\n",
       "      <td>3.75</td>\n",
       "      <td>14.68</td>\n",
       "      <td>30.55</td>\n",
       "      <td>146.62</td>\n",
       "    </tr>\n",
       "  </tbody>\n",
       "</table>\n",
       "</div>"
      ],
      "text/plain": [
       "      Países  100 m  200 m  400 m  800 m  1500 m  5000 m  10000 m  Marathon\n",
       "0  Argentina  10.39  20.81  46.84   1.81    3.70   14.04    29.36    137.72\n",
       "1  Australia  10.31  20.06  44.84   1.74    3.57   13.28    27.66    128.30\n",
       "2    Austria  10.44  20.81  46.82   1.79    3.60   13.26    27.72    135.90\n",
       "3    Belgica  10.34  20.68  45.04   1.73    3.60   13.22    27.45    129.95\n",
       "4   Bermudas  10.28  20.58  45.91   1.80    3.75   14.68    30.55    146.62"
      ]
     },
     "execution_count": 12,
     "metadata": {},
     "output_type": "execute_result"
    }
   ],
   "source": [
    "B=pd.read_excel('2.xlsx')\n",
    "B.head()"
   ]
  },
  {
   "cell_type": "markdown",
   "metadata": {},
   "source": [
    "Determinemos ahora la matriz de correlación:"
   ]
  },
  {
   "cell_type": "code",
   "execution_count": 13,
   "metadata": {},
   "outputs": [
    {
     "name": "stdout",
     "output_type": "stream",
     "text": [
      "[[1.         0.92263844 0.84114677 0.75602776 0.12498532 0.61946177\n",
      "  0.63089377 0.55950229]\n",
      " [0.92263844 1.         0.85072702 0.80662654 0.17402707 0.69537702\n",
      "  0.69536429 0.58970133]\n",
      " [0.84114677 0.85072702 1.         0.8701714  0.20645296 0.77861385\n",
      "  0.78651373 0.69501385]\n",
      " [0.75602776 0.80662654 0.8701714  1.         0.21099058 0.86359388\n",
      "  0.86793063 0.75687641]\n",
      " [0.12498532 0.17402707 0.20645296 0.21099058 1.         0.26303459\n",
      "  0.27417765 0.25228914]\n",
      " [0.61946177 0.69537702 0.77861385 0.86359388 0.26303459 1.\n",
      "  0.97442035 0.87461526]\n",
      " [0.63089377 0.69536429 0.78651373 0.86793063 0.27417765 0.97442035\n",
      "  1.         0.9040155 ]\n",
      " [0.55950229 0.58970133 0.69501385 0.75687641 0.25228914 0.87461526\n",
      "  0.9040155  1.        ]]\n"
     ]
    }
   ],
   "source": [
    "d=B.values\n",
    "R=np.corrcoef(d[:,1:].astype(float).T)\n",
    "print(R)"
   ]
  },
  {
   "cell_type": "markdown",
   "metadata": {},
   "source": [
    "Determinemos ahora los autovalores y autovectores de $R$:"
   ]
  },
  {
   "cell_type": "code",
   "execution_count": 14,
   "metadata": {},
   "outputs": [
    {
     "name": "stdout",
     "output_type": "stream",
     "text": [
      "Autovalores:\n",
      "5.746535160498793\n",
      "1.0020120189700654\n",
      "0.7436016165160104\n",
      "0.19183996105565299\n",
      "0.13594511632050468\n",
      "0.0947916086605717\n",
      "0.0627283390672644\n",
      "0.022546178911133016\n"
     ]
    }
   ],
   "source": [
    "vals,vecs=la.eig(R)\n",
    "print(\"Autovalores:\")\n",
    "vals[::-1].sort()\n",
    "for i in range(len(vals)):\n",
    "    print(vals[i])"
   ]
  },
  {
   "cell_type": "code",
   "execution_count": 15,
   "metadata": {},
   "outputs": [
    {
     "name": "stdout",
     "output_type": "stream",
     "text": [
      "Autovectores:\n",
      "[ 0.34912525  0.32880184 -0.42473065 -0.39188489 -0.03406912  0.65175132\n",
      "  0.10011393 -0.00822983]\n",
      "[ 0.36581097  0.25938153 -0.37546072 -0.15838929  0.03779898 -0.65698583\n",
      " -0.08658837 -0.43850763]\n",
      "[ 0.38467565  0.14515716 -0.17287029  0.30262405 -0.00497629 -0.14117447\n",
      " -0.3893589   0.73343933]\n",
      "[ 0.39203007  0.05335375  0.03855679  0.58278941 -0.03149771  0.02795113\n",
      "  0.70417466 -0.06855912]\n",
      "[ 0.11964022 -0.84756367 -0.51580196 -0.00201812 -0.00963984  0.02161056\n",
      "  0.02646899  0.00239962]\n",
      "[ 0.38599936 -0.14362426  0.32206022  0.13937686 -0.62725933  0.18457351\n",
      " -0.40544439 -0.33958957]\n",
      "[ 0.38959287 -0.15390959  0.32267949  0.0343981   0.76695315  0.1748887\n",
      " -0.24372534 -0.20253078]\n",
      "[ 0.35712612 -0.19496944  0.41637225 -0.60786597 -0.12095183 -0.2403287\n",
      "  0.33245985  0.3296425 ]\n"
     ]
    }
   ],
   "source": [
    "print(\"Autovectores:\")\n",
    "for i in range(len(vecs)):\n",
    "    print(vecs[i])"
   ]
  },
  {
   "cell_type": "markdown",
   "metadata": {},
   "source": [
    "**2b) Determina las 2 primeras componentes principales para las variables normalizadas. Prepare una tabla mostrando las correlaciones de las variables normalizadas, con las componentes y el porcentaje acumulado del total de varianza de la muestra (normalizada) expresada por las 2 componentes.**\n",
    "\n",
    "Las dos componentes principales vendrán dadas por:\n",
    "$$z_1=0.349y_1+0.329y_2-0.425y_3-0.392y_4-0.034y_5+0.652y_6+0.100y_7-0.008y_8$$\n",
    "$$z_2=0.366y_1+0.259y_2-0.375y_3-0.158y_4+0.038y_5-0.657y_6-0.087y_7-0.438y_8$$\n",
    "\n",
    "Donde, $y_1$: registro 100m, $y_2$: registro 200m, $y_3$: registro 400m, $y_4$: registro 800m, $y_5$: registro 1500m, $y_6$: registro 5000m, $y_7$: registro 10000m y $y_8$: registro maratón.\n",
    "\n",
    "Las correlaciones de las variables normalizadas son las mismas que mostradas en la matriz de correlación, así que determinemos el porcentaje acumulado del total de la varianza de la muestra (normalizada) expresada por las 2 componentes:"
   ]
  },
  {
   "cell_type": "code",
   "execution_count": 16,
   "metadata": {},
   "outputs": [
    {
     "data": {
      "text/plain": [
       "84.35683974336078"
      ]
     },
     "execution_count": 16,
     "metadata": {},
     "output_type": "execute_result"
    }
   ],
   "source": [
    "(vals[0]+vals[1])/vals.sum()*100"
   ]
  },
  {
   "cell_type": "markdown",
   "metadata": {},
   "source": [
    "**2c) Interprete las 2 componente principales obtenidas en la parte b.**\n",
    "\n",
    "La primera componente principal explica mejor los registros de 200m, 400m, 800m y 10000m; mientras que la segunda componente principal explica mejor los restantes.\n",
    "\n",
    "**2d) Clasifique las naciones basadas en su puntaje en la primera componente principal. ¿Esta clasificación corresponde con su noción intuitiva de la excelencia atlética para los diferentes países?**\n",
    "\n",
    "Tomando los datos normalizados, encontramos la puntuación para cada país y ordenamos la clasificación:"
   ]
  },
  {
   "cell_type": "code",
   "execution_count": 17,
   "metadata": {},
   "outputs": [
    {
     "data": {
      "text/html": [
       "<div>\n",
       "<style scoped>\n",
       "    .dataframe tbody tr th:only-of-type {\n",
       "        vertical-align: middle;\n",
       "    }\n",
       "\n",
       "    .dataframe tbody tr th {\n",
       "        vertical-align: top;\n",
       "    }\n",
       "\n",
       "    .dataframe thead th {\n",
       "        text-align: right;\n",
       "    }\n",
       "</style>\n",
       "<table border=\"1\" class=\"dataframe\">\n",
       "  <thead>\n",
       "    <tr style=\"text-align: right;\">\n",
       "      <th></th>\n",
       "      <th>País</th>\n",
       "      <th>Puntaje</th>\n",
       "    </tr>\n",
       "  </thead>\n",
       "  <tbody>\n",
       "    <tr>\n",
       "      <th>1</th>\n",
       "      <td>Islas Cook</td>\n",
       "      <td>2.1880599486871826</td>\n",
       "    </tr>\n",
       "    <tr>\n",
       "      <th>2</th>\n",
       "      <td>Mauritius</td>\n",
       "      <td>1.7186163119887983</td>\n",
       "    </tr>\n",
       "    <tr>\n",
       "      <th>3</th>\n",
       "      <td>Filipinas</td>\n",
       "      <td>1.4355996604166714</td>\n",
       "    </tr>\n",
       "    <tr>\n",
       "      <th>4</th>\n",
       "      <td>Western Samoa</td>\n",
       "      <td>0.9149233700552284</td>\n",
       "    </tr>\n",
       "    <tr>\n",
       "      <th>5</th>\n",
       "      <td>India</td>\n",
       "      <td>0.724677143560264</td>\n",
       "    </tr>\n",
       "  </tbody>\n",
       "</table>\n",
       "</div>"
      ],
      "text/plain": [
       "            País             Puntaje\n",
       "1     Islas Cook  2.1880599486871826\n",
       "2      Mauritius  1.7186163119887983\n",
       "3      Filipinas  1.4355996604166714\n",
       "4  Western Samoa  0.9149233700552284\n",
       "5          India   0.724677143560264"
      ]
     },
     "execution_count": 17,
     "metadata": {},
     "output_type": "execute_result"
    }
   ],
   "source": [
    "datos=StandardScaler().fit_transform(d[:,1:].astype(float))\n",
    "points=np.zeros(len(datos))\n",
    "Pos=np.copy(points)\n",
    "tab=[]\n",
    "Pais=[]\n",
    "for i in range(len(datos)):\n",
    "    points[i]=np.dot(datos[i],vecs[0])\n",
    "pos=np.argsort(points)\n",
    "for i in range(54,-1,-1):\n",
    "    Pos[54-i]=pos[i]\n",
    "for i in range(len(Pos)):\n",
    "    Pais.append(d[Pos[i].astype(int),0])\n",
    "points[::-1].sort()\n",
    "for i in range(len(points)):\n",
    "     tab.append([Pais[i],points[i]])\n",
    "TAB=pd.DataFrame(np.array(tab),index=np.arange(1,56),columns=['País','Puntaje'])\n",
    "TAB.head()"
   ]
  },
  {
   "cell_type": "markdown",
   "metadata": {},
   "source": [
    "Dicha clasificación no corresponde con la noción intuitiva de la excelencia atlética para los países participantes.\n",
    "\n",
    "**3a) Calcular la distancia chi-cuadrado entre las marcas.**\n",
    "\n",
    "Leemos primero los datos"
   ]
  },
  {
   "cell_type": "code",
   "execution_count": 18,
   "metadata": {},
   "outputs": [
    {
     "data": {
      "text/html": [
       "<div>\n",
       "<style scoped>\n",
       "    .dataframe tbody tr th:only-of-type {\n",
       "        vertical-align: middle;\n",
       "    }\n",
       "\n",
       "    .dataframe tbody tr th {\n",
       "        vertical-align: top;\n",
       "    }\n",
       "\n",
       "    .dataframe thead th {\n",
       "        text-align: right;\n",
       "    }\n",
       "</style>\n",
       "<table border=\"1\" class=\"dataframe\">\n",
       "  <thead>\n",
       "    <tr style=\"text-align: right;\">\n",
       "      <th></th>\n",
       "      <th>imagen</th>\n",
       "      <th>marca</th>\n",
       "      <th>frec</th>\n",
       "    </tr>\n",
       "  </thead>\n",
       "  <tbody>\n",
       "    <tr>\n",
       "      <th>0</th>\n",
       "      <td>engorda</td>\n",
       "      <td>AA</td>\n",
       "      <td>82</td>\n",
       "    </tr>\n",
       "    <tr>\n",
       "      <th>1</th>\n",
       "      <td>hombres</td>\n",
       "      <td>AA</td>\n",
       "      <td>96</td>\n",
       "    </tr>\n",
       "    <tr>\n",
       "      <th>2</th>\n",
       "      <td>SudAustraliano</td>\n",
       "      <td>AA</td>\n",
       "      <td>72</td>\n",
       "    </tr>\n",
       "    <tr>\n",
       "      <th>3</th>\n",
       "      <td>tradicional</td>\n",
       "      <td>AA</td>\n",
       "      <td>101</td>\n",
       "    </tr>\n",
       "    <tr>\n",
       "      <th>4</th>\n",
       "      <td>superior</td>\n",
       "      <td>AA</td>\n",
       "      <td>66</td>\n",
       "    </tr>\n",
       "  </tbody>\n",
       "</table>\n",
       "</div>"
      ],
      "text/plain": [
       "           imagen marca  frec\n",
       "0         engorda    AA    82\n",
       "1         hombres    AA    96\n",
       "2  SudAustraliano    AA    72\n",
       "3     tradicional    AA   101\n",
       "4        superior    AA    66"
      ]
     },
     "execution_count": 18,
     "metadata": {},
     "output_type": "execute_result"
    }
   ],
   "source": [
    "C=pd.read_excel('3.xlsx')\n",
    "C.head()"
   ]
  },
  {
   "cell_type": "markdown",
   "metadata": {},
   "source": [
    "Armemos la tabla de contigencia para la información dada:"
   ]
  },
  {
   "cell_type": "code",
   "execution_count": 19,
   "metadata": {},
   "outputs": [
    {
     "data": {
      "text/html": [
       "<div>\n",
       "<style scoped>\n",
       "    .dataframe tbody tr th:only-of-type {\n",
       "        vertical-align: middle;\n",
       "    }\n",
       "\n",
       "    .dataframe tbody tr th {\n",
       "        vertical-align: top;\n",
       "    }\n",
       "\n",
       "    .dataframe thead th {\n",
       "        text-align: right;\n",
       "    }\n",
       "</style>\n",
       "<table border=\"1\" class=\"dataframe\">\n",
       "  <thead>\n",
       "    <tr style=\"text-align: right;\">\n",
       "      <th></th>\n",
       "      <th>AA</th>\n",
       "      <th>BB</th>\n",
       "      <th>CC</th>\n",
       "      <th>DD</th>\n",
       "      <th>EE</th>\n",
       "      <th>FF</th>\n",
       "    </tr>\n",
       "  </thead>\n",
       "  <tbody>\n",
       "    <tr>\n",
       "      <th>engorda</th>\n",
       "      <td>82</td>\n",
       "      <td>78</td>\n",
       "      <td>12</td>\n",
       "      <td>16</td>\n",
       "      <td>76</td>\n",
       "      <td>110</td>\n",
       "    </tr>\n",
       "    <tr>\n",
       "      <th>hombres</th>\n",
       "      <td>96</td>\n",
       "      <td>9</td>\n",
       "      <td>0</td>\n",
       "      <td>3</td>\n",
       "      <td>119</td>\n",
       "      <td>11</td>\n",
       "    </tr>\n",
       "    <tr>\n",
       "      <th>SudAustraliano</th>\n",
       "      <td>72</td>\n",
       "      <td>111</td>\n",
       "      <td>30</td>\n",
       "      <td>13</td>\n",
       "      <td>20</td>\n",
       "      <td>22</td>\n",
       "    </tr>\n",
       "    <tr>\n",
       "      <th>tradicional</th>\n",
       "      <td>101</td>\n",
       "      <td>30</td>\n",
       "      <td>1</td>\n",
       "      <td>0</td>\n",
       "      <td>1</td>\n",
       "      <td>53</td>\n",
       "    </tr>\n",
       "    <tr>\n",
       "      <th>superior</th>\n",
       "      <td>66</td>\n",
       "      <td>24</td>\n",
       "      <td>14</td>\n",
       "      <td>7</td>\n",
       "      <td>9</td>\n",
       "      <td>76</td>\n",
       "    </tr>\n",
       "    <tr>\n",
       "      <th>sano</th>\n",
       "      <td>6</td>\n",
       "      <td>6</td>\n",
       "      <td>137</td>\n",
       "      <td>93</td>\n",
       "      <td>3</td>\n",
       "      <td>4</td>\n",
       "    </tr>\n",
       "    <tr>\n",
       "      <th>cafeína</th>\n",
       "      <td>47</td>\n",
       "      <td>33</td>\n",
       "      <td>14</td>\n",
       "      <td>15</td>\n",
       "      <td>65</td>\n",
       "      <td>43</td>\n",
       "    </tr>\n",
       "    <tr>\n",
       "      <th>nuevo</th>\n",
       "      <td>1</td>\n",
       "      <td>11</td>\n",
       "      <td>78</td>\n",
       "      <td>99</td>\n",
       "      <td>15</td>\n",
       "      <td>15</td>\n",
       "    </tr>\n",
       "    <tr>\n",
       "      <th>atractivo</th>\n",
       "      <td>16</td>\n",
       "      <td>9</td>\n",
       "      <td>69</td>\n",
       "      <td>55</td>\n",
       "      <td>10</td>\n",
       "      <td>31</td>\n",
       "    </tr>\n",
       "    <tr>\n",
       "      <th>duro</th>\n",
       "      <td>60</td>\n",
       "      <td>7</td>\n",
       "      <td>1</td>\n",
       "      <td>2</td>\n",
       "      <td>107</td>\n",
       "      <td>5</td>\n",
       "    </tr>\n",
       "    <tr>\n",
       "      <th>popular</th>\n",
       "      <td>137</td>\n",
       "      <td>35</td>\n",
       "      <td>6</td>\n",
       "      <td>4</td>\n",
       "      <td>47</td>\n",
       "      <td>50</td>\n",
       "    </tr>\n",
       "    <tr>\n",
       "      <th>curativo</th>\n",
       "      <td>49</td>\n",
       "      <td>10</td>\n",
       "      <td>7</td>\n",
       "      <td>17</td>\n",
       "      <td>26</td>\n",
       "      <td>10</td>\n",
       "    </tr>\n",
       "    <tr>\n",
       "      <th>bajo en grasa</th>\n",
       "      <td>3</td>\n",
       "      <td>2</td>\n",
       "      <td>144</td>\n",
       "      <td>92</td>\n",
       "      <td>0</td>\n",
       "      <td>1</td>\n",
       "    </tr>\n",
       "    <tr>\n",
       "      <th>niños</th>\n",
       "      <td>24</td>\n",
       "      <td>44</td>\n",
       "      <td>9</td>\n",
       "      <td>5</td>\n",
       "      <td>9</td>\n",
       "      <td>23</td>\n",
       "    </tr>\n",
       "    <tr>\n",
       "      <th>trabajando</th>\n",
       "      <td>96</td>\n",
       "      <td>23</td>\n",
       "      <td>2</td>\n",
       "      <td>3</td>\n",
       "      <td>73</td>\n",
       "      <td>12</td>\n",
       "    </tr>\n",
       "    <tr>\n",
       "      <th>dulce</th>\n",
       "      <td>27</td>\n",
       "      <td>21</td>\n",
       "      <td>4</td>\n",
       "      <td>4</td>\n",
       "      <td>25</td>\n",
       "      <td>96</td>\n",
       "    </tr>\n",
       "    <tr>\n",
       "      <th>impopular</th>\n",
       "      <td>1</td>\n",
       "      <td>18</td>\n",
       "      <td>32</td>\n",
       "      <td>32</td>\n",
       "      <td>21</td>\n",
       "      <td>8</td>\n",
       "    </tr>\n",
       "    <tr>\n",
       "      <th>feo</th>\n",
       "      <td>22</td>\n",
       "      <td>32</td>\n",
       "      <td>24</td>\n",
       "      <td>22</td>\n",
       "      <td>20</td>\n",
       "      <td>20</td>\n",
       "    </tr>\n",
       "    <tr>\n",
       "      <th>fresco</th>\n",
       "      <td>48</td>\n",
       "      <td>26</td>\n",
       "      <td>27</td>\n",
       "      <td>23</td>\n",
       "      <td>18</td>\n",
       "      <td>25</td>\n",
       "    </tr>\n",
       "    <tr>\n",
       "      <th>yupis</th>\n",
       "      <td>13</td>\n",
       "      <td>14</td>\n",
       "      <td>33</td>\n",
       "      <td>46</td>\n",
       "      <td>8</td>\n",
       "      <td>43</td>\n",
       "    </tr>\n",
       "    <tr>\n",
       "      <th>nutritivo</th>\n",
       "      <td>23</td>\n",
       "      <td>17</td>\n",
       "      <td>72</td>\n",
       "      <td>56</td>\n",
       "      <td>7</td>\n",
       "      <td>10</td>\n",
       "    </tr>\n",
       "    <tr>\n",
       "      <th>mujeres</th>\n",
       "      <td>19</td>\n",
       "      <td>19</td>\n",
       "      <td>104</td>\n",
       "      <td>73</td>\n",
       "      <td>7</td>\n",
       "      <td>32</td>\n",
       "    </tr>\n",
       "    <tr>\n",
       "      <th>secundario</th>\n",
       "      <td>3</td>\n",
       "      <td>32</td>\n",
       "      <td>42</td>\n",
       "      <td>73</td>\n",
       "      <td>23</td>\n",
       "      <td>15</td>\n",
       "    </tr>\n",
       "  </tbody>\n",
       "</table>\n",
       "</div>"
      ],
      "text/plain": [
       "                 AA   BB   CC  DD   EE   FF\n",
       "engorda          82   78   12  16   76  110\n",
       "hombres          96    9    0   3  119   11\n",
       "SudAustraliano   72  111   30  13   20   22\n",
       "tradicional     101   30    1   0    1   53\n",
       "superior         66   24   14   7    9   76\n",
       "sano              6    6  137  93    3    4\n",
       "cafeína          47   33   14  15   65   43\n",
       "nuevo             1   11   78  99   15   15\n",
       "atractivo        16    9   69  55   10   31\n",
       "duro             60    7    1   2  107    5\n",
       "popular         137   35    6   4   47   50\n",
       "curativo         49   10    7  17   26   10\n",
       "bajo en grasa     3    2  144  92    0    1\n",
       "niños            24   44    9   5    9   23\n",
       "trabajando       96   23    2   3   73   12\n",
       "dulce            27   21    4   4   25   96\n",
       "impopular         1   18   32  32   21    8\n",
       "feo              22   32   24  22   20   20\n",
       "fresco           48   26   27  23   18   25\n",
       "yupis            13   14   33  46    8   43\n",
       "nutritivo        23   17   72  56    7   10\n",
       "mujeres          19   19  104  73    7   32\n",
       "secundario        3   32   42  73   23   15"
      ]
     },
     "execution_count": 19,
     "metadata": {},
     "output_type": "execute_result"
    }
   ],
   "source": [
    "tab=C.values\n",
    "imagen=tab[:23,0]\n",
    "marcas=np.array(['AA','BB','CC','DD','EE','FF'])\n",
    "AA=tab[:23,2]\n",
    "BB=tab[23:46,2]\n",
    "CC=tab[46:69,2]\n",
    "DD=tab[69:92,2]\n",
    "EE=tab[92:115,2]\n",
    "FF=tab[115:,2]\n",
    "values=np.array([AA,BB,CC,DD,EE,FF]).T\n",
    "pd.DataFrame(values,columns=marcas,index=imagen)"
   ]
  },
  {
   "cell_type": "markdown",
   "metadata": {},
   "source": [
    "Para calcular la distancia entre las marcas primero encontramos los elementos de la matriz de correspondencia así como las sumas marginales de cada fila y columna:"
   ]
  },
  {
   "cell_type": "code",
   "execution_count": 20,
   "metadata": {},
   "outputs": [],
   "source": [
    "P=(values.copy()).astype(float)\n",
    "for i in range(23):\n",
    "    for j in range(6):\n",
    "        P[i,j]=values[i,j]/tab[:,2].sum()\n",
    "r=[]\n",
    "for i in range(len(P)): \n",
    "    r.append(P[i].sum())\n",
    "r=np.array(r)\n",
    "\n",
    "c_=[]\n",
    "for i in range(6): \n",
    "    c_.append(P[:,i].sum())\n",
    "c_=np.array(c_)"
   ]
  },
  {
   "cell_type": "markdown",
   "metadata": {},
   "source": [
    "Construyamos ahora una matriz que contiene las distancias chi cuadrado entre cada marca:"
   ]
  },
  {
   "cell_type": "code",
   "execution_count": 21,
   "metadata": {},
   "outputs": [
    {
     "data": {
      "text/html": [
       "<div>\n",
       "<style scoped>\n",
       "    .dataframe tbody tr th:only-of-type {\n",
       "        vertical-align: middle;\n",
       "    }\n",
       "\n",
       "    .dataframe tbody tr th {\n",
       "        vertical-align: top;\n",
       "    }\n",
       "\n",
       "    .dataframe thead th {\n",
       "        text-align: right;\n",
       "    }\n",
       "</style>\n",
       "<table border=\"1\" class=\"dataframe\">\n",
       "  <thead>\n",
       "    <tr style=\"text-align: right;\">\n",
       "      <th></th>\n",
       "      <th>AA</th>\n",
       "      <th>BB</th>\n",
       "      <th>CC</th>\n",
       "      <th>DD</th>\n",
       "      <th>EE</th>\n",
       "      <th>FF</th>\n",
       "    </tr>\n",
       "  </thead>\n",
       "  <tbody>\n",
       "    <tr>\n",
       "      <th>AA</th>\n",
       "      <td>0.000000</td>\n",
       "      <td>0.196946</td>\n",
       "      <td>0.337148</td>\n",
       "      <td>0.312065</td>\n",
       "      <td>0.178636</td>\n",
       "      <td>0.199622</td>\n",
       "    </tr>\n",
       "    <tr>\n",
       "      <th>BB</th>\n",
       "      <td>0.196946</td>\n",
       "      <td>0.000000</td>\n",
       "      <td>0.254714</td>\n",
       "      <td>0.218711</td>\n",
       "      <td>0.194265</td>\n",
       "      <td>0.145620</td>\n",
       "    </tr>\n",
       "    <tr>\n",
       "      <th>CC</th>\n",
       "      <td>0.337148</td>\n",
       "      <td>0.254714</td>\n",
       "      <td>0.000000</td>\n",
       "      <td>0.087750</td>\n",
       "      <td>0.307928</td>\n",
       "      <td>0.275489</td>\n",
       "    </tr>\n",
       "    <tr>\n",
       "      <th>DD</th>\n",
       "      <td>0.312065</td>\n",
       "      <td>0.218711</td>\n",
       "      <td>0.087750</td>\n",
       "      <td>0.000000</td>\n",
       "      <td>0.268510</td>\n",
       "      <td>0.240111</td>\n",
       "    </tr>\n",
       "    <tr>\n",
       "      <th>EE</th>\n",
       "      <td>0.178636</td>\n",
       "      <td>0.194265</td>\n",
       "      <td>0.307928</td>\n",
       "      <td>0.268510</td>\n",
       "      <td>0.000000</td>\n",
       "      <td>0.214210</td>\n",
       "    </tr>\n",
       "    <tr>\n",
       "      <th>FF</th>\n",
       "      <td>0.199622</td>\n",
       "      <td>0.145620</td>\n",
       "      <td>0.275489</td>\n",
       "      <td>0.240111</td>\n",
       "      <td>0.214210</td>\n",
       "      <td>0.000000</td>\n",
       "    </tr>\n",
       "  </tbody>\n",
       "</table>\n",
       "</div>"
      ],
      "text/plain": [
       "          AA        BB        CC        DD        EE        FF\n",
       "AA  0.000000  0.196946  0.337148  0.312065  0.178636  0.199622\n",
       "BB  0.196946  0.000000  0.254714  0.218711  0.194265  0.145620\n",
       "CC  0.337148  0.254714  0.000000  0.087750  0.307928  0.275489\n",
       "DD  0.312065  0.218711  0.087750  0.000000  0.268510  0.240111\n",
       "EE  0.178636  0.194265  0.307928  0.268510  0.000000  0.214210\n",
       "FF  0.199622  0.145620  0.275489  0.240111  0.214210  0.000000"
      ]
     },
     "execution_count": 21,
     "metadata": {},
     "output_type": "execute_result"
    }
   ],
   "source": [
    "D=np.zeros((6,6))\n",
    "for i in range(6):\n",
    "    for j in range(6):\n",
    "        suma=0\n",
    "        for k in range(23):\n",
    "            suma+=(P[k,i]-P[k,j])**2/r[k]\n",
    "        D[i,j]=np.sqrt(suma)\n",
    "pd.DataFrame(D,index=marcas,columns=marcas)"
   ]
  },
  {
   "cell_type": "markdown",
   "metadata": {},
   "source": [
    "**3b) Realice una prueba chi-cuadrado para determinar si hay dependencia entre la variable fila y la variable columna.**\n",
    "\n",
    "Encontremos primero el estadístico:"
   ]
  },
  {
   "cell_type": "code",
   "execution_count": 22,
   "metadata": {},
   "outputs": [
    {
     "data": {
      "text/plain": [
       "110.81048387710872"
      ]
     },
     "execution_count": 22,
     "metadata": {},
     "output_type": "execute_result"
    }
   ],
   "source": [
    "chi=0\n",
    "for i in range(23):\n",
    "    for j in range(6):\n",
    "        chi+=(P[i,j]-r[i]*c_[j])**2/r[i]*c_[j]\n",
    "chi=chi*4662\n",
    "chi"
   ]
  },
  {
   "cell_type": "markdown",
   "metadata": {},
   "source": [
    "Teniendo en cuenta 110 grados de libertad, encontramos ahora el valor $P$:"
   ]
  },
  {
   "cell_type": "code",
   "execution_count": 23,
   "metadata": {},
   "outputs": [
    {
     "data": {
      "text/plain": [
       "0.46039134019670336"
      ]
     },
     "execution_count": 23,
     "metadata": {},
     "output_type": "execute_result"
    }
   ],
   "source": [
    "1-stats.chi2.cdf(chi,110)"
   ]
  },
  {
   "cell_type": "markdown",
   "metadata": {},
   "source": [
    "Se puede afirmar entonces que hay cierta independencia entre la marca e imagen del producto.\n",
    "\n",
    "**3c) ¿Qué se denomina inercia total de los datos? Calcular la inercia total de la tabla.**\n",
    "\n",
    "La inercia total se le denomina al promedio ponderado (ponderado por la suma marginal de la fila) de las distancias chi cuadrado entre los perfiles de fila y su media. La inercia total en este caso vendría dada por:"
   ]
  },
  {
   "cell_type": "code",
   "execution_count": 24,
   "metadata": {},
   "outputs": [
    {
     "data": {
      "text/plain": [
       "0.023768872560512383"
      ]
     },
     "execution_count": 24,
     "metadata": {},
     "output_type": "execute_result"
    }
   ],
   "source": [
    "chi/4662"
   ]
  }
 ],
 "metadata": {
  "kernelspec": {
   "display_name": "Python 3",
   "language": "python",
   "name": "python3"
  },
  "language_info": {
   "codemirror_mode": {
    "name": "ipython",
    "version": 3
   },
   "file_extension": ".py",
   "mimetype": "text/x-python",
   "name": "python",
   "nbconvert_exporter": "python",
   "pygments_lexer": "ipython3",
   "version": "3.6.4"
  }
 },
 "nbformat": 4,
 "nbformat_minor": 2
}
